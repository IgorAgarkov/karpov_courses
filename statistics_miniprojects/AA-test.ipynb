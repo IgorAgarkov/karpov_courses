{
 "cells": [
  {
   "cell_type": "markdown",
   "metadata": {},
   "source": [
    "### Описание  \n",
    "А/А-тестирование мобильного приложения. Необходимо посчитать результаты A/A-теста, проверяя метрику качества FPR (будем проверять на конверсии в покупку). Известно, что сплит-система сломана. Требуется проверить утверждение о поломке и найти ее причины, если сплит-система действительно сломана.\n",
    "\n",
    "### Описание колонок\n",
    "`experimentVariant` – вариант эксперимента  \n",
    "`version` – версия приложения  \n",
    "`purchase` – факт покупки  \n",
    "\n",
    "### Задача\n",
    "1. Запустите A/A-тест.\n",
    "2. Посчитать FPR на уровне альфа = 0.05.\n",
    "3. Найти причины поломки сплит-системы, ориентируясь на результаты эксперимента.\n",
    "4. Написать выводы, которые можно сделать на основе анализа результатов A/A-теста."
   ]
  },
  {
   "cell_type": "code",
   "execution_count": 1,
   "metadata": {},
   "outputs": [],
   "source": [
    "import pandas as pd\n",
    "import numpy as np\n",
    "from scipy import stats\n",
    "import matplotlib.pyplot as plt\n",
    "from tqdm.auto import tqdm"
   ]
  },
  {
   "cell_type": "code",
   "execution_count": 2,
   "metadata": {},
   "outputs": [],
   "source": [
    "# считаем данные\n",
    "df = (\n",
    "    pd.read_csv('https://stepik.org/media/attachments/lesson/396012/hw_aa.csv',\n",
    "                 sep=';')\n",
    "            .drop('Unnamed: 0', axis=1)\n",
    "     )"
   ]
  },
  {
   "cell_type": "code",
   "execution_count": 3,
   "metadata": {},
   "outputs": [
    {
     "data": {
      "text/html": [
       "<div>\n",
       "<style scoped>\n",
       "    .dataframe tbody tr th:only-of-type {\n",
       "        vertical-align: middle;\n",
       "    }\n",
       "\n",
       "    .dataframe tbody tr th {\n",
       "        vertical-align: top;\n",
       "    }\n",
       "\n",
       "    .dataframe thead th {\n",
       "        text-align: right;\n",
       "    }\n",
       "</style>\n",
       "<table border=\"1\" class=\"dataframe\">\n",
       "  <thead>\n",
       "    <tr style=\"text-align: right;\">\n",
       "      <th></th>\n",
       "      <th>uid</th>\n",
       "      <th>experimentVariant</th>\n",
       "      <th>version</th>\n",
       "      <th>purchase</th>\n",
       "    </tr>\n",
       "  </thead>\n",
       "  <tbody>\n",
       "    <tr>\n",
       "      <th>0</th>\n",
       "      <td>c4ca4238a0b923820dcc509a6f75849b</td>\n",
       "      <td>1</td>\n",
       "      <td>v2.8.0</td>\n",
       "      <td>0</td>\n",
       "    </tr>\n",
       "    <tr>\n",
       "      <th>1</th>\n",
       "      <td>c81e728d9d4c2f636f067f89cc14862c</td>\n",
       "      <td>0</td>\n",
       "      <td>v2.9.0</td>\n",
       "      <td>0</td>\n",
       "    </tr>\n",
       "    <tr>\n",
       "      <th>2</th>\n",
       "      <td>eccbc87e4b5ce2fe28308fd9f2a7baf3</td>\n",
       "      <td>1</td>\n",
       "      <td>v2.9.0</td>\n",
       "      <td>0</td>\n",
       "    </tr>\n",
       "    <tr>\n",
       "      <th>3</th>\n",
       "      <td>a87ff679a2f3e71d9181a67b7542122c</td>\n",
       "      <td>1</td>\n",
       "      <td>v2.8.0</td>\n",
       "      <td>0</td>\n",
       "    </tr>\n",
       "    <tr>\n",
       "      <th>4</th>\n",
       "      <td>e4da3b7fbbce2345d7772b0674a318d5</td>\n",
       "      <td>1</td>\n",
       "      <td>v2.8.0</td>\n",
       "      <td>0</td>\n",
       "    </tr>\n",
       "  </tbody>\n",
       "</table>\n",
       "</div>"
      ],
      "text/plain": [
       "                                uid  experimentVariant version  purchase\n",
       "0  c4ca4238a0b923820dcc509a6f75849b                  1  v2.8.0         0\n",
       "1  c81e728d9d4c2f636f067f89cc14862c                  0  v2.9.0         0\n",
       "2  eccbc87e4b5ce2fe28308fd9f2a7baf3                  1  v2.9.0         0\n",
       "3  a87ff679a2f3e71d9181a67b7542122c                  1  v2.8.0         0\n",
       "4  e4da3b7fbbce2345d7772b0674a318d5                  1  v2.8.0         0"
      ]
     },
     "execution_count": 3,
     "metadata": {},
     "output_type": "execute_result"
    }
   ],
   "source": [
    "df.head()"
   ]
  },
  {
   "cell_type": "code",
   "execution_count": 4,
   "metadata": {},
   "outputs": [
    {
     "data": {
      "text/plain": [
       "uid                  0\n",
       "experimentVariant    0\n",
       "version              0\n",
       "purchase             0\n",
       "dtype: int64"
      ]
     },
     "execution_count": 4,
     "metadata": {},
     "output_type": "execute_result"
    }
   ],
   "source": [
    "# пропуски\n",
    "df.isna().sum()"
   ]
  },
  {
   "cell_type": "code",
   "execution_count": 5,
   "metadata": {},
   "outputs": [
    {
     "data": {
      "text/plain": [
       "v2.8.0      82835\n",
       "v2.9.0      23954\n",
       "v3.8.0.0    11804\n",
       "v3.7.4.0     8425\n",
       "Name: version, dtype: int64"
      ]
     },
     "execution_count": 5,
     "metadata": {},
     "output_type": "execute_result"
    }
   ],
   "source": [
    "df.version.value_counts()"
   ]
  },
  {
   "cell_type": "code",
   "execution_count": 6,
   "metadata": {},
   "outputs": [
    {
     "data": {
      "text/plain": [
       "1    63916\n",
       "0    63102\n",
       "Name: experimentVariant, dtype: int64"
      ]
     },
     "execution_count": 6,
     "metadata": {},
     "output_type": "execute_result"
    }
   ],
   "source": [
    "df.experimentVariant.value_counts()"
   ]
  },
  {
   "cell_type": "code",
   "execution_count": 7,
   "metadata": {},
   "outputs": [],
   "source": [
    "# разделим данные\n",
    "var_0 = df.query('experimentVariant == 0')\n",
    "var_1 = df.query('experimentVariant == 1')"
   ]
  },
  {
   "cell_type": "markdown",
   "metadata": {},
   "source": [
    "Проведём A/A тест для имеющихся данных."
   ]
  },
  {
   "cell_type": "code",
   "execution_count": 8,
   "metadata": {},
   "outputs": [],
   "source": [
    "# обернём А/А тест в функцию\n",
    "def aa_test(ser_1, ser_2, simulations = 1000, n_s = 1000):\n",
    "    res = []\n",
    "\n",
    "    # запуск симуляций A/A теста\n",
    "    for i in tqdm(range(simulations)):\n",
    "        s1 = ser_1.sample(n_s, replace = False).values\n",
    "        s2 = ser_2.sample(n_s, replace = False).values\n",
    "        res.append(stats.mannwhitneyu(s1, s2)[1])       # сохраняем pvalue\n",
    "\n",
    "    plt.hist(res, bins = 50)\n",
    "    plt.style.use('ggplot')\n",
    "    plt.xlabel('pvalues')\n",
    "    plt.ylabel('frequency')\n",
    "    plt.title(\"Histogram of mannwhitneyu A/A simulations \")\n",
    "    plt.show()\n",
    "\n",
    "    # Проверяем, что количество ложноположительных случаев не превышает альфа\n",
    "    return sum(np.array(res) <0.05) / simulations"
   ]
  },
  {
   "cell_type": "code",
   "execution_count": 9,
   "metadata": {},
   "outputs": [
    {
     "data": {
      "application/vnd.jupyter.widget-view+json": {
       "model_id": "7862938cc0cb4fc2881bd829af69409b",
       "version_major": 2,
       "version_minor": 0
      },
      "text/plain": [
       "HBox(children=(FloatProgress(value=0.0, max=1000.0), HTML(value='')))"
      ]
     },
     "metadata": {},
     "output_type": "display_data"
    },
    {
     "name": "stdout",
     "output_type": "stream",
     "text": [
      "\n"
     ]
    },
    {
     "data": {
      "image/png": "[encoded data removed]",
      "text/plain": [
       "<Figure size 432x288 with 1 Axes>"
      ]
     },
     "metadata": {
      "needs_background": "light"
     },
     "output_type": "display_data"
    },
    {
     "data": {
      "text/plain": [
       "0.947"
      ]
     },
     "execution_count": 9,
     "metadata": {},
     "output_type": "execute_result"
    }
   ],
   "source": [
    "aa_test(var_0.purchase, var_1.purchase)"
   ]
  },
  {
   "cell_type": "markdown",
   "metadata": {},
   "source": [
    "Как видно, с данными что-то не так: А/А тест показывает, что в 95% случаев симуляций выборки различаются."
   ]
  },
  {
   "cell_type": "markdown",
   "metadata": {},
   "source": [
    "Сгруппируем датафрэйм по варианту и версии приложений и сравним конверсии."
   ]
  },
  {
   "cell_type": "code",
   "execution_count": 11,
   "metadata": {},
   "outputs": [],
   "source": [
    "# конверсия по варианту и версии приложения\n",
    "mean_by_version_variant = df.groupby(['experimentVariant', 'version'], as_index=False).agg({'purchase': 'mean'})"
   ]
  },
  {
   "cell_type": "code",
   "execution_count": 12,
   "metadata": {},
   "outputs": [
    {
     "data": {
      "text/html": [
       "<div>\n",
       "<style scoped>\n",
       "    .dataframe tbody tr th:only-of-type {\n",
       "        vertical-align: middle;\n",
       "    }\n",
       "\n",
       "    .dataframe tbody tr th {\n",
       "        vertical-align: top;\n",
       "    }\n",
       "\n",
       "    .dataframe thead th {\n",
       "        text-align: right;\n",
       "    }\n",
       "</style>\n",
       "<table border=\"1\" class=\"dataframe\">\n",
       "  <thead>\n",
       "    <tr style=\"text-align: right;\">\n",
       "      <th></th>\n",
       "      <th>experimentVariant</th>\n",
       "      <th>version</th>\n",
       "      <th>purchase</th>\n",
       "    </tr>\n",
       "  </thead>\n",
       "  <tbody>\n",
       "    <tr>\n",
       "      <th>0</th>\n",
       "      <td>0</td>\n",
       "      <td>v2.8.0</td>\n",
       "      <td>0.000993</td>\n",
       "    </tr>\n",
       "    <tr>\n",
       "      <th>1</th>\n",
       "      <td>0</td>\n",
       "      <td>v2.9.0</td>\n",
       "      <td>0.074658</td>\n",
       "    </tr>\n",
       "    <tr>\n",
       "      <th>2</th>\n",
       "      <td>0</td>\n",
       "      <td>v3.7.4.0</td>\n",
       "      <td>0.059943</td>\n",
       "    </tr>\n",
       "    <tr>\n",
       "      <th>3</th>\n",
       "      <td>0</td>\n",
       "      <td>v3.8.0.0</td>\n",
       "      <td>0.057604</td>\n",
       "    </tr>\n",
       "    <tr>\n",
       "      <th>4</th>\n",
       "      <td>1</td>\n",
       "      <td>v2.8.0</td>\n",
       "      <td>0.045606</td>\n",
       "    </tr>\n",
       "    <tr>\n",
       "      <th>5</th>\n",
       "      <td>1</td>\n",
       "      <td>v2.9.0</td>\n",
       "      <td>0.071304</td>\n",
       "    </tr>\n",
       "    <tr>\n",
       "      <th>6</th>\n",
       "      <td>1</td>\n",
       "      <td>v3.7.4.0</td>\n",
       "      <td>0.063018</td>\n",
       "    </tr>\n",
       "    <tr>\n",
       "      <th>7</th>\n",
       "      <td>1</td>\n",
       "      <td>v3.8.0.0</td>\n",
       "      <td>0.062848</td>\n",
       "    </tr>\n",
       "  </tbody>\n",
       "</table>\n",
       "</div>"
      ],
      "text/plain": [
       "   experimentVariant   version  purchase\n",
       "0                  0    v2.8.0  0.000993\n",
       "1                  0    v2.9.0  0.074658\n",
       "2                  0  v3.7.4.0  0.059943\n",
       "3                  0  v3.8.0.0  0.057604\n",
       "4                  1    v2.8.0  0.045606\n",
       "5                  1    v2.9.0  0.071304\n",
       "6                  1  v3.7.4.0  0.063018\n",
       "7                  1  v3.8.0.0  0.062848"
      ]
     },
     "execution_count": 12,
     "metadata": {},
     "output_type": "execute_result"
    }
   ],
   "source": [
    "mean_by_version_variant"
   ]
  },
  {
   "cell_type": "markdown",
   "metadata": {},
   "source": [
    "Воспользуемся функцией pivot и стилями, чтобы сделать информацию более удобной для восприятия."
   ]
  },
  {
   "cell_type": "code",
   "execution_count": 13,
   "metadata": {
    "scrolled": true
   },
   "outputs": [
    {
     "data": {
      "text/html": [
       "<style  type=\"text/css\" >\n",
       "#T_8e417358_8a6e_11ec_bdbb_96000040dfb6row0_col0{\n",
       "            background-color:  #440154;\n",
       "            color:  #f1f1f1;\n",
       "        }#T_8e417358_8a6e_11ec_bdbb_96000040dfb6row0_col1,#T_8e417358_8a6e_11ec_bdbb_96000040dfb6row1_col0,#T_8e417358_8a6e_11ec_bdbb_96000040dfb6row2_col1,#T_8e417358_8a6e_11ec_bdbb_96000040dfb6row3_col1{\n",
       "            background-color:  #fde725;\n",
       "            color:  #000000;\n",
       "        }#T_8e417358_8a6e_11ec_bdbb_96000040dfb6row1_col1{\n",
       "            background-color:  #dde318;\n",
       "            color:  #000000;\n",
       "        }#T_8e417358_8a6e_11ec_bdbb_96000040dfb6row2_col0{\n",
       "            background-color:  #dae319;\n",
       "            color:  #000000;\n",
       "        }#T_8e417358_8a6e_11ec_bdbb_96000040dfb6row3_col0{\n",
       "            background-color:  #bddf26;\n",
       "            color:  #000000;\n",
       "        }</style><table id=\"T_8e417358_8a6e_11ec_bdbb_96000040dfb6\" ><thead>    <tr>        <th class=\"index_name level0\" >experimentVariant</th>        <th class=\"col_heading level0 col0\" >0</th>        <th class=\"col_heading level0 col1\" >1</th>    </tr>    <tr>        <th class=\"index_name level0\" >version</th>        <th class=\"blank\" ></th>        <th class=\"blank\" ></th>    </tr></thead><tbody>\n",
       "                <tr>\n",
       "                        <th id=\"T_8e417358_8a6e_11ec_bdbb_96000040dfb6level0_row0\" class=\"row_heading level0 row0\" >v2.8.0</th>\n",
       "                        <td id=\"T_8e417358_8a6e_11ec_bdbb_96000040dfb6row0_col0\" class=\"data row0 col0\" >0.10%</td>\n",
       "                        <td id=\"T_8e417358_8a6e_11ec_bdbb_96000040dfb6row0_col1\" class=\"data row0 col1\" >4.56%</td>\n",
       "            </tr>\n",
       "            <tr>\n",
       "                        <th id=\"T_8e417358_8a6e_11ec_bdbb_96000040dfb6level0_row1\" class=\"row_heading level0 row1\" >v2.9.0</th>\n",
       "                        <td id=\"T_8e417358_8a6e_11ec_bdbb_96000040dfb6row1_col0\" class=\"data row1 col0\" >7.47%</td>\n",
       "                        <td id=\"T_8e417358_8a6e_11ec_bdbb_96000040dfb6row1_col1\" class=\"data row1 col1\" >7.13%</td>\n",
       "            </tr>\n",
       "            <tr>\n",
       "                        <th id=\"T_8e417358_8a6e_11ec_bdbb_96000040dfb6level0_row2\" class=\"row_heading level0 row2\" >v3.7.4.0</th>\n",
       "                        <td id=\"T_8e417358_8a6e_11ec_bdbb_96000040dfb6row2_col0\" class=\"data row2 col0\" >5.99%</td>\n",
       "                        <td id=\"T_8e417358_8a6e_11ec_bdbb_96000040dfb6row2_col1\" class=\"data row2 col1\" >6.30%</td>\n",
       "            </tr>\n",
       "            <tr>\n",
       "                        <th id=\"T_8e417358_8a6e_11ec_bdbb_96000040dfb6level0_row3\" class=\"row_heading level0 row3\" >v3.8.0.0</th>\n",
       "                        <td id=\"T_8e417358_8a6e_11ec_bdbb_96000040dfb6row3_col0\" class=\"data row3 col0\" >5.76%</td>\n",
       "                        <td id=\"T_8e417358_8a6e_11ec_bdbb_96000040dfb6row3_col1\" class=\"data row3 col1\" >6.28%</td>\n",
       "            </tr>\n",
       "    </tbody></table>"
      ],
      "text/plain": [
       "<pandas.io.formats.style.Styler at 0x7fdb893a26d8>"
      ]
     },
     "execution_count": 13,
     "metadata": {},
     "output_type": "execute_result"
    }
   ],
   "source": [
    "# сводная таблица конверсий по версиям и группам\n",
    "(\n",
    "    mean_by_version_variant\n",
    "        .pivot(index='version', \n",
    "               columns='experimentVariant', \n",
    "               values='purchase')\n",
    "        .style\n",
    "        .background_gradient(cmap='viridis', axis=1, vmin=0.01)\n",
    "        .format(\"{:.2%}\")\n",
    ")"
   ]
  },
  {
   "cell_type": "markdown",
   "metadata": {},
   "source": [
    "Уберём версию v2.8.0 из датафрэймов и снова проведём А/А тест."
   ]
  },
  {
   "cell_type": "code",
   "execution_count": 14,
   "metadata": {},
   "outputs": [
    {
     "data": {
      "application/vnd.jupyter.widget-view+json": {
       "model_id": "33449c51d71d48f3af7209b6198fd922",
       "version_major": 2,
       "version_minor": 0
      },
      "text/plain": [
       "HBox(children=(FloatProgress(value=0.0, max=1000.0), HTML(value='')))"
      ]
     },
     "metadata": {},
     "output_type": "display_data"
    },
    {
     "name": "stdout",
     "output_type": "stream",
     "text": [
      "\n"
     ]
    },
    {
     "data": {
      "image/png": "[encoded data removed]",
      "text/plain": [
       "<Figure size 432x288 with 1 Axes>"
      ]
     },
     "metadata": {},
     "output_type": "display_data"
    },
    {
     "data": {
      "text/plain": [
       "0.036"
      ]
     },
     "execution_count": 14,
     "metadata": {},
     "output_type": "execute_result"
    }
   ],
   "source": [
    "# А/А тест для данных без версии v2.8.0\n",
    "(\n",
    "    aa_test(var_0.query('version != \"v2.8.0\"').purchase, \n",
    "            var_1.query('version != \"v2.8.0\"').purchase)\n",
    ")"
   ]
  },
  {
   "cell_type": "markdown",
   "metadata": {},
   "source": [
    "Как видно, ситуация значительно улучшилась. Различия возникают уже в менее чем 0.05 случаях."
   ]
  },
  {
   "cell_type": "markdown",
   "metadata": {},
   "source": [
    "Взглянем на количество строк в данных по версии приложения."
   ]
  },
  {
   "cell_type": "code",
   "execution_count": 15,
   "metadata": {},
   "outputs": [
    {
     "data": {
      "text/plain": [
       "v2.8.0      41283\n",
       "v2.9.0      11921\n",
       "v3.8.0.0     5694\n",
       "v3.7.4.0     4204\n",
       "Name: version, dtype: int64"
      ]
     },
     "execution_count": 15,
     "metadata": {},
     "output_type": "execute_result"
    }
   ],
   "source": [
    "var_0.version.value_counts()"
   ]
  },
  {
   "cell_type": "code",
   "execution_count": 16,
   "metadata": {
    "scrolled": false
   },
   "outputs": [
    {
     "data": {
      "text/plain": [
       "v2.8.0      41552\n",
       "v2.9.0      12033\n",
       "v3.8.0.0     6110\n",
       "v3.7.4.0     4221\n",
       "Name: version, dtype: int64"
      ]
     },
     "execution_count": 16,
     "metadata": {},
     "output_type": "execute_result"
    }
   ],
   "source": [
    "var_1.version.value_counts()"
   ]
  },
  {
   "cell_type": "code",
   "execution_count": 17,
   "metadata": {
    "scrolled": true
   },
   "outputs": [
    {
     "data": {
      "text/html": [
       "<style  type=\"text/css\" >\n",
       "#T_909684b8_8a6e_11ec_bdbb_96000040dfb6row0_col0{\n",
       "            background-color:  #470e61;\n",
       "            color:  #f1f1f1;\n",
       "        }#T_909684b8_8a6e_11ec_bdbb_96000040dfb6row1_col0{\n",
       "            background-color:  #481c6e;\n",
       "            color:  #f1f1f1;\n",
       "        }#T_909684b8_8a6e_11ec_bdbb_96000040dfb6row2_col0{\n",
       "            background-color:  #fde725;\n",
       "            color:  #000000;\n",
       "        }#T_909684b8_8a6e_11ec_bdbb_96000040dfb6row3_col0{\n",
       "            background-color:  #440154;\n",
       "            color:  #f1f1f1;\n",
       "        }</style><table id=\"T_909684b8_8a6e_11ec_bdbb_96000040dfb6\" ><thead>    <tr>        <th class=\"blank level0\" ></th>        <th class=\"col_heading level0 col0\" >difference</th>    </tr></thead><tbody>\n",
       "                <tr>\n",
       "                        <th id=\"T_909684b8_8a6e_11ec_bdbb_96000040dfb6level0_row0\" class=\"row_heading level0 row0\" >v2.8.0</th>\n",
       "                        <td id=\"T_909684b8_8a6e_11ec_bdbb_96000040dfb6row0_col0\" class=\"data row0 col0\" >0.65%</td>\n",
       "            </tr>\n",
       "            <tr>\n",
       "                        <th id=\"T_909684b8_8a6e_11ec_bdbb_96000040dfb6level0_row1\" class=\"row_heading level0 row1\" >v2.9.0</th>\n",
       "                        <td id=\"T_909684b8_8a6e_11ec_bdbb_96000040dfb6row1_col0\" class=\"data row1 col0\" >0.94%</td>\n",
       "            </tr>\n",
       "            <tr>\n",
       "                        <th id=\"T_909684b8_8a6e_11ec_bdbb_96000040dfb6level0_row2\" class=\"row_heading level0 row2\" >v3.8.0.0</th>\n",
       "                        <td id=\"T_909684b8_8a6e_11ec_bdbb_96000040dfb6row2_col0\" class=\"data row2 col0\" >7.31%</td>\n",
       "            </tr>\n",
       "            <tr>\n",
       "                        <th id=\"T_909684b8_8a6e_11ec_bdbb_96000040dfb6level0_row3\" class=\"row_heading level0 row3\" >v3.7.4.0</th>\n",
       "                        <td id=\"T_909684b8_8a6e_11ec_bdbb_96000040dfb6row3_col0\" class=\"data row3 col0\" >0.40%</td>\n",
       "            </tr>\n",
       "    </tbody></table>"
      ],
      "text/plain": [
       "<pandas.io.formats.style.Styler at 0x7fdbc5d649e8>"
      ]
     },
     "execution_count": 17,
     "metadata": {},
     "output_type": "execute_result"
    }
   ],
   "source": [
    "# найдём разницу в количестве строк с разными версиями приложения, в процентах\n",
    "(\n",
    "var_1.version.value_counts()\n",
    "    .sub(var_0.version.value_counts())\n",
    "    .div(var_0.version.value_counts())\n",
    "    .to_frame()\n",
    "    .rename(columns={'version': 'difference'})\n",
    "    .style\n",
    "    .background_gradient(cmap='viridis')\n",
    "    .format(\"{:.2%}\")\n",
    ")"
   ]
  },
  {
   "cell_type": "markdown",
   "metadata": {},
   "source": [
    "Как видно, количество строк с версией v3.8.0.0 отличается на 7.31% (в var_1 больше).\n",
    "Проведём ещё одно А/А тестирование, теперь и без v3.8.0.0."
   ]
  },
  {
   "cell_type": "code",
   "execution_count": 18,
   "metadata": {},
   "outputs": [
    {
     "data": {
      "application/vnd.jupyter.widget-view+json": {
       "model_id": "f9f7bf0606ac452bb8fa11b13c8c97a5",
       "version_major": 2,
       "version_minor": 0
      },
      "text/plain": [
       "HBox(children=(FloatProgress(value=0.0, max=1000.0), HTML(value='')))"
      ]
     },
     "metadata": {},
     "output_type": "display_data"
    },
    {
     "name": "stdout",
     "output_type": "stream",
     "text": [
      "\n"
     ]
    },
    {
     "data": {
      "image/png": "[encoded data removed]",
      "text/plain": [
       "<Figure size 432x288 with 1 Axes>"
      ]
     },
     "metadata": {},
     "output_type": "display_data"
    },
    {
     "data": {
      "text/plain": [
       "0.04"
      ]
     },
     "execution_count": 18,
     "metadata": {},
     "output_type": "execute_result"
    }
   ],
   "source": [
    "# А/А тест для данных без версий v2.8.0 и v3.8.0.0\n",
    "(\n",
    "    aa_test(var_0.query('(version != \"v2.8.0\") and (version != \"v3.8.0.0\")').purchase, \n",
    "            var_1.query('(version != \"v2.8.0\") and (version != \"v3.8.0.0\")').purchase)\n",
    ")"
   ]
  },
  {
   "cell_type": "markdown",
   "metadata": {},
   "source": [
    "Разницу уже сложно заметить.\n",
    "Итак, причина неправильной работы сплит системы: неверное деление на группы пользователей приложения версии v2.8.0. Конверсия в группе \"0\" была 0,1%, в то время как конверсия в группе \"1\" для этой же версии приложения была уже 4,56%."
   ]
  },
  {
   "cell_type": "code",
   "execution_count": null,
   "metadata": {},
   "outputs": [],
   "source": []
  }
 ],
 "metadata": {
  "kernelspec": {
   "display_name": "Python 3",
   "language": "python",
   "name": "python3"
  },
  "language_info": {
   "codemirror_mode": {
    "name": "ipython",
    "version": 3
   },
   "file_extension": ".py",
   "mimetype": "text/x-python",
   "name": "python",
   "nbconvert_exporter": "python",
   "pygments_lexer": "ipython3",
   "version": "3.7.3"
  }
 },
 "nbformat": 4,
 "nbformat_minor": 4
}
