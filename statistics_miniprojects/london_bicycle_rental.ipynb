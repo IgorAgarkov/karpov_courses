{
 "cells": [
  {
   "cell_type": "markdown",
   "metadata": {},
   "source": [
    "Представьте, что вы работаете аналитиком в компании, которая занимается арендой велосипедов. Коллега из офиса в Лондоне прислал вам данные за два года: с 4 января 2015 по 3 января 2017. Вам предстоит изучить динамику числа аренд, наличие связи с погодными условиями и выходными, а также объяснить несколько аномалий на графике.\n",
    "\n",
    "### Задачи\n",
    "1. Загрузить [данные](https://disk.yandex.ru/d/c4t6B6OFDANVbg), проверить число наблюдений и столбцов, наличие пропусков. Убедьтся, что типы данных были прочитаны правильно. При необходимости – привсти переменные к нужным типам.  \n",
    "2. Построить график по числу поездок по дате и времени.  \n",
    "3. Преобразовать данные и посчитать число поездок по дням. Визуализировать результат.  \n",
    "4. Использовать агрегированные данные по дням и посчитать скользящее среднее с окном 3.   \n",
    "5. Посчитать разницу между наблюдаемыми и значениями, подсчитанными с помощью скользящего среднего. Найти стандартное отклонение.\n",
    "6. Определить границы 99% доверительного интервала, добавить данную информацию в датафрейм.  \n",
    "7. Изучить аномально высокие значения и найти день, когда число аренд было наибольшим. Найти причину данной аномалии.\n",
    "8. Изучить аномально низкие значения, найти день с наименьшим числом аренд. Найти причину данной аномалии.\n",
    "\n",
    "### Описание данных\n",
    "`timestamp` – дата и время (точность до часа)  \n",
    "`cnt` – количество аренд велосипедов за этот час  \n",
    "`t1` – температура, в С  \n",
    "`t2` – температура \"ощущается как\", в С   \n",
    "`hum` – влажность (%)  \n",
    "`wind_speed` – скорость ветра, км/ч  \n",
    "`weather_code` – погодные условия:  \n",
    "- 1 – ясно (SKC)  \n",
    "- 2 – преимущественно ясно / встречаются отдельные облака (SCT)  \n",
    "- 3 – облачно / значительные облака (BKN)  \n",
    "- 4 – пасмурно (OVC)  \n",
    "- 7 – небольшой дождь Rain/ light Rain shower/ Light rain   \n",
    "- 10 – дождь с грозой  \n",
    "- 26 – снегопад   \n",
    "- 94 – ледяной туман (да, такое бывает!)  \n",
    "\n",
    "`isholiday` – является ли день праздником (1 – праздник, 0 – нет)  \n",
    "`isweekend` –  является ли день выходным (1 – выходной, 0 – нет)  \n",
    "`season` – метеорологический сезон (0 – весна, 1 – лето, 2 – осень, 3 – зима)  "
   ]
  },
  {
   "cell_type": "code",
   "execution_count": 1,
   "metadata": {},
   "outputs": [],
   "source": [
    "import pandas as pd\n",
    "import seaborn as sns\n",
    "import matplotlib.pyplot as plt\n",
    "import numpy as np\n",
    "import requests\n",
    "from urllib.parse import urlencode"
   ]
  },
  {
   "cell_type": "code",
   "execution_count": 2,
   "metadata": {},
   "outputs": [],
   "source": [
    "# скачиваем данные в папку со скриптом\n",
    "base_url = 'https://cloud-api.yandex.net/v1/disk/public/resources/download?'\n",
    "public_key = 'https://disk.yandex.ru/d/c4t6B6OFDANVbg'                       # ссылка на данные\n",
    "\n",
    "# получаем загрузочную ссылку\n",
    "final_url = base_url + urlencode(dict(public_key=public_key))\n",
    "response = requests.get(final_url)\n",
    "download_url = response.json()['href']\n",
    "\n",
    "# загружаем файл и сохраняем его\n",
    "download_response = requests.get(download_url)\n",
    "with open('london.csv', 'wb') as f:\n",
    "    f.write(download_response.content)"
   ]
  },
  {
   "cell_type": "code",
   "execution_count": 3,
   "metadata": {},
   "outputs": [],
   "source": [
    "# считываем данные\n",
    "london = pd.read_csv('london.csv')"
   ]
  },
  {
   "cell_type": "code",
   "execution_count": 4,
   "metadata": {
    "scrolled": false
   },
   "outputs": [
    {
     "data": {
      "text/html": [
       "<div>\n",
       "<style scoped>\n",
       "    .dataframe tbody tr th:only-of-type {\n",
       "        vertical-align: middle;\n",
       "    }\n",
       "\n",
       "    .dataframe tbody tr th {\n",
       "        vertical-align: top;\n",
       "    }\n",
       "\n",
       "    .dataframe thead th {\n",
       "        text-align: right;\n",
       "    }\n",
       "</style>\n",
       "<table border=\"1\" class=\"dataframe\">\n",
       "  <thead>\n",
       "    <tr style=\"text-align: right;\">\n",
       "      <th></th>\n",
       "      <th>timestamp</th>\n",
       "      <th>cnt</th>\n",
       "      <th>t1</th>\n",
       "      <th>t2</th>\n",
       "      <th>hum</th>\n",
       "      <th>wind_speed</th>\n",
       "      <th>weather_code</th>\n",
       "      <th>is_holiday</th>\n",
       "      <th>is_weekend</th>\n",
       "      <th>season</th>\n",
       "    </tr>\n",
       "  </thead>\n",
       "  <tbody>\n",
       "    <tr>\n",
       "      <th>0</th>\n",
       "      <td>2015-01-04 00:00:00</td>\n",
       "      <td>182</td>\n",
       "      <td>3.0</td>\n",
       "      <td>2.0</td>\n",
       "      <td>93.0</td>\n",
       "      <td>6.0</td>\n",
       "      <td>3.0</td>\n",
       "      <td>0.0</td>\n",
       "      <td>1.0</td>\n",
       "      <td>3.0</td>\n",
       "    </tr>\n",
       "    <tr>\n",
       "      <th>1</th>\n",
       "      <td>2015-01-04 01:00:00</td>\n",
       "      <td>138</td>\n",
       "      <td>3.0</td>\n",
       "      <td>2.5</td>\n",
       "      <td>93.0</td>\n",
       "      <td>5.0</td>\n",
       "      <td>1.0</td>\n",
       "      <td>0.0</td>\n",
       "      <td>1.0</td>\n",
       "      <td>3.0</td>\n",
       "    </tr>\n",
       "    <tr>\n",
       "      <th>2</th>\n",
       "      <td>2015-01-04 02:00:00</td>\n",
       "      <td>134</td>\n",
       "      <td>2.5</td>\n",
       "      <td>2.5</td>\n",
       "      <td>96.5</td>\n",
       "      <td>0.0</td>\n",
       "      <td>1.0</td>\n",
       "      <td>0.0</td>\n",
       "      <td>1.0</td>\n",
       "      <td>3.0</td>\n",
       "    </tr>\n",
       "    <tr>\n",
       "      <th>3</th>\n",
       "      <td>2015-01-04 03:00:00</td>\n",
       "      <td>72</td>\n",
       "      <td>2.0</td>\n",
       "      <td>2.0</td>\n",
       "      <td>100.0</td>\n",
       "      <td>0.0</td>\n",
       "      <td>1.0</td>\n",
       "      <td>0.0</td>\n",
       "      <td>1.0</td>\n",
       "      <td>3.0</td>\n",
       "    </tr>\n",
       "    <tr>\n",
       "      <th>4</th>\n",
       "      <td>2015-01-04 04:00:00</td>\n",
       "      <td>47</td>\n",
       "      <td>2.0</td>\n",
       "      <td>0.0</td>\n",
       "      <td>93.0</td>\n",
       "      <td>6.5</td>\n",
       "      <td>1.0</td>\n",
       "      <td>0.0</td>\n",
       "      <td>1.0</td>\n",
       "      <td>3.0</td>\n",
       "    </tr>\n",
       "  </tbody>\n",
       "</table>\n",
       "</div>"
      ],
      "text/plain": [
       "             timestamp  cnt   t1   t2    hum  wind_speed  weather_code  \\\n",
       "0  2015-01-04 00:00:00  182  3.0  2.0   93.0         6.0           3.0   \n",
       "1  2015-01-04 01:00:00  138  3.0  2.5   93.0         5.0           1.0   \n",
       "2  2015-01-04 02:00:00  134  2.5  2.5   96.5         0.0           1.0   \n",
       "3  2015-01-04 03:00:00   72  2.0  2.0  100.0         0.0           1.0   \n",
       "4  2015-01-04 04:00:00   47  2.0  0.0   93.0         6.5           1.0   \n",
       "\n",
       "   is_holiday  is_weekend  season  \n",
       "0         0.0         1.0     3.0  \n",
       "1         0.0         1.0     3.0  \n",
       "2         0.0         1.0     3.0  \n",
       "3         0.0         1.0     3.0  \n",
       "4         0.0         1.0     3.0  "
      ]
     },
     "execution_count": 4,
     "metadata": {},
     "output_type": "execute_result"
    }
   ],
   "source": [
    "london.head()"
   ]
  },
  {
   "cell_type": "code",
   "execution_count": 5,
   "metadata": {},
   "outputs": [
    {
     "data": {
      "text/plain": [
       "(17414, 10)"
      ]
     },
     "execution_count": 5,
     "metadata": {},
     "output_type": "execute_result"
    }
   ],
   "source": [
    "# размер датафрэйма\n",
    "london.shape"
   ]
  },
  {
   "cell_type": "code",
   "execution_count": 6,
   "metadata": {},
   "outputs": [
    {
     "data": {
      "text/plain": [
       "timestamp        object\n",
       "cnt               int64\n",
       "t1              float64\n",
       "t2              float64\n",
       "hum             float64\n",
       "wind_speed      float64\n",
       "weather_code    float64\n",
       "is_holiday      float64\n",
       "is_weekend      float64\n",
       "season          float64\n",
       "dtype: object"
      ]
     },
     "execution_count": 6,
     "metadata": {},
     "output_type": "execute_result"
    }
   ],
   "source": [
    "# типы данных\n",
    "london.dtypes"
   ]
  },
  {
   "cell_type": "code",
   "execution_count": 7,
   "metadata": {},
   "outputs": [],
   "source": [
    "# переведём колонку со временем в формат времени\n",
    "london['timestamp'] = pd.to_datetime(london['timestamp'])"
   ]
  },
  {
   "cell_type": "code",
   "execution_count": 8,
   "metadata": {},
   "outputs": [
    {
     "data": {
      "text/plain": [
       "timestamp       datetime64[ns]\n",
       "cnt                      int64\n",
       "t1                     float64\n",
       "t2                     float64\n",
       "hum                    float64\n",
       "wind_speed             float64\n",
       "weather_code           float64\n",
       "is_holiday             float64\n",
       "is_weekend             float64\n",
       "season                 float64\n",
       "dtype: object"
      ]
     },
     "execution_count": 8,
     "metadata": {},
     "output_type": "execute_result"
    }
   ],
   "source": [
    "# типы данных после преобразования\n",
    "london.dtypes"
   ]
  },
  {
   "cell_type": "code",
   "execution_count": 9,
   "metadata": {
    "scrolled": true
   },
   "outputs": [
    {
     "data": {
      "text/plain": [
       "timestamp       0\n",
       "cnt             0\n",
       "t1              0\n",
       "t2              0\n",
       "hum             0\n",
       "wind_speed      0\n",
       "weather_code    0\n",
       "is_holiday      0\n",
       "is_weekend      0\n",
       "season          0\n",
       "dtype: int64"
      ]
     },
     "execution_count": 9,
     "metadata": {},
     "output_type": "execute_result"
    }
   ],
   "source": [
    "# пропущенные значения\n",
    "london.isna().sum()"
   ]
  },
  {
   "cell_type": "code",
   "execution_count": 10,
   "metadata": {},
   "outputs": [
    {
     "data": {
      "text/plain": [
       "0"
      ]
     },
     "execution_count": 10,
     "metadata": {},
     "output_type": "execute_result"
    }
   ],
   "source": [
    "# дублирующиеся значения\n",
    "london.duplicated().sum()"
   ]
  },
  {
   "cell_type": "code",
   "execution_count": 11,
   "metadata": {},
   "outputs": [
    {
     "data": {
      "text/html": [
       "<div>\n",
       "<style scoped>\n",
       "    .dataframe tbody tr th:only-of-type {\n",
       "        vertical-align: middle;\n",
       "    }\n",
       "\n",
       "    .dataframe tbody tr th {\n",
       "        vertical-align: top;\n",
       "    }\n",
       "\n",
       "    .dataframe thead th {\n",
       "        text-align: right;\n",
       "    }\n",
       "</style>\n",
       "<table border=\"1\" class=\"dataframe\">\n",
       "  <thead>\n",
       "    <tr style=\"text-align: right;\">\n",
       "      <th></th>\n",
       "      <th>timestamp</th>\n",
       "      <th>cnt</th>\n",
       "      <th>t1</th>\n",
       "      <th>t2</th>\n",
       "      <th>hum</th>\n",
       "      <th>wind_speed</th>\n",
       "      <th>weather_code</th>\n",
       "      <th>is_holiday</th>\n",
       "      <th>is_weekend</th>\n",
       "      <th>season</th>\n",
       "    </tr>\n",
       "  </thead>\n",
       "  <tbody>\n",
       "  </tbody>\n",
       "</table>\n",
       "</div>"
      ],
      "text/plain": [
       "Empty DataFrame\n",
       "Columns: [timestamp, cnt, t1, t2, hum, wind_speed, weather_code, is_holiday, is_weekend, season]\n",
       "Index: []"
      ]
     },
     "execution_count": 11,
     "metadata": {},
     "output_type": "execute_result"
    }
   ],
   "source": [
    "# строки с дубликатами\n",
    "london.loc[london.duplicated(keep=False)]"
   ]
  },
  {
   "cell_type": "markdown",
   "metadata": {},
   "source": [
    "Здесь всё впорядке, значения колонок действительно совпадают, но даты разные"
   ]
  },
  {
   "cell_type": "code",
   "execution_count": 12,
   "metadata": {},
   "outputs": [
    {
     "data": {
      "text/plain": [
       "(array([735599., 735689., 735780., 735872., 735964., 736055., 736146.,\n",
       "        736238., 736330.]),\n",
       " <a list of 9 Text major ticklabel objects>)"
      ]
     },
     "execution_count": 12,
     "metadata": {},
     "output_type": "execute_result"
    },
    {
     "data": {
      "image/png": "[encoded data removed]",
      "text/plain": [
       "<Figure size 432x288 with 1 Axes>"
      ]
     },
     "metadata": {
      "needs_background": "light"
     },
     "output_type": "display_data"
    }
   ],
   "source": [
    "# график количества аренд по датам\n",
    "sns.lineplot(data=london, x='timestamp', y='cnt')\n",
    "sns.set(rc={\"figure.figsize\":(14, 16)})              # размер графика\n",
    "plt.xticks(rotation=45)"
   ]
  },
  {
   "cell_type": "markdown",
   "metadata": {},
   "source": [
    "Сложно что-то понять по такому графику. Попробуем преобразовать данные так, чтобы улучшить картину."
   ]
  },
  {
   "cell_type": "code",
   "execution_count": 13,
   "metadata": {},
   "outputs": [],
   "source": [
    "# перводим колонку со временем в индекс\n",
    "london = london.sort_values('timestamp').set_index('timestamp')"
   ]
  },
  {
   "cell_type": "code",
   "execution_count": 14,
   "metadata": {},
   "outputs": [
    {
     "data": {
      "text/html": [
       "<div>\n",
       "<style scoped>\n",
       "    .dataframe tbody tr th:only-of-type {\n",
       "        vertical-align: middle;\n",
       "    }\n",
       "\n",
       "    .dataframe tbody tr th {\n",
       "        vertical-align: top;\n",
       "    }\n",
       "\n",
       "    .dataframe thead th {\n",
       "        text-align: right;\n",
       "    }\n",
       "</style>\n",
       "<table border=\"1\" class=\"dataframe\">\n",
       "  <thead>\n",
       "    <tr style=\"text-align: right;\">\n",
       "      <th></th>\n",
       "      <th>cnt</th>\n",
       "      <th>t1</th>\n",
       "      <th>t2</th>\n",
       "      <th>hum</th>\n",
       "      <th>wind_speed</th>\n",
       "      <th>weather_code</th>\n",
       "      <th>is_holiday</th>\n",
       "      <th>is_weekend</th>\n",
       "      <th>season</th>\n",
       "    </tr>\n",
       "    <tr>\n",
       "      <th>timestamp</th>\n",
       "      <th></th>\n",
       "      <th></th>\n",
       "      <th></th>\n",
       "      <th></th>\n",
       "      <th></th>\n",
       "      <th></th>\n",
       "      <th></th>\n",
       "      <th></th>\n",
       "      <th></th>\n",
       "    </tr>\n",
       "  </thead>\n",
       "  <tbody>\n",
       "    <tr>\n",
       "      <th>2015-01-04 00:00:00</th>\n",
       "      <td>182</td>\n",
       "      <td>3.0</td>\n",
       "      <td>2.0</td>\n",
       "      <td>93.0</td>\n",
       "      <td>6.0</td>\n",
       "      <td>3.0</td>\n",
       "      <td>0.0</td>\n",
       "      <td>1.0</td>\n",
       "      <td>3.0</td>\n",
       "    </tr>\n",
       "    <tr>\n",
       "      <th>2015-01-04 01:00:00</th>\n",
       "      <td>138</td>\n",
       "      <td>3.0</td>\n",
       "      <td>2.5</td>\n",
       "      <td>93.0</td>\n",
       "      <td>5.0</td>\n",
       "      <td>1.0</td>\n",
       "      <td>0.0</td>\n",
       "      <td>1.0</td>\n",
       "      <td>3.0</td>\n",
       "    </tr>\n",
       "    <tr>\n",
       "      <th>2015-01-04 02:00:00</th>\n",
       "      <td>134</td>\n",
       "      <td>2.5</td>\n",
       "      <td>2.5</td>\n",
       "      <td>96.5</td>\n",
       "      <td>0.0</td>\n",
       "      <td>1.0</td>\n",
       "      <td>0.0</td>\n",
       "      <td>1.0</td>\n",
       "      <td>3.0</td>\n",
       "    </tr>\n",
       "    <tr>\n",
       "      <th>2015-01-04 03:00:00</th>\n",
       "      <td>72</td>\n",
       "      <td>2.0</td>\n",
       "      <td>2.0</td>\n",
       "      <td>100.0</td>\n",
       "      <td>0.0</td>\n",
       "      <td>1.0</td>\n",
       "      <td>0.0</td>\n",
       "      <td>1.0</td>\n",
       "      <td>3.0</td>\n",
       "    </tr>\n",
       "    <tr>\n",
       "      <th>2015-01-04 04:00:00</th>\n",
       "      <td>47</td>\n",
       "      <td>2.0</td>\n",
       "      <td>0.0</td>\n",
       "      <td>93.0</td>\n",
       "      <td>6.5</td>\n",
       "      <td>1.0</td>\n",
       "      <td>0.0</td>\n",
       "      <td>1.0</td>\n",
       "      <td>3.0</td>\n",
       "    </tr>\n",
       "  </tbody>\n",
       "</table>\n",
       "</div>"
      ],
      "text/plain": [
       "                     cnt   t1   t2    hum  wind_speed  weather_code  \\\n",
       "timestamp                                                             \n",
       "2015-01-04 00:00:00  182  3.0  2.0   93.0         6.0           3.0   \n",
       "2015-01-04 01:00:00  138  3.0  2.5   93.0         5.0           1.0   \n",
       "2015-01-04 02:00:00  134  2.5  2.5   96.5         0.0           1.0   \n",
       "2015-01-04 03:00:00   72  2.0  2.0  100.0         0.0           1.0   \n",
       "2015-01-04 04:00:00   47  2.0  0.0   93.0         6.5           1.0   \n",
       "\n",
       "                     is_holiday  is_weekend  season  \n",
       "timestamp                                            \n",
       "2015-01-04 00:00:00         0.0         1.0     3.0  \n",
       "2015-01-04 01:00:00         0.0         1.0     3.0  \n",
       "2015-01-04 02:00:00         0.0         1.0     3.0  \n",
       "2015-01-04 03:00:00         0.0         1.0     3.0  \n",
       "2015-01-04 04:00:00         0.0         1.0     3.0  "
      ]
     },
     "execution_count": 14,
     "metadata": {},
     "output_type": "execute_result"
    }
   ],
   "source": [
    "london.head()"
   ]
  },
  {
   "cell_type": "code",
   "execution_count": 15,
   "metadata": {},
   "outputs": [],
   "source": [
    "# сагрегируем данные по дням (были по часам - суммируем значения)\n",
    "cnt_plot = (\n",
    "    london\n",
    "        .resample(rule='D')\n",
    "        .cnt\n",
    "        .sum()\n",
    "        .to_frame()\n",
    "        .reset_index()\n",
    ")"
   ]
  },
  {
   "cell_type": "code",
   "execution_count": 16,
   "metadata": {},
   "outputs": [
    {
     "data": {
      "text/html": [
       "<div>\n",
       "<style scoped>\n",
       "    .dataframe tbody tr th:only-of-type {\n",
       "        vertical-align: middle;\n",
       "    }\n",
       "\n",
       "    .dataframe tbody tr th {\n",
       "        vertical-align: top;\n",
       "    }\n",
       "\n",
       "    .dataframe thead th {\n",
       "        text-align: right;\n",
       "    }\n",
       "</style>\n",
       "<table border=\"1\" class=\"dataframe\">\n",
       "  <thead>\n",
       "    <tr style=\"text-align: right;\">\n",
       "      <th></th>\n",
       "      <th>timestamp</th>\n",
       "      <th>cnt</th>\n",
       "    </tr>\n",
       "  </thead>\n",
       "  <tbody>\n",
       "    <tr>\n",
       "      <th>0</th>\n",
       "      <td>2015-01-04</td>\n",
       "      <td>9234</td>\n",
       "    </tr>\n",
       "    <tr>\n",
       "      <th>1</th>\n",
       "      <td>2015-01-05</td>\n",
       "      <td>20372</td>\n",
       "    </tr>\n",
       "    <tr>\n",
       "      <th>2</th>\n",
       "      <td>2015-01-06</td>\n",
       "      <td>20613</td>\n",
       "    </tr>\n",
       "    <tr>\n",
       "      <th>3</th>\n",
       "      <td>2015-01-07</td>\n",
       "      <td>21064</td>\n",
       "    </tr>\n",
       "    <tr>\n",
       "      <th>4</th>\n",
       "      <td>2015-01-08</td>\n",
       "      <td>15601</td>\n",
       "    </tr>\n",
       "  </tbody>\n",
       "</table>\n",
       "</div>"
      ],
      "text/plain": [
       "   timestamp    cnt\n",
       "0 2015-01-04   9234\n",
       "1 2015-01-05  20372\n",
       "2 2015-01-06  20613\n",
       "3 2015-01-07  21064\n",
       "4 2015-01-08  15601"
      ]
     },
     "execution_count": 16,
     "metadata": {},
     "output_type": "execute_result"
    }
   ],
   "source": [
    "cnt_plot.head()"
   ]
  },
  {
   "cell_type": "code",
   "execution_count": 17,
   "metadata": {},
   "outputs": [
    {
     "data": {
      "text/plain": [
       "(array([735599., 735689., 735780., 735872., 735964., 736055., 736146.,\n",
       "        736238., 736330.]),\n",
       " <a list of 9 Text major ticklabel objects>)"
      ]
     },
     "execution_count": 17,
     "metadata": {},
     "output_type": "execute_result"
    },
    {
     "data": {
      "image/png": "[encoded data removed]",
      "text/plain": [
       "<Figure size 1008x1152 with 1 Axes>"
      ]
     },
     "metadata": {},
     "output_type": "display_data"
    }
   ],
   "source": [
    "# снова построим график\n",
    "sns.lineplot(data=cnt_plot, x='timestamp', y='cnt')\n",
    "sns.set(rc={\"figure.figsize\":(14, 16)})              # размер графика\n",
    "plt.xticks(rotation=45)"
   ]
  },
  {
   "cell_type": "markdown",
   "metadata": {},
   "source": [
    "Встречаются как очень резкие скачки числа аренд, так и падения. Проверим, что же могло произойти в тот день."
   ]
  },
  {
   "cell_type": "code",
   "execution_count": 18,
   "metadata": {},
   "outputs": [],
   "source": [
    "# посчитаем скользящее среднее, чтобы сгладить ряд\n",
    "cnt_plot['rolling_mean'] = cnt_plot.rolling(3).mean()"
   ]
  },
  {
   "cell_type": "code",
   "execution_count": 19,
   "metadata": {
    "scrolled": true
   },
   "outputs": [
    {
     "data": {
      "text/html": [
       "<div>\n",
       "<style scoped>\n",
       "    .dataframe tbody tr th:only-of-type {\n",
       "        vertical-align: middle;\n",
       "    }\n",
       "\n",
       "    .dataframe tbody tr th {\n",
       "        vertical-align: top;\n",
       "    }\n",
       "\n",
       "    .dataframe thead th {\n",
       "        text-align: right;\n",
       "    }\n",
       "</style>\n",
       "<table border=\"1\" class=\"dataframe\">\n",
       "  <thead>\n",
       "    <tr style=\"text-align: right;\">\n",
       "      <th></th>\n",
       "      <th>timestamp</th>\n",
       "      <th>cnt</th>\n",
       "      <th>rolling_mean</th>\n",
       "    </tr>\n",
       "  </thead>\n",
       "  <tbody>\n",
       "    <tr>\n",
       "      <th>0</th>\n",
       "      <td>2015-01-04</td>\n",
       "      <td>9234</td>\n",
       "      <td>NaN</td>\n",
       "    </tr>\n",
       "    <tr>\n",
       "      <th>1</th>\n",
       "      <td>2015-01-05</td>\n",
       "      <td>20372</td>\n",
       "      <td>NaN</td>\n",
       "    </tr>\n",
       "    <tr>\n",
       "      <th>2</th>\n",
       "      <td>2015-01-06</td>\n",
       "      <td>20613</td>\n",
       "      <td>16739.666667</td>\n",
       "    </tr>\n",
       "    <tr>\n",
       "      <th>3</th>\n",
       "      <td>2015-01-07</td>\n",
       "      <td>21064</td>\n",
       "      <td>20683.000000</td>\n",
       "    </tr>\n",
       "    <tr>\n",
       "      <th>4</th>\n",
       "      <td>2015-01-08</td>\n",
       "      <td>15601</td>\n",
       "      <td>19092.666667</td>\n",
       "    </tr>\n",
       "  </tbody>\n",
       "</table>\n",
       "</div>"
      ],
      "text/plain": [
       "   timestamp    cnt  rolling_mean\n",
       "0 2015-01-04   9234           NaN\n",
       "1 2015-01-05  20372           NaN\n",
       "2 2015-01-06  20613  16739.666667\n",
       "3 2015-01-07  21064  20683.000000\n",
       "4 2015-01-08  15601  19092.666667"
      ]
     },
     "execution_count": 19,
     "metadata": {},
     "output_type": "execute_result"
    }
   ],
   "source": [
    "cnt_plot.head()"
   ]
  },
  {
   "cell_type": "code",
   "execution_count": 20,
   "metadata": {},
   "outputs": [
    {
     "data": {
      "text/html": [
       "<div>\n",
       "<style scoped>\n",
       "    .dataframe tbody tr th:only-of-type {\n",
       "        vertical-align: middle;\n",
       "    }\n",
       "\n",
       "    .dataframe tbody tr th {\n",
       "        vertical-align: top;\n",
       "    }\n",
       "\n",
       "    .dataframe thead th {\n",
       "        text-align: right;\n",
       "    }\n",
       "</style>\n",
       "<table border=\"1\" class=\"dataframe\">\n",
       "  <thead>\n",
       "    <tr style=\"text-align: right;\">\n",
       "      <th></th>\n",
       "      <th>timestamp</th>\n",
       "      <th>cnt</th>\n",
       "      <th>rolling_mean</th>\n",
       "    </tr>\n",
       "  </thead>\n",
       "  <tbody>\n",
       "    <tr>\n",
       "      <th>186</th>\n",
       "      <td>2015-07-09</td>\n",
       "      <td>72504</td>\n",
       "      <td>50705.0</td>\n",
       "    </tr>\n",
       "  </tbody>\n",
       "</table>\n",
       "</div>"
      ],
      "text/plain": [
       "     timestamp    cnt  rolling_mean\n",
       "186 2015-07-09  72504       50705.0"
      ]
     },
     "execution_count": 20,
     "metadata": {},
     "output_type": "execute_result"
    }
   ],
   "source": [
    "(\n",
    "    cnt_plot\n",
    "    .query('timestamp == \"2015-07-09\"')\n",
    ")"
   ]
  },
  {
   "cell_type": "code",
   "execution_count": 21,
   "metadata": {
    "scrolled": true
   },
   "outputs": [
    {
     "data": {
      "text/html": [
       "<div>\n",
       "<style scoped>\n",
       "    .dataframe tbody tr th:only-of-type {\n",
       "        vertical-align: middle;\n",
       "    }\n",
       "\n",
       "    .dataframe tbody tr th {\n",
       "        vertical-align: top;\n",
       "    }\n",
       "\n",
       "    .dataframe thead th {\n",
       "        text-align: right;\n",
       "    }\n",
       "</style>\n",
       "<table border=\"1\" class=\"dataframe\">\n",
       "  <thead>\n",
       "    <tr style=\"text-align: right;\">\n",
       "      <th></th>\n",
       "      <th>timestamp</th>\n",
       "      <th>cnt</th>\n",
       "      <th>rolling_mean</th>\n",
       "      <th>delta</th>\n",
       "    </tr>\n",
       "  </thead>\n",
       "  <tbody>\n",
       "    <tr>\n",
       "      <th>0</th>\n",
       "      <td>2015-01-04</td>\n",
       "      <td>9234</td>\n",
       "      <td>NaN</td>\n",
       "      <td>NaN</td>\n",
       "    </tr>\n",
       "    <tr>\n",
       "      <th>1</th>\n",
       "      <td>2015-01-05</td>\n",
       "      <td>20372</td>\n",
       "      <td>NaN</td>\n",
       "      <td>NaN</td>\n",
       "    </tr>\n",
       "    <tr>\n",
       "      <th>2</th>\n",
       "      <td>2015-01-06</td>\n",
       "      <td>20613</td>\n",
       "      <td>16739.666667</td>\n",
       "      <td>3873.333333</td>\n",
       "    </tr>\n",
       "    <tr>\n",
       "      <th>3</th>\n",
       "      <td>2015-01-07</td>\n",
       "      <td>21064</td>\n",
       "      <td>20683.000000</td>\n",
       "      <td>381.000000</td>\n",
       "    </tr>\n",
       "    <tr>\n",
       "      <th>4</th>\n",
       "      <td>2015-01-08</td>\n",
       "      <td>15601</td>\n",
       "      <td>19092.666667</td>\n",
       "      <td>-3491.666667</td>\n",
       "    </tr>\n",
       "  </tbody>\n",
       "</table>\n",
       "</div>"
      ],
      "text/plain": [
       "   timestamp    cnt  rolling_mean        delta\n",
       "0 2015-01-04   9234           NaN          NaN\n",
       "1 2015-01-05  20372           NaN          NaN\n",
       "2 2015-01-06  20613  16739.666667  3873.333333\n",
       "3 2015-01-07  21064  20683.000000   381.000000\n",
       "4 2015-01-08  15601  19092.666667 -3491.666667"
      ]
     },
     "execution_count": 21,
     "metadata": {},
     "output_type": "execute_result"
    }
   ],
   "source": [
    "# найдём разницу между наблюдаемыми и сглаженными значениями\n",
    "cnt_plot['delta'] = cnt_plot.cnt - cnt_plot.rolling_mean\n",
    "cnt_plot.head()"
   ]
  },
  {
   "cell_type": "code",
   "execution_count": 22,
   "metadata": {},
   "outputs": [],
   "source": [
    "# посчитаем стандартное отклонение\n",
    "standard_deviation = np.std(cnt_plot.delta)"
   ]
  },
  {
   "cell_type": "code",
   "execution_count": 23,
   "metadata": {},
   "outputs": [],
   "source": [
    "# определим границы 99% доверительного интервала\n",
    "cnt_plot['upper_bound'] = cnt_plot.rolling_mean + (2.576 * standard_deviation)\n",
    "cnt_plot['lower_bound'] = cnt_plot.rolling_mean - (2.576 * standard_deviation)"
   ]
  },
  {
   "cell_type": "code",
   "execution_count": 24,
   "metadata": {},
   "outputs": [
    {
     "data": {
      "text/html": [
       "<div>\n",
       "<style scoped>\n",
       "    .dataframe tbody tr th:only-of-type {\n",
       "        vertical-align: middle;\n",
       "    }\n",
       "\n",
       "    .dataframe tbody tr th {\n",
       "        vertical-align: top;\n",
       "    }\n",
       "\n",
       "    .dataframe thead th {\n",
       "        text-align: right;\n",
       "    }\n",
       "</style>\n",
       "<table border=\"1\" class=\"dataframe\">\n",
       "  <thead>\n",
       "    <tr style=\"text-align: right;\">\n",
       "      <th></th>\n",
       "      <th>timestamp</th>\n",
       "      <th>cnt</th>\n",
       "      <th>rolling_mean</th>\n",
       "      <th>delta</th>\n",
       "      <th>upper_bound</th>\n",
       "      <th>lower_bound</th>\n",
       "    </tr>\n",
       "  </thead>\n",
       "  <tbody>\n",
       "    <tr>\n",
       "      <th>0</th>\n",
       "      <td>2015-01-04</td>\n",
       "      <td>9234</td>\n",
       "      <td>NaN</td>\n",
       "      <td>NaN</td>\n",
       "      <td>NaN</td>\n",
       "      <td>NaN</td>\n",
       "    </tr>\n",
       "    <tr>\n",
       "      <th>1</th>\n",
       "      <td>2015-01-05</td>\n",
       "      <td>20372</td>\n",
       "      <td>NaN</td>\n",
       "      <td>NaN</td>\n",
       "      <td>NaN</td>\n",
       "      <td>NaN</td>\n",
       "    </tr>\n",
       "    <tr>\n",
       "      <th>2</th>\n",
       "      <td>2015-01-06</td>\n",
       "      <td>20613</td>\n",
       "      <td>16739.666667</td>\n",
       "      <td>3873.333333</td>\n",
       "      <td>28482.585854</td>\n",
       "      <td>4996.747479</td>\n",
       "    </tr>\n",
       "    <tr>\n",
       "      <th>3</th>\n",
       "      <td>2015-01-07</td>\n",
       "      <td>21064</td>\n",
       "      <td>20683.000000</td>\n",
       "      <td>381.000000</td>\n",
       "      <td>32425.919188</td>\n",
       "      <td>8940.080812</td>\n",
       "    </tr>\n",
       "    <tr>\n",
       "      <th>4</th>\n",
       "      <td>2015-01-08</td>\n",
       "      <td>15601</td>\n",
       "      <td>19092.666667</td>\n",
       "      <td>-3491.666667</td>\n",
       "      <td>30835.585854</td>\n",
       "      <td>7349.747479</td>\n",
       "    </tr>\n",
       "  </tbody>\n",
       "</table>\n",
       "</div>"
      ],
      "text/plain": [
       "   timestamp    cnt  rolling_mean        delta   upper_bound  lower_bound\n",
       "0 2015-01-04   9234           NaN          NaN           NaN          NaN\n",
       "1 2015-01-05  20372           NaN          NaN           NaN          NaN\n",
       "2 2015-01-06  20613  16739.666667  3873.333333  28482.585854  4996.747479\n",
       "3 2015-01-07  21064  20683.000000   381.000000  32425.919188  8940.080812\n",
       "4 2015-01-08  15601  19092.666667 -3491.666667  30835.585854  7349.747479"
      ]
     },
     "execution_count": 24,
     "metadata": {},
     "output_type": "execute_result"
    }
   ],
   "source": [
    "cnt_plot.head()"
   ]
  },
  {
   "cell_type": "code",
   "execution_count": 25,
   "metadata": {},
   "outputs": [
    {
     "data": {
      "text/html": [
       "<div>\n",
       "<style scoped>\n",
       "    .dataframe tbody tr th:only-of-type {\n",
       "        vertical-align: middle;\n",
       "    }\n",
       "\n",
       "    .dataframe tbody tr th {\n",
       "        vertical-align: top;\n",
       "    }\n",
       "\n",
       "    .dataframe thead th {\n",
       "        text-align: right;\n",
       "    }\n",
       "</style>\n",
       "<table border=\"1\" class=\"dataframe\">\n",
       "  <thead>\n",
       "    <tr style=\"text-align: right;\">\n",
       "      <th></th>\n",
       "      <th>timestamp</th>\n",
       "      <th>cnt</th>\n",
       "      <th>rolling_mean</th>\n",
       "      <th>delta</th>\n",
       "      <th>upper_bound</th>\n",
       "      <th>lower_bound</th>\n",
       "    </tr>\n",
       "  </thead>\n",
       "  <tbody>\n",
       "    <tr>\n",
       "      <th>186</th>\n",
       "      <td>2015-07-09</td>\n",
       "      <td>72504</td>\n",
       "      <td>50705.000000</td>\n",
       "      <td>21799.000000</td>\n",
       "      <td>62447.919188</td>\n",
       "      <td>38962.080812</td>\n",
       "    </tr>\n",
       "    <tr>\n",
       "      <th>214</th>\n",
       "      <td>2015-08-06</td>\n",
       "      <td>63468</td>\n",
       "      <td>46627.333333</td>\n",
       "      <td>16840.666667</td>\n",
       "      <td>58370.252521</td>\n",
       "      <td>34884.414146</td>\n",
       "    </tr>\n",
       "    <tr>\n",
       "      <th>609</th>\n",
       "      <td>2016-09-04</td>\n",
       "      <td>27512</td>\n",
       "      <td>14259.000000</td>\n",
       "      <td>13253.000000</td>\n",
       "      <td>26001.919188</td>\n",
       "      <td>2516.080812</td>\n",
       "    </tr>\n",
       "    <tr>\n",
       "      <th>721</th>\n",
       "      <td>2016-12-25</td>\n",
       "      <td>36653</td>\n",
       "      <td>19650.666667</td>\n",
       "      <td>17002.333333</td>\n",
       "      <td>31393.585854</td>\n",
       "      <td>7907.747479</td>\n",
       "    </tr>\n",
       "  </tbody>\n",
       "</table>\n",
       "</div>"
      ],
      "text/plain": [
       "     timestamp    cnt  rolling_mean         delta   upper_bound   lower_bound\n",
       "186 2015-07-09  72504  50705.000000  21799.000000  62447.919188  38962.080812\n",
       "214 2015-08-06  63468  46627.333333  16840.666667  58370.252521  34884.414146\n",
       "609 2016-09-04  27512  14259.000000  13253.000000  26001.919188   2516.080812\n",
       "721 2016-12-25  36653  19650.666667  17002.333333  31393.585854   7907.747479"
      ]
     },
     "execution_count": 25,
     "metadata": {},
     "output_type": "execute_result"
    }
   ],
   "source": [
    "# наблюдения, для которых наблюдаемые значения оказались больше верхней границы 99% доверительного интервала\n",
    "cnt_plot.query('cnt > upper_bound')"
   ]
  },
  {
   "cell_type": "code",
   "execution_count": 26,
   "metadata": {},
   "outputs": [
    {
     "data": {
      "text/plain": [
       "72504"
      ]
     },
     "execution_count": 26,
     "metadata": {},
     "output_type": "execute_result"
    }
   ],
   "source": [
    "# максимальное значение cnt\n",
    "cnt_plot.query('cnt > upper_bound').cnt.max()"
   ]
  },
  {
   "cell_type": "code",
   "execution_count": 27,
   "metadata": {
    "scrolled": true
   },
   "outputs": [
    {
     "data": {
      "text/html": [
       "<div>\n",
       "<style scoped>\n",
       "    .dataframe tbody tr th:only-of-type {\n",
       "        vertical-align: middle;\n",
       "    }\n",
       "\n",
       "    .dataframe tbody tr th {\n",
       "        vertical-align: top;\n",
       "    }\n",
       "\n",
       "    .dataframe thead th {\n",
       "        text-align: right;\n",
       "    }\n",
       "</style>\n",
       "<table border=\"1\" class=\"dataframe\">\n",
       "  <thead>\n",
       "    <tr style=\"text-align: right;\">\n",
       "      <th></th>\n",
       "      <th>timestamp</th>\n",
       "      <th>cnt</th>\n",
       "      <th>rolling_mean</th>\n",
       "      <th>delta</th>\n",
       "      <th>upper_bound</th>\n",
       "      <th>lower_bound</th>\n",
       "    </tr>\n",
       "  </thead>\n",
       "  <tbody>\n",
       "    <tr>\n",
       "      <th>186</th>\n",
       "      <td>2015-07-09</td>\n",
       "      <td>72504</td>\n",
       "      <td>50705.0</td>\n",
       "      <td>21799.0</td>\n",
       "      <td>62447.919188</td>\n",
       "      <td>38962.080812</td>\n",
       "    </tr>\n",
       "  </tbody>\n",
       "</table>\n",
       "</div>"
      ],
      "text/plain": [
       "     timestamp    cnt  rolling_mean    delta   upper_bound   lower_bound\n",
       "186 2015-07-09  72504       50705.0  21799.0  62447.919188  38962.080812"
      ]
     },
     "execution_count": 27,
     "metadata": {},
     "output_type": "execute_result"
    }
   ],
   "source": [
    "# день с максимальным количеством аренд (cnt)\n",
    "cnt_plot[cnt_plot.cnt == cnt_plot.query('cnt > upper_bound').cnt.max()]"
   ]
  },
  {
   "cell_type": "code",
   "execution_count": 28,
   "metadata": {
    "scrolled": true
   },
   "outputs": [
    {
     "data": {
      "text/html": [
       "<div>\n",
       "<style scoped>\n",
       "    .dataframe tbody tr th:only-of-type {\n",
       "        vertical-align: middle;\n",
       "    }\n",
       "\n",
       "    .dataframe tbody tr th {\n",
       "        vertical-align: top;\n",
       "    }\n",
       "\n",
       "    .dataframe thead th {\n",
       "        text-align: right;\n",
       "    }\n",
       "</style>\n",
       "<table border=\"1\" class=\"dataframe\">\n",
       "  <thead>\n",
       "    <tr style=\"text-align: right;\">\n",
       "      <th></th>\n",
       "      <th>timestamp</th>\n",
       "      <th>cnt</th>\n",
       "      <th>rolling_mean</th>\n",
       "      <th>delta</th>\n",
       "      <th>upper_bound</th>\n",
       "      <th>lower_bound</th>\n",
       "    </tr>\n",
       "  </thead>\n",
       "  <tbody>\n",
       "    <tr>\n",
       "      <th>130</th>\n",
       "      <td>2015-05-14</td>\n",
       "      <td>15609</td>\n",
       "      <td>28709.333333</td>\n",
       "      <td>-13100.333333</td>\n",
       "      <td>40452.252521</td>\n",
       "      <td>16966.414146</td>\n",
       "    </tr>\n",
       "    <tr>\n",
       "      <th>189</th>\n",
       "      <td>2015-07-12</td>\n",
       "      <td>23240</td>\n",
       "      <td>36036.666667</td>\n",
       "      <td>-12796.666667</td>\n",
       "      <td>47779.585854</td>\n",
       "      <td>24293.747479</td>\n",
       "    </tr>\n",
       "    <tr>\n",
       "      <th>201</th>\n",
       "      <td>2015-07-24</td>\n",
       "      <td>16034</td>\n",
       "      <td>31013.666667</td>\n",
       "      <td>-14979.666667</td>\n",
       "      <td>42756.585854</td>\n",
       "      <td>19270.747479</td>\n",
       "    </tr>\n",
       "    <tr>\n",
       "      <th>232</th>\n",
       "      <td>2015-08-24</td>\n",
       "      <td>17400</td>\n",
       "      <td>29529.333333</td>\n",
       "      <td>-12129.333333</td>\n",
       "      <td>41272.252521</td>\n",
       "      <td>17786.414146</td>\n",
       "    </tr>\n",
       "    <tr>\n",
       "      <th>314</th>\n",
       "      <td>2015-11-14</td>\n",
       "      <td>8898</td>\n",
       "      <td>21037.333333</td>\n",
       "      <td>-12139.333333</td>\n",
       "      <td>32780.252521</td>\n",
       "      <td>9294.414146</td>\n",
       "    </tr>\n",
       "    <tr>\n",
       "      <th>607</th>\n",
       "      <td>2016-09-02</td>\n",
       "      <td>0</td>\n",
       "      <td>26086.333333</td>\n",
       "      <td>-26086.333333</td>\n",
       "      <td>37829.252521</td>\n",
       "      <td>14343.414146</td>\n",
       "    </tr>\n",
       "    <tr>\n",
       "      <th>615</th>\n",
       "      <td>2016-09-10</td>\n",
       "      <td>17080</td>\n",
       "      <td>31262.000000</td>\n",
       "      <td>-14182.000000</td>\n",
       "      <td>43004.919188</td>\n",
       "      <td>19519.080812</td>\n",
       "    </tr>\n",
       "    <tr>\n",
       "      <th>621</th>\n",
       "      <td>2016-09-16</td>\n",
       "      <td>21967</td>\n",
       "      <td>36193.333333</td>\n",
       "      <td>-14226.333333</td>\n",
       "      <td>47936.252521</td>\n",
       "      <td>24450.414146</td>\n",
       "    </tr>\n",
       "    <tr>\n",
       "      <th>678</th>\n",
       "      <td>2016-11-12</td>\n",
       "      <td>8990</td>\n",
       "      <td>20878.000000</td>\n",
       "      <td>-11888.000000</td>\n",
       "      <td>32620.919188</td>\n",
       "      <td>9135.080812</td>\n",
       "    </tr>\n",
       "  </tbody>\n",
       "</table>\n",
       "</div>"
      ],
      "text/plain": [
       "     timestamp    cnt  rolling_mean         delta   upper_bound   lower_bound\n",
       "130 2015-05-14  15609  28709.333333 -13100.333333  40452.252521  16966.414146\n",
       "189 2015-07-12  23240  36036.666667 -12796.666667  47779.585854  24293.747479\n",
       "201 2015-07-24  16034  31013.666667 -14979.666667  42756.585854  19270.747479\n",
       "232 2015-08-24  17400  29529.333333 -12129.333333  41272.252521  17786.414146\n",
       "314 2015-11-14   8898  21037.333333 -12139.333333  32780.252521   9294.414146\n",
       "607 2016-09-02      0  26086.333333 -26086.333333  37829.252521  14343.414146\n",
       "615 2016-09-10  17080  31262.000000 -14182.000000  43004.919188  19519.080812\n",
       "621 2016-09-16  21967  36193.333333 -14226.333333  47936.252521  24450.414146\n",
       "678 2016-11-12   8990  20878.000000 -11888.000000  32620.919188   9135.080812"
      ]
     },
     "execution_count": 28,
     "metadata": {},
     "output_type": "execute_result"
    }
   ],
   "source": [
    "# дни, когда число аренд оказалось ниже ожидаемого\n",
    "cnt_plot.query('cnt < lower_bound')"
   ]
  },
  {
   "cell_type": "code",
   "execution_count": 29,
   "metadata": {},
   "outputs": [
    {
     "data": {
      "text/html": [
       "<div>\n",
       "<style scoped>\n",
       "    .dataframe tbody tr th:only-of-type {\n",
       "        vertical-align: middle;\n",
       "    }\n",
       "\n",
       "    .dataframe tbody tr th {\n",
       "        vertical-align: top;\n",
       "    }\n",
       "\n",
       "    .dataframe thead th {\n",
       "        text-align: right;\n",
       "    }\n",
       "</style>\n",
       "<table border=\"1\" class=\"dataframe\">\n",
       "  <thead>\n",
       "    <tr style=\"text-align: right;\">\n",
       "      <th></th>\n",
       "      <th>timestamp</th>\n",
       "      <th>cnt</th>\n",
       "      <th>rolling_mean</th>\n",
       "      <th>delta</th>\n",
       "      <th>upper_bound</th>\n",
       "      <th>lower_bound</th>\n",
       "    </tr>\n",
       "  </thead>\n",
       "  <tbody>\n",
       "    <tr>\n",
       "      <th>607</th>\n",
       "      <td>2016-09-02</td>\n",
       "      <td>0</td>\n",
       "      <td>26086.333333</td>\n",
       "      <td>-26086.333333</td>\n",
       "      <td>37829.252521</td>\n",
       "      <td>14343.414146</td>\n",
       "    </tr>\n",
       "  </tbody>\n",
       "</table>\n",
       "</div>"
      ],
      "text/plain": [
       "     timestamp  cnt  rolling_mean         delta   upper_bound   lower_bound\n",
       "607 2016-09-02    0  26086.333333 -26086.333333  37829.252521  14343.414146"
      ]
     },
     "execution_count": 29,
     "metadata": {},
     "output_type": "execute_result"
    }
   ],
   "source": [
    "# день с минимальным числом аренд\n",
    "cnt_plot[cnt_plot.cnt == cnt_plot.query('cnt < lower_bound').cnt.min()]"
   ]
  },
  {
   "cell_type": "markdown",
   "metadata": {},
   "source": [
    "Причина аномалии - ошибка данных"
   ]
  }
 ],
 "metadata": {
  "kernelspec": {
   "display_name": "Python 3",
   "language": "python",
   "name": "python3"
  },
  "language_info": {
   "codemirror_mode": {
    "name": "ipython",
    "version": 3
   },
   "file_extension": ".py",
   "mimetype": "text/x-python",
   "name": "python",
   "nbconvert_exporter": "python",
   "pygments_lexer": "ipython3",
   "version": "3.7.3"
  }
 },
 "nbformat": 4,
 "nbformat_minor": 4
}
