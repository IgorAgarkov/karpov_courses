{
 "cells": [
  {
   "cell_type": "markdown",
   "metadata": {},
   "source": [
    "### Задача: проанализировать совершенные покупки и ответить на следующие вопросы:\n",
    "\n",
    "[1. Сколько у нас пользователей, которые совершили покупку только один раз?](#first-bullet)\n",
    "\n",
    "[2. Сколько заказов в месяц в среднем не доставляется по разным причинам(вывести детализацию по причинам)?](#second-bullet)\n",
    "\n",
    "[3. По каждому товару определить, в какой день недели товар чаще всего покупается.](#third-bullet) \n",
    "\n",
    "[4. Сколько у каждого из пользователей в среднем покупок в неделю (по месяцам)?](#fourth-bullet)\n",
    "\n",
    "[5. Написать функцию на python, позволяющую строить когортный анализ. В период с января по декабрь выявить когорту с самым высоким retention на 3-й месяц.](#fifth-bullet)\n",
    "\n",
    "[6. Построить RFM-кластеры для пользователей. Вывести для каждого кластера средние значения метрик R, F, M (и описать подробно, как были построены метрики R, F, M).](#sixth-bullet)\n",
    "\n",
    "\n",
    "##### Файлы:  \n",
    "- [olist_customers_datase.csv](https://disk.yandex.ru/d/FUi5uSd6BfG_ig) — **таблица с уникальными идентификаторами пользователей**  \n",
    "**customer_id** — позаказный идентификатор пользователя (аналог номера паспорта, ключ между разными таблицами)  \n",
    "**customer_unique_id** —  уникальный идентификатор пользователя  \n",
    "**customer_zip_code_prefix** —  почтовый индекс пользователя  \n",
    "**customer_city** —  город доставки пользователя  \n",
    "**ustomer_state** —  штат доставки пользователя  \n",
    "<br>\n",
    "- [olist_orders_dataset.csv](https://disk.yandex.ru/d/t9Li4JOfgxuUrg) —  **таблица заказов**  \n",
    "**order_id** —  уникальный идентификатор заказа (номер чека)  \n",
    "**customer_id** —  позаказный идентификатор пользователя (аналог номера паспорта, ключ между разными таблицами)  \n",
    "**order_status** —  статус заказа  \n",
    "**order_purchase_timestamp** —  время создания заказа  \n",
    "**order_approved_at** —  время подтверждения оплаты заказа  \n",
    "**order_delivered_carrier_date** —  время передачи заказа в логистическую службу  \n",
    "**order_delivered_customer_date** —  время доставки заказа  \n",
    "**order_estimated_delivery_date** —  обещанная дата доставки  \n",
    "<br>\n",
    "- [olist_order_items_dataset.csv](https://disk.yandex.ru/d/Gbt-yAcQrOe3Pw) —  **товарные позиции, входящие в заказы**  \n",
    "**order_id** —  уникальный идентификатор заказа (номер чека)   \n",
    "**order_item_id** —  идентификатор товара внутри одного заказа  \n",
    "**product_id** —  ид товара (аналог штрихкода)  \n",
    "**seller_id** — ид производителя товара  \n",
    "**shipping_limit_date** —  максимальная дата доставки продавцом для передачи заказа партнеру по логистике  \n",
    "**price** —  цена за единицу товара  \n",
    "**freight_value** —  вес товара  \n",
    "\n",
    "Уникальный статусы заказов в таблице **olist_order_dataset**:  \n",
    "- **created** —  создан   \n",
    "- **approved** —  подтверждён  \n",
    "- **invoiced** —  выставлен счёт  \n",
    "- **processing** —  в процессе сборки заказа  \n",
    "- **shipped** —  отгружен со склада  \n",
    "- **delivered** —  доставлен пользователю  \n",
    "- **unavailable** —  недоступен  \n",
    "- **canceled** —  отменён  "
   ]
  },
  {
   "cell_type": "code",
   "execution_count": 1,
   "metadata": {},
   "outputs": [],
   "source": [
    "import pandas as pd\n",
    "import numpy as np\n",
    "from operator import attrgetter\n",
    "import seaborn as sns\n",
    "import datetime\n",
    "import matplotlib.pyplot as plt\n",
    "%matplotlib inline\n",
    "from sklearn.cluster import KMeans\n",
    "from scipy.stats import boxcox \n",
    "import requests\n",
    "from urllib.parse import urlencode"
   ]
  },
  {
   "cell_type": "code",
   "execution_count": 2,
   "metadata": {},
   "outputs": [],
   "source": [
    "# загружаем данные (без скачивания файлов)\n",
    "\n",
    "base_url = 'https://cloud-api.yandex.net/v1/disk/public/resources/download?'\n",
    "public_key = ['https://disk.yandex.ru/d/FUi5uSd6BfG_ig', \n",
    "              'https://disk.yandex.ru/d/t9Li4JOfgxuUrg',\n",
    "              'https://disk.yandex.ru/d/Gbt-yAcQrOe3Pw']                # ссылки на данные\n",
    "\n",
    "file_names = ['olist_customers_dataset.csv', \n",
    "             'olist_orders_dataset.csv',\n",
    "             'olist_order_items_dataset.csv']                           # имена файлов\n",
    "\n",
    "datasets = ['customers', 'orders', 'order_items']\n",
    "\n",
    "for i in range(3):\n",
    "    # получаем загрузочную ссылку\n",
    "    final_url = base_url + urlencode(dict(public_key=public_key[i]))\n",
    "    response = requests.get(final_url)\n",
    "    download_url = response.json()['href']\n",
    "    \n",
    "    # загружаем данные по ссылкам\n",
    "    globals()[datasets[i]] = pd.read_csv(download_url)"
   ]
  },
  {
   "cell_type": "code",
   "execution_count": 3,
   "metadata": {},
   "outputs": [
    {
     "name": "stdout",
     "output_type": "stream",
     "text": [
      "Число строк в customers:   99441\n",
      "Число строк в orders:      99441\n",
      "Число строк в order_items: 112650\n"
     ]
    }
   ],
   "source": [
    "print('Число строк в customers:  ', customers.shape[0])\n",
    "print('Число строк в orders:     ', orders.shape[0])\n",
    "print('Число строк в order_items:', order_items.shape[0])"
   ]
  },
  {
   "cell_type": "code",
   "execution_count": 4,
   "metadata": {
    "scrolled": true
   },
   "outputs": [
    {
     "data": {
      "text/html": [
       "<div>\n",
       "<style scoped>\n",
       "    .dataframe tbody tr th:only-of-type {\n",
       "        vertical-align: middle;\n",
       "    }\n",
       "\n",
       "    .dataframe tbody tr th {\n",
       "        vertical-align: top;\n",
       "    }\n",
       "\n",
       "    .dataframe thead th {\n",
       "        text-align: right;\n",
       "    }\n",
       "</style>\n",
       "<table border=\"1\" class=\"dataframe\">\n",
       "  <thead>\n",
       "    <tr style=\"text-align: right;\">\n",
       "      <th></th>\n",
       "      <th>customer_id</th>\n",
       "      <th>customer_unique_id</th>\n",
       "      <th>customer_zip_code_prefix</th>\n",
       "      <th>customer_city</th>\n",
       "      <th>customer_state</th>\n",
       "    </tr>\n",
       "  </thead>\n",
       "  <tbody>\n",
       "    <tr>\n",
       "      <th>0</th>\n",
       "      <td>06b8999e2fba1a1fbc88172c00ba8bc7</td>\n",
       "      <td>861eff4711a542e4b93843c6dd7febb0</td>\n",
       "      <td>14409</td>\n",
       "      <td>franca</td>\n",
       "      <td>SP</td>\n",
       "    </tr>\n",
       "    <tr>\n",
       "      <th>1</th>\n",
       "      <td>18955e83d337fd6b2def6b18a428ac77</td>\n",
       "      <td>290c77bc529b7ac935b93aa66c333dc3</td>\n",
       "      <td>9790</td>\n",
       "      <td>sao bernardo do campo</td>\n",
       "      <td>SP</td>\n",
       "    </tr>\n",
       "    <tr>\n",
       "      <th>2</th>\n",
       "      <td>4e7b3e00288586ebd08712fdd0374a03</td>\n",
       "      <td>060e732b5b29e8181a18229c7b0b2b5e</td>\n",
       "      <td>1151</td>\n",
       "      <td>sao paulo</td>\n",
       "      <td>SP</td>\n",
       "    </tr>\n",
       "    <tr>\n",
       "      <th>3</th>\n",
       "      <td>b2b6027bc5c5109e529d4dc6358b12c3</td>\n",
       "      <td>259dac757896d24d7702b9acbbff3f3c</td>\n",
       "      <td>8775</td>\n",
       "      <td>mogi das cruzes</td>\n",
       "      <td>SP</td>\n",
       "    </tr>\n",
       "    <tr>\n",
       "      <th>4</th>\n",
       "      <td>4f2d8ab171c80ec8364f7c12e35b23ad</td>\n",
       "      <td>345ecd01c38d18a9036ed96c73b8d066</td>\n",
       "      <td>13056</td>\n",
       "      <td>campinas</td>\n",
       "      <td>SP</td>\n",
       "    </tr>\n",
       "  </tbody>\n",
       "</table>\n",
       "</div>"
      ],
      "text/plain": [
       "                        customer_id                customer_unique_id  \\\n",
       "0  06b8999e2fba1a1fbc88172c00ba8bc7  861eff4711a542e4b93843c6dd7febb0   \n",
       "1  18955e83d337fd6b2def6b18a428ac77  290c77bc529b7ac935b93aa66c333dc3   \n",
       "2  4e7b3e00288586ebd08712fdd0374a03  060e732b5b29e8181a18229c7b0b2b5e   \n",
       "3  b2b6027bc5c5109e529d4dc6358b12c3  259dac757896d24d7702b9acbbff3f3c   \n",
       "4  4f2d8ab171c80ec8364f7c12e35b23ad  345ecd01c38d18a9036ed96c73b8d066   \n",
       "\n",
       "   customer_zip_code_prefix          customer_city customer_state  \n",
       "0                     14409                 franca             SP  \n",
       "1                      9790  sao bernardo do campo             SP  \n",
       "2                      1151              sao paulo             SP  \n",
       "3                      8775        mogi das cruzes             SP  \n",
       "4                     13056               campinas             SP  "
      ]
     },
     "execution_count": 4,
     "metadata": {},
     "output_type": "execute_result"
    }
   ],
   "source": [
    "customers.head()"
   ]
  },
  {
   "cell_type": "code",
   "execution_count": 5,
   "metadata": {},
   "outputs": [
    {
     "data": {
      "text/plain": [
       "customer_id                 object\n",
       "customer_unique_id          object\n",
       "customer_zip_code_prefix     int64\n",
       "customer_city               object\n",
       "customer_state              object\n",
       "dtype: object"
      ]
     },
     "execution_count": 5,
     "metadata": {},
     "output_type": "execute_result"
    }
   ],
   "source": [
    "customers.dtypes"
   ]
  },
  {
   "cell_type": "code",
   "execution_count": 6,
   "metadata": {
    "scrolled": true
   },
   "outputs": [
    {
     "data": {
      "text/html": [
       "<div>\n",
       "<style scoped>\n",
       "    .dataframe tbody tr th:only-of-type {\n",
       "        vertical-align: middle;\n",
       "    }\n",
       "\n",
       "    .dataframe tbody tr th {\n",
       "        vertical-align: top;\n",
       "    }\n",
       "\n",
       "    .dataframe thead th {\n",
       "        text-align: right;\n",
       "    }\n",
       "</style>\n",
       "<table border=\"1\" class=\"dataframe\">\n",
       "  <thead>\n",
       "    <tr style=\"text-align: right;\">\n",
       "      <th></th>\n",
       "      <th>order_id</th>\n",
       "      <th>customer_id</th>\n",
       "      <th>order_status</th>\n",
       "      <th>order_purchase_timestamp</th>\n",
       "      <th>order_approved_at</th>\n",
       "      <th>order_delivered_carrier_date</th>\n",
       "      <th>order_delivered_customer_date</th>\n",
       "      <th>order_estimated_delivery_date</th>\n",
       "    </tr>\n",
       "  </thead>\n",
       "  <tbody>\n",
       "    <tr>\n",
       "      <th>0</th>\n",
       "      <td>e481f51cbdc54678b7cc49136f2d6af7</td>\n",
       "      <td>9ef432eb6251297304e76186b10a928d</td>\n",
       "      <td>delivered</td>\n",
       "      <td>2017-10-02 10:56:33</td>\n",
       "      <td>2017-10-02 11:07:15</td>\n",
       "      <td>2017-10-04 19:55:00</td>\n",
       "      <td>2017-10-10 21:25:13</td>\n",
       "      <td>2017-10-18 00:00:00</td>\n",
       "    </tr>\n",
       "    <tr>\n",
       "      <th>1</th>\n",
       "      <td>53cdb2fc8bc7dce0b6741e2150273451</td>\n",
       "      <td>b0830fb4747a6c6d20dea0b8c802d7ef</td>\n",
       "      <td>delivered</td>\n",
       "      <td>2018-07-24 20:41:37</td>\n",
       "      <td>2018-07-26 03:24:27</td>\n",
       "      <td>2018-07-26 14:31:00</td>\n",
       "      <td>2018-08-07 15:27:45</td>\n",
       "      <td>2018-08-13 00:00:00</td>\n",
       "    </tr>\n",
       "    <tr>\n",
       "      <th>2</th>\n",
       "      <td>47770eb9100c2d0c44946d9cf07ec65d</td>\n",
       "      <td>41ce2a54c0b03bf3443c3d931a367089</td>\n",
       "      <td>delivered</td>\n",
       "      <td>2018-08-08 08:38:49</td>\n",
       "      <td>2018-08-08 08:55:23</td>\n",
       "      <td>2018-08-08 13:50:00</td>\n",
       "      <td>2018-08-17 18:06:29</td>\n",
       "      <td>2018-09-04 00:00:00</td>\n",
       "    </tr>\n",
       "    <tr>\n",
       "      <th>3</th>\n",
       "      <td>949d5b44dbf5de918fe9c16f97b45f8a</td>\n",
       "      <td>f88197465ea7920adcdbec7375364d82</td>\n",
       "      <td>delivered</td>\n",
       "      <td>2017-11-18 19:28:06</td>\n",
       "      <td>2017-11-18 19:45:59</td>\n",
       "      <td>2017-11-22 13:39:59</td>\n",
       "      <td>2017-12-02 00:28:42</td>\n",
       "      <td>2017-12-15 00:00:00</td>\n",
       "    </tr>\n",
       "    <tr>\n",
       "      <th>4</th>\n",
       "      <td>ad21c59c0840e6cb83a9ceb5573f8159</td>\n",
       "      <td>8ab97904e6daea8866dbdbc4fb7aad2c</td>\n",
       "      <td>delivered</td>\n",
       "      <td>2018-02-13 21:18:39</td>\n",
       "      <td>2018-02-13 22:20:29</td>\n",
       "      <td>2018-02-14 19:46:34</td>\n",
       "      <td>2018-02-16 18:17:02</td>\n",
       "      <td>2018-02-26 00:00:00</td>\n",
       "    </tr>\n",
       "  </tbody>\n",
       "</table>\n",
       "</div>"
      ],
      "text/plain": [
       "                           order_id                       customer_id  \\\n",
       "0  e481f51cbdc54678b7cc49136f2d6af7  9ef432eb6251297304e76186b10a928d   \n",
       "1  53cdb2fc8bc7dce0b6741e2150273451  b0830fb4747a6c6d20dea0b8c802d7ef   \n",
       "2  47770eb9100c2d0c44946d9cf07ec65d  41ce2a54c0b03bf3443c3d931a367089   \n",
       "3  949d5b44dbf5de918fe9c16f97b45f8a  f88197465ea7920adcdbec7375364d82   \n",
       "4  ad21c59c0840e6cb83a9ceb5573f8159  8ab97904e6daea8866dbdbc4fb7aad2c   \n",
       "\n",
       "  order_status order_purchase_timestamp    order_approved_at  \\\n",
       "0    delivered      2017-10-02 10:56:33  2017-10-02 11:07:15   \n",
       "1    delivered      2018-07-24 20:41:37  2018-07-26 03:24:27   \n",
       "2    delivered      2018-08-08 08:38:49  2018-08-08 08:55:23   \n",
       "3    delivered      2017-11-18 19:28:06  2017-11-18 19:45:59   \n",
       "4    delivered      2018-02-13 21:18:39  2018-02-13 22:20:29   \n",
       "\n",
       "  order_delivered_carrier_date order_delivered_customer_date  \\\n",
       "0          2017-10-04 19:55:00           2017-10-10 21:25:13   \n",
       "1          2018-07-26 14:31:00           2018-08-07 15:27:45   \n",
       "2          2018-08-08 13:50:00           2018-08-17 18:06:29   \n",
       "3          2017-11-22 13:39:59           2017-12-02 00:28:42   \n",
       "4          2018-02-14 19:46:34           2018-02-16 18:17:02   \n",
       "\n",
       "  order_estimated_delivery_date  \n",
       "0           2017-10-18 00:00:00  \n",
       "1           2018-08-13 00:00:00  \n",
       "2           2018-09-04 00:00:00  \n",
       "3           2017-12-15 00:00:00  \n",
       "4           2018-02-26 00:00:00  "
      ]
     },
     "execution_count": 6,
     "metadata": {},
     "output_type": "execute_result"
    }
   ],
   "source": [
    "orders.head()"
   ]
  },
  {
   "cell_type": "code",
   "execution_count": 7,
   "metadata": {
    "scrolled": true
   },
   "outputs": [
    {
     "data": {
      "text/plain": [
       "order_id                         object\n",
       "customer_id                      object\n",
       "order_status                     object\n",
       "order_purchase_timestamp         object\n",
       "order_approved_at                object\n",
       "order_delivered_carrier_date     object\n",
       "order_delivered_customer_date    object\n",
       "order_estimated_delivery_date    object\n",
       "dtype: object"
      ]
     },
     "execution_count": 7,
     "metadata": {},
     "output_type": "execute_result"
    }
   ],
   "source": [
    "orders.dtypes"
   ]
  },
  {
   "cell_type": "code",
   "execution_count": 8,
   "metadata": {},
   "outputs": [
    {
     "data": {
      "text/html": [
       "<div>\n",
       "<style scoped>\n",
       "    .dataframe tbody tr th:only-of-type {\n",
       "        vertical-align: middle;\n",
       "    }\n",
       "\n",
       "    .dataframe tbody tr th {\n",
       "        vertical-align: top;\n",
       "    }\n",
       "\n",
       "    .dataframe thead th {\n",
       "        text-align: right;\n",
       "    }\n",
       "</style>\n",
       "<table border=\"1\" class=\"dataframe\">\n",
       "  <thead>\n",
       "    <tr style=\"text-align: right;\">\n",
       "      <th></th>\n",
       "      <th>order_id</th>\n",
       "      <th>order_item_id</th>\n",
       "      <th>product_id</th>\n",
       "      <th>seller_id</th>\n",
       "      <th>shipping_limit_date</th>\n",
       "      <th>price</th>\n",
       "      <th>freight_value</th>\n",
       "    </tr>\n",
       "  </thead>\n",
       "  <tbody>\n",
       "    <tr>\n",
       "      <th>0</th>\n",
       "      <td>00010242fe8c5a6d1ba2dd792cb16214</td>\n",
       "      <td>1</td>\n",
       "      <td>4244733e06e7ecb4970a6e2683c13e61</td>\n",
       "      <td>48436dade18ac8b2bce089ec2a041202</td>\n",
       "      <td>2017-09-19 09:45:35</td>\n",
       "      <td>58.90</td>\n",
       "      <td>13.29</td>\n",
       "    </tr>\n",
       "    <tr>\n",
       "      <th>1</th>\n",
       "      <td>00018f77f2f0320c557190d7a144bdd3</td>\n",
       "      <td>1</td>\n",
       "      <td>e5f2d52b802189ee658865ca93d83a8f</td>\n",
       "      <td>dd7ddc04e1b6c2c614352b383efe2d36</td>\n",
       "      <td>2017-05-03 11:05:13</td>\n",
       "      <td>239.90</td>\n",
       "      <td>19.93</td>\n",
       "    </tr>\n",
       "    <tr>\n",
       "      <th>2</th>\n",
       "      <td>000229ec398224ef6ca0657da4fc703e</td>\n",
       "      <td>1</td>\n",
       "      <td>c777355d18b72b67abbeef9df44fd0fd</td>\n",
       "      <td>5b51032eddd242adc84c38acab88f23d</td>\n",
       "      <td>2018-01-18 14:48:30</td>\n",
       "      <td>199.00</td>\n",
       "      <td>17.87</td>\n",
       "    </tr>\n",
       "    <tr>\n",
       "      <th>3</th>\n",
       "      <td>00024acbcdf0a6daa1e931b038114c75</td>\n",
       "      <td>1</td>\n",
       "      <td>7634da152a4610f1595efa32f14722fc</td>\n",
       "      <td>9d7a1d34a5052409006425275ba1c2b4</td>\n",
       "      <td>2018-08-15 10:10:18</td>\n",
       "      <td>12.99</td>\n",
       "      <td>12.79</td>\n",
       "    </tr>\n",
       "    <tr>\n",
       "      <th>4</th>\n",
       "      <td>00042b26cf59d7ce69dfabb4e55b4fd9</td>\n",
       "      <td>1</td>\n",
       "      <td>ac6c3623068f30de03045865e4e10089</td>\n",
       "      <td>df560393f3a51e74553ab94004ba5c87</td>\n",
       "      <td>2017-02-13 13:57:51</td>\n",
       "      <td>199.90</td>\n",
       "      <td>18.14</td>\n",
       "    </tr>\n",
       "  </tbody>\n",
       "</table>\n",
       "</div>"
      ],
      "text/plain": [
       "                           order_id  order_item_id  \\\n",
       "0  00010242fe8c5a6d1ba2dd792cb16214              1   \n",
       "1  00018f77f2f0320c557190d7a144bdd3              1   \n",
       "2  000229ec398224ef6ca0657da4fc703e              1   \n",
       "3  00024acbcdf0a6daa1e931b038114c75              1   \n",
       "4  00042b26cf59d7ce69dfabb4e55b4fd9              1   \n",
       "\n",
       "                         product_id                         seller_id  \\\n",
       "0  4244733e06e7ecb4970a6e2683c13e61  48436dade18ac8b2bce089ec2a041202   \n",
       "1  e5f2d52b802189ee658865ca93d83a8f  dd7ddc04e1b6c2c614352b383efe2d36   \n",
       "2  c777355d18b72b67abbeef9df44fd0fd  5b51032eddd242adc84c38acab88f23d   \n",
       "3  7634da152a4610f1595efa32f14722fc  9d7a1d34a5052409006425275ba1c2b4   \n",
       "4  ac6c3623068f30de03045865e4e10089  df560393f3a51e74553ab94004ba5c87   \n",
       "\n",
       "   shipping_limit_date   price  freight_value  \n",
       "0  2017-09-19 09:45:35   58.90          13.29  \n",
       "1  2017-05-03 11:05:13  239.90          19.93  \n",
       "2  2018-01-18 14:48:30  199.00          17.87  \n",
       "3  2018-08-15 10:10:18   12.99          12.79  \n",
       "4  2017-02-13 13:57:51  199.90          18.14  "
      ]
     },
     "execution_count": 8,
     "metadata": {},
     "output_type": "execute_result"
    }
   ],
   "source": [
    "order_items.head()"
   ]
  },
  {
   "cell_type": "code",
   "execution_count": 9,
   "metadata": {
    "scrolled": true
   },
   "outputs": [
    {
     "data": {
      "text/plain": [
       "order_id                object\n",
       "order_item_id            int64\n",
       "product_id              object\n",
       "seller_id               object\n",
       "shipping_limit_date     object\n",
       "price                  float64\n",
       "freight_value          float64\n",
       "dtype: object"
      ]
     },
     "execution_count": 9,
     "metadata": {},
     "output_type": "execute_result"
    }
   ],
   "source": [
    "order_items.dtypes"
   ]
  },
  {
   "cell_type": "markdown",
   "metadata": {},
   "source": [
    "Колонки с датами в __*orders*__ и __*order_items*__ - строковые. Переведём их в тип дат."
   ]
  },
  {
   "cell_type": "code",
   "execution_count": 10,
   "metadata": {},
   "outputs": [],
   "source": [
    "# список колонок со временем в orders\n",
    "time_col_ls = ['order_purchase_timestamp', \n",
    "          'order_approved_at', \n",
    "          'order_delivered_carrier_date', \n",
    "          'order_delivered_customer_date', \n",
    "          'order_estimated_delivery_date']"
   ]
  },
  {
   "cell_type": "code",
   "execution_count": 11,
   "metadata": {},
   "outputs": [],
   "source": [
    "# переводим временные колонки orders в тип дат\n",
    "orders[time_col_ls] = orders[time_col_ls].apply(lambda x: pd.to_datetime(x, format='%Y-%m-%d'))\n",
    "\n",
    "# переводим временную колонку order_items в тип дат\n",
    "order_items['shipping_limit_date'] = pd.to_datetime(order_items['shipping_limit_date'], format='%Y-%m-%d')"
   ]
  },
  {
   "cell_type": "code",
   "execution_count": 12,
   "metadata": {
    "scrolled": true
   },
   "outputs": [
    {
     "data": {
      "text/plain": [
       "order_id                                 object\n",
       "customer_id                              object\n",
       "order_status                             object\n",
       "order_purchase_timestamp         datetime64[ns]\n",
       "order_approved_at                datetime64[ns]\n",
       "order_delivered_carrier_date     datetime64[ns]\n",
       "order_delivered_customer_date    datetime64[ns]\n",
       "order_estimated_delivery_date    datetime64[ns]\n",
       "dtype: object"
      ]
     },
     "execution_count": 12,
     "metadata": {},
     "output_type": "execute_result"
    }
   ],
   "source": [
    "orders.dtypes"
   ]
  },
  {
   "cell_type": "code",
   "execution_count": 13,
   "metadata": {
    "scrolled": true
   },
   "outputs": [
    {
     "data": {
      "text/html": [
       "<div>\n",
       "<style scoped>\n",
       "    .dataframe tbody tr th:only-of-type {\n",
       "        vertical-align: middle;\n",
       "    }\n",
       "\n",
       "    .dataframe tbody tr th {\n",
       "        vertical-align: top;\n",
       "    }\n",
       "\n",
       "    .dataframe thead th {\n",
       "        text-align: right;\n",
       "    }\n",
       "</style>\n",
       "<table border=\"1\" class=\"dataframe\">\n",
       "  <thead>\n",
       "    <tr style=\"text-align: right;\">\n",
       "      <th></th>\n",
       "      <th>order_id</th>\n",
       "      <th>customer_id</th>\n",
       "      <th>order_status</th>\n",
       "      <th>order_purchase_timestamp</th>\n",
       "      <th>order_approved_at</th>\n",
       "      <th>order_delivered_carrier_date</th>\n",
       "      <th>order_delivered_customer_date</th>\n",
       "      <th>order_estimated_delivery_date</th>\n",
       "    </tr>\n",
       "  </thead>\n",
       "  <tbody>\n",
       "    <tr>\n",
       "      <th>0</th>\n",
       "      <td>e481f51cbdc54678b7cc49136f2d6af7</td>\n",
       "      <td>9ef432eb6251297304e76186b10a928d</td>\n",
       "      <td>delivered</td>\n",
       "      <td>2017-10-02 10:56:33</td>\n",
       "      <td>2017-10-02 11:07:15</td>\n",
       "      <td>2017-10-04 19:55:00</td>\n",
       "      <td>2017-10-10 21:25:13</td>\n",
       "      <td>2017-10-18</td>\n",
       "    </tr>\n",
       "    <tr>\n",
       "      <th>1</th>\n",
       "      <td>53cdb2fc8bc7dce0b6741e2150273451</td>\n",
       "      <td>b0830fb4747a6c6d20dea0b8c802d7ef</td>\n",
       "      <td>delivered</td>\n",
       "      <td>2018-07-24 20:41:37</td>\n",
       "      <td>2018-07-26 03:24:27</td>\n",
       "      <td>2018-07-26 14:31:00</td>\n",
       "      <td>2018-08-07 15:27:45</td>\n",
       "      <td>2018-08-13</td>\n",
       "    </tr>\n",
       "    <tr>\n",
       "      <th>2</th>\n",
       "      <td>47770eb9100c2d0c44946d9cf07ec65d</td>\n",
       "      <td>41ce2a54c0b03bf3443c3d931a367089</td>\n",
       "      <td>delivered</td>\n",
       "      <td>2018-08-08 08:38:49</td>\n",
       "      <td>2018-08-08 08:55:23</td>\n",
       "      <td>2018-08-08 13:50:00</td>\n",
       "      <td>2018-08-17 18:06:29</td>\n",
       "      <td>2018-09-04</td>\n",
       "    </tr>\n",
       "    <tr>\n",
       "      <th>3</th>\n",
       "      <td>949d5b44dbf5de918fe9c16f97b45f8a</td>\n",
       "      <td>f88197465ea7920adcdbec7375364d82</td>\n",
       "      <td>delivered</td>\n",
       "      <td>2017-11-18 19:28:06</td>\n",
       "      <td>2017-11-18 19:45:59</td>\n",
       "      <td>2017-11-22 13:39:59</td>\n",
       "      <td>2017-12-02 00:28:42</td>\n",
       "      <td>2017-12-15</td>\n",
       "    </tr>\n",
       "    <tr>\n",
       "      <th>4</th>\n",
       "      <td>ad21c59c0840e6cb83a9ceb5573f8159</td>\n",
       "      <td>8ab97904e6daea8866dbdbc4fb7aad2c</td>\n",
       "      <td>delivered</td>\n",
       "      <td>2018-02-13 21:18:39</td>\n",
       "      <td>2018-02-13 22:20:29</td>\n",
       "      <td>2018-02-14 19:46:34</td>\n",
       "      <td>2018-02-16 18:17:02</td>\n",
       "      <td>2018-02-26</td>\n",
       "    </tr>\n",
       "  </tbody>\n",
       "</table>\n",
       "</div>"
      ],
      "text/plain": [
       "                           order_id                       customer_id  \\\n",
       "0  e481f51cbdc54678b7cc49136f2d6af7  9ef432eb6251297304e76186b10a928d   \n",
       "1  53cdb2fc8bc7dce0b6741e2150273451  b0830fb4747a6c6d20dea0b8c802d7ef   \n",
       "2  47770eb9100c2d0c44946d9cf07ec65d  41ce2a54c0b03bf3443c3d931a367089   \n",
       "3  949d5b44dbf5de918fe9c16f97b45f8a  f88197465ea7920adcdbec7375364d82   \n",
       "4  ad21c59c0840e6cb83a9ceb5573f8159  8ab97904e6daea8866dbdbc4fb7aad2c   \n",
       "\n",
       "  order_status order_purchase_timestamp   order_approved_at  \\\n",
       "0    delivered      2017-10-02 10:56:33 2017-10-02 11:07:15   \n",
       "1    delivered      2018-07-24 20:41:37 2018-07-26 03:24:27   \n",
       "2    delivered      2018-08-08 08:38:49 2018-08-08 08:55:23   \n",
       "3    delivered      2017-11-18 19:28:06 2017-11-18 19:45:59   \n",
       "4    delivered      2018-02-13 21:18:39 2018-02-13 22:20:29   \n",
       "\n",
       "  order_delivered_carrier_date order_delivered_customer_date  \\\n",
       "0          2017-10-04 19:55:00           2017-10-10 21:25:13   \n",
       "1          2018-07-26 14:31:00           2018-08-07 15:27:45   \n",
       "2          2018-08-08 13:50:00           2018-08-17 18:06:29   \n",
       "3          2017-11-22 13:39:59           2017-12-02 00:28:42   \n",
       "4          2018-02-14 19:46:34           2018-02-16 18:17:02   \n",
       "\n",
       "  order_estimated_delivery_date  \n",
       "0                    2017-10-18  \n",
       "1                    2018-08-13  \n",
       "2                    2018-09-04  \n",
       "3                    2017-12-15  \n",
       "4                    2018-02-26  "
      ]
     },
     "execution_count": 13,
     "metadata": {},
     "output_type": "execute_result"
    }
   ],
   "source": [
    "orders.head()"
   ]
  },
  {
   "cell_type": "code",
   "execution_count": 14,
   "metadata": {
    "scrolled": true
   },
   "outputs": [
    {
     "data": {
      "text/html": [
       "<div>\n",
       "<style scoped>\n",
       "    .dataframe tbody tr th:only-of-type {\n",
       "        vertical-align: middle;\n",
       "    }\n",
       "\n",
       "    .dataframe tbody tr th {\n",
       "        vertical-align: top;\n",
       "    }\n",
       "\n",
       "    .dataframe thead th {\n",
       "        text-align: right;\n",
       "    }\n",
       "</style>\n",
       "<table border=\"1\" class=\"dataframe\">\n",
       "  <thead>\n",
       "    <tr style=\"text-align: right;\">\n",
       "      <th></th>\n",
       "      <th>order_id</th>\n",
       "      <th>order_item_id</th>\n",
       "      <th>product_id</th>\n",
       "      <th>seller_id</th>\n",
       "      <th>shipping_limit_date</th>\n",
       "      <th>price</th>\n",
       "      <th>freight_value</th>\n",
       "    </tr>\n",
       "  </thead>\n",
       "  <tbody>\n",
       "    <tr>\n",
       "      <th>0</th>\n",
       "      <td>00010242fe8c5a6d1ba2dd792cb16214</td>\n",
       "      <td>1</td>\n",
       "      <td>4244733e06e7ecb4970a6e2683c13e61</td>\n",
       "      <td>48436dade18ac8b2bce089ec2a041202</td>\n",
       "      <td>2017-09-19 09:45:35</td>\n",
       "      <td>58.90</td>\n",
       "      <td>13.29</td>\n",
       "    </tr>\n",
       "    <tr>\n",
       "      <th>1</th>\n",
       "      <td>00018f77f2f0320c557190d7a144bdd3</td>\n",
       "      <td>1</td>\n",
       "      <td>e5f2d52b802189ee658865ca93d83a8f</td>\n",
       "      <td>dd7ddc04e1b6c2c614352b383efe2d36</td>\n",
       "      <td>2017-05-03 11:05:13</td>\n",
       "      <td>239.90</td>\n",
       "      <td>19.93</td>\n",
       "    </tr>\n",
       "    <tr>\n",
       "      <th>2</th>\n",
       "      <td>000229ec398224ef6ca0657da4fc703e</td>\n",
       "      <td>1</td>\n",
       "      <td>c777355d18b72b67abbeef9df44fd0fd</td>\n",
       "      <td>5b51032eddd242adc84c38acab88f23d</td>\n",
       "      <td>2018-01-18 14:48:30</td>\n",
       "      <td>199.00</td>\n",
       "      <td>17.87</td>\n",
       "    </tr>\n",
       "    <tr>\n",
       "      <th>3</th>\n",
       "      <td>00024acbcdf0a6daa1e931b038114c75</td>\n",
       "      <td>1</td>\n",
       "      <td>7634da152a4610f1595efa32f14722fc</td>\n",
       "      <td>9d7a1d34a5052409006425275ba1c2b4</td>\n",
       "      <td>2018-08-15 10:10:18</td>\n",
       "      <td>12.99</td>\n",
       "      <td>12.79</td>\n",
       "    </tr>\n",
       "    <tr>\n",
       "      <th>4</th>\n",
       "      <td>00042b26cf59d7ce69dfabb4e55b4fd9</td>\n",
       "      <td>1</td>\n",
       "      <td>ac6c3623068f30de03045865e4e10089</td>\n",
       "      <td>df560393f3a51e74553ab94004ba5c87</td>\n",
       "      <td>2017-02-13 13:57:51</td>\n",
       "      <td>199.90</td>\n",
       "      <td>18.14</td>\n",
       "    </tr>\n",
       "  </tbody>\n",
       "</table>\n",
       "</div>"
      ],
      "text/plain": [
       "                           order_id  order_item_id  \\\n",
       "0  00010242fe8c5a6d1ba2dd792cb16214              1   \n",
       "1  00018f77f2f0320c557190d7a144bdd3              1   \n",
       "2  000229ec398224ef6ca0657da4fc703e              1   \n",
       "3  00024acbcdf0a6daa1e931b038114c75              1   \n",
       "4  00042b26cf59d7ce69dfabb4e55b4fd9              1   \n",
       "\n",
       "                         product_id                         seller_id  \\\n",
       "0  4244733e06e7ecb4970a6e2683c13e61  48436dade18ac8b2bce089ec2a041202   \n",
       "1  e5f2d52b802189ee658865ca93d83a8f  dd7ddc04e1b6c2c614352b383efe2d36   \n",
       "2  c777355d18b72b67abbeef9df44fd0fd  5b51032eddd242adc84c38acab88f23d   \n",
       "3  7634da152a4610f1595efa32f14722fc  9d7a1d34a5052409006425275ba1c2b4   \n",
       "4  ac6c3623068f30de03045865e4e10089  df560393f3a51e74553ab94004ba5c87   \n",
       "\n",
       "  shipping_limit_date   price  freight_value  \n",
       "0 2017-09-19 09:45:35   58.90          13.29  \n",
       "1 2017-05-03 11:05:13  239.90          19.93  \n",
       "2 2018-01-18 14:48:30  199.00          17.87  \n",
       "3 2018-08-15 10:10:18   12.99          12.79  \n",
       "4 2017-02-13 13:57:51  199.90          18.14  "
      ]
     },
     "execution_count": 14,
     "metadata": {},
     "output_type": "execute_result"
    }
   ],
   "source": [
    "order_items.head()"
   ]
  },
  {
   "cell_type": "code",
   "execution_count": 15,
   "metadata": {
    "scrolled": false
   },
   "outputs": [
    {
     "data": {
      "text/plain": [
       "order_id                       object\n",
       "order_item_id                   int64\n",
       "product_id                     object\n",
       "seller_id                      object\n",
       "shipping_limit_date    datetime64[ns]\n",
       "price                         float64\n",
       "freight_value                 float64\n",
       "dtype: object"
      ]
     },
     "execution_count": 15,
     "metadata": {},
     "output_type": "execute_result"
    }
   ],
   "source": [
    "order_items.dtypes"
   ]
  },
  {
   "cell_type": "markdown",
   "metadata": {},
   "source": [
    "### Что считать покупкой? \n",
    "Первое, что приходит в голову - посмотреть `order_approved_at` (время подтверждения оплаты заказа). Оплатил - значит купил.  \n",
    "Проверим сколько записей в этой колонке отсутствует."
   ]
  },
  {
   "cell_type": "code",
   "execution_count": 16,
   "metadata": {},
   "outputs": [
    {
     "data": {
      "text/plain": [
       "160"
      ]
     },
     "execution_count": 16,
     "metadata": {},
     "output_type": "execute_result"
    }
   ],
   "source": [
    "orders.order_approved_at.isna().sum()"
   ]
  },
  {
   "cell_type": "markdown",
   "metadata": {},
   "source": [
    "Какой статус имеют заказы без подтверждения оплаты?"
   ]
  },
  {
   "cell_type": "code",
   "execution_count": 17,
   "metadata": {},
   "outputs": [
    {
     "data": {
      "text/plain": [
       "canceled     141\n",
       "delivered     14\n",
       "created        5\n",
       "Name: order_status, dtype: int64"
      ]
     },
     "execution_count": 17,
     "metadata": {},
     "output_type": "execute_result"
    }
   ],
   "source": [
    "# отберём только те, где order_approved_at с пропусками и посмотрим на значения order_status\n",
    "(\n",
    "    orders[orders.order_approved_at.isna()]\n",
    "        .order_status\n",
    "        .value_counts()\n",
    ")"
   ]
  },
  {
   "cell_type": "markdown",
   "metadata": {},
   "source": [
    "**'canceled'** - здесь всё понятно, заказы с этим статусом нельзя считать покупками.  \n",
    "**'created'** - созданные, но, по всей видимости, ещё не оплаченные, а значит они ещё не куплены (и будут ли оплачены неизвестно).  \n",
    "**'delivered'** - доставленные пользователю, мне понимается это, как факт получения товара покупателем. Если нет даты подтверждения оплаты, возможно, имеет место какой-то сбой в системе.     \n",
    "Взглянем на детали заказа доставленных, но с пропусками даты оплаты."
   ]
  },
  {
   "cell_type": "markdown",
   "metadata": {},
   "source": [
    "Найдём список `order_id` из __*orders*__ со статусом **delivered** и отфильтруем по нему __*order_items*__."
   ]
  },
  {
   "cell_type": "code",
   "execution_count": 18,
   "metadata": {},
   "outputs": [
    {
     "data": {
      "text/html": [
       "<div>\n",
       "<style scoped>\n",
       "    .dataframe tbody tr th:only-of-type {\n",
       "        vertical-align: middle;\n",
       "    }\n",
       "\n",
       "    .dataframe tbody tr th {\n",
       "        vertical-align: top;\n",
       "    }\n",
       "\n",
       "    .dataframe thead th {\n",
       "        text-align: right;\n",
       "    }\n",
       "</style>\n",
       "<table border=\"1\" class=\"dataframe\">\n",
       "  <thead>\n",
       "    <tr style=\"text-align: right;\">\n",
       "      <th></th>\n",
       "      <th>order_id</th>\n",
       "      <th>customer_id</th>\n",
       "      <th>order_status</th>\n",
       "      <th>order_purchase_timestamp</th>\n",
       "      <th>order_approved_at</th>\n",
       "      <th>order_delivered_carrier_date</th>\n",
       "      <th>order_delivered_customer_date</th>\n",
       "      <th>order_estimated_delivery_date</th>\n",
       "    </tr>\n",
       "  </thead>\n",
       "  <tbody>\n",
       "    <tr>\n",
       "      <th>5323</th>\n",
       "      <td>e04abd8149ef81b95221e88f6ed9ab6a</td>\n",
       "      <td>2127dc6603ac33544953ef05ec155771</td>\n",
       "      <td>delivered</td>\n",
       "      <td>2017-02-18 14:40:00</td>\n",
       "      <td>NaT</td>\n",
       "      <td>2017-02-23 12:04:47</td>\n",
       "      <td>2017-03-01 13:25:33</td>\n",
       "      <td>2017-03-17</td>\n",
       "    </tr>\n",
       "    <tr>\n",
       "      <th>16567</th>\n",
       "      <td>8a9adc69528e1001fc68dd0aaebbb54a</td>\n",
       "      <td>4c1ccc74e00993733742a3c786dc3c1f</td>\n",
       "      <td>delivered</td>\n",
       "      <td>2017-02-18 12:45:31</td>\n",
       "      <td>NaT</td>\n",
       "      <td>2017-02-23 09:01:52</td>\n",
       "      <td>2017-03-02 10:05:06</td>\n",
       "      <td>2017-03-21</td>\n",
       "    </tr>\n",
       "    <tr>\n",
       "      <th>19031</th>\n",
       "      <td>7013bcfc1c97fe719a7b5e05e61c12db</td>\n",
       "      <td>2941af76d38100e0f8740a374f1a5dc3</td>\n",
       "      <td>delivered</td>\n",
       "      <td>2017-02-18 13:29:47</td>\n",
       "      <td>NaT</td>\n",
       "      <td>2017-02-22 16:25:25</td>\n",
       "      <td>2017-03-01 08:07:38</td>\n",
       "      <td>2017-03-17</td>\n",
       "    </tr>\n",
       "    <tr>\n",
       "      <th>22663</th>\n",
       "      <td>5cf925b116421afa85ee25e99b4c34fb</td>\n",
       "      <td>29c35fc91fc13fb5073c8f30505d860d</td>\n",
       "      <td>delivered</td>\n",
       "      <td>2017-02-18 16:48:35</td>\n",
       "      <td>NaT</td>\n",
       "      <td>2017-02-22 11:23:10</td>\n",
       "      <td>2017-03-09 07:28:47</td>\n",
       "      <td>2017-03-31</td>\n",
       "    </tr>\n",
       "    <tr>\n",
       "      <th>23156</th>\n",
       "      <td>12a95a3c06dbaec84bcfb0e2da5d228a</td>\n",
       "      <td>1e101e0daffaddce8159d25a8e53f2b2</td>\n",
       "      <td>delivered</td>\n",
       "      <td>2017-02-17 13:05:55</td>\n",
       "      <td>NaT</td>\n",
       "      <td>2017-02-22 11:23:11</td>\n",
       "      <td>2017-03-02 11:09:19</td>\n",
       "      <td>2017-03-20</td>\n",
       "    </tr>\n",
       "    <tr>\n",
       "      <th>26800</th>\n",
       "      <td>c1d4211b3dae76144deccd6c74144a88</td>\n",
       "      <td>684cb238dc5b5d6366244e0e0776b450</td>\n",
       "      <td>delivered</td>\n",
       "      <td>2017-01-19 12:48:08</td>\n",
       "      <td>NaT</td>\n",
       "      <td>2017-01-25 14:56:50</td>\n",
       "      <td>2017-01-30 18:16:01</td>\n",
       "      <td>2017-03-01</td>\n",
       "    </tr>\n",
       "    <tr>\n",
       "      <th>38290</th>\n",
       "      <td>d69e5d356402adc8cf17e08b5033acfb</td>\n",
       "      <td>68d081753ad4fe22fc4d410a9eb1ca01</td>\n",
       "      <td>delivered</td>\n",
       "      <td>2017-02-19 01:28:47</td>\n",
       "      <td>NaT</td>\n",
       "      <td>2017-02-23 03:11:48</td>\n",
       "      <td>2017-03-02 03:41:58</td>\n",
       "      <td>2017-03-27</td>\n",
       "    </tr>\n",
       "    <tr>\n",
       "      <th>39334</th>\n",
       "      <td>d77031d6a3c8a52f019764e68f211c69</td>\n",
       "      <td>0bf35cac6cc7327065da879e2d90fae8</td>\n",
       "      <td>delivered</td>\n",
       "      <td>2017-02-18 11:04:19</td>\n",
       "      <td>NaT</td>\n",
       "      <td>2017-02-23 07:23:36</td>\n",
       "      <td>2017-03-02 16:15:23</td>\n",
       "      <td>2017-03-22</td>\n",
       "    </tr>\n",
       "    <tr>\n",
       "      <th>48401</th>\n",
       "      <td>7002a78c79c519ac54022d4f8a65e6e8</td>\n",
       "      <td>d5de688c321096d15508faae67a27051</td>\n",
       "      <td>delivered</td>\n",
       "      <td>2017-01-19 22:26:59</td>\n",
       "      <td>NaT</td>\n",
       "      <td>2017-01-27 11:08:05</td>\n",
       "      <td>2017-02-06 14:22:19</td>\n",
       "      <td>2017-03-16</td>\n",
       "    </tr>\n",
       "    <tr>\n",
       "      <th>61743</th>\n",
       "      <td>2eecb0d85f281280f79fa00f9cec1a95</td>\n",
       "      <td>a3d3c38e58b9d2dfb9207cab690b6310</td>\n",
       "      <td>delivered</td>\n",
       "      <td>2017-02-17 17:21:55</td>\n",
       "      <td>NaT</td>\n",
       "      <td>2017-02-22 11:42:51</td>\n",
       "      <td>2017-03-03 12:16:03</td>\n",
       "      <td>2017-03-20</td>\n",
       "    </tr>\n",
       "    <tr>\n",
       "      <th>63052</th>\n",
       "      <td>51eb2eebd5d76a24625b31c33dd41449</td>\n",
       "      <td>07a2a7e0f63fd8cb757ed77d4245623c</td>\n",
       "      <td>delivered</td>\n",
       "      <td>2017-02-18 15:52:27</td>\n",
       "      <td>NaT</td>\n",
       "      <td>2017-02-23 03:09:14</td>\n",
       "      <td>2017-03-07 13:57:47</td>\n",
       "      <td>2017-03-29</td>\n",
       "    </tr>\n",
       "    <tr>\n",
       "      <th>67697</th>\n",
       "      <td>88083e8f64d95b932164187484d90212</td>\n",
       "      <td>f67cd1a215aae2a1074638bbd35a223a</td>\n",
       "      <td>delivered</td>\n",
       "      <td>2017-02-18 22:49:19</td>\n",
       "      <td>NaT</td>\n",
       "      <td>2017-02-22 11:31:06</td>\n",
       "      <td>2017-03-02 12:06:06</td>\n",
       "      <td>2017-03-21</td>\n",
       "    </tr>\n",
       "    <tr>\n",
       "      <th>72407</th>\n",
       "      <td>3c0b8706b065f9919d0505d3b3343881</td>\n",
       "      <td>d85919cb3c0529589c6fa617f5f43281</td>\n",
       "      <td>delivered</td>\n",
       "      <td>2017-02-17 15:53:27</td>\n",
       "      <td>NaT</td>\n",
       "      <td>2017-02-22 11:31:30</td>\n",
       "      <td>2017-03-03 11:47:47</td>\n",
       "      <td>2017-03-23</td>\n",
       "    </tr>\n",
       "    <tr>\n",
       "      <th>84999</th>\n",
       "      <td>2babbb4b15e6d2dfe95e2de765c97bce</td>\n",
       "      <td>74bebaf46603f9340e3b50c6b086f992</td>\n",
       "      <td>delivered</td>\n",
       "      <td>2017-02-18 17:15:03</td>\n",
       "      <td>NaT</td>\n",
       "      <td>2017-02-22 11:23:11</td>\n",
       "      <td>2017-03-03 18:43:43</td>\n",
       "      <td>2017-03-31</td>\n",
       "    </tr>\n",
       "  </tbody>\n",
       "</table>\n",
       "</div>"
      ],
      "text/plain": [
       "                               order_id                       customer_id  \\\n",
       "5323   e04abd8149ef81b95221e88f6ed9ab6a  2127dc6603ac33544953ef05ec155771   \n",
       "16567  8a9adc69528e1001fc68dd0aaebbb54a  4c1ccc74e00993733742a3c786dc3c1f   \n",
       "19031  7013bcfc1c97fe719a7b5e05e61c12db  2941af76d38100e0f8740a374f1a5dc3   \n",
       "22663  5cf925b116421afa85ee25e99b4c34fb  29c35fc91fc13fb5073c8f30505d860d   \n",
       "23156  12a95a3c06dbaec84bcfb0e2da5d228a  1e101e0daffaddce8159d25a8e53f2b2   \n",
       "26800  c1d4211b3dae76144deccd6c74144a88  684cb238dc5b5d6366244e0e0776b450   \n",
       "38290  d69e5d356402adc8cf17e08b5033acfb  68d081753ad4fe22fc4d410a9eb1ca01   \n",
       "39334  d77031d6a3c8a52f019764e68f211c69  0bf35cac6cc7327065da879e2d90fae8   \n",
       "48401  7002a78c79c519ac54022d4f8a65e6e8  d5de688c321096d15508faae67a27051   \n",
       "61743  2eecb0d85f281280f79fa00f9cec1a95  a3d3c38e58b9d2dfb9207cab690b6310   \n",
       "63052  51eb2eebd5d76a24625b31c33dd41449  07a2a7e0f63fd8cb757ed77d4245623c   \n",
       "67697  88083e8f64d95b932164187484d90212  f67cd1a215aae2a1074638bbd35a223a   \n",
       "72407  3c0b8706b065f9919d0505d3b3343881  d85919cb3c0529589c6fa617f5f43281   \n",
       "84999  2babbb4b15e6d2dfe95e2de765c97bce  74bebaf46603f9340e3b50c6b086f992   \n",
       "\n",
       "      order_status order_purchase_timestamp order_approved_at  \\\n",
       "5323     delivered      2017-02-18 14:40:00               NaT   \n",
       "16567    delivered      2017-02-18 12:45:31               NaT   \n",
       "19031    delivered      2017-02-18 13:29:47               NaT   \n",
       "22663    delivered      2017-02-18 16:48:35               NaT   \n",
       "23156    delivered      2017-02-17 13:05:55               NaT   \n",
       "26800    delivered      2017-01-19 12:48:08               NaT   \n",
       "38290    delivered      2017-02-19 01:28:47               NaT   \n",
       "39334    delivered      2017-02-18 11:04:19               NaT   \n",
       "48401    delivered      2017-01-19 22:26:59               NaT   \n",
       "61743    delivered      2017-02-17 17:21:55               NaT   \n",
       "63052    delivered      2017-02-18 15:52:27               NaT   \n",
       "67697    delivered      2017-02-18 22:49:19               NaT   \n",
       "72407    delivered      2017-02-17 15:53:27               NaT   \n",
       "84999    delivered      2017-02-18 17:15:03               NaT   \n",
       "\n",
       "      order_delivered_carrier_date order_delivered_customer_date  \\\n",
       "5323           2017-02-23 12:04:47           2017-03-01 13:25:33   \n",
       "16567          2017-02-23 09:01:52           2017-03-02 10:05:06   \n",
       "19031          2017-02-22 16:25:25           2017-03-01 08:07:38   \n",
       "22663          2017-02-22 11:23:10           2017-03-09 07:28:47   \n",
       "23156          2017-02-22 11:23:11           2017-03-02 11:09:19   \n",
       "26800          2017-01-25 14:56:50           2017-01-30 18:16:01   \n",
       "38290          2017-02-23 03:11:48           2017-03-02 03:41:58   \n",
       "39334          2017-02-23 07:23:36           2017-03-02 16:15:23   \n",
       "48401          2017-01-27 11:08:05           2017-02-06 14:22:19   \n",
       "61743          2017-02-22 11:42:51           2017-03-03 12:16:03   \n",
       "63052          2017-02-23 03:09:14           2017-03-07 13:57:47   \n",
       "67697          2017-02-22 11:31:06           2017-03-02 12:06:06   \n",
       "72407          2017-02-22 11:31:30           2017-03-03 11:47:47   \n",
       "84999          2017-02-22 11:23:11           2017-03-03 18:43:43   \n",
       "\n",
       "      order_estimated_delivery_date  \n",
       "5323                     2017-03-17  \n",
       "16567                    2017-03-21  \n",
       "19031                    2017-03-17  \n",
       "22663                    2017-03-31  \n",
       "23156                    2017-03-20  \n",
       "26800                    2017-03-01  \n",
       "38290                    2017-03-27  \n",
       "39334                    2017-03-22  \n",
       "48401                    2017-03-16  \n",
       "61743                    2017-03-20  \n",
       "63052                    2017-03-29  \n",
       "67697                    2017-03-21  \n",
       "72407                    2017-03-23  \n",
       "84999                    2017-03-31  "
      ]
     },
     "execution_count": 18,
     "metadata": {},
     "output_type": "execute_result"
    }
   ],
   "source": [
    "# отфильтруем orders по пропускам в order_approved_at и order_status == \"delivered\"\n",
    "delivered_not_approved = (\n",
    "    orders\n",
    "        .query('order_approved_at.isna() and order_status == \"delivered\"')\n",
    ")\n",
    "delivered_not_approved"
   ]
  },
  {
   "cell_type": "code",
   "execution_count": 19,
   "metadata": {},
   "outputs": [
    {
     "data": {
      "text/html": [
       "<div>\n",
       "<style scoped>\n",
       "    .dataframe tbody tr th:only-of-type {\n",
       "        vertical-align: middle;\n",
       "    }\n",
       "\n",
       "    .dataframe tbody tr th {\n",
       "        vertical-align: top;\n",
       "    }\n",
       "\n",
       "    .dataframe thead th {\n",
       "        text-align: right;\n",
       "    }\n",
       "</style>\n",
       "<table border=\"1\" class=\"dataframe\">\n",
       "  <thead>\n",
       "    <tr style=\"text-align: right;\">\n",
       "      <th></th>\n",
       "      <th>order_id</th>\n",
       "      <th>order_item_id</th>\n",
       "      <th>product_id</th>\n",
       "      <th>seller_id</th>\n",
       "      <th>shipping_limit_date</th>\n",
       "      <th>price</th>\n",
       "      <th>freight_value</th>\n",
       "    </tr>\n",
       "  </thead>\n",
       "  <tbody>\n",
       "    <tr>\n",
       "      <th>8204</th>\n",
       "      <td>12a95a3c06dbaec84bcfb0e2da5d228a</td>\n",
       "      <td>1</td>\n",
       "      <td>c6dd917a0be2a704582055949915ab32</td>\n",
       "      <td>7a67c85e85bb2ce8582c35f2203ad736</td>\n",
       "      <td>2017-02-21 12:05:55</td>\n",
       "      <td>79.99</td>\n",
       "      <td>15.77</td>\n",
       "    </tr>\n",
       "    <tr>\n",
       "      <th>19005</th>\n",
       "      <td>2babbb4b15e6d2dfe95e2de765c97bce</td>\n",
       "      <td>1</td>\n",
       "      <td>c6dd917a0be2a704582055949915ab32</td>\n",
       "      <td>7a67c85e85bb2ce8582c35f2203ad736</td>\n",
       "      <td>2017-02-22 16:15:03</td>\n",
       "      <td>79.99</td>\n",
       "      <td>26.82</td>\n",
       "    </tr>\n",
       "    <tr>\n",
       "      <th>20473</th>\n",
       "      <td>2eecb0d85f281280f79fa00f9cec1a95</td>\n",
       "      <td>1</td>\n",
       "      <td>4fd676d9c4723d475026e40aeae56957</td>\n",
       "      <td>5fd924b4836098a5be0ecf81ba054ce0</td>\n",
       "      <td>2017-02-21 16:21:55</td>\n",
       "      <td>135.00</td>\n",
       "      <td>19.23</td>\n",
       "    </tr>\n",
       "    <tr>\n",
       "      <th>26393</th>\n",
       "      <td>3c0b8706b065f9919d0505d3b3343881</td>\n",
       "      <td>1</td>\n",
       "      <td>db8ed3d08891d16a2438a67ab3acb740</td>\n",
       "      <td>004c9cd9d87a3c30c522c48c4fc07416</td>\n",
       "      <td>2017-02-22 14:53:27</td>\n",
       "      <td>133.99</td>\n",
       "      <td>23.20</td>\n",
       "    </tr>\n",
       "    <tr>\n",
       "      <th>36128</th>\n",
       "      <td>51eb2eebd5d76a24625b31c33dd41449</td>\n",
       "      <td>1</td>\n",
       "      <td>7868a64aa111bbb4f41f8e1146c0becb</td>\n",
       "      <td>cca3071e3e9bb7d12640c9fbe2301306</td>\n",
       "      <td>2017-02-28 14:52:27</td>\n",
       "      <td>59.90</td>\n",
       "      <td>17.16</td>\n",
       "    </tr>\n",
       "    <tr>\n",
       "      <th>40822</th>\n",
       "      <td>5cf925b116421afa85ee25e99b4c34fb</td>\n",
       "      <td>1</td>\n",
       "      <td>c6dd917a0be2a704582055949915ab32</td>\n",
       "      <td>7a67c85e85bb2ce8582c35f2203ad736</td>\n",
       "      <td>2017-02-22 15:48:35</td>\n",
       "      <td>79.99</td>\n",
       "      <td>26.82</td>\n",
       "    </tr>\n",
       "    <tr>\n",
       "      <th>49309</th>\n",
       "      <td>7002a78c79c519ac54022d4f8a65e6e8</td>\n",
       "      <td>1</td>\n",
       "      <td>c3b271f47e73d0c9ccf1b43b7606c705</td>\n",
       "      <td>cca3071e3e9bb7d12640c9fbe2301306</td>\n",
       "      <td>2017-01-29 22:26:59</td>\n",
       "      <td>45.90</td>\n",
       "      <td>14.52</td>\n",
       "    </tr>\n",
       "    <tr>\n",
       "      <th>49336</th>\n",
       "      <td>7013bcfc1c97fe719a7b5e05e61c12db</td>\n",
       "      <td>1</td>\n",
       "      <td>583916a5dae918f5e89baec139141c54</td>\n",
       "      <td>3481aa57cd91f9f9d3fa1fa12d9a3bf7</td>\n",
       "      <td>2017-02-22 12:29:47</td>\n",
       "      <td>49.99</td>\n",
       "      <td>15.53</td>\n",
       "    </tr>\n",
       "    <tr>\n",
       "      <th>59699</th>\n",
       "      <td>88083e8f64d95b932164187484d90212</td>\n",
       "      <td>1</td>\n",
       "      <td>8c5876b1c7768217964f353bc7e64393</td>\n",
       "      <td>0db783cfcd3b73998abc6e10e59a102f</td>\n",
       "      <td>2017-02-22 21:49:19</td>\n",
       "      <td>49.00</td>\n",
       "      <td>14.52</td>\n",
       "    </tr>\n",
       "    <tr>\n",
       "      <th>59700</th>\n",
       "      <td>88083e8f64d95b932164187484d90212</td>\n",
       "      <td>2</td>\n",
       "      <td>8c5876b1c7768217964f353bc7e64393</td>\n",
       "      <td>0db783cfcd3b73998abc6e10e59a102f</td>\n",
       "      <td>2017-02-22 21:49:19</td>\n",
       "      <td>49.00</td>\n",
       "      <td>14.52</td>\n",
       "    </tr>\n",
       "    <tr>\n",
       "      <th>60815</th>\n",
       "      <td>8a9adc69528e1001fc68dd0aaebbb54a</td>\n",
       "      <td>1</td>\n",
       "      <td>2c2b6a28924791234bd386bddb17512e</td>\n",
       "      <td>a4b6b9b992b46e9ef863637af96e04bc</td>\n",
       "      <td>2017-02-22 11:45:31</td>\n",
       "      <td>379.00</td>\n",
       "      <td>17.86</td>\n",
       "    </tr>\n",
       "    <tr>\n",
       "      <th>85300</th>\n",
       "      <td>c1d4211b3dae76144deccd6c74144a88</td>\n",
       "      <td>1</td>\n",
       "      <td>5ab02ca028398131a5ae91401eb49788</td>\n",
       "      <td>80e6699fe29150b372a0c8a1ebf7dcc8</td>\n",
       "      <td>2017-01-23 12:48:08</td>\n",
       "      <td>39.99</td>\n",
       "      <td>14.52</td>\n",
       "    </tr>\n",
       "    <tr>\n",
       "      <th>94630</th>\n",
       "      <td>d69e5d356402adc8cf17e08b5033acfb</td>\n",
       "      <td>1</td>\n",
       "      <td>cae2e38942c8489d9d7a87a3f525c06b</td>\n",
       "      <td>cca3071e3e9bb7d12640c9fbe2301306</td>\n",
       "      <td>2017-02-26 01:28:47</td>\n",
       "      <td>149.80</td>\n",
       "      <td>13.63</td>\n",
       "    </tr>\n",
       "    <tr>\n",
       "      <th>94999</th>\n",
       "      <td>d77031d6a3c8a52f019764e68f211c69</td>\n",
       "      <td>1</td>\n",
       "      <td>02a79d79e818ad0be36cfc843a6af7ad</td>\n",
       "      <td>cb3dd9ce66268c7a3ca7241ac70ab58c</td>\n",
       "      <td>2017-02-25 10:04:19</td>\n",
       "      <td>28.99</td>\n",
       "      <td>10.96</td>\n",
       "    </tr>\n",
       "    <tr>\n",
       "      <th>98863</th>\n",
       "      <td>e04abd8149ef81b95221e88f6ed9ab6a</td>\n",
       "      <td>1</td>\n",
       "      <td>0e20a07ca1714df21f9b07ca3bf7c682</td>\n",
       "      <td>4e7c18b98d84e05cbae3ff0ff03846c2</td>\n",
       "      <td>2017-02-22 13:40:00</td>\n",
       "      <td>309.90</td>\n",
       "      <td>39.11</td>\n",
       "    </tr>\n",
       "  </tbody>\n",
       "</table>\n",
       "</div>"
      ],
      "text/plain": [
       "                               order_id  order_item_id  \\\n",
       "8204   12a95a3c06dbaec84bcfb0e2da5d228a              1   \n",
       "19005  2babbb4b15e6d2dfe95e2de765c97bce              1   \n",
       "20473  2eecb0d85f281280f79fa00f9cec1a95              1   \n",
       "26393  3c0b8706b065f9919d0505d3b3343881              1   \n",
       "36128  51eb2eebd5d76a24625b31c33dd41449              1   \n",
       "40822  5cf925b116421afa85ee25e99b4c34fb              1   \n",
       "49309  7002a78c79c519ac54022d4f8a65e6e8              1   \n",
       "49336  7013bcfc1c97fe719a7b5e05e61c12db              1   \n",
       "59699  88083e8f64d95b932164187484d90212              1   \n",
       "59700  88083e8f64d95b932164187484d90212              2   \n",
       "60815  8a9adc69528e1001fc68dd0aaebbb54a              1   \n",
       "85300  c1d4211b3dae76144deccd6c74144a88              1   \n",
       "94630  d69e5d356402adc8cf17e08b5033acfb              1   \n",
       "94999  d77031d6a3c8a52f019764e68f211c69              1   \n",
       "98863  e04abd8149ef81b95221e88f6ed9ab6a              1   \n",
       "\n",
       "                             product_id                         seller_id  \\\n",
       "8204   c6dd917a0be2a704582055949915ab32  7a67c85e85bb2ce8582c35f2203ad736   \n",
       "19005  c6dd917a0be2a704582055949915ab32  7a67c85e85bb2ce8582c35f2203ad736   \n",
       "20473  4fd676d9c4723d475026e40aeae56957  5fd924b4836098a5be0ecf81ba054ce0   \n",
       "26393  db8ed3d08891d16a2438a67ab3acb740  004c9cd9d87a3c30c522c48c4fc07416   \n",
       "36128  7868a64aa111bbb4f41f8e1146c0becb  cca3071e3e9bb7d12640c9fbe2301306   \n",
       "40822  c6dd917a0be2a704582055949915ab32  7a67c85e85bb2ce8582c35f2203ad736   \n",
       "49309  c3b271f47e73d0c9ccf1b43b7606c705  cca3071e3e9bb7d12640c9fbe2301306   \n",
       "49336  583916a5dae918f5e89baec139141c54  3481aa57cd91f9f9d3fa1fa12d9a3bf7   \n",
       "59699  8c5876b1c7768217964f353bc7e64393  0db783cfcd3b73998abc6e10e59a102f   \n",
       "59700  8c5876b1c7768217964f353bc7e64393  0db783cfcd3b73998abc6e10e59a102f   \n",
       "60815  2c2b6a28924791234bd386bddb17512e  a4b6b9b992b46e9ef863637af96e04bc   \n",
       "85300  5ab02ca028398131a5ae91401eb49788  80e6699fe29150b372a0c8a1ebf7dcc8   \n",
       "94630  cae2e38942c8489d9d7a87a3f525c06b  cca3071e3e9bb7d12640c9fbe2301306   \n",
       "94999  02a79d79e818ad0be36cfc843a6af7ad  cb3dd9ce66268c7a3ca7241ac70ab58c   \n",
       "98863  0e20a07ca1714df21f9b07ca3bf7c682  4e7c18b98d84e05cbae3ff0ff03846c2   \n",
       "\n",
       "      shipping_limit_date   price  freight_value  \n",
       "8204  2017-02-21 12:05:55   79.99          15.77  \n",
       "19005 2017-02-22 16:15:03   79.99          26.82  \n",
       "20473 2017-02-21 16:21:55  135.00          19.23  \n",
       "26393 2017-02-22 14:53:27  133.99          23.20  \n",
       "36128 2017-02-28 14:52:27   59.90          17.16  \n",
       "40822 2017-02-22 15:48:35   79.99          26.82  \n",
       "49309 2017-01-29 22:26:59   45.90          14.52  \n",
       "49336 2017-02-22 12:29:47   49.99          15.53  \n",
       "59699 2017-02-22 21:49:19   49.00          14.52  \n",
       "59700 2017-02-22 21:49:19   49.00          14.52  \n",
       "60815 2017-02-22 11:45:31  379.00          17.86  \n",
       "85300 2017-01-23 12:48:08   39.99          14.52  \n",
       "94630 2017-02-26 01:28:47  149.80          13.63  \n",
       "94999 2017-02-25 10:04:19   28.99          10.96  \n",
       "98863 2017-02-22 13:40:00  309.90          39.11  "
      ]
     },
     "execution_count": 19,
     "metadata": {},
     "output_type": "execute_result"
    }
   ],
   "source": [
    "# отфильтруем order_items по значениям order_id из предыдущего шага\n",
    "delivered_not_approved_items = (\n",
    "    order_items\n",
    "        .query('order_id in @delivered_not_approved.order_id')\n",
    ")\n",
    "delivered_not_approved_items"
   ]
  },
  {
   "cell_type": "markdown",
   "metadata": {},
   "source": [
    "По всем параметрам это покупки (если не считать возможным подарки, или покупку за бонусы). **Будем считать доставленные заказы без указания даты оплаты покупками.**"
   ]
  },
  {
   "cell_type": "code",
   "execution_count": 20,
   "metadata": {},
   "outputs": [
    {
     "name": "stdout",
     "output_type": "stream",
     "text": [
      "Число строк в delivered_not_approved:       14\n",
      "Число строк в delivered_not_approved_items: 15\n"
     ]
    }
   ],
   "source": [
    "# сравним количество строк отфильтрованных датафрэймов\n",
    "print('Число строк в delivered_not_approved:      ', delivered_not_approved.shape[0])\n",
    "print('Число строк в delivered_not_approved_items:', delivered_not_approved_items.shape[0])"
   ]
  },
  {
   "cell_type": "markdown",
   "metadata": {},
   "source": [
    "Выясним, что это за повторы "
   ]
  },
  {
   "cell_type": "code",
   "execution_count": 21,
   "metadata": {},
   "outputs": [
    {
     "data": {
      "text/html": [
       "<div>\n",
       "<style scoped>\n",
       "    .dataframe tbody tr th:only-of-type {\n",
       "        vertical-align: middle;\n",
       "    }\n",
       "\n",
       "    .dataframe tbody tr th {\n",
       "        vertical-align: top;\n",
       "    }\n",
       "\n",
       "    .dataframe thead th {\n",
       "        text-align: right;\n",
       "    }\n",
       "</style>\n",
       "<table border=\"1\" class=\"dataframe\">\n",
       "  <thead>\n",
       "    <tr style=\"text-align: right;\">\n",
       "      <th></th>\n",
       "      <th>order_id</th>\n",
       "      <th>order_item_id</th>\n",
       "      <th>product_id</th>\n",
       "      <th>seller_id</th>\n",
       "      <th>shipping_limit_date</th>\n",
       "      <th>price</th>\n",
       "      <th>freight_value</th>\n",
       "    </tr>\n",
       "  </thead>\n",
       "  <tbody>\n",
       "    <tr>\n",
       "      <th>59699</th>\n",
       "      <td>88083e8f64d95b932164187484d90212</td>\n",
       "      <td>1</td>\n",
       "      <td>8c5876b1c7768217964f353bc7e64393</td>\n",
       "      <td>0db783cfcd3b73998abc6e10e59a102f</td>\n",
       "      <td>2017-02-22 21:49:19</td>\n",
       "      <td>49.0</td>\n",
       "      <td>14.52</td>\n",
       "    </tr>\n",
       "    <tr>\n",
       "      <th>59700</th>\n",
       "      <td>88083e8f64d95b932164187484d90212</td>\n",
       "      <td>2</td>\n",
       "      <td>8c5876b1c7768217964f353bc7e64393</td>\n",
       "      <td>0db783cfcd3b73998abc6e10e59a102f</td>\n",
       "      <td>2017-02-22 21:49:19</td>\n",
       "      <td>49.0</td>\n",
       "      <td>14.52</td>\n",
       "    </tr>\n",
       "  </tbody>\n",
       "</table>\n",
       "</div>"
      ],
      "text/plain": [
       "                               order_id  order_item_id  \\\n",
       "59699  88083e8f64d95b932164187484d90212              1   \n",
       "59700  88083e8f64d95b932164187484d90212              2   \n",
       "\n",
       "                             product_id                         seller_id  \\\n",
       "59699  8c5876b1c7768217964f353bc7e64393  0db783cfcd3b73998abc6e10e59a102f   \n",
       "59700  8c5876b1c7768217964f353bc7e64393  0db783cfcd3b73998abc6e10e59a102f   \n",
       "\n",
       "      shipping_limit_date  price  freight_value  \n",
       "59699 2017-02-22 21:49:19   49.0          14.52  \n",
       "59700 2017-02-22 21:49:19   49.0          14.52  "
      ]
     },
     "execution_count": 21,
     "metadata": {},
     "output_type": "execute_result"
    }
   ],
   "source": [
    "# найдём повторы order_id\n",
    "order_id_duplicated = (\n",
    "    delivered_not_approved_items\n",
    "        .loc[\n",
    "            delivered_not_approved_items\n",
    "                .duplicated(subset='order_id', keep=False)\n",
    "        ]\n",
    ")\n",
    "order_id_duplicated"
   ]
  },
  {
   "cell_type": "markdown",
   "metadata": {},
   "source": [
    "Совпадает всё, кроме `order_item_id` (идентификатор товара внутри одного заказа). Видимо это 2 одинаковых товара в одном заказе.  \n",
    "Попутно больше узнали о датасете __*olist_order_items_dataset.csv*__ - скорее всего в нём содержатся записи по каждой единице товара разными строками, одинаковые в том числе."
   ]
  },
  {
   "cell_type": "markdown",
   "metadata": {},
   "source": [
    "Выясним, есть ли пропуски в `order_status` датафрэйма __*orders*__"
   ]
  },
  {
   "cell_type": "code",
   "execution_count": 22,
   "metadata": {},
   "outputs": [
    {
     "data": {
      "text/plain": [
       "0"
      ]
     },
     "execution_count": 22,
     "metadata": {},
     "output_type": "execute_result"
    }
   ],
   "source": [
    "(\n",
    "    orders\n",
    "        .order_status\n",
    "        .isna()\n",
    "        .sum()\n",
    ")"
   ]
  },
  {
   "cell_type": "markdown",
   "metadata": {},
   "source": [
    "Какой статус имеют заказы c подтверждением оплаты?"
   ]
  },
  {
   "cell_type": "code",
   "execution_count": 23,
   "metadata": {},
   "outputs": [
    {
     "data": {
      "text/plain": [
       "delivered      96464\n",
       "shipped         1107\n",
       "unavailable      609\n",
       "canceled         484\n",
       "invoiced         314\n",
       "processing       301\n",
       "approved           2\n",
       "Name: order_status, dtype: int64"
      ]
     },
     "execution_count": 23,
     "metadata": {},
     "output_type": "execute_result"
    }
   ],
   "source": [
    "# отберём только те, где order_approved_at без пропусков и посмотрим на значения order_status\n",
    "(\n",
    "    orders[orders.order_approved_at.isna() == False]\n",
    "        .order_status\n",
    "        .value_counts()\n",
    ")"
   ]
  },
  {
   "cell_type": "markdown",
   "metadata": {},
   "source": [
    "Получается все, кроме **'created'**.\n",
    "\n",
    "**'approved'** — подвтверждён и оплачен — **покупка**;  \n",
    "**'invoiced'** — выставлен счёт и оплачен — **покупка**;  \n",
    "**'processing'** — оплачен и собирается — **покупка**;  \n",
    "**'shipped'** — оплачен и отгружен — **покупка**;  \n",
    "**'delivered'** — оплачен и доставлен - **покупка**;  \n",
    "**'unavailable'** — недоступен — скорее всего выполнить заказ не удастся;  \n",
    "**'canceled'** — отменён — нельзя считать покупкой.  "
   ]
  },
  {
   "cell_type": "markdown",
   "metadata": {},
   "source": [
    "В итоге, покупкой будем считать все статусы, кроме:\n",
    "- **'created'** (встречается только в заказах с пропусками оплаты),  \n",
    "- **'unavailable'** (скорее всего выполнить не удастся),   \n",
    "- **'canceled'** (отменён).  \n",
    "\n",
    "Значения в колонке `order_approved_at` учитывать не будем (учтено при выборе допустимых статусов)."
   ]
  },
  {
   "cell_type": "code",
   "execution_count": 24,
   "metadata": {},
   "outputs": [],
   "source": [
    "# список статусов, которые не будем считать покупками\n",
    "no_purchases_statuses = ['created', 'unavailable', 'canceled']"
   ]
  },
  {
   "cell_type": "markdown",
   "metadata": {},
   "source": [
    "### 1. Сколько у нас пользователей, которые совершили покупку только один раз? <a class=\"anchor\" id=\"first-bullet\"></a>"
   ]
  },
  {
   "cell_type": "markdown",
   "metadata": {},
   "source": [
    "Теперь взглянем на датафрэйм __*customers*__. Хочется понять связь между `customer_id` (позаказный идентификатор пользователя) и `customer_unique_id` (уникальный идентификатор пользователя), чтобы решить по какой колонке смотреть покупки пользователей.   \n",
    "Сравним количество уникальных `customer_id` и `order_id` в __*customers*__ и __*orders*__:"
   ]
  },
  {
   "cell_type": "code",
   "execution_count": 25,
   "metadata": {
    "scrolled": false
   },
   "outputs": [
    {
     "name": "stdout",
     "output_type": "stream",
     "text": [
      "orders: количество уникальных значений customer_id:    99441\n",
      "orders: количество уникальных значений order_id:       99441\n",
      "orders: общее количество строк:                        99441\n",
      "customers: количество уникальных значений customer_id: 99441\n",
      "customers: общее количество строк:                     99441\n",
      "customers: количество уникальных customer_unique_id:   96096\n",
      "customers: количество пропусков  customer_unique_id:   0\n"
     ]
    }
   ],
   "source": [
    "print('orders: количество уникальных значений customer_id:   ', orders.customer_id.nunique())\n",
    "print('orders: количество уникальных значений order_id:      ', orders.order_id.nunique())\n",
    "print('orders: общее количество строк:                       ', orders.shape[0])\n",
    "print('customers: количество уникальных значений customer_id:', customers.customer_id.nunique())\n",
    "print('customers: общее количество строк:                    ', customers.shape[0])\n",
    "print('customers: количество уникальных customer_unique_id:  ', customers.customer_unique_id.nunique())\n",
    "print('customers: количество пропусков  customer_unique_id:  ', customers.customer_unique_id.isna().sum())"
   ]
  },
  {
   "cell_type": "markdown",
   "metadata": {},
   "source": [
    "Все `customer_id` в  __*customers*__ и __*orders*__ уникальны, и им соответствуют уникальные `order_id`.  По `customer_id` можно объединить эти датафрэймы. Если количество строк inner join при этом сохранится, значит значения `customer_id` в этих датафрэймах полностью совпадают.  "
   ]
  },
  {
   "cell_type": "markdown",
   "metadata": {},
   "source": [
    "Похоже на то, что на часть `customer_unique_id` приходится по несколько `customer_id`. Убедимся в этом визуально, показав дубликаты `customer_unique_id`. "
   ]
  },
  {
   "cell_type": "code",
   "execution_count": 26,
   "metadata": {
    "scrolled": true
   },
   "outputs": [
    {
     "data": {
      "text/html": [
       "<div>\n",
       "<style scoped>\n",
       "    .dataframe tbody tr th:only-of-type {\n",
       "        vertical-align: middle;\n",
       "    }\n",
       "\n",
       "    .dataframe tbody tr th {\n",
       "        vertical-align: top;\n",
       "    }\n",
       "\n",
       "    .dataframe thead th {\n",
       "        text-align: right;\n",
       "    }\n",
       "</style>\n",
       "<table border=\"1\" class=\"dataframe\">\n",
       "  <thead>\n",
       "    <tr style=\"text-align: right;\">\n",
       "      <th></th>\n",
       "      <th>customer_id</th>\n",
       "      <th>customer_unique_id</th>\n",
       "      <th>customer_zip_code_prefix</th>\n",
       "      <th>customer_city</th>\n",
       "      <th>customer_state</th>\n",
       "    </tr>\n",
       "  </thead>\n",
       "  <tbody>\n",
       "    <tr>\n",
       "      <th>35608</th>\n",
       "      <td>24b0e2bd287e47d54d193e7bbb51103f</td>\n",
       "      <td>00172711b30d52eea8b313a7f2cced02</td>\n",
       "      <td>45200</td>\n",
       "      <td>jequie</td>\n",
       "      <td>BA</td>\n",
       "    </tr>\n",
       "    <tr>\n",
       "      <th>19299</th>\n",
       "      <td>1afe8a9c67eec3516c09a8bdcc539090</td>\n",
       "      <td>00172711b30d52eea8b313a7f2cced02</td>\n",
       "      <td>45200</td>\n",
       "      <td>jequie</td>\n",
       "      <td>BA</td>\n",
       "    </tr>\n",
       "    <tr>\n",
       "      <th>20023</th>\n",
       "      <td>1b4a75b3478138e99902678254b260f4</td>\n",
       "      <td>004288347e5e88a27ded2bb23747066c</td>\n",
       "      <td>26220</td>\n",
       "      <td>nova iguacu</td>\n",
       "      <td>RJ</td>\n",
       "    </tr>\n",
       "    <tr>\n",
       "      <th>22066</th>\n",
       "      <td>f6efe5d5c7b85e12355f9d5c3db46da2</td>\n",
       "      <td>004288347e5e88a27ded2bb23747066c</td>\n",
       "      <td>26220</td>\n",
       "      <td>nova iguacu</td>\n",
       "      <td>RJ</td>\n",
       "    </tr>\n",
       "    <tr>\n",
       "      <th>72451</th>\n",
       "      <td>49cf243e0d353cd418ca77868e24a670</td>\n",
       "      <td>004b45ec5c64187465168251cd1c9c2f</td>\n",
       "      <td>57055</td>\n",
       "      <td>maceio</td>\n",
       "      <td>AL</td>\n",
       "    </tr>\n",
       "  </tbody>\n",
       "</table>\n",
       "</div>"
      ],
      "text/plain": [
       "                            customer_id                customer_unique_id  \\\n",
       "35608  24b0e2bd287e47d54d193e7bbb51103f  00172711b30d52eea8b313a7f2cced02   \n",
       "19299  1afe8a9c67eec3516c09a8bdcc539090  00172711b30d52eea8b313a7f2cced02   \n",
       "20023  1b4a75b3478138e99902678254b260f4  004288347e5e88a27ded2bb23747066c   \n",
       "22066  f6efe5d5c7b85e12355f9d5c3db46da2  004288347e5e88a27ded2bb23747066c   \n",
       "72451  49cf243e0d353cd418ca77868e24a670  004b45ec5c64187465168251cd1c9c2f   \n",
       "\n",
       "       customer_zip_code_prefix customer_city customer_state  \n",
       "35608                     45200        jequie             BA  \n",
       "19299                     45200        jequie             BA  \n",
       "20023                     26220   nova iguacu             RJ  \n",
       "22066                     26220   nova iguacu             RJ  \n",
       "72451                     57055        maceio             AL  "
      ]
     },
     "execution_count": 26,
     "metadata": {},
     "output_type": "execute_result"
    }
   ],
   "source": [
    "(\n",
    "    customers\n",
    "        .loc[customers\n",
    "                .duplicated(keep=False, subset='customer_unique_id')]\n",
    "        .sort_values('customer_unique_id')\n",
    "        .head()\n",
    ")"
   ]
  },
  {
   "cell_type": "markdown",
   "metadata": {},
   "source": [
    "Следовательно при оценке покупок необходимо ориетнироваться на `customer_unique_id`. Для этого объединим датасеты __*customers*__  и __*orders*__ по колонке `customer_id`."
   ]
  },
  {
   "cell_type": "code",
   "execution_count": 27,
   "metadata": {
    "scrolled": false
   },
   "outputs": [
    {
     "data": {
      "text/plain": [
       "(99441, 12)"
      ]
     },
     "execution_count": 27,
     "metadata": {},
     "output_type": "execute_result"
    }
   ],
   "source": [
    "customers_orders_merged = customers.merge(orders, on='customer_id')\n",
    "customers_orders_merged.shape"
   ]
  },
  {
   "cell_type": "markdown",
   "metadata": {},
   "source": [
    "Количество строк у объединённого датафрэйма осталось таким же - значит все значения `customer_id` в обоих датафрэймах полностью совпадают и никакие значения при объединении не потеряны."
   ]
  },
  {
   "cell_type": "code",
   "execution_count": 28,
   "metadata": {},
   "outputs": [
    {
     "data": {
      "text/html": [
       "<div>\n",
       "<style scoped>\n",
       "    .dataframe tbody tr th:only-of-type {\n",
       "        vertical-align: middle;\n",
       "    }\n",
       "\n",
       "    .dataframe tbody tr th {\n",
       "        vertical-align: top;\n",
       "    }\n",
       "\n",
       "    .dataframe thead th {\n",
       "        text-align: right;\n",
       "    }\n",
       "</style>\n",
       "<table border=\"1\" class=\"dataframe\">\n",
       "  <thead>\n",
       "    <tr style=\"text-align: right;\">\n",
       "      <th></th>\n",
       "      <th>customer_id</th>\n",
       "      <th>customer_unique_id</th>\n",
       "      <th>customer_zip_code_prefix</th>\n",
       "      <th>customer_city</th>\n",
       "      <th>customer_state</th>\n",
       "      <th>order_id</th>\n",
       "      <th>order_status</th>\n",
       "      <th>order_purchase_timestamp</th>\n",
       "      <th>order_approved_at</th>\n",
       "      <th>order_delivered_carrier_date</th>\n",
       "      <th>order_delivered_customer_date</th>\n",
       "      <th>order_estimated_delivery_date</th>\n",
       "    </tr>\n",
       "  </thead>\n",
       "  <tbody>\n",
       "    <tr>\n",
       "      <th>0</th>\n",
       "      <td>06b8999e2fba1a1fbc88172c00ba8bc7</td>\n",
       "      <td>861eff4711a542e4b93843c6dd7febb0</td>\n",
       "      <td>14409</td>\n",
       "      <td>franca</td>\n",
       "      <td>SP</td>\n",
       "      <td>00e7ee1b050b8499577073aeb2a297a1</td>\n",
       "      <td>delivered</td>\n",
       "      <td>2017-05-16 15:05:35</td>\n",
       "      <td>2017-05-16 15:22:12</td>\n",
       "      <td>2017-05-23 10:47:57</td>\n",
       "      <td>2017-05-25 10:35:35</td>\n",
       "      <td>2017-06-05</td>\n",
       "    </tr>\n",
       "    <tr>\n",
       "      <th>1</th>\n",
       "      <td>18955e83d337fd6b2def6b18a428ac77</td>\n",
       "      <td>290c77bc529b7ac935b93aa66c333dc3</td>\n",
       "      <td>9790</td>\n",
       "      <td>sao bernardo do campo</td>\n",
       "      <td>SP</td>\n",
       "      <td>29150127e6685892b6eab3eec79f59c7</td>\n",
       "      <td>delivered</td>\n",
       "      <td>2018-01-12 20:48:24</td>\n",
       "      <td>2018-01-12 20:58:32</td>\n",
       "      <td>2018-01-15 17:14:59</td>\n",
       "      <td>2018-01-29 12:41:19</td>\n",
       "      <td>2018-02-06</td>\n",
       "    </tr>\n",
       "    <tr>\n",
       "      <th>2</th>\n",
       "      <td>4e7b3e00288586ebd08712fdd0374a03</td>\n",
       "      <td>060e732b5b29e8181a18229c7b0b2b5e</td>\n",
       "      <td>1151</td>\n",
       "      <td>sao paulo</td>\n",
       "      <td>SP</td>\n",
       "      <td>b2059ed67ce144a36e2aa97d2c9e9ad2</td>\n",
       "      <td>delivered</td>\n",
       "      <td>2018-05-19 16:07:45</td>\n",
       "      <td>2018-05-20 16:19:10</td>\n",
       "      <td>2018-06-11 14:31:00</td>\n",
       "      <td>2018-06-14 17:58:51</td>\n",
       "      <td>2018-06-13</td>\n",
       "    </tr>\n",
       "    <tr>\n",
       "      <th>3</th>\n",
       "      <td>b2b6027bc5c5109e529d4dc6358b12c3</td>\n",
       "      <td>259dac757896d24d7702b9acbbff3f3c</td>\n",
       "      <td>8775</td>\n",
       "      <td>mogi das cruzes</td>\n",
       "      <td>SP</td>\n",
       "      <td>951670f92359f4fe4a63112aa7306eba</td>\n",
       "      <td>delivered</td>\n",
       "      <td>2018-03-13 16:06:38</td>\n",
       "      <td>2018-03-13 17:29:19</td>\n",
       "      <td>2018-03-27 23:22:42</td>\n",
       "      <td>2018-03-28 16:04:25</td>\n",
       "      <td>2018-04-10</td>\n",
       "    </tr>\n",
       "    <tr>\n",
       "      <th>4</th>\n",
       "      <td>4f2d8ab171c80ec8364f7c12e35b23ad</td>\n",
       "      <td>345ecd01c38d18a9036ed96c73b8d066</td>\n",
       "      <td>13056</td>\n",
       "      <td>campinas</td>\n",
       "      <td>SP</td>\n",
       "      <td>6b7d50bd145f6fc7f33cebabd7e49d0f</td>\n",
       "      <td>delivered</td>\n",
       "      <td>2018-07-29 09:51:30</td>\n",
       "      <td>2018-07-29 10:10:09</td>\n",
       "      <td>2018-07-30 15:16:00</td>\n",
       "      <td>2018-08-09 20:55:48</td>\n",
       "      <td>2018-08-15</td>\n",
       "    </tr>\n",
       "  </tbody>\n",
       "</table>\n",
       "</div>"
      ],
      "text/plain": [
       "                        customer_id                customer_unique_id  \\\n",
       "0  06b8999e2fba1a1fbc88172c00ba8bc7  861eff4711a542e4b93843c6dd7febb0   \n",
       "1  18955e83d337fd6b2def6b18a428ac77  290c77bc529b7ac935b93aa66c333dc3   \n",
       "2  4e7b3e00288586ebd08712fdd0374a03  060e732b5b29e8181a18229c7b0b2b5e   \n",
       "3  b2b6027bc5c5109e529d4dc6358b12c3  259dac757896d24d7702b9acbbff3f3c   \n",
       "4  4f2d8ab171c80ec8364f7c12e35b23ad  345ecd01c38d18a9036ed96c73b8d066   \n",
       "\n",
       "   customer_zip_code_prefix          customer_city customer_state  \\\n",
       "0                     14409                 franca             SP   \n",
       "1                      9790  sao bernardo do campo             SP   \n",
       "2                      1151              sao paulo             SP   \n",
       "3                      8775        mogi das cruzes             SP   \n",
       "4                     13056               campinas             SP   \n",
       "\n",
       "                           order_id order_status order_purchase_timestamp  \\\n",
       "0  00e7ee1b050b8499577073aeb2a297a1    delivered      2017-05-16 15:05:35   \n",
       "1  29150127e6685892b6eab3eec79f59c7    delivered      2018-01-12 20:48:24   \n",
       "2  b2059ed67ce144a36e2aa97d2c9e9ad2    delivered      2018-05-19 16:07:45   \n",
       "3  951670f92359f4fe4a63112aa7306eba    delivered      2018-03-13 16:06:38   \n",
       "4  6b7d50bd145f6fc7f33cebabd7e49d0f    delivered      2018-07-29 09:51:30   \n",
       "\n",
       "    order_approved_at order_delivered_carrier_date  \\\n",
       "0 2017-05-16 15:22:12          2017-05-23 10:47:57   \n",
       "1 2018-01-12 20:58:32          2018-01-15 17:14:59   \n",
       "2 2018-05-20 16:19:10          2018-06-11 14:31:00   \n",
       "3 2018-03-13 17:29:19          2018-03-27 23:22:42   \n",
       "4 2018-07-29 10:10:09          2018-07-30 15:16:00   \n",
       "\n",
       "  order_delivered_customer_date order_estimated_delivery_date  \n",
       "0           2017-05-25 10:35:35                    2017-06-05  \n",
       "1           2018-01-29 12:41:19                    2018-02-06  \n",
       "2           2018-06-14 17:58:51                    2018-06-13  \n",
       "3           2018-03-28 16:04:25                    2018-04-10  \n",
       "4           2018-08-09 20:55:48                    2018-08-15  "
      ]
     },
     "execution_count": 28,
     "metadata": {},
     "output_type": "execute_result"
    }
   ],
   "source": [
    "customers_orders_merged.head()"
   ]
  },
  {
   "cell_type": "markdown",
   "metadata": {},
   "source": [
    "### Число пользователей, совершивших покупку только один раз:"
   ]
  },
  {
   "cell_type": "code",
   "execution_count": 29,
   "metadata": {},
   "outputs": [
    {
     "data": {
      "text/plain": [
       "92099"
      ]
     },
     "execution_count": 29,
     "metadata": {},
     "output_type": "execute_result"
    }
   ],
   "source": [
    "(\n",
    "    customers_orders_merged\n",
    "        .query('order_status not in @no_purchases_statuses')  # убираем строки со статусами-непокупками\n",
    "        .groupby('customer_unique_id', as_index=False)        # группируем по customer_unique_id\n",
    "        .agg({'customer_id': 'count'})                        # подсчитываем количество покупок на каждого уник. пользователя\n",
    "        .query('customer_id == 1')                            # отбираем тех, у кого количество покупок = 1\n",
    "        .shape[0]\n",
    ")"
   ]
  },
  {
   "cell_type": "markdown",
   "metadata": {},
   "source": [
    "### Какой заказ считать недоставленным?"
   ]
  },
  {
   "cell_type": "markdown",
   "metadata": {},
   "source": [
    "Здесь напрашиваются два варианта:\n",
    "1. Всё, что имеет статус отличный от **delivered**;\n",
    "2. Отсутствует дата доставки.  \n",
    "\n",
    "Проверим как согласуются колонки со статусом и временем доставки."
   ]
  },
  {
   "cell_type": "code",
   "execution_count": 30,
   "metadata": {
    "scrolled": true
   },
   "outputs": [
    {
     "data": {
      "text/plain": [
       "delivered    96470\n",
       "canceled         6\n",
       "Name: order_status, dtype: int64"
      ]
     },
     "execution_count": 30,
     "metadata": {},
     "output_type": "execute_result"
    }
   ],
   "source": [
    "# уникальные значения статуса среди непропущенных \n",
    "# значений order_delivered_customer_date в orders\n",
    "(\n",
    "    orders\n",
    "        .query('order_delivered_customer_date.isna() == False')\n",
    "        .order_status\n",
    "        .value_counts()\n",
    ")"
   ]
  },
  {
   "cell_type": "markdown",
   "metadata": {},
   "source": [
    "Выходит, что 6 заказов, имеющих дату доставки имеют статус \"отменён\""
   ]
  },
  {
   "cell_type": "code",
   "execution_count": 31,
   "metadata": {},
   "outputs": [
    {
     "data": {
      "text/html": [
       "<div>\n",
       "<style scoped>\n",
       "    .dataframe tbody tr th:only-of-type {\n",
       "        vertical-align: middle;\n",
       "    }\n",
       "\n",
       "    .dataframe tbody tr th {\n",
       "        vertical-align: top;\n",
       "    }\n",
       "\n",
       "    .dataframe thead th {\n",
       "        text-align: right;\n",
       "    }\n",
       "</style>\n",
       "<table border=\"1\" class=\"dataframe\">\n",
       "  <thead>\n",
       "    <tr style=\"text-align: right;\">\n",
       "      <th></th>\n",
       "      <th>order_id</th>\n",
       "      <th>customer_id</th>\n",
       "      <th>order_status</th>\n",
       "      <th>order_purchase_timestamp</th>\n",
       "      <th>order_approved_at</th>\n",
       "      <th>order_delivered_carrier_date</th>\n",
       "      <th>order_delivered_customer_date</th>\n",
       "      <th>order_estimated_delivery_date</th>\n",
       "    </tr>\n",
       "  </thead>\n",
       "  <tbody>\n",
       "    <tr>\n",
       "      <th>2921</th>\n",
       "      <td>1950d777989f6a877539f53795b4c3c3</td>\n",
       "      <td>1bccb206de9f0f25adc6871a1bcf77b2</td>\n",
       "      <td>canceled</td>\n",
       "      <td>2018-02-19 19:48:52</td>\n",
       "      <td>2018-02-19 20:56:05</td>\n",
       "      <td>2018-02-20 19:57:13</td>\n",
       "      <td>2018-03-21 22:03:51</td>\n",
       "      <td>2018-03-09</td>\n",
       "    </tr>\n",
       "    <tr>\n",
       "      <th>8791</th>\n",
       "      <td>dabf2b0e35b423f94618bf965fcb7514</td>\n",
       "      <td>5cdec0bb8cbdf53ffc8fdc212cd247c6</td>\n",
       "      <td>canceled</td>\n",
       "      <td>2016-10-09 00:56:52</td>\n",
       "      <td>2016-10-09 13:36:58</td>\n",
       "      <td>2016-10-13 13:36:59</td>\n",
       "      <td>2016-10-16 14:36:59</td>\n",
       "      <td>2016-11-30</td>\n",
       "    </tr>\n",
       "    <tr>\n",
       "      <th>58266</th>\n",
       "      <td>770d331c84e5b214bd9dc70a10b829d0</td>\n",
       "      <td>6c57e6119369185e575b36712766b0ef</td>\n",
       "      <td>canceled</td>\n",
       "      <td>2016-10-07 14:52:30</td>\n",
       "      <td>2016-10-07 15:07:10</td>\n",
       "      <td>2016-10-11 15:07:11</td>\n",
       "      <td>2016-10-14 15:07:11</td>\n",
       "      <td>2016-11-29</td>\n",
       "    </tr>\n",
       "    <tr>\n",
       "      <th>59332</th>\n",
       "      <td>8beb59392e21af5eb9547ae1a9938d06</td>\n",
       "      <td>bf609b5741f71697f65ce3852c5d2623</td>\n",
       "      <td>canceled</td>\n",
       "      <td>2016-10-08 20:17:50</td>\n",
       "      <td>2016-10-09 14:34:30</td>\n",
       "      <td>2016-10-14 22:45:26</td>\n",
       "      <td>2016-10-19 18:47:43</td>\n",
       "      <td>2016-11-30</td>\n",
       "    </tr>\n",
       "    <tr>\n",
       "      <th>92636</th>\n",
       "      <td>65d1e226dfaeb8cdc42f665422522d14</td>\n",
       "      <td>70fc57eeae292675927697fe03ad3ff5</td>\n",
       "      <td>canceled</td>\n",
       "      <td>2016-10-03 21:01:41</td>\n",
       "      <td>2016-10-04 10:18:57</td>\n",
       "      <td>2016-10-25 12:14:28</td>\n",
       "      <td>2016-11-08 10:58:34</td>\n",
       "      <td>2016-11-25</td>\n",
       "    </tr>\n",
       "    <tr>\n",
       "      <th>94399</th>\n",
       "      <td>2c45c33d2f9cb8ff8b1c86cc28c11c30</td>\n",
       "      <td>de4caa97afa80c8eeac2ff4c8da5b72e</td>\n",
       "      <td>canceled</td>\n",
       "      <td>2016-10-09 15:39:56</td>\n",
       "      <td>2016-10-10 10:40:49</td>\n",
       "      <td>2016-10-14 10:40:50</td>\n",
       "      <td>2016-11-09 14:53:50</td>\n",
       "      <td>2016-12-08</td>\n",
       "    </tr>\n",
       "  </tbody>\n",
       "</table>\n",
       "</div>"
      ],
      "text/plain": [
       "                               order_id                       customer_id  \\\n",
       "2921   1950d777989f6a877539f53795b4c3c3  1bccb206de9f0f25adc6871a1bcf77b2   \n",
       "8791   dabf2b0e35b423f94618bf965fcb7514  5cdec0bb8cbdf53ffc8fdc212cd247c6   \n",
       "58266  770d331c84e5b214bd9dc70a10b829d0  6c57e6119369185e575b36712766b0ef   \n",
       "59332  8beb59392e21af5eb9547ae1a9938d06  bf609b5741f71697f65ce3852c5d2623   \n",
       "92636  65d1e226dfaeb8cdc42f665422522d14  70fc57eeae292675927697fe03ad3ff5   \n",
       "94399  2c45c33d2f9cb8ff8b1c86cc28c11c30  de4caa97afa80c8eeac2ff4c8da5b72e   \n",
       "\n",
       "      order_status order_purchase_timestamp   order_approved_at  \\\n",
       "2921      canceled      2018-02-19 19:48:52 2018-02-19 20:56:05   \n",
       "8791      canceled      2016-10-09 00:56:52 2016-10-09 13:36:58   \n",
       "58266     canceled      2016-10-07 14:52:30 2016-10-07 15:07:10   \n",
       "59332     canceled      2016-10-08 20:17:50 2016-10-09 14:34:30   \n",
       "92636     canceled      2016-10-03 21:01:41 2016-10-04 10:18:57   \n",
       "94399     canceled      2016-10-09 15:39:56 2016-10-10 10:40:49   \n",
       "\n",
       "      order_delivered_carrier_date order_delivered_customer_date  \\\n",
       "2921           2018-02-20 19:57:13           2018-03-21 22:03:51   \n",
       "8791           2016-10-13 13:36:59           2016-10-16 14:36:59   \n",
       "58266          2016-10-11 15:07:11           2016-10-14 15:07:11   \n",
       "59332          2016-10-14 22:45:26           2016-10-19 18:47:43   \n",
       "92636          2016-10-25 12:14:28           2016-11-08 10:58:34   \n",
       "94399          2016-10-14 10:40:50           2016-11-09 14:53:50   \n",
       "\n",
       "      order_estimated_delivery_date  \n",
       "2921                     2018-03-09  \n",
       "8791                     2016-11-30  \n",
       "58266                    2016-11-29  \n",
       "59332                    2016-11-30  \n",
       "92636                    2016-11-25  \n",
       "94399                    2016-12-08  "
      ]
     },
     "execution_count": 31,
     "metadata": {},
     "output_type": "execute_result"
    }
   ],
   "source": [
    "# отменённые заказы с датой доставки клиенту\n",
    "(\n",
    "    orders\n",
    "        .query('order_delivered_customer_date.isna() == False and order_status == \"canceled\"')\n",
    ")"
   ]
  },
  {
   "cell_type": "markdown",
   "metadata": {},
   "source": [
    "А отменены они, потому что время доставки превысило обещанное."
   ]
  },
  {
   "cell_type": "code",
   "execution_count": 32,
   "metadata": {},
   "outputs": [
    {
     "data": {
      "text/plain": [
       "shipped        1107\n",
       "canceled        619\n",
       "unavailable     609\n",
       "invoiced        314\n",
       "processing      301\n",
       "delivered         8\n",
       "created           5\n",
       "approved          2\n",
       "Name: order_status, dtype: int64"
      ]
     },
     "execution_count": 32,
     "metadata": {},
     "output_type": "execute_result"
    }
   ],
   "source": [
    "# значения order_status при пропущенных датах доставки в orders\n",
    "(\n",
    "    orders\n",
    "        .query('order_delivered_customer_date.isna() == True')\n",
    "        .order_status\n",
    "        .value_counts()\n",
    ")"
   ]
  },
  {
   "cell_type": "markdown",
   "metadata": {},
   "source": [
    "Отсюда видно, что 8 заказов со статусом \"доставлено\" не имеют дат доставки клиенту. Посмотрим на них."
   ]
  },
  {
   "cell_type": "code",
   "execution_count": 33,
   "metadata": {},
   "outputs": [
    {
     "data": {
      "text/html": [
       "<div>\n",
       "<style scoped>\n",
       "    .dataframe tbody tr th:only-of-type {\n",
       "        vertical-align: middle;\n",
       "    }\n",
       "\n",
       "    .dataframe tbody tr th {\n",
       "        vertical-align: top;\n",
       "    }\n",
       "\n",
       "    .dataframe thead th {\n",
       "        text-align: right;\n",
       "    }\n",
       "</style>\n",
       "<table border=\"1\" class=\"dataframe\">\n",
       "  <thead>\n",
       "    <tr style=\"text-align: right;\">\n",
       "      <th></th>\n",
       "      <th>order_id</th>\n",
       "      <th>customer_id</th>\n",
       "      <th>order_status</th>\n",
       "      <th>order_purchase_timestamp</th>\n",
       "      <th>order_approved_at</th>\n",
       "      <th>order_delivered_carrier_date</th>\n",
       "      <th>order_delivered_customer_date</th>\n",
       "      <th>order_estimated_delivery_date</th>\n",
       "    </tr>\n",
       "  </thead>\n",
       "  <tbody>\n",
       "    <tr>\n",
       "      <th>3002</th>\n",
       "      <td>2d1e2d5bf4dc7227b3bfebb81328c15f</td>\n",
       "      <td>ec05a6d8558c6455f0cbbd8a420ad34f</td>\n",
       "      <td>delivered</td>\n",
       "      <td>2017-11-28 17:44:07</td>\n",
       "      <td>2017-11-28 17:56:40</td>\n",
       "      <td>2017-11-30 18:12:23</td>\n",
       "      <td>NaT</td>\n",
       "      <td>2017-12-18</td>\n",
       "    </tr>\n",
       "    <tr>\n",
       "      <th>20618</th>\n",
       "      <td>f5dd62b788049ad9fc0526e3ad11a097</td>\n",
       "      <td>5e89028e024b381dc84a13a3570decb4</td>\n",
       "      <td>delivered</td>\n",
       "      <td>2018-06-20 06:58:43</td>\n",
       "      <td>2018-06-20 07:19:05</td>\n",
       "      <td>2018-06-25 08:05:00</td>\n",
       "      <td>NaT</td>\n",
       "      <td>2018-07-16</td>\n",
       "    </tr>\n",
       "    <tr>\n",
       "      <th>43834</th>\n",
       "      <td>2ebdfc4f15f23b91474edf87475f108e</td>\n",
       "      <td>29f0540231702fda0cfdee0a310f11aa</td>\n",
       "      <td>delivered</td>\n",
       "      <td>2018-07-01 17:05:11</td>\n",
       "      <td>2018-07-01 17:15:12</td>\n",
       "      <td>2018-07-03 13:57:00</td>\n",
       "      <td>NaT</td>\n",
       "      <td>2018-07-30</td>\n",
       "    </tr>\n",
       "    <tr>\n",
       "      <th>79263</th>\n",
       "      <td>e69f75a717d64fc5ecdfae42b2e8e086</td>\n",
       "      <td>cfda40ca8dd0a5d486a9635b611b398a</td>\n",
       "      <td>delivered</td>\n",
       "      <td>2018-07-01 22:05:55</td>\n",
       "      <td>2018-07-01 22:15:14</td>\n",
       "      <td>2018-07-03 13:57:00</td>\n",
       "      <td>NaT</td>\n",
       "      <td>2018-07-30</td>\n",
       "    </tr>\n",
       "    <tr>\n",
       "      <th>82868</th>\n",
       "      <td>0d3268bad9b086af767785e3f0fc0133</td>\n",
       "      <td>4f1d63d35fb7c8999853b2699f5c7649</td>\n",
       "      <td>delivered</td>\n",
       "      <td>2018-07-01 21:14:02</td>\n",
       "      <td>2018-07-01 21:29:54</td>\n",
       "      <td>2018-07-03 09:28:00</td>\n",
       "      <td>NaT</td>\n",
       "      <td>2018-07-24</td>\n",
       "    </tr>\n",
       "    <tr>\n",
       "      <th>92643</th>\n",
       "      <td>2d858f451373b04fb5c984a1cc2defaf</td>\n",
       "      <td>e08caf668d499a6d643dafd7c5cc498a</td>\n",
       "      <td>delivered</td>\n",
       "      <td>2017-05-25 23:22:43</td>\n",
       "      <td>2017-05-25 23:30:16</td>\n",
       "      <td>NaT</td>\n",
       "      <td>NaT</td>\n",
       "      <td>2017-06-23</td>\n",
       "    </tr>\n",
       "    <tr>\n",
       "      <th>97647</th>\n",
       "      <td>ab7c89dc1bf4a1ead9d6ec1ec8968a84</td>\n",
       "      <td>dd1b84a7286eb4524d52af4256c0ba24</td>\n",
       "      <td>delivered</td>\n",
       "      <td>2018-06-08 12:09:39</td>\n",
       "      <td>2018-06-08 12:36:39</td>\n",
       "      <td>2018-06-12 14:10:00</td>\n",
       "      <td>NaT</td>\n",
       "      <td>2018-06-26</td>\n",
       "    </tr>\n",
       "    <tr>\n",
       "      <th>98038</th>\n",
       "      <td>20edc82cf5400ce95e1afacc25798b31</td>\n",
       "      <td>28c37425f1127d887d7337f284080a0f</td>\n",
       "      <td>delivered</td>\n",
       "      <td>2018-06-27 16:09:12</td>\n",
       "      <td>2018-06-27 16:29:30</td>\n",
       "      <td>2018-07-03 19:26:00</td>\n",
       "      <td>NaT</td>\n",
       "      <td>2018-07-19</td>\n",
       "    </tr>\n",
       "  </tbody>\n",
       "</table>\n",
       "</div>"
      ],
      "text/plain": [
       "                               order_id                       customer_id  \\\n",
       "3002   2d1e2d5bf4dc7227b3bfebb81328c15f  ec05a6d8558c6455f0cbbd8a420ad34f   \n",
       "20618  f5dd62b788049ad9fc0526e3ad11a097  5e89028e024b381dc84a13a3570decb4   \n",
       "43834  2ebdfc4f15f23b91474edf87475f108e  29f0540231702fda0cfdee0a310f11aa   \n",
       "79263  e69f75a717d64fc5ecdfae42b2e8e086  cfda40ca8dd0a5d486a9635b611b398a   \n",
       "82868  0d3268bad9b086af767785e3f0fc0133  4f1d63d35fb7c8999853b2699f5c7649   \n",
       "92643  2d858f451373b04fb5c984a1cc2defaf  e08caf668d499a6d643dafd7c5cc498a   \n",
       "97647  ab7c89dc1bf4a1ead9d6ec1ec8968a84  dd1b84a7286eb4524d52af4256c0ba24   \n",
       "98038  20edc82cf5400ce95e1afacc25798b31  28c37425f1127d887d7337f284080a0f   \n",
       "\n",
       "      order_status order_purchase_timestamp   order_approved_at  \\\n",
       "3002     delivered      2017-11-28 17:44:07 2017-11-28 17:56:40   \n",
       "20618    delivered      2018-06-20 06:58:43 2018-06-20 07:19:05   \n",
       "43834    delivered      2018-07-01 17:05:11 2018-07-01 17:15:12   \n",
       "79263    delivered      2018-07-01 22:05:55 2018-07-01 22:15:14   \n",
       "82868    delivered      2018-07-01 21:14:02 2018-07-01 21:29:54   \n",
       "92643    delivered      2017-05-25 23:22:43 2017-05-25 23:30:16   \n",
       "97647    delivered      2018-06-08 12:09:39 2018-06-08 12:36:39   \n",
       "98038    delivered      2018-06-27 16:09:12 2018-06-27 16:29:30   \n",
       "\n",
       "      order_delivered_carrier_date order_delivered_customer_date  \\\n",
       "3002           2017-11-30 18:12:23                           NaT   \n",
       "20618          2018-06-25 08:05:00                           NaT   \n",
       "43834          2018-07-03 13:57:00                           NaT   \n",
       "79263          2018-07-03 13:57:00                           NaT   \n",
       "82868          2018-07-03 09:28:00                           NaT   \n",
       "92643                          NaT                           NaT   \n",
       "97647          2018-06-12 14:10:00                           NaT   \n",
       "98038          2018-07-03 19:26:00                           NaT   \n",
       "\n",
       "      order_estimated_delivery_date  \n",
       "3002                     2017-12-18  \n",
       "20618                    2018-07-16  \n",
       "43834                    2018-07-30  \n",
       "79263                    2018-07-30  \n",
       "82868                    2018-07-24  \n",
       "92643                    2017-06-23  \n",
       "97647                    2018-06-26  \n",
       "98038                    2018-07-19  "
      ]
     },
     "execution_count": 33,
     "metadata": {},
     "output_type": "execute_result"
    }
   ],
   "source": [
    "# orders с пропущенными датами достаки, при этом имеющие статус \"доставлен\"\n",
    "(\n",
    "    orders\n",
    "        .query('order_delivered_customer_date.isna() == True and order_status == \"delivered\"')\n",
    ")"
   ]
  },
  {
   "cell_type": "markdown",
   "metadata": {},
   "source": [
    "Здесь не наблюдается каких-то закономерностей, в силу неизвестных нам причин заказы одновременно имеют статус **delivered** и пропущенные значения `order_delivered_customer_date`.  \n",
    "Остановимся на версии №1: **всё, что имеет статус отличный от delivered будем считать недоставленным**."
   ]
  },
  {
   "cell_type": "markdown",
   "metadata": {},
   "source": [
    "### 2. Сколько заказов в месяц в среднем не доставляется по разным причинам? <a class=\"anchor\" id=\"second-bullet\"></a>"
   ]
  },
  {
   "cell_type": "code",
   "execution_count": 34,
   "metadata": {},
   "outputs": [],
   "source": [
    "# датафрэйм с не доставленными заказами\n",
    "not_delivered_orders = (\n",
    "    orders\n",
    "        .copy()\n",
    "        .query('order_status != \"delivered\"')\n",
    ")"
   ]
  },
  {
   "cell_type": "code",
   "execution_count": 35,
   "metadata": {},
   "outputs": [
    {
     "data": {
      "text/plain": [
       "shipped        1107\n",
       "canceled        625\n",
       "unavailable     609\n",
       "invoiced        314\n",
       "processing      301\n",
       "created           5\n",
       "approved          2\n",
       "Name: order_status, dtype: int64"
      ]
     },
     "execution_count": 35,
     "metadata": {},
     "output_type": "execute_result"
    }
   ],
   "source": [
    "# статусы недоставленных и их количество\n",
    "(\n",
    "    not_delivered_orders\n",
    "        .order_status\n",
    "        .value_counts()\n",
    ")"
   ]
  },
  {
   "cell_type": "code",
   "execution_count": 36,
   "metadata": {},
   "outputs": [],
   "source": [
    "# добавим колонку содержащую только год и месяц на основе order_estimated_delivery_date\n",
    "not_delivered_orders['year_month_estimated'] = (\n",
    "    not_delivered_orders\n",
    "        .order_estimated_delivery_date\n",
    "        .dt\n",
    "        .strftime(\"%Y-%m\")\n",
    ")"
   ]
  },
  {
   "cell_type": "markdown",
   "metadata": {},
   "source": [
    "Количество недоставленных заказов по месяцам"
   ]
  },
  {
   "cell_type": "code",
   "execution_count": 37,
   "metadata": {},
   "outputs": [
    {
     "data": {
      "text/html": [
       "<div>\n",
       "<style scoped>\n",
       "    .dataframe tbody tr th:only-of-type {\n",
       "        vertical-align: middle;\n",
       "    }\n",
       "\n",
       "    .dataframe tbody tr th {\n",
       "        vertical-align: top;\n",
       "    }\n",
       "\n",
       "    .dataframe thead th {\n",
       "        text-align: right;\n",
       "    }\n",
       "</style>\n",
       "<table border=\"1\" class=\"dataframe\">\n",
       "  <thead>\n",
       "    <tr style=\"text-align: right;\">\n",
       "      <th></th>\n",
       "      <th>year_month_estimated</th>\n",
       "      <th>order_status</th>\n",
       "      <th>undelivered</th>\n",
       "    </tr>\n",
       "  </thead>\n",
       "  <tbody>\n",
       "    <tr>\n",
       "      <th>0</th>\n",
       "      <td>2016-09</td>\n",
       "      <td>canceled</td>\n",
       "      <td>1</td>\n",
       "    </tr>\n",
       "    <tr>\n",
       "      <th>1</th>\n",
       "      <td>2016-10</td>\n",
       "      <td>canceled</td>\n",
       "      <td>3</td>\n",
       "    </tr>\n",
       "    <tr>\n",
       "      <th>2</th>\n",
       "      <td>2016-10</td>\n",
       "      <td>shipped</td>\n",
       "      <td>1</td>\n",
       "    </tr>\n",
       "    <tr>\n",
       "      <th>3</th>\n",
       "      <td>2016-11</td>\n",
       "      <td>canceled</td>\n",
       "      <td>14</td>\n",
       "    </tr>\n",
       "    <tr>\n",
       "      <th>4</th>\n",
       "      <td>2016-11</td>\n",
       "      <td>invoiced</td>\n",
       "      <td>9</td>\n",
       "    </tr>\n",
       "  </tbody>\n",
       "</table>\n",
       "</div>"
      ],
      "text/plain": [
       "  year_month_estimated order_status  undelivered\n",
       "0              2016-09     canceled            1\n",
       "1              2016-10     canceled            3\n",
       "2              2016-10      shipped            1\n",
       "3              2016-11     canceled           14\n",
       "4              2016-11     invoiced            9"
      ]
     },
     "execution_count": 37,
     "metadata": {},
     "output_type": "execute_result"
    }
   ],
   "source": [
    "# сгруппируем по колонке \"year_month_estimated\" и статусу заказа, чтобы посчитать количество недоставленных\n",
    "undelivered_by_month = (\n",
    "    not_delivered_orders\n",
    "        .groupby(['year_month_estimated', 'order_status'], as_index=False)\n",
    "        .agg({'order_id': 'count'})\n",
    "        .rename(columns={'order_id': 'undelivered'})\n",
    ")\n",
    "undelivered_by_month.head()"
   ]
  },
  {
   "cell_type": "code",
   "execution_count": 38,
   "metadata": {},
   "outputs": [
    {
     "data": {
      "text/plain": [
       "25.765217391304347"
      ]
     },
     "execution_count": 38,
     "metadata": {},
     "output_type": "execute_result"
    }
   ],
   "source": [
    "# среднее количество недоставленных заказов в месяц\n",
    "undelivered_by_month.undelivered.mean()"
   ]
  },
  {
   "cell_type": "markdown",
   "metadata": {},
   "source": [
    "Посчитаем среднее количество недоставленных заказов в месяц по каждму статусу"
   ]
  },
  {
   "cell_type": "code",
   "execution_count": 39,
   "metadata": {},
   "outputs": [],
   "source": [
    "# среднее количество недоставленных заказов по месяцам\n",
    "mean_by_month_df = pd.DataFrame()\n",
    "\n",
    "for status in undelivered_by_month \\\n",
    "                                .order_status \\\n",
    "                                .unique():\n",
    "    temp_df = pd.DataFrame(                                                          \n",
    "        [[status, \n",
    "          undelivered_by_month\n",
    "                  .query('order_status == @status')\n",
    "                  .undelivered\n",
    "                  .mean()]], \n",
    "                columns=['order_status', 'mean_by_month']\n",
    "                          )\n",
    "    mean_by_month_df = pd.concat([mean_by_month_df, temp_df])\n",
    "\n",
    "mean_by_month_df.sort_values('mean_by_month', inplace=True, ascending=False)\n",
    "mean_by_month_df = mean_by_month_df.reset_index(drop=True)"
   ]
  },
  {
   "cell_type": "markdown",
   "metadata": {},
   "source": [
    "### Среднее количество недоставленных заказов в месяц по каждому статусу:"
   ]
  },
  {
   "cell_type": "code",
   "execution_count": 40,
   "metadata": {},
   "outputs": [
    {
     "data": {
      "text/html": [
       "<div>\n",
       "<style scoped>\n",
       "    .dataframe tbody tr th:only-of-type {\n",
       "        vertical-align: middle;\n",
       "    }\n",
       "\n",
       "    .dataframe tbody tr th {\n",
       "        vertical-align: top;\n",
       "    }\n",
       "\n",
       "    .dataframe thead th {\n",
       "        text-align: right;\n",
       "    }\n",
       "</style>\n",
       "<table border=\"1\" class=\"dataframe\">\n",
       "  <thead>\n",
       "    <tr style=\"text-align: right;\">\n",
       "      <th></th>\n",
       "      <th>order_status</th>\n",
       "      <th>mean_by_month</th>\n",
       "    </tr>\n",
       "  </thead>\n",
       "  <tbody>\n",
       "    <tr>\n",
       "      <th>0</th>\n",
       "      <td>shipped</td>\n",
       "      <td>48.130435</td>\n",
       "    </tr>\n",
       "    <tr>\n",
       "      <th>1</th>\n",
       "      <td>unavailable</td>\n",
       "      <td>29.000000</td>\n",
       "    </tr>\n",
       "    <tr>\n",
       "      <th>2</th>\n",
       "      <td>canceled</td>\n",
       "      <td>24.038462</td>\n",
       "    </tr>\n",
       "    <tr>\n",
       "      <th>3</th>\n",
       "      <td>processing</td>\n",
       "      <td>15.842105</td>\n",
       "    </tr>\n",
       "    <tr>\n",
       "      <th>4</th>\n",
       "      <td>invoiced</td>\n",
       "      <td>14.952381</td>\n",
       "    </tr>\n",
       "    <tr>\n",
       "      <th>5</th>\n",
       "      <td>created</td>\n",
       "      <td>1.666667</td>\n",
       "    </tr>\n",
       "    <tr>\n",
       "      <th>6</th>\n",
       "      <td>approved</td>\n",
       "      <td>1.000000</td>\n",
       "    </tr>\n",
       "  </tbody>\n",
       "</table>\n",
       "</div>"
      ],
      "text/plain": [
       "  order_status  mean_by_month\n",
       "0      shipped      48.130435\n",
       "1  unavailable      29.000000\n",
       "2     canceled      24.038462\n",
       "3   processing      15.842105\n",
       "4     invoiced      14.952381\n",
       "5      created       1.666667\n",
       "6     approved       1.000000"
      ]
     },
     "execution_count": 40,
     "metadata": {},
     "output_type": "execute_result"
    }
   ],
   "source": [
    "mean_by_month_df"
   ]
  },
  {
   "cell_type": "markdown",
   "metadata": {},
   "source": [
    "Лидирует в списке статус **shipped**. Сравним для них дату передачи в логистическую службу с обещаной датой доставки."
   ]
  },
  {
   "cell_type": "code",
   "execution_count": 41,
   "metadata": {},
   "outputs": [],
   "source": [
    "# недоставленные со статусом shipped\n",
    "shipped = (\n",
    "    not_delivered_orders\n",
    "        .copy()\n",
    "        .query('order_status == \"shipped\"')\n",
    ")"
   ]
  },
  {
   "cell_type": "code",
   "execution_count": 42,
   "metadata": {},
   "outputs": [],
   "source": [
    "# разница во времени обещаной датой доставки и датой передачи в логистическую службу\n",
    "shipped['delta_time'] = (\n",
    "    shipped\n",
    "        .order_estimated_delivery_date\n",
    "            .sub(shipped\n",
    "                 .order_delivered_carrier_date)\n",
    ")"
   ]
  },
  {
   "cell_type": "code",
   "execution_count": 43,
   "metadata": {},
   "outputs": [
    {
     "data": {
      "text/html": [
       "<div>\n",
       "<style scoped>\n",
       "    .dataframe tbody tr th:only-of-type {\n",
       "        vertical-align: middle;\n",
       "    }\n",
       "\n",
       "    .dataframe tbody tr th {\n",
       "        vertical-align: top;\n",
       "    }\n",
       "\n",
       "    .dataframe thead th {\n",
       "        text-align: right;\n",
       "    }\n",
       "</style>\n",
       "<table border=\"1\" class=\"dataframe\">\n",
       "  <thead>\n",
       "    <tr style=\"text-align: right;\">\n",
       "      <th></th>\n",
       "      <th>order_id</th>\n",
       "      <th>customer_id</th>\n",
       "      <th>order_status</th>\n",
       "      <th>order_purchase_timestamp</th>\n",
       "      <th>order_approved_at</th>\n",
       "      <th>order_delivered_carrier_date</th>\n",
       "      <th>order_delivered_customer_date</th>\n",
       "      <th>order_estimated_delivery_date</th>\n",
       "      <th>year_month_estimated</th>\n",
       "      <th>delta_time</th>\n",
       "    </tr>\n",
       "  </thead>\n",
       "  <tbody>\n",
       "    <tr>\n",
       "      <th>6997</th>\n",
       "      <td>1b76802b72eb5517c97481ee2f7b7037</td>\n",
       "      <td>85ac32af92e4e38adeaeb0653a085dfd</td>\n",
       "      <td>shipped</td>\n",
       "      <td>2017-02-08 08:48:43</td>\n",
       "      <td>2017-02-08 08:55:11</td>\n",
       "      <td>2017-03-14 11:00:52</td>\n",
       "      <td>NaT</td>\n",
       "      <td>2017-03-10</td>\n",
       "      <td>2017-03</td>\n",
       "      <td>-5 days +12:59:08</td>\n",
       "    </tr>\n",
       "    <tr>\n",
       "      <th>8813</th>\n",
       "      <td>cb503219f1a73d8a4dfe8561be373c99</td>\n",
       "      <td>921822ed81e9c094d7908db16164a270</td>\n",
       "      <td>shipped</td>\n",
       "      <td>2017-11-25 11:22:09</td>\n",
       "      <td>2017-11-25 11:35:20</td>\n",
       "      <td>2018-01-04 21:41:39</td>\n",
       "      <td>NaT</td>\n",
       "      <td>2017-12-21</td>\n",
       "      <td>2017-12</td>\n",
       "      <td>-15 days +02:18:21</td>\n",
       "    </tr>\n",
       "    <tr>\n",
       "      <th>19637</th>\n",
       "      <td>c108072ab31ec90a754129c171577f5f</td>\n",
       "      <td>a979b3cbd898fd8be91a290a667fd0d4</td>\n",
       "      <td>shipped</td>\n",
       "      <td>2017-10-16 21:13:03</td>\n",
       "      <td>2017-10-16 21:28:13</td>\n",
       "      <td>2017-10-26 20:40:20</td>\n",
       "      <td>NaT</td>\n",
       "      <td>2017-10-26</td>\n",
       "      <td>2017-10</td>\n",
       "      <td>-1 days +03:19:40</td>\n",
       "    </tr>\n",
       "    <tr>\n",
       "      <th>22143</th>\n",
       "      <td>38541d08d4eb7d571b5b80cb6ca9be03</td>\n",
       "      <td>937682b4176cf634c443714be31b5ca7</td>\n",
       "      <td>shipped</td>\n",
       "      <td>2017-11-24 21:36:30</td>\n",
       "      <td>2017-11-25 01:31:42</td>\n",
       "      <td>2018-01-04 21:07:51</td>\n",
       "      <td>NaT</td>\n",
       "      <td>2017-12-20</td>\n",
       "      <td>2017-12</td>\n",
       "      <td>-16 days +02:52:09</td>\n",
       "    </tr>\n",
       "    <tr>\n",
       "      <th>40266</th>\n",
       "      <td>19802314932831a78e4f0e3dead30f83</td>\n",
       "      <td>cc825baf36814fe3b4354455ef9a2335</td>\n",
       "      <td>shipped</td>\n",
       "      <td>2017-11-20 11:46:03</td>\n",
       "      <td>2017-11-20 12:10:25</td>\n",
       "      <td>2017-12-14 21:35:17</td>\n",
       "      <td>NaT</td>\n",
       "      <td>2017-12-13</td>\n",
       "      <td>2017-12</td>\n",
       "      <td>-2 days +02:24:43</td>\n",
       "    </tr>\n",
       "    <tr>\n",
       "      <th>55472</th>\n",
       "      <td>dd0e00343af091774fc1399707418777</td>\n",
       "      <td>fa4cd2e67f0e9eb36f86d4b1413b059d</td>\n",
       "      <td>shipped</td>\n",
       "      <td>2017-03-06 19:54:12</td>\n",
       "      <td>2017-03-07 04:25:28</td>\n",
       "      <td>2017-04-03 14:32:54</td>\n",
       "      <td>NaT</td>\n",
       "      <td>2017-03-29</td>\n",
       "      <td>2017-03</td>\n",
       "      <td>-6 days +09:27:06</td>\n",
       "    </tr>\n",
       "    <tr>\n",
       "      <th>66818</th>\n",
       "      <td>18c89078cd21364b7ad7f4d652e0cb84</td>\n",
       "      <td>2d86160611127e9ccc6c5e70ea08f065</td>\n",
       "      <td>shipped</td>\n",
       "      <td>2017-10-17 17:16:34</td>\n",
       "      <td>2017-10-17 17:46:06</td>\n",
       "      <td>2017-11-01 22:07:45</td>\n",
       "      <td>NaT</td>\n",
       "      <td>2017-10-27</td>\n",
       "      <td>2017-10</td>\n",
       "      <td>-6 days +01:52:15</td>\n",
       "    </tr>\n",
       "    <tr>\n",
       "      <th>78402</th>\n",
       "      <td>28bc8f33c194dd4f636717ef490d0921</td>\n",
       "      <td>64ebc89fe827e44bf4c57f7e22676e12</td>\n",
       "      <td>shipped</td>\n",
       "      <td>2018-02-26 12:08:26</td>\n",
       "      <td>2018-02-27 10:48:37</td>\n",
       "      <td>2018-03-17 00:11:31</td>\n",
       "      <td>NaT</td>\n",
       "      <td>2018-03-12</td>\n",
       "      <td>2018-03</td>\n",
       "      <td>-6 days +23:48:29</td>\n",
       "    </tr>\n",
       "  </tbody>\n",
       "</table>\n",
       "</div>"
      ],
      "text/plain": [
       "                               order_id                       customer_id  \\\n",
       "6997   1b76802b72eb5517c97481ee2f7b7037  85ac32af92e4e38adeaeb0653a085dfd   \n",
       "8813   cb503219f1a73d8a4dfe8561be373c99  921822ed81e9c094d7908db16164a270   \n",
       "19637  c108072ab31ec90a754129c171577f5f  a979b3cbd898fd8be91a290a667fd0d4   \n",
       "22143  38541d08d4eb7d571b5b80cb6ca9be03  937682b4176cf634c443714be31b5ca7   \n",
       "40266  19802314932831a78e4f0e3dead30f83  cc825baf36814fe3b4354455ef9a2335   \n",
       "55472  dd0e00343af091774fc1399707418777  fa4cd2e67f0e9eb36f86d4b1413b059d   \n",
       "66818  18c89078cd21364b7ad7f4d652e0cb84  2d86160611127e9ccc6c5e70ea08f065   \n",
       "78402  28bc8f33c194dd4f636717ef490d0921  64ebc89fe827e44bf4c57f7e22676e12   \n",
       "\n",
       "      order_status order_purchase_timestamp   order_approved_at  \\\n",
       "6997       shipped      2017-02-08 08:48:43 2017-02-08 08:55:11   \n",
       "8813       shipped      2017-11-25 11:22:09 2017-11-25 11:35:20   \n",
       "19637      shipped      2017-10-16 21:13:03 2017-10-16 21:28:13   \n",
       "22143      shipped      2017-11-24 21:36:30 2017-11-25 01:31:42   \n",
       "40266      shipped      2017-11-20 11:46:03 2017-11-20 12:10:25   \n",
       "55472      shipped      2017-03-06 19:54:12 2017-03-07 04:25:28   \n",
       "66818      shipped      2017-10-17 17:16:34 2017-10-17 17:46:06   \n",
       "78402      shipped      2018-02-26 12:08:26 2018-02-27 10:48:37   \n",
       "\n",
       "      order_delivered_carrier_date order_delivered_customer_date  \\\n",
       "6997           2017-03-14 11:00:52                           NaT   \n",
       "8813           2018-01-04 21:41:39                           NaT   \n",
       "19637          2017-10-26 20:40:20                           NaT   \n",
       "22143          2018-01-04 21:07:51                           NaT   \n",
       "40266          2017-12-14 21:35:17                           NaT   \n",
       "55472          2017-04-03 14:32:54                           NaT   \n",
       "66818          2017-11-01 22:07:45                           NaT   \n",
       "78402          2018-03-17 00:11:31                           NaT   \n",
       "\n",
       "      order_estimated_delivery_date year_month_estimated         delta_time  \n",
       "6997                     2017-03-10              2017-03  -5 days +12:59:08  \n",
       "8813                     2017-12-21              2017-12 -15 days +02:18:21  \n",
       "19637                    2017-10-26              2017-10  -1 days +03:19:40  \n",
       "22143                    2017-12-20              2017-12 -16 days +02:52:09  \n",
       "40266                    2017-12-13              2017-12  -2 days +02:24:43  \n",
       "55472                    2017-03-29              2017-03  -6 days +09:27:06  \n",
       "66818                    2017-10-27              2017-10  -6 days +01:52:15  \n",
       "78402                    2018-03-12              2018-03  -6 days +23:48:29  "
      ]
     },
     "execution_count": 43,
     "metadata": {},
     "output_type": "execute_result"
    }
   ],
   "source": [
    "# недоставленные shipped с отрицательной разницей во времени\n",
    "shipped.query('delta_time < @pd.to_timedelta(0)')"
   ]
  },
  {
   "cell_type": "markdown",
   "metadata": {},
   "source": [
    "Как видим, среди **shipped** есть заказы, которые были переданы в логистическую службу уже после срока, отведённого на доставку. Но таких меньшенство."
   ]
  },
  {
   "cell_type": "markdown",
   "metadata": {},
   "source": [
    "### 3. По каждому товару определить, в какой день недели товар чаще всего покупается. <a class=\"anchor\" id=\"third-bullet\"></a>"
   ]
  },
  {
   "cell_type": "markdown",
   "metadata": {},
   "source": [
    "Подробнее взглянем на __*order_items*__"
   ]
  },
  {
   "cell_type": "markdown",
   "metadata": {},
   "source": [
    "#### Сравнение датафрэймов orders и order_items"
   ]
  },
  {
   "cell_type": "markdown",
   "metadata": {},
   "source": [
    "Посмотрим на количество уникальных `order_id` в __*orders*__ и __*order_items*__:"
   ]
  },
  {
   "cell_type": "code",
   "execution_count": 44,
   "metadata": {
    "scrolled": true
   },
   "outputs": [
    {
     "name": "stdout",
     "output_type": "stream",
     "text": [
      "orders: количество уникальных значений order_id:        99441\n",
      "orders: общее количество строк:                         99441\n",
      "order_items: количество уникальных значений order_id:   98666\n",
      "order_items: общее количество строк:                   112650\n"
     ]
    }
   ],
   "source": [
    "print('orders: количество уникальных значений order_id:       ', orders.order_id.nunique())\n",
    "print('orders: общее количество строк:                        ', orders.shape[0])\n",
    "print('order_items: количество уникальных значений order_id:  ', order_items.order_id.nunique())\n",
    "print('order_items: общее количество строк:                  ', order_items.shape[0])"
   ]
  },
  {
   "cell_type": "markdown",
   "metadata": {},
   "source": [
    "Общее количество строк __*order_items*__ больше, чем в __*orders*__ (как мы уже выяснили, на каждый `order_id` может приходиться несколько записей товаров), а уникальных значений `order_id` - меньше.  \n",
    "Взлянем на `order_id`, отсутствующие в __*order_items*__, но присутствующие в __*orders*__:"
   ]
  },
  {
   "cell_type": "code",
   "execution_count": 45,
   "metadata": {},
   "outputs": [],
   "source": [
    "# список order_id, которых нет в order_items\n",
    "droped_order_id_ls = orders.query('order_id not in @order_items.order_id.unique()').order_id\n",
    "\n",
    "# строки с order_id по которым нет данных в order_items\n",
    "droped_order_id = orders.query('order_id in @droped_order_id_ls')"
   ]
  },
  {
   "cell_type": "code",
   "execution_count": 46,
   "metadata": {},
   "outputs": [
    {
     "data": {
      "text/plain": [
       "775"
      ]
     },
     "execution_count": 46,
     "metadata": {},
     "output_type": "execute_result"
    }
   ],
   "source": [
    "# количество пропущеных order_id\n",
    "droped_order_id.shape[0]"
   ]
  },
  {
   "cell_type": "code",
   "execution_count": 47,
   "metadata": {
    "scrolled": true
   },
   "outputs": [
    {
     "data": {
      "text/html": [
       "<div>\n",
       "<style scoped>\n",
       "    .dataframe tbody tr th:only-of-type {\n",
       "        vertical-align: middle;\n",
       "    }\n",
       "\n",
       "    .dataframe tbody tr th {\n",
       "        vertical-align: top;\n",
       "    }\n",
       "\n",
       "    .dataframe thead th {\n",
       "        text-align: right;\n",
       "    }\n",
       "</style>\n",
       "<table border=\"1\" class=\"dataframe\">\n",
       "  <thead>\n",
       "    <tr style=\"text-align: right;\">\n",
       "      <th></th>\n",
       "      <th>order_id</th>\n",
       "      <th>customer_id</th>\n",
       "      <th>order_status</th>\n",
       "      <th>order_purchase_timestamp</th>\n",
       "      <th>order_approved_at</th>\n",
       "      <th>order_delivered_carrier_date</th>\n",
       "      <th>order_delivered_customer_date</th>\n",
       "      <th>order_estimated_delivery_date</th>\n",
       "    </tr>\n",
       "  </thead>\n",
       "  <tbody>\n",
       "    <tr>\n",
       "      <th>266</th>\n",
       "      <td>8e24261a7e58791d10cb1bf9da94df5c</td>\n",
       "      <td>64a254d30eed42cd0e6c36dddb88adf0</td>\n",
       "      <td>unavailable</td>\n",
       "      <td>2017-11-16 15:09:28</td>\n",
       "      <td>2017-11-16 15:26:57</td>\n",
       "      <td>NaT</td>\n",
       "      <td>NaT</td>\n",
       "      <td>2017-12-05</td>\n",
       "    </tr>\n",
       "    <tr>\n",
       "      <th>586</th>\n",
       "      <td>c272bcd21c287498b4883c7512019702</td>\n",
       "      <td>9582c5bbecc65eb568e2c1d839b5cba1</td>\n",
       "      <td>unavailable</td>\n",
       "      <td>2018-01-31 11:31:37</td>\n",
       "      <td>2018-01-31 14:23:50</td>\n",
       "      <td>NaT</td>\n",
       "      <td>NaT</td>\n",
       "      <td>2018-02-16</td>\n",
       "    </tr>\n",
       "    <tr>\n",
       "      <th>687</th>\n",
       "      <td>37553832a3a89c9b2db59701c357ca67</td>\n",
       "      <td>7607cd563696c27ede287e515812d528</td>\n",
       "      <td>unavailable</td>\n",
       "      <td>2017-08-14 17:38:02</td>\n",
       "      <td>2017-08-17 00:15:18</td>\n",
       "      <td>NaT</td>\n",
       "      <td>NaT</td>\n",
       "      <td>2017-09-05</td>\n",
       "    </tr>\n",
       "    <tr>\n",
       "      <th>737</th>\n",
       "      <td>d57e15fb07fd180f06ab3926b39edcd2</td>\n",
       "      <td>470b93b3f1cde85550fc74cd3a476c78</td>\n",
       "      <td>unavailable</td>\n",
       "      <td>2018-01-08 19:39:03</td>\n",
       "      <td>2018-01-09 07:26:08</td>\n",
       "      <td>NaT</td>\n",
       "      <td>NaT</td>\n",
       "      <td>2018-02-06</td>\n",
       "    </tr>\n",
       "    <tr>\n",
       "      <th>1130</th>\n",
       "      <td>00b1cb0320190ca0daa2c88b35206009</td>\n",
       "      <td>3532ba38a3fd242259a514ac2b6ae6b6</td>\n",
       "      <td>canceled</td>\n",
       "      <td>2018-08-28 15:26:39</td>\n",
       "      <td>NaT</td>\n",
       "      <td>NaT</td>\n",
       "      <td>NaT</td>\n",
       "      <td>2018-09-12</td>\n",
       "    </tr>\n",
       "  </tbody>\n",
       "</table>\n",
       "</div>"
      ],
      "text/plain": [
       "                              order_id                       customer_id  \\\n",
       "266   8e24261a7e58791d10cb1bf9da94df5c  64a254d30eed42cd0e6c36dddb88adf0   \n",
       "586   c272bcd21c287498b4883c7512019702  9582c5bbecc65eb568e2c1d839b5cba1   \n",
       "687   37553832a3a89c9b2db59701c357ca67  7607cd563696c27ede287e515812d528   \n",
       "737   d57e15fb07fd180f06ab3926b39edcd2  470b93b3f1cde85550fc74cd3a476c78   \n",
       "1130  00b1cb0320190ca0daa2c88b35206009  3532ba38a3fd242259a514ac2b6ae6b6   \n",
       "\n",
       "     order_status order_purchase_timestamp   order_approved_at  \\\n",
       "266   unavailable      2017-11-16 15:09:28 2017-11-16 15:26:57   \n",
       "586   unavailable      2018-01-31 11:31:37 2018-01-31 14:23:50   \n",
       "687   unavailable      2017-08-14 17:38:02 2017-08-17 00:15:18   \n",
       "737   unavailable      2018-01-08 19:39:03 2018-01-09 07:26:08   \n",
       "1130     canceled      2018-08-28 15:26:39                 NaT   \n",
       "\n",
       "     order_delivered_carrier_date order_delivered_customer_date  \\\n",
       "266                           NaT                           NaT   \n",
       "586                           NaT                           NaT   \n",
       "687                           NaT                           NaT   \n",
       "737                           NaT                           NaT   \n",
       "1130                          NaT                           NaT   \n",
       "\n",
       "     order_estimated_delivery_date  \n",
       "266                     2017-12-05  \n",
       "586                     2018-02-16  \n",
       "687                     2017-09-05  \n",
       "737                     2018-02-06  \n",
       "1130                    2018-09-12  "
      ]
     },
     "execution_count": 47,
     "metadata": {},
     "output_type": "execute_result"
    }
   ],
   "source": [
    "droped_order_id.head()"
   ]
  },
  {
   "cell_type": "markdown",
   "metadata": {},
   "source": [
    "Попытаемся найти закономерности"
   ]
  },
  {
   "cell_type": "code",
   "execution_count": 48,
   "metadata": {
    "scrolled": false
   },
   "outputs": [
    {
     "data": {
      "text/plain": [
       "unavailable    603\n",
       "canceled       164\n",
       "created          5\n",
       "invoiced         2\n",
       "shipped          1\n",
       "Name: order_status, dtype: int64"
      ]
     },
     "execution_count": 48,
     "metadata": {},
     "output_type": "execute_result"
    }
   ],
   "source": [
    "# уникальные значения order_status в строках с пропущенными order_id и их количество\n",
    "droped_order_id.order_status.value_counts()"
   ]
  },
  {
   "cell_type": "code",
   "execution_count": 49,
   "metadata": {},
   "outputs": [
    {
     "data": {
      "text/plain": [
       "609"
      ]
     },
     "execution_count": 49,
     "metadata": {},
     "output_type": "execute_result"
    }
   ],
   "source": [
    "# общее количетсво строк с order_status == \"unavailable\" в orders\n",
    "orders.query('order_status == \"unavailable\"').shape[0]"
   ]
  },
  {
   "cell_type": "code",
   "execution_count": 50,
   "metadata": {},
   "outputs": [
    {
     "data": {
      "text/plain": [
       "625"
      ]
     },
     "execution_count": 50,
     "metadata": {},
     "output_type": "execute_result"
    }
   ],
   "source": [
    "# общее количетсво строк с order_status == \"canceled\" в orders\n",
    "orders.query('order_status == \"canceled\"').shape[0]"
   ]
  },
  {
   "cell_type": "code",
   "execution_count": 51,
   "metadata": {
    "scrolled": true
   },
   "outputs": [
    {
     "data": {
      "text/html": [
       "<div>\n",
       "<style scoped>\n",
       "    .dataframe tbody tr th:only-of-type {\n",
       "        vertical-align: middle;\n",
       "    }\n",
       "\n",
       "    .dataframe tbody tr th {\n",
       "        vertical-align: top;\n",
       "    }\n",
       "\n",
       "    .dataframe thead th {\n",
       "        text-align: right;\n",
       "    }\n",
       "</style>\n",
       "<table border=\"1\" class=\"dataframe\">\n",
       "  <thead>\n",
       "    <tr style=\"text-align: right;\">\n",
       "      <th></th>\n",
       "      <th>order_id</th>\n",
       "      <th>customer_id</th>\n",
       "      <th>order_status</th>\n",
       "      <th>order_purchase_timestamp</th>\n",
       "      <th>order_approved_at</th>\n",
       "      <th>order_delivered_carrier_date</th>\n",
       "      <th>order_delivered_customer_date</th>\n",
       "      <th>order_estimated_delivery_date</th>\n",
       "    </tr>\n",
       "  </thead>\n",
       "  <tbody>\n",
       "    <tr>\n",
       "      <th>7434</th>\n",
       "      <td>b5359909123fa03c50bdb0cfed07f098</td>\n",
       "      <td>438449d4af8980d107bf04571413a8e7</td>\n",
       "      <td>created</td>\n",
       "      <td>2017-12-05 01:07:52</td>\n",
       "      <td>NaT</td>\n",
       "      <td>NaT</td>\n",
       "      <td>NaT</td>\n",
       "      <td>2018-01-11</td>\n",
       "    </tr>\n",
       "    <tr>\n",
       "      <th>9238</th>\n",
       "      <td>dba5062fbda3af4fb6c33b1e040ca38f</td>\n",
       "      <td>964a6df3d9bdf60fe3e7b8bb69ed893a</td>\n",
       "      <td>created</td>\n",
       "      <td>2018-02-09 17:21:04</td>\n",
       "      <td>NaT</td>\n",
       "      <td>NaT</td>\n",
       "      <td>NaT</td>\n",
       "      <td>2018-03-07</td>\n",
       "    </tr>\n",
       "    <tr>\n",
       "      <th>21441</th>\n",
       "      <td>7a4df5d8cff4090e541401a20a22bb80</td>\n",
       "      <td>725e9c75605414b21fd8c8d5a1c2f1d6</td>\n",
       "      <td>created</td>\n",
       "      <td>2017-11-25 11:10:33</td>\n",
       "      <td>NaT</td>\n",
       "      <td>NaT</td>\n",
       "      <td>NaT</td>\n",
       "      <td>2017-12-12</td>\n",
       "    </tr>\n",
       "    <tr>\n",
       "      <th>23254</th>\n",
       "      <td>a68ce1686d536ca72bd2dadc4b8671e5</td>\n",
       "      <td>d7bed5fac093a4136216072abaf599d5</td>\n",
       "      <td>shipped</td>\n",
       "      <td>2016-10-05 01:47:40</td>\n",
       "      <td>2016-10-07 03:11:22</td>\n",
       "      <td>2016-11-07 16:37:37</td>\n",
       "      <td>NaT</td>\n",
       "      <td>2016-12-01</td>\n",
       "    </tr>\n",
       "    <tr>\n",
       "      <th>55086</th>\n",
       "      <td>35de4050331c6c644cddc86f4f2d0d64</td>\n",
       "      <td>4ee64f4bfc542546f422da0aeb462853</td>\n",
       "      <td>created</td>\n",
       "      <td>2017-12-05 01:07:58</td>\n",
       "      <td>NaT</td>\n",
       "      <td>NaT</td>\n",
       "      <td>NaT</td>\n",
       "      <td>2018-01-08</td>\n",
       "    </tr>\n",
       "    <tr>\n",
       "      <th>57591</th>\n",
       "      <td>2ce9683175cdab7d1c95bcbb3e36f478</td>\n",
       "      <td>b2d7ae0415dbbca535b5f7b38056dd1f</td>\n",
       "      <td>invoiced</td>\n",
       "      <td>2016-10-05 21:03:33</td>\n",
       "      <td>2016-10-06 07:46:39</td>\n",
       "      <td>NaT</td>\n",
       "      <td>NaT</td>\n",
       "      <td>2016-11-25</td>\n",
       "    </tr>\n",
       "    <tr>\n",
       "      <th>58958</th>\n",
       "      <td>90ab3e7d52544ec7bc3363c82689965f</td>\n",
       "      <td>7d61b9f4f216052ba664f22e9c504ef1</td>\n",
       "      <td>created</td>\n",
       "      <td>2017-11-06 13:12:34</td>\n",
       "      <td>NaT</td>\n",
       "      <td>NaT</td>\n",
       "      <td>NaT</td>\n",
       "      <td>2017-12-01</td>\n",
       "    </tr>\n",
       "    <tr>\n",
       "      <th>69926</th>\n",
       "      <td>e04f1da1f48bf2bbffcf57b9824f76e1</td>\n",
       "      <td>0d00d77134cae4c58695086ad8d85100</td>\n",
       "      <td>invoiced</td>\n",
       "      <td>2016-10-05 13:22:20</td>\n",
       "      <td>2016-10-06 15:51:38</td>\n",
       "      <td>NaT</td>\n",
       "      <td>NaT</td>\n",
       "      <td>2016-11-29</td>\n",
       "    </tr>\n",
       "  </tbody>\n",
       "</table>\n",
       "</div>"
      ],
      "text/plain": [
       "                               order_id                       customer_id  \\\n",
       "7434   b5359909123fa03c50bdb0cfed07f098  438449d4af8980d107bf04571413a8e7   \n",
       "9238   dba5062fbda3af4fb6c33b1e040ca38f  964a6df3d9bdf60fe3e7b8bb69ed893a   \n",
       "21441  7a4df5d8cff4090e541401a20a22bb80  725e9c75605414b21fd8c8d5a1c2f1d6   \n",
       "23254  a68ce1686d536ca72bd2dadc4b8671e5  d7bed5fac093a4136216072abaf599d5   \n",
       "55086  35de4050331c6c644cddc86f4f2d0d64  4ee64f4bfc542546f422da0aeb462853   \n",
       "57591  2ce9683175cdab7d1c95bcbb3e36f478  b2d7ae0415dbbca535b5f7b38056dd1f   \n",
       "58958  90ab3e7d52544ec7bc3363c82689965f  7d61b9f4f216052ba664f22e9c504ef1   \n",
       "69926  e04f1da1f48bf2bbffcf57b9824f76e1  0d00d77134cae4c58695086ad8d85100   \n",
       "\n",
       "      order_status order_purchase_timestamp   order_approved_at  \\\n",
       "7434       created      2017-12-05 01:07:52                 NaT   \n",
       "9238       created      2018-02-09 17:21:04                 NaT   \n",
       "21441      created      2017-11-25 11:10:33                 NaT   \n",
       "23254      shipped      2016-10-05 01:47:40 2016-10-07 03:11:22   \n",
       "55086      created      2017-12-05 01:07:58                 NaT   \n",
       "57591     invoiced      2016-10-05 21:03:33 2016-10-06 07:46:39   \n",
       "58958      created      2017-11-06 13:12:34                 NaT   \n",
       "69926     invoiced      2016-10-05 13:22:20 2016-10-06 15:51:38   \n",
       "\n",
       "      order_delivered_carrier_date order_delivered_customer_date  \\\n",
       "7434                           NaT                           NaT   \n",
       "9238                           NaT                           NaT   \n",
       "21441                          NaT                           NaT   \n",
       "23254          2016-11-07 16:37:37                           NaT   \n",
       "55086                          NaT                           NaT   \n",
       "57591                          NaT                           NaT   \n",
       "58958                          NaT                           NaT   \n",
       "69926                          NaT                           NaT   \n",
       "\n",
       "      order_estimated_delivery_date  \n",
       "7434                     2018-01-11  \n",
       "9238                     2018-03-07  \n",
       "21441                    2017-12-12  \n",
       "23254                    2016-12-01  \n",
       "55086                    2018-01-08  \n",
       "57591                    2016-11-25  \n",
       "58958                    2017-12-01  \n",
       "69926                    2016-11-29  "
      ]
     },
     "execution_count": 51,
     "metadata": {},
     "output_type": "execute_result"
    }
   ],
   "source": [
    "# строки droped_order_id с order_status \"created\", \"invoiced\" или \"shipped\"\n",
    "(\n",
    "    droped_order_id\n",
    "        .query('order_status in [\"created\", \"invoiced\", \"shipped\"]')\n",
    ")"
   ]
  },
  {
   "cell_type": "code",
   "execution_count": 52,
   "metadata": {},
   "outputs": [
    {
     "data": {
      "text/plain": [
       "order_purchase_timestamp           0\n",
       "order_approved_at                146\n",
       "order_delivered_carrier_date     774\n",
       "order_delivered_customer_date    775\n",
       "order_estimated_delivery_date      0\n",
       "dtype: int64"
      ]
     },
     "execution_count": 52,
     "metadata": {},
     "output_type": "execute_result"
    }
   ],
   "source": [
    "# пропуски в колонках со временем droped_order_id\n",
    "droped_order_id[time_col_ls].isna().sum()"
   ]
  },
  {
   "cell_type": "markdown",
   "metadata": {},
   "source": [
    "Все значения `order_delivered_customer_date` (время доставки заказа) пропущены и во всех значениях `order_status` нет:\n",
    "- **delivered** (доставлен пользователю), \n",
    "- **approved** (подтверждён), \n",
    "- **processing** (в процессе сборки заказа)  \n",
    "\n",
    "Большинство из них либо **unavailable**, либо **canceled**."
   ]
  },
  {
   "cell_type": "code",
   "execution_count": 53,
   "metadata": {},
   "outputs": [
    {
     "data": {
      "text/plain": [
       "2965"
      ]
     },
     "execution_count": 53,
     "metadata": {},
     "output_type": "execute_result"
    }
   ],
   "source": [
    "# всего пропущено order_delivered_customer_date в orders\n",
    "orders.order_delivered_customer_date.isna().sum()"
   ]
  },
  {
   "cell_type": "code",
   "execution_count": 54,
   "metadata": {
    "scrolled": true
   },
   "outputs": [
    {
     "data": {
      "text/plain": [
       "0"
      ]
     },
     "execution_count": 54,
     "metadata": {},
     "output_type": "execute_result"
    }
   ],
   "source": [
    "# всего пропусков order_estimated_delivery_date в orders\n",
    "orders.order_estimated_delivery_date.isna().sum()"
   ]
  },
  {
   "cell_type": "code",
   "execution_count": 55,
   "metadata": {
    "scrolled": true
   },
   "outputs": [
    {
     "data": {
      "text/plain": [
       "0"
      ]
     },
     "execution_count": 55,
     "metadata": {},
     "output_type": "execute_result"
    }
   ],
   "source": [
    "# всего пропусков order_purchase_timestamp в orders\n",
    "orders.order_purchase_timestamp.isna().sum()"
   ]
  },
  {
   "cell_type": "code",
   "execution_count": 56,
   "metadata": {
    "scrolled": true
   },
   "outputs": [
    {
     "name": "stdout",
     "output_type": "stream",
     "text": [
      "Самая ранняя дата order_estimated_delivery_date в orders:           2016-09-30 00:00:00\n",
      "Самая ранняя дата order_estimated_delivery_date в droped_order_id:  2016-09-30 00:00:00\n",
      "Самая поздняя дата order_estimated_delivery_date в orders:          2018-11-12 00:00:00\n",
      "Самая поздняя дата order_estimated_delivery_date в droped_order_id: 2018-11-12 00:00:00\n"
     ]
    }
   ],
   "source": [
    "print('Самая ранняя дата order_estimated_delivery_date в orders:          ', orders.order_estimated_delivery_date.min())\n",
    "print('Самая ранняя дата order_estimated_delivery_date в droped_order_id: ', droped_order_id.order_estimated_delivery_date.min())\n",
    "print('Самая поздняя дата order_estimated_delivery_date в orders:         ',orders.order_estimated_delivery_date.max())\n",
    "print('Самая поздняя дата order_estimated_delivery_date в droped_order_id:', droped_order_id.order_estimated_delivery_date.max())"
   ]
  },
  {
   "cell_type": "markdown",
   "metadata": {},
   "source": [
    "Выясним, имеются ли некупленные товары в **order_items**"
   ]
  },
  {
   "cell_type": "code",
   "execution_count": 57,
   "metadata": {},
   "outputs": [
    {
     "data": {
      "text/plain": [
       "549"
      ]
     },
     "execution_count": 57,
     "metadata": {},
     "output_type": "execute_result"
    }
   ],
   "source": [
    "# order_id некупленных товаров\n",
    "no_purchases_order_id = (\n",
    "    orders\n",
    "        .query('order_status == @no_purchases_statuses')\n",
    "    .order_id\n",
    ")\n",
    "\n",
    "# количетсво строк с заказами в order_items, которые мы не считаем покупками\n",
    "(\n",
    "    order_items\n",
    "        .query('order_id in @no_purchases_order_id')\n",
    "        .shape[0]\n",
    ")"
   ]
  },
  {
   "cell_type": "markdown",
   "metadata": {},
   "source": [
    "**Итак, всё, что можно сказать о отсутствующих строках в __*order_items*__ - это часть недоставленных товаров, большая из которых - недоступна или отменена. Почти все недоступные не попали в __*order_items*__.**.  \n",
    "Также в в __*order_items*__ имеются заказы, которые мы не считаем покупками."
   ]
  },
  {
   "cell_type": "markdown",
   "metadata": {},
   "source": [
    "Объединим все датафрэймы в один"
   ]
  },
  {
   "cell_type": "code",
   "execution_count": 58,
   "metadata": {},
   "outputs": [],
   "source": [
    "total_df = customers_orders_merged.merge(order_items, on='order_id')"
   ]
  },
  {
   "cell_type": "code",
   "execution_count": 59,
   "metadata": {},
   "outputs": [
    {
     "data": {
      "text/plain": [
       "(112650, 18)"
      ]
     },
     "execution_count": 59,
     "metadata": {},
     "output_type": "execute_result"
    }
   ],
   "source": [
    "total_df.shape"
   ]
  },
  {
   "cell_type": "code",
   "execution_count": 60,
   "metadata": {},
   "outputs": [
    {
     "data": {
      "text/plain": [
       "(112650, 7)"
      ]
     },
     "execution_count": 60,
     "metadata": {},
     "output_type": "execute_result"
    }
   ],
   "source": [
    "order_items.shape"
   ]
  },
  {
   "cell_type": "code",
   "execution_count": 61,
   "metadata": {},
   "outputs": [
    {
     "data": {
      "text/html": [
       "<div>\n",
       "<style scoped>\n",
       "    .dataframe tbody tr th:only-of-type {\n",
       "        vertical-align: middle;\n",
       "    }\n",
       "\n",
       "    .dataframe tbody tr th {\n",
       "        vertical-align: top;\n",
       "    }\n",
       "\n",
       "    .dataframe thead th {\n",
       "        text-align: right;\n",
       "    }\n",
       "</style>\n",
       "<table border=\"1\" class=\"dataframe\">\n",
       "  <thead>\n",
       "    <tr style=\"text-align: right;\">\n",
       "      <th></th>\n",
       "      <th>customer_id</th>\n",
       "      <th>customer_unique_id</th>\n",
       "      <th>customer_zip_code_prefix</th>\n",
       "      <th>customer_city</th>\n",
       "      <th>customer_state</th>\n",
       "      <th>order_id</th>\n",
       "      <th>order_status</th>\n",
       "      <th>order_purchase_timestamp</th>\n",
       "      <th>order_approved_at</th>\n",
       "      <th>order_delivered_carrier_date</th>\n",
       "      <th>order_delivered_customer_date</th>\n",
       "      <th>order_estimated_delivery_date</th>\n",
       "      <th>order_item_id</th>\n",
       "      <th>product_id</th>\n",
       "      <th>seller_id</th>\n",
       "      <th>shipping_limit_date</th>\n",
       "      <th>price</th>\n",
       "      <th>freight_value</th>\n",
       "    </tr>\n",
       "  </thead>\n",
       "  <tbody>\n",
       "    <tr>\n",
       "      <th>0</th>\n",
       "      <td>06b8999e2fba1a1fbc88172c00ba8bc7</td>\n",
       "      <td>861eff4711a542e4b93843c6dd7febb0</td>\n",
       "      <td>14409</td>\n",
       "      <td>franca</td>\n",
       "      <td>SP</td>\n",
       "      <td>00e7ee1b050b8499577073aeb2a297a1</td>\n",
       "      <td>delivered</td>\n",
       "      <td>2017-05-16 15:05:35</td>\n",
       "      <td>2017-05-16 15:22:12</td>\n",
       "      <td>2017-05-23 10:47:57</td>\n",
       "      <td>2017-05-25 10:35:35</td>\n",
       "      <td>2017-06-05</td>\n",
       "      <td>1</td>\n",
       "      <td>a9516a079e37a9c9c36b9b78b10169e8</td>\n",
       "      <td>7c67e1448b00f6e969d365cea6b010ab</td>\n",
       "      <td>2017-05-22 15:22:12</td>\n",
       "      <td>124.99</td>\n",
       "      <td>21.88</td>\n",
       "    </tr>\n",
       "    <tr>\n",
       "      <th>1</th>\n",
       "      <td>18955e83d337fd6b2def6b18a428ac77</td>\n",
       "      <td>290c77bc529b7ac935b93aa66c333dc3</td>\n",
       "      <td>9790</td>\n",
       "      <td>sao bernardo do campo</td>\n",
       "      <td>SP</td>\n",
       "      <td>29150127e6685892b6eab3eec79f59c7</td>\n",
       "      <td>delivered</td>\n",
       "      <td>2018-01-12 20:48:24</td>\n",
       "      <td>2018-01-12 20:58:32</td>\n",
       "      <td>2018-01-15 17:14:59</td>\n",
       "      <td>2018-01-29 12:41:19</td>\n",
       "      <td>2018-02-06</td>\n",
       "      <td>1</td>\n",
       "      <td>4aa6014eceb682077f9dc4bffebc05b0</td>\n",
       "      <td>b8bc237ba3788b23da09c0f1f3a3288c</td>\n",
       "      <td>2018-01-18 20:58:32</td>\n",
       "      <td>289.00</td>\n",
       "      <td>46.48</td>\n",
       "    </tr>\n",
       "    <tr>\n",
       "      <th>2</th>\n",
       "      <td>4e7b3e00288586ebd08712fdd0374a03</td>\n",
       "      <td>060e732b5b29e8181a18229c7b0b2b5e</td>\n",
       "      <td>1151</td>\n",
       "      <td>sao paulo</td>\n",
       "      <td>SP</td>\n",
       "      <td>b2059ed67ce144a36e2aa97d2c9e9ad2</td>\n",
       "      <td>delivered</td>\n",
       "      <td>2018-05-19 16:07:45</td>\n",
       "      <td>2018-05-20 16:19:10</td>\n",
       "      <td>2018-06-11 14:31:00</td>\n",
       "      <td>2018-06-14 17:58:51</td>\n",
       "      <td>2018-06-13</td>\n",
       "      <td>1</td>\n",
       "      <td>bd07b66896d6f1494f5b86251848ced7</td>\n",
       "      <td>7c67e1448b00f6e969d365cea6b010ab</td>\n",
       "      <td>2018-06-05 16:19:10</td>\n",
       "      <td>139.94</td>\n",
       "      <td>17.79</td>\n",
       "    </tr>\n",
       "    <tr>\n",
       "      <th>3</th>\n",
       "      <td>b2b6027bc5c5109e529d4dc6358b12c3</td>\n",
       "      <td>259dac757896d24d7702b9acbbff3f3c</td>\n",
       "      <td>8775</td>\n",
       "      <td>mogi das cruzes</td>\n",
       "      <td>SP</td>\n",
       "      <td>951670f92359f4fe4a63112aa7306eba</td>\n",
       "      <td>delivered</td>\n",
       "      <td>2018-03-13 16:06:38</td>\n",
       "      <td>2018-03-13 17:29:19</td>\n",
       "      <td>2018-03-27 23:22:42</td>\n",
       "      <td>2018-03-28 16:04:25</td>\n",
       "      <td>2018-04-10</td>\n",
       "      <td>1</td>\n",
       "      <td>a5647c44af977b148e0a3a4751a09e2e</td>\n",
       "      <td>7c67e1448b00f6e969d365cea6b010ab</td>\n",
       "      <td>2018-03-27 16:31:16</td>\n",
       "      <td>149.94</td>\n",
       "      <td>23.36</td>\n",
       "    </tr>\n",
       "    <tr>\n",
       "      <th>4</th>\n",
       "      <td>4f2d8ab171c80ec8364f7c12e35b23ad</td>\n",
       "      <td>345ecd01c38d18a9036ed96c73b8d066</td>\n",
       "      <td>13056</td>\n",
       "      <td>campinas</td>\n",
       "      <td>SP</td>\n",
       "      <td>6b7d50bd145f6fc7f33cebabd7e49d0f</td>\n",
       "      <td>delivered</td>\n",
       "      <td>2018-07-29 09:51:30</td>\n",
       "      <td>2018-07-29 10:10:09</td>\n",
       "      <td>2018-07-30 15:16:00</td>\n",
       "      <td>2018-08-09 20:55:48</td>\n",
       "      <td>2018-08-15</td>\n",
       "      <td>1</td>\n",
       "      <td>9391a573abe00141c56e38d84d7d5b3b</td>\n",
       "      <td>4a3ca9315b744ce9f8e9374361493884</td>\n",
       "      <td>2018-07-31 10:10:09</td>\n",
       "      <td>230.00</td>\n",
       "      <td>22.25</td>\n",
       "    </tr>\n",
       "  </tbody>\n",
       "</table>\n",
       "</div>"
      ],
      "text/plain": [
       "                        customer_id                customer_unique_id  \\\n",
       "0  06b8999e2fba1a1fbc88172c00ba8bc7  861eff4711a542e4b93843c6dd7febb0   \n",
       "1  18955e83d337fd6b2def6b18a428ac77  290c77bc529b7ac935b93aa66c333dc3   \n",
       "2  4e7b3e00288586ebd08712fdd0374a03  060e732b5b29e8181a18229c7b0b2b5e   \n",
       "3  b2b6027bc5c5109e529d4dc6358b12c3  259dac757896d24d7702b9acbbff3f3c   \n",
       "4  4f2d8ab171c80ec8364f7c12e35b23ad  345ecd01c38d18a9036ed96c73b8d066   \n",
       "\n",
       "   customer_zip_code_prefix          customer_city customer_state  \\\n",
       "0                     14409                 franca             SP   \n",
       "1                      9790  sao bernardo do campo             SP   \n",
       "2                      1151              sao paulo             SP   \n",
       "3                      8775        mogi das cruzes             SP   \n",
       "4                     13056               campinas             SP   \n",
       "\n",
       "                           order_id order_status order_purchase_timestamp  \\\n",
       "0  00e7ee1b050b8499577073aeb2a297a1    delivered      2017-05-16 15:05:35   \n",
       "1  29150127e6685892b6eab3eec79f59c7    delivered      2018-01-12 20:48:24   \n",
       "2  b2059ed67ce144a36e2aa97d2c9e9ad2    delivered      2018-05-19 16:07:45   \n",
       "3  951670f92359f4fe4a63112aa7306eba    delivered      2018-03-13 16:06:38   \n",
       "4  6b7d50bd145f6fc7f33cebabd7e49d0f    delivered      2018-07-29 09:51:30   \n",
       "\n",
       "    order_approved_at order_delivered_carrier_date  \\\n",
       "0 2017-05-16 15:22:12          2017-05-23 10:47:57   \n",
       "1 2018-01-12 20:58:32          2018-01-15 17:14:59   \n",
       "2 2018-05-20 16:19:10          2018-06-11 14:31:00   \n",
       "3 2018-03-13 17:29:19          2018-03-27 23:22:42   \n",
       "4 2018-07-29 10:10:09          2018-07-30 15:16:00   \n",
       "\n",
       "  order_delivered_customer_date order_estimated_delivery_date  order_item_id  \\\n",
       "0           2017-05-25 10:35:35                    2017-06-05              1   \n",
       "1           2018-01-29 12:41:19                    2018-02-06              1   \n",
       "2           2018-06-14 17:58:51                    2018-06-13              1   \n",
       "3           2018-03-28 16:04:25                    2018-04-10              1   \n",
       "4           2018-08-09 20:55:48                    2018-08-15              1   \n",
       "\n",
       "                         product_id                         seller_id  \\\n",
       "0  a9516a079e37a9c9c36b9b78b10169e8  7c67e1448b00f6e969d365cea6b010ab   \n",
       "1  4aa6014eceb682077f9dc4bffebc05b0  b8bc237ba3788b23da09c0f1f3a3288c   \n",
       "2  bd07b66896d6f1494f5b86251848ced7  7c67e1448b00f6e969d365cea6b010ab   \n",
       "3  a5647c44af977b148e0a3a4751a09e2e  7c67e1448b00f6e969d365cea6b010ab   \n",
       "4  9391a573abe00141c56e38d84d7d5b3b  4a3ca9315b744ce9f8e9374361493884   \n",
       "\n",
       "  shipping_limit_date   price  freight_value  \n",
       "0 2017-05-22 15:22:12  124.99          21.88  \n",
       "1 2018-01-18 20:58:32  289.00          46.48  \n",
       "2 2018-06-05 16:19:10  139.94          17.79  \n",
       "3 2018-03-27 16:31:16  149.94          23.36  \n",
       "4 2018-07-31 10:10:09  230.00          22.25  "
      ]
     },
     "execution_count": 61,
     "metadata": {},
     "output_type": "execute_result"
    }
   ],
   "source": [
    "total_df.head()"
   ]
  },
  {
   "cell_type": "markdown",
   "metadata": {},
   "source": [
    "Отберём те строки, что считаются покупками"
   ]
  },
  {
   "cell_type": "code",
   "execution_count": 62,
   "metadata": {},
   "outputs": [
    {
     "data": {
      "text/html": [
       "<div>\n",
       "<style scoped>\n",
       "    .dataframe tbody tr th:only-of-type {\n",
       "        vertical-align: middle;\n",
       "    }\n",
       "\n",
       "    .dataframe tbody tr th {\n",
       "        vertical-align: top;\n",
       "    }\n",
       "\n",
       "    .dataframe thead th {\n",
       "        text-align: right;\n",
       "    }\n",
       "</style>\n",
       "<table border=\"1\" class=\"dataframe\">\n",
       "  <thead>\n",
       "    <tr style=\"text-align: right;\">\n",
       "      <th></th>\n",
       "      <th>customer_id</th>\n",
       "      <th>customer_unique_id</th>\n",
       "      <th>customer_zip_code_prefix</th>\n",
       "      <th>customer_city</th>\n",
       "      <th>customer_state</th>\n",
       "      <th>order_id</th>\n",
       "      <th>order_status</th>\n",
       "      <th>order_purchase_timestamp</th>\n",
       "      <th>order_approved_at</th>\n",
       "      <th>order_delivered_carrier_date</th>\n",
       "      <th>order_delivered_customer_date</th>\n",
       "      <th>order_estimated_delivery_date</th>\n",
       "      <th>order_item_id</th>\n",
       "      <th>product_id</th>\n",
       "      <th>seller_id</th>\n",
       "      <th>shipping_limit_date</th>\n",
       "      <th>price</th>\n",
       "      <th>freight_value</th>\n",
       "    </tr>\n",
       "  </thead>\n",
       "  <tbody>\n",
       "    <tr>\n",
       "      <th>0</th>\n",
       "      <td>06b8999e2fba1a1fbc88172c00ba8bc7</td>\n",
       "      <td>861eff4711a542e4b93843c6dd7febb0</td>\n",
       "      <td>14409</td>\n",
       "      <td>franca</td>\n",
       "      <td>SP</td>\n",
       "      <td>00e7ee1b050b8499577073aeb2a297a1</td>\n",
       "      <td>delivered</td>\n",
       "      <td>2017-05-16 15:05:35</td>\n",
       "      <td>2017-05-16 15:22:12</td>\n",
       "      <td>2017-05-23 10:47:57</td>\n",
       "      <td>2017-05-25 10:35:35</td>\n",
       "      <td>2017-06-05</td>\n",
       "      <td>1</td>\n",
       "      <td>a9516a079e37a9c9c36b9b78b10169e8</td>\n",
       "      <td>7c67e1448b00f6e969d365cea6b010ab</td>\n",
       "      <td>2017-05-22 15:22:12</td>\n",
       "      <td>124.99</td>\n",
       "      <td>21.88</td>\n",
       "    </tr>\n",
       "    <tr>\n",
       "      <th>1</th>\n",
       "      <td>18955e83d337fd6b2def6b18a428ac77</td>\n",
       "      <td>290c77bc529b7ac935b93aa66c333dc3</td>\n",
       "      <td>9790</td>\n",
       "      <td>sao bernardo do campo</td>\n",
       "      <td>SP</td>\n",
       "      <td>29150127e6685892b6eab3eec79f59c7</td>\n",
       "      <td>delivered</td>\n",
       "      <td>2018-01-12 20:48:24</td>\n",
       "      <td>2018-01-12 20:58:32</td>\n",
       "      <td>2018-01-15 17:14:59</td>\n",
       "      <td>2018-01-29 12:41:19</td>\n",
       "      <td>2018-02-06</td>\n",
       "      <td>1</td>\n",
       "      <td>4aa6014eceb682077f9dc4bffebc05b0</td>\n",
       "      <td>b8bc237ba3788b23da09c0f1f3a3288c</td>\n",
       "      <td>2018-01-18 20:58:32</td>\n",
       "      <td>289.00</td>\n",
       "      <td>46.48</td>\n",
       "    </tr>\n",
       "    <tr>\n",
       "      <th>2</th>\n",
       "      <td>4e7b3e00288586ebd08712fdd0374a03</td>\n",
       "      <td>060e732b5b29e8181a18229c7b0b2b5e</td>\n",
       "      <td>1151</td>\n",
       "      <td>sao paulo</td>\n",
       "      <td>SP</td>\n",
       "      <td>b2059ed67ce144a36e2aa97d2c9e9ad2</td>\n",
       "      <td>delivered</td>\n",
       "      <td>2018-05-19 16:07:45</td>\n",
       "      <td>2018-05-20 16:19:10</td>\n",
       "      <td>2018-06-11 14:31:00</td>\n",
       "      <td>2018-06-14 17:58:51</td>\n",
       "      <td>2018-06-13</td>\n",
       "      <td>1</td>\n",
       "      <td>bd07b66896d6f1494f5b86251848ced7</td>\n",
       "      <td>7c67e1448b00f6e969d365cea6b010ab</td>\n",
       "      <td>2018-06-05 16:19:10</td>\n",
       "      <td>139.94</td>\n",
       "      <td>17.79</td>\n",
       "    </tr>\n",
       "    <tr>\n",
       "      <th>3</th>\n",
       "      <td>b2b6027bc5c5109e529d4dc6358b12c3</td>\n",
       "      <td>259dac757896d24d7702b9acbbff3f3c</td>\n",
       "      <td>8775</td>\n",
       "      <td>mogi das cruzes</td>\n",
       "      <td>SP</td>\n",
       "      <td>951670f92359f4fe4a63112aa7306eba</td>\n",
       "      <td>delivered</td>\n",
       "      <td>2018-03-13 16:06:38</td>\n",
       "      <td>2018-03-13 17:29:19</td>\n",
       "      <td>2018-03-27 23:22:42</td>\n",
       "      <td>2018-03-28 16:04:25</td>\n",
       "      <td>2018-04-10</td>\n",
       "      <td>1</td>\n",
       "      <td>a5647c44af977b148e0a3a4751a09e2e</td>\n",
       "      <td>7c67e1448b00f6e969d365cea6b010ab</td>\n",
       "      <td>2018-03-27 16:31:16</td>\n",
       "      <td>149.94</td>\n",
       "      <td>23.36</td>\n",
       "    </tr>\n",
       "    <tr>\n",
       "      <th>4</th>\n",
       "      <td>4f2d8ab171c80ec8364f7c12e35b23ad</td>\n",
       "      <td>345ecd01c38d18a9036ed96c73b8d066</td>\n",
       "      <td>13056</td>\n",
       "      <td>campinas</td>\n",
       "      <td>SP</td>\n",
       "      <td>6b7d50bd145f6fc7f33cebabd7e49d0f</td>\n",
       "      <td>delivered</td>\n",
       "      <td>2018-07-29 09:51:30</td>\n",
       "      <td>2018-07-29 10:10:09</td>\n",
       "      <td>2018-07-30 15:16:00</td>\n",
       "      <td>2018-08-09 20:55:48</td>\n",
       "      <td>2018-08-15</td>\n",
       "      <td>1</td>\n",
       "      <td>9391a573abe00141c56e38d84d7d5b3b</td>\n",
       "      <td>4a3ca9315b744ce9f8e9374361493884</td>\n",
       "      <td>2018-07-31 10:10:09</td>\n",
       "      <td>230.00</td>\n",
       "      <td>22.25</td>\n",
       "    </tr>\n",
       "  </tbody>\n",
       "</table>\n",
       "</div>"
      ],
      "text/plain": [
       "                        customer_id                customer_unique_id  \\\n",
       "0  06b8999e2fba1a1fbc88172c00ba8bc7  861eff4711a542e4b93843c6dd7febb0   \n",
       "1  18955e83d337fd6b2def6b18a428ac77  290c77bc529b7ac935b93aa66c333dc3   \n",
       "2  4e7b3e00288586ebd08712fdd0374a03  060e732b5b29e8181a18229c7b0b2b5e   \n",
       "3  b2b6027bc5c5109e529d4dc6358b12c3  259dac757896d24d7702b9acbbff3f3c   \n",
       "4  4f2d8ab171c80ec8364f7c12e35b23ad  345ecd01c38d18a9036ed96c73b8d066   \n",
       "\n",
       "   customer_zip_code_prefix          customer_city customer_state  \\\n",
       "0                     14409                 franca             SP   \n",
       "1                      9790  sao bernardo do campo             SP   \n",
       "2                      1151              sao paulo             SP   \n",
       "3                      8775        mogi das cruzes             SP   \n",
       "4                     13056               campinas             SP   \n",
       "\n",
       "                           order_id order_status order_purchase_timestamp  \\\n",
       "0  00e7ee1b050b8499577073aeb2a297a1    delivered      2017-05-16 15:05:35   \n",
       "1  29150127e6685892b6eab3eec79f59c7    delivered      2018-01-12 20:48:24   \n",
       "2  b2059ed67ce144a36e2aa97d2c9e9ad2    delivered      2018-05-19 16:07:45   \n",
       "3  951670f92359f4fe4a63112aa7306eba    delivered      2018-03-13 16:06:38   \n",
       "4  6b7d50bd145f6fc7f33cebabd7e49d0f    delivered      2018-07-29 09:51:30   \n",
       "\n",
       "    order_approved_at order_delivered_carrier_date  \\\n",
       "0 2017-05-16 15:22:12          2017-05-23 10:47:57   \n",
       "1 2018-01-12 20:58:32          2018-01-15 17:14:59   \n",
       "2 2018-05-20 16:19:10          2018-06-11 14:31:00   \n",
       "3 2018-03-13 17:29:19          2018-03-27 23:22:42   \n",
       "4 2018-07-29 10:10:09          2018-07-30 15:16:00   \n",
       "\n",
       "  order_delivered_customer_date order_estimated_delivery_date  order_item_id  \\\n",
       "0           2017-05-25 10:35:35                    2017-06-05              1   \n",
       "1           2018-01-29 12:41:19                    2018-02-06              1   \n",
       "2           2018-06-14 17:58:51                    2018-06-13              1   \n",
       "3           2018-03-28 16:04:25                    2018-04-10              1   \n",
       "4           2018-08-09 20:55:48                    2018-08-15              1   \n",
       "\n",
       "                         product_id                         seller_id  \\\n",
       "0  a9516a079e37a9c9c36b9b78b10169e8  7c67e1448b00f6e969d365cea6b010ab   \n",
       "1  4aa6014eceb682077f9dc4bffebc05b0  b8bc237ba3788b23da09c0f1f3a3288c   \n",
       "2  bd07b66896d6f1494f5b86251848ced7  7c67e1448b00f6e969d365cea6b010ab   \n",
       "3  a5647c44af977b148e0a3a4751a09e2e  7c67e1448b00f6e969d365cea6b010ab   \n",
       "4  9391a573abe00141c56e38d84d7d5b3b  4a3ca9315b744ce9f8e9374361493884   \n",
       "\n",
       "  shipping_limit_date   price  freight_value  \n",
       "0 2017-05-22 15:22:12  124.99          21.88  \n",
       "1 2018-01-18 20:58:32  289.00          46.48  \n",
       "2 2018-06-05 16:19:10  139.94          17.79  \n",
       "3 2018-03-27 16:31:16  149.94          23.36  \n",
       "4 2018-07-31 10:10:09  230.00          22.25  "
      ]
     },
     "execution_count": 62,
     "metadata": {},
     "output_type": "execute_result"
    }
   ],
   "source": [
    "purchase_total_df = (\n",
    "    total_df\n",
    "        .copy()\n",
    "        .query('order_status not in @no_purchases_statuses')\n",
    ")\n",
    "purchase_total_df.head()"
   ]
  },
  {
   "cell_type": "code",
   "execution_count": 63,
   "metadata": {},
   "outputs": [
    {
     "data": {
      "text/plain": [
       "15"
      ]
     },
     "execution_count": 63,
     "metadata": {},
     "output_type": "execute_result"
    }
   ],
   "source": [
    "# количество строк с пропущенными датами оплаты в purchase_total_df\n",
    "purchase_total_df.order_approved_at.isna().sum()"
   ]
  },
  {
   "cell_type": "markdown",
   "metadata": {},
   "source": [
    "Что здесь считать днём покупки? На одном из предыдущих шагах было важно понять была ли оплата, это был ключевой момент для определения совершена ли покупка. Здесь же, на мой взгляд, больше подходит дата создания заказа - это момент, когда человек принимает решение купить, оплата - технический момент, который, безусловно, тоже важен, но больше как сам факт."
   ]
  },
  {
   "cell_type": "markdown",
   "metadata": {},
   "source": [
    "Дообавим колонки дней недели на основе `order_purchase_timestamp`."
   ]
  },
  {
   "cell_type": "code",
   "execution_count": 64,
   "metadata": {},
   "outputs": [],
   "source": [
    "# добавляем колонку с днями недели создания заказа\n",
    "purchase_total_df['order_weekday'] = (\n",
    "    purchase_total_df\n",
    "        .copy()\n",
    "        .order_purchase_timestamp\n",
    "        .dt\n",
    "        .day_name()\n",
    ")"
   ]
  },
  {
   "cell_type": "code",
   "execution_count": 65,
   "metadata": {
    "scrolled": true
   },
   "outputs": [
    {
     "data": {
      "text/html": [
       "<div>\n",
       "<style scoped>\n",
       "    .dataframe tbody tr th:only-of-type {\n",
       "        vertical-align: middle;\n",
       "    }\n",
       "\n",
       "    .dataframe tbody tr th {\n",
       "        vertical-align: top;\n",
       "    }\n",
       "\n",
       "    .dataframe thead th {\n",
       "        text-align: right;\n",
       "    }\n",
       "</style>\n",
       "<table border=\"1\" class=\"dataframe\">\n",
       "  <thead>\n",
       "    <tr style=\"text-align: right;\">\n",
       "      <th></th>\n",
       "      <th>customer_id</th>\n",
       "      <th>customer_unique_id</th>\n",
       "      <th>customer_zip_code_prefix</th>\n",
       "      <th>customer_city</th>\n",
       "      <th>customer_state</th>\n",
       "      <th>order_id</th>\n",
       "      <th>order_status</th>\n",
       "      <th>order_purchase_timestamp</th>\n",
       "      <th>order_approved_at</th>\n",
       "      <th>order_delivered_carrier_date</th>\n",
       "      <th>order_delivered_customer_date</th>\n",
       "      <th>order_estimated_delivery_date</th>\n",
       "      <th>order_item_id</th>\n",
       "      <th>product_id</th>\n",
       "      <th>seller_id</th>\n",
       "      <th>shipping_limit_date</th>\n",
       "      <th>price</th>\n",
       "      <th>freight_value</th>\n",
       "      <th>order_weekday</th>\n",
       "    </tr>\n",
       "  </thead>\n",
       "  <tbody>\n",
       "    <tr>\n",
       "      <th>0</th>\n",
       "      <td>06b8999e2fba1a1fbc88172c00ba8bc7</td>\n",
       "      <td>861eff4711a542e4b93843c6dd7febb0</td>\n",
       "      <td>14409</td>\n",
       "      <td>franca</td>\n",
       "      <td>SP</td>\n",
       "      <td>00e7ee1b050b8499577073aeb2a297a1</td>\n",
       "      <td>delivered</td>\n",
       "      <td>2017-05-16 15:05:35</td>\n",
       "      <td>2017-05-16 15:22:12</td>\n",
       "      <td>2017-05-23 10:47:57</td>\n",
       "      <td>2017-05-25 10:35:35</td>\n",
       "      <td>2017-06-05</td>\n",
       "      <td>1</td>\n",
       "      <td>a9516a079e37a9c9c36b9b78b10169e8</td>\n",
       "      <td>7c67e1448b00f6e969d365cea6b010ab</td>\n",
       "      <td>2017-05-22 15:22:12</td>\n",
       "      <td>124.99</td>\n",
       "      <td>21.88</td>\n",
       "      <td>Tuesday</td>\n",
       "    </tr>\n",
       "    <tr>\n",
       "      <th>1</th>\n",
       "      <td>18955e83d337fd6b2def6b18a428ac77</td>\n",
       "      <td>290c77bc529b7ac935b93aa66c333dc3</td>\n",
       "      <td>9790</td>\n",
       "      <td>sao bernardo do campo</td>\n",
       "      <td>SP</td>\n",
       "      <td>29150127e6685892b6eab3eec79f59c7</td>\n",
       "      <td>delivered</td>\n",
       "      <td>2018-01-12 20:48:24</td>\n",
       "      <td>2018-01-12 20:58:32</td>\n",
       "      <td>2018-01-15 17:14:59</td>\n",
       "      <td>2018-01-29 12:41:19</td>\n",
       "      <td>2018-02-06</td>\n",
       "      <td>1</td>\n",
       "      <td>4aa6014eceb682077f9dc4bffebc05b0</td>\n",
       "      <td>b8bc237ba3788b23da09c0f1f3a3288c</td>\n",
       "      <td>2018-01-18 20:58:32</td>\n",
       "      <td>289.00</td>\n",
       "      <td>46.48</td>\n",
       "      <td>Friday</td>\n",
       "    </tr>\n",
       "    <tr>\n",
       "      <th>2</th>\n",
       "      <td>4e7b3e00288586ebd08712fdd0374a03</td>\n",
       "      <td>060e732b5b29e8181a18229c7b0b2b5e</td>\n",
       "      <td>1151</td>\n",
       "      <td>sao paulo</td>\n",
       "      <td>SP</td>\n",
       "      <td>b2059ed67ce144a36e2aa97d2c9e9ad2</td>\n",
       "      <td>delivered</td>\n",
       "      <td>2018-05-19 16:07:45</td>\n",
       "      <td>2018-05-20 16:19:10</td>\n",
       "      <td>2018-06-11 14:31:00</td>\n",
       "      <td>2018-06-14 17:58:51</td>\n",
       "      <td>2018-06-13</td>\n",
       "      <td>1</td>\n",
       "      <td>bd07b66896d6f1494f5b86251848ced7</td>\n",
       "      <td>7c67e1448b00f6e969d365cea6b010ab</td>\n",
       "      <td>2018-06-05 16:19:10</td>\n",
       "      <td>139.94</td>\n",
       "      <td>17.79</td>\n",
       "      <td>Saturday</td>\n",
       "    </tr>\n",
       "    <tr>\n",
       "      <th>3</th>\n",
       "      <td>b2b6027bc5c5109e529d4dc6358b12c3</td>\n",
       "      <td>259dac757896d24d7702b9acbbff3f3c</td>\n",
       "      <td>8775</td>\n",
       "      <td>mogi das cruzes</td>\n",
       "      <td>SP</td>\n",
       "      <td>951670f92359f4fe4a63112aa7306eba</td>\n",
       "      <td>delivered</td>\n",
       "      <td>2018-03-13 16:06:38</td>\n",
       "      <td>2018-03-13 17:29:19</td>\n",
       "      <td>2018-03-27 23:22:42</td>\n",
       "      <td>2018-03-28 16:04:25</td>\n",
       "      <td>2018-04-10</td>\n",
       "      <td>1</td>\n",
       "      <td>a5647c44af977b148e0a3a4751a09e2e</td>\n",
       "      <td>7c67e1448b00f6e969d365cea6b010ab</td>\n",
       "      <td>2018-03-27 16:31:16</td>\n",
       "      <td>149.94</td>\n",
       "      <td>23.36</td>\n",
       "      <td>Tuesday</td>\n",
       "    </tr>\n",
       "    <tr>\n",
       "      <th>4</th>\n",
       "      <td>4f2d8ab171c80ec8364f7c12e35b23ad</td>\n",
       "      <td>345ecd01c38d18a9036ed96c73b8d066</td>\n",
       "      <td>13056</td>\n",
       "      <td>campinas</td>\n",
       "      <td>SP</td>\n",
       "      <td>6b7d50bd145f6fc7f33cebabd7e49d0f</td>\n",
       "      <td>delivered</td>\n",
       "      <td>2018-07-29 09:51:30</td>\n",
       "      <td>2018-07-29 10:10:09</td>\n",
       "      <td>2018-07-30 15:16:00</td>\n",
       "      <td>2018-08-09 20:55:48</td>\n",
       "      <td>2018-08-15</td>\n",
       "      <td>1</td>\n",
       "      <td>9391a573abe00141c56e38d84d7d5b3b</td>\n",
       "      <td>4a3ca9315b744ce9f8e9374361493884</td>\n",
       "      <td>2018-07-31 10:10:09</td>\n",
       "      <td>230.00</td>\n",
       "      <td>22.25</td>\n",
       "      <td>Sunday</td>\n",
       "    </tr>\n",
       "  </tbody>\n",
       "</table>\n",
       "</div>"
      ],
      "text/plain": [
       "                        customer_id                customer_unique_id  \\\n",
       "0  06b8999e2fba1a1fbc88172c00ba8bc7  861eff4711a542e4b93843c6dd7febb0   \n",
       "1  18955e83d337fd6b2def6b18a428ac77  290c77bc529b7ac935b93aa66c333dc3   \n",
       "2  4e7b3e00288586ebd08712fdd0374a03  060e732b5b29e8181a18229c7b0b2b5e   \n",
       "3  b2b6027bc5c5109e529d4dc6358b12c3  259dac757896d24d7702b9acbbff3f3c   \n",
       "4  4f2d8ab171c80ec8364f7c12e35b23ad  345ecd01c38d18a9036ed96c73b8d066   \n",
       "\n",
       "   customer_zip_code_prefix          customer_city customer_state  \\\n",
       "0                     14409                 franca             SP   \n",
       "1                      9790  sao bernardo do campo             SP   \n",
       "2                      1151              sao paulo             SP   \n",
       "3                      8775        mogi das cruzes             SP   \n",
       "4                     13056               campinas             SP   \n",
       "\n",
       "                           order_id order_status order_purchase_timestamp  \\\n",
       "0  00e7ee1b050b8499577073aeb2a297a1    delivered      2017-05-16 15:05:35   \n",
       "1  29150127e6685892b6eab3eec79f59c7    delivered      2018-01-12 20:48:24   \n",
       "2  b2059ed67ce144a36e2aa97d2c9e9ad2    delivered      2018-05-19 16:07:45   \n",
       "3  951670f92359f4fe4a63112aa7306eba    delivered      2018-03-13 16:06:38   \n",
       "4  6b7d50bd145f6fc7f33cebabd7e49d0f    delivered      2018-07-29 09:51:30   \n",
       "\n",
       "    order_approved_at order_delivered_carrier_date  \\\n",
       "0 2017-05-16 15:22:12          2017-05-23 10:47:57   \n",
       "1 2018-01-12 20:58:32          2018-01-15 17:14:59   \n",
       "2 2018-05-20 16:19:10          2018-06-11 14:31:00   \n",
       "3 2018-03-13 17:29:19          2018-03-27 23:22:42   \n",
       "4 2018-07-29 10:10:09          2018-07-30 15:16:00   \n",
       "\n",
       "  order_delivered_customer_date order_estimated_delivery_date  order_item_id  \\\n",
       "0           2017-05-25 10:35:35                    2017-06-05              1   \n",
       "1           2018-01-29 12:41:19                    2018-02-06              1   \n",
       "2           2018-06-14 17:58:51                    2018-06-13              1   \n",
       "3           2018-03-28 16:04:25                    2018-04-10              1   \n",
       "4           2018-08-09 20:55:48                    2018-08-15              1   \n",
       "\n",
       "                         product_id                         seller_id  \\\n",
       "0  a9516a079e37a9c9c36b9b78b10169e8  7c67e1448b00f6e969d365cea6b010ab   \n",
       "1  4aa6014eceb682077f9dc4bffebc05b0  b8bc237ba3788b23da09c0f1f3a3288c   \n",
       "2  bd07b66896d6f1494f5b86251848ced7  7c67e1448b00f6e969d365cea6b010ab   \n",
       "3  a5647c44af977b148e0a3a4751a09e2e  7c67e1448b00f6e969d365cea6b010ab   \n",
       "4  9391a573abe00141c56e38d84d7d5b3b  4a3ca9315b744ce9f8e9374361493884   \n",
       "\n",
       "  shipping_limit_date   price  freight_value order_weekday  \n",
       "0 2017-05-22 15:22:12  124.99          21.88       Tuesday  \n",
       "1 2018-01-18 20:58:32  289.00          46.48        Friday  \n",
       "2 2018-06-05 16:19:10  139.94          17.79      Saturday  \n",
       "3 2018-03-27 16:31:16  149.94          23.36       Tuesday  \n",
       "4 2018-07-31 10:10:09  230.00          22.25        Sunday  "
      ]
     },
     "execution_count": 65,
     "metadata": {},
     "output_type": "execute_result"
    }
   ],
   "source": [
    "purchase_total_df.head()"
   ]
  },
  {
   "cell_type": "markdown",
   "metadata": {},
   "source": [
    "За одну покупку определённого товара будем считать его наличие в заказе не зависимо от количества. Т.е. если в заказе, например, 5 одинаковых товаров - это одна покупка, а не 5."
   ]
  },
  {
   "cell_type": "markdown",
   "metadata": {},
   "source": [
    "Одинаково часто встречающихся дней недели может быть несколько, чтобы это учесть создадим функцию, отбирающую все дни недели, которые встречаются максимально часто и преобразует их в строку."
   ]
  },
  {
   "cell_type": "code",
   "execution_count": 66,
   "metadata": {},
   "outputs": [],
   "source": [
    "# функция собирающая максимально часто встречающиеся дни недели в одну строку\n",
    "def get_weekdays(weekdays):\n",
    "    max_vals = weekdays.value_counts().max()\n",
    "    weekday_list = (weekdays \n",
    "            .value_counts()[weekdays.value_counts() == max_vals] \n",
    "            .index \n",
    "            .tolist())\n",
    "    return ', '.join(weekday_list)"
   ]
  },
  {
   "cell_type": "markdown",
   "metadata": {},
   "source": [
    "### Дни недели, в которые чаще всего покупаются товары."
   ]
  },
  {
   "cell_type": "code",
   "execution_count": 67,
   "metadata": {},
   "outputs": [
    {
     "name": "stdout",
     "output_type": "stream",
     "text": [
      "CPU times: user 1min 3s, sys: 148 ms, total: 1min 3s\n",
      "Wall time: 1min 3s\n"
     ]
    }
   ],
   "source": [
    "%%time\n",
    "purchase_weekday_by_product = (\n",
    "    purchase_total_df\n",
    "        .groupby(['order_id', 'product_id'], as_index=False)  # сначала избавимся от повторов product_id в заказе: группируем по двум колонкам\n",
    "        .agg({'order_weekday': 'first'})                      # выбираем первое значение, т.к. они все одинаковые\n",
    "        .groupby('product_id', as_index=False)                # затем снова группируем, чтобы схлопнуть в одно значение (оставить уникальные)\n",
    "        .agg({'order_weekday': lambda x: get_weekdays(x)})    # подсчитываем и выбираем значение с максимальным \"счётом\"\n",
    ")"
   ]
  },
  {
   "cell_type": "code",
   "execution_count": 68,
   "metadata": {},
   "outputs": [
    {
     "data": {
      "text/html": [
       "<div>\n",
       "<style scoped>\n",
       "    .dataframe tbody tr th:only-of-type {\n",
       "        vertical-align: middle;\n",
       "    }\n",
       "\n",
       "    .dataframe tbody tr th {\n",
       "        vertical-align: top;\n",
       "    }\n",
       "\n",
       "    .dataframe thead th {\n",
       "        text-align: right;\n",
       "    }\n",
       "</style>\n",
       "<table border=\"1\" class=\"dataframe\">\n",
       "  <thead>\n",
       "    <tr style=\"text-align: right;\">\n",
       "      <th></th>\n",
       "      <th>product_id</th>\n",
       "      <th>order_weekday</th>\n",
       "    </tr>\n",
       "  </thead>\n",
       "  <tbody>\n",
       "    <tr>\n",
       "      <th>0</th>\n",
       "      <td>00066f42aeeb9f3007548bb9d3f33c38</td>\n",
       "      <td>Sunday</td>\n",
       "    </tr>\n",
       "    <tr>\n",
       "      <th>1</th>\n",
       "      <td>00088930e925c41fd95ebfe695fd2655</td>\n",
       "      <td>Tuesday</td>\n",
       "    </tr>\n",
       "    <tr>\n",
       "      <th>2</th>\n",
       "      <td>0009406fd7479715e4bef61dd91f2462</td>\n",
       "      <td>Thursday</td>\n",
       "    </tr>\n",
       "    <tr>\n",
       "      <th>3</th>\n",
       "      <td>000b8f95fcb9e0096488278317764d19</td>\n",
       "      <td>Wednesday, Friday</td>\n",
       "    </tr>\n",
       "    <tr>\n",
       "      <th>4</th>\n",
       "      <td>000d9be29b5207b54e86aa1b1ac54872</td>\n",
       "      <td>Tuesday</td>\n",
       "    </tr>\n",
       "  </tbody>\n",
       "</table>\n",
       "</div>"
      ],
      "text/plain": [
       "                         product_id      order_weekday\n",
       "0  00066f42aeeb9f3007548bb9d3f33c38             Sunday\n",
       "1  00088930e925c41fd95ebfe695fd2655            Tuesday\n",
       "2  0009406fd7479715e4bef61dd91f2462           Thursday\n",
       "3  000b8f95fcb9e0096488278317764d19  Wednesday, Friday\n",
       "4  000d9be29b5207b54e86aa1b1ac54872            Tuesday"
      ]
     },
     "execution_count": 68,
     "metadata": {},
     "output_type": "execute_result"
    }
   ],
   "source": [
    "purchase_weekday_by_product.head()"
   ]
  },
  {
   "cell_type": "markdown",
   "metadata": {},
   "source": [
    "### 4. Сколько у каждого из пользователей в среднем покупок в неделю (по месяцам)?  <a class=\"anchor\" id=\"fourth-bullet\"></a>"
   ]
  },
  {
   "cell_type": "markdown",
   "metadata": {},
   "source": [
    "Внутри месяца может быть не целое количество недель. Например, в ноябре 2021 года 4,28 недели. И внутри метрики это нужно учесть."
   ]
  },
  {
   "cell_type": "code",
   "execution_count": 69,
   "metadata": {},
   "outputs": [],
   "source": [
    "# добавляем колонку создания заказа в формате \"год-месяц\"\n",
    "purchase_total_df['year_month_order'] = (\n",
    "    purchase_total_df\n",
    "        .order_purchase_timestamp\n",
    "        .dt\n",
    "        .to_period('M')\n",
    ")"
   ]
  },
  {
   "cell_type": "code",
   "execution_count": 70,
   "metadata": {
    "scrolled": true
   },
   "outputs": [
    {
     "data": {
      "text/html": [
       "<div>\n",
       "<style scoped>\n",
       "    .dataframe tbody tr th:only-of-type {\n",
       "        vertical-align: middle;\n",
       "    }\n",
       "\n",
       "    .dataframe tbody tr th {\n",
       "        vertical-align: top;\n",
       "    }\n",
       "\n",
       "    .dataframe thead th {\n",
       "        text-align: right;\n",
       "    }\n",
       "</style>\n",
       "<table border=\"1\" class=\"dataframe\">\n",
       "  <thead>\n",
       "    <tr style=\"text-align: right;\">\n",
       "      <th></th>\n",
       "      <th>customer_id</th>\n",
       "      <th>customer_unique_id</th>\n",
       "      <th>customer_zip_code_prefix</th>\n",
       "      <th>customer_city</th>\n",
       "      <th>customer_state</th>\n",
       "      <th>order_id</th>\n",
       "      <th>order_status</th>\n",
       "      <th>order_purchase_timestamp</th>\n",
       "      <th>order_approved_at</th>\n",
       "      <th>order_delivered_carrier_date</th>\n",
       "      <th>order_delivered_customer_date</th>\n",
       "      <th>order_estimated_delivery_date</th>\n",
       "      <th>order_item_id</th>\n",
       "      <th>product_id</th>\n",
       "      <th>seller_id</th>\n",
       "      <th>shipping_limit_date</th>\n",
       "      <th>price</th>\n",
       "      <th>freight_value</th>\n",
       "      <th>order_weekday</th>\n",
       "      <th>year_month_order</th>\n",
       "    </tr>\n",
       "  </thead>\n",
       "  <tbody>\n",
       "    <tr>\n",
       "      <th>0</th>\n",
       "      <td>06b8999e2fba1a1fbc88172c00ba8bc7</td>\n",
       "      <td>861eff4711a542e4b93843c6dd7febb0</td>\n",
       "      <td>14409</td>\n",
       "      <td>franca</td>\n",
       "      <td>SP</td>\n",
       "      <td>00e7ee1b050b8499577073aeb2a297a1</td>\n",
       "      <td>delivered</td>\n",
       "      <td>2017-05-16 15:05:35</td>\n",
       "      <td>2017-05-16 15:22:12</td>\n",
       "      <td>2017-05-23 10:47:57</td>\n",
       "      <td>2017-05-25 10:35:35</td>\n",
       "      <td>2017-06-05</td>\n",
       "      <td>1</td>\n",
       "      <td>a9516a079e37a9c9c36b9b78b10169e8</td>\n",
       "      <td>7c67e1448b00f6e969d365cea6b010ab</td>\n",
       "      <td>2017-05-22 15:22:12</td>\n",
       "      <td>124.99</td>\n",
       "      <td>21.88</td>\n",
       "      <td>Tuesday</td>\n",
       "      <td>2017-05</td>\n",
       "    </tr>\n",
       "    <tr>\n",
       "      <th>1</th>\n",
       "      <td>18955e83d337fd6b2def6b18a428ac77</td>\n",
       "      <td>290c77bc529b7ac935b93aa66c333dc3</td>\n",
       "      <td>9790</td>\n",
       "      <td>sao bernardo do campo</td>\n",
       "      <td>SP</td>\n",
       "      <td>29150127e6685892b6eab3eec79f59c7</td>\n",
       "      <td>delivered</td>\n",
       "      <td>2018-01-12 20:48:24</td>\n",
       "      <td>2018-01-12 20:58:32</td>\n",
       "      <td>2018-01-15 17:14:59</td>\n",
       "      <td>2018-01-29 12:41:19</td>\n",
       "      <td>2018-02-06</td>\n",
       "      <td>1</td>\n",
       "      <td>4aa6014eceb682077f9dc4bffebc05b0</td>\n",
       "      <td>b8bc237ba3788b23da09c0f1f3a3288c</td>\n",
       "      <td>2018-01-18 20:58:32</td>\n",
       "      <td>289.00</td>\n",
       "      <td>46.48</td>\n",
       "      <td>Friday</td>\n",
       "      <td>2018-01</td>\n",
       "    </tr>\n",
       "    <tr>\n",
       "      <th>2</th>\n",
       "      <td>4e7b3e00288586ebd08712fdd0374a03</td>\n",
       "      <td>060e732b5b29e8181a18229c7b0b2b5e</td>\n",
       "      <td>1151</td>\n",
       "      <td>sao paulo</td>\n",
       "      <td>SP</td>\n",
       "      <td>b2059ed67ce144a36e2aa97d2c9e9ad2</td>\n",
       "      <td>delivered</td>\n",
       "      <td>2018-05-19 16:07:45</td>\n",
       "      <td>2018-05-20 16:19:10</td>\n",
       "      <td>2018-06-11 14:31:00</td>\n",
       "      <td>2018-06-14 17:58:51</td>\n",
       "      <td>2018-06-13</td>\n",
       "      <td>1</td>\n",
       "      <td>bd07b66896d6f1494f5b86251848ced7</td>\n",
       "      <td>7c67e1448b00f6e969d365cea6b010ab</td>\n",
       "      <td>2018-06-05 16:19:10</td>\n",
       "      <td>139.94</td>\n",
       "      <td>17.79</td>\n",
       "      <td>Saturday</td>\n",
       "      <td>2018-05</td>\n",
       "    </tr>\n",
       "    <tr>\n",
       "      <th>3</th>\n",
       "      <td>b2b6027bc5c5109e529d4dc6358b12c3</td>\n",
       "      <td>259dac757896d24d7702b9acbbff3f3c</td>\n",
       "      <td>8775</td>\n",
       "      <td>mogi das cruzes</td>\n",
       "      <td>SP</td>\n",
       "      <td>951670f92359f4fe4a63112aa7306eba</td>\n",
       "      <td>delivered</td>\n",
       "      <td>2018-03-13 16:06:38</td>\n",
       "      <td>2018-03-13 17:29:19</td>\n",
       "      <td>2018-03-27 23:22:42</td>\n",
       "      <td>2018-03-28 16:04:25</td>\n",
       "      <td>2018-04-10</td>\n",
       "      <td>1</td>\n",
       "      <td>a5647c44af977b148e0a3a4751a09e2e</td>\n",
       "      <td>7c67e1448b00f6e969d365cea6b010ab</td>\n",
       "      <td>2018-03-27 16:31:16</td>\n",
       "      <td>149.94</td>\n",
       "      <td>23.36</td>\n",
       "      <td>Tuesday</td>\n",
       "      <td>2018-03</td>\n",
       "    </tr>\n",
       "    <tr>\n",
       "      <th>4</th>\n",
       "      <td>4f2d8ab171c80ec8364f7c12e35b23ad</td>\n",
       "      <td>345ecd01c38d18a9036ed96c73b8d066</td>\n",
       "      <td>13056</td>\n",
       "      <td>campinas</td>\n",
       "      <td>SP</td>\n",
       "      <td>6b7d50bd145f6fc7f33cebabd7e49d0f</td>\n",
       "      <td>delivered</td>\n",
       "      <td>2018-07-29 09:51:30</td>\n",
       "      <td>2018-07-29 10:10:09</td>\n",
       "      <td>2018-07-30 15:16:00</td>\n",
       "      <td>2018-08-09 20:55:48</td>\n",
       "      <td>2018-08-15</td>\n",
       "      <td>1</td>\n",
       "      <td>9391a573abe00141c56e38d84d7d5b3b</td>\n",
       "      <td>4a3ca9315b744ce9f8e9374361493884</td>\n",
       "      <td>2018-07-31 10:10:09</td>\n",
       "      <td>230.00</td>\n",
       "      <td>22.25</td>\n",
       "      <td>Sunday</td>\n",
       "      <td>2018-07</td>\n",
       "    </tr>\n",
       "  </tbody>\n",
       "</table>\n",
       "</div>"
      ],
      "text/plain": [
       "                        customer_id                customer_unique_id  \\\n",
       "0  06b8999e2fba1a1fbc88172c00ba8bc7  861eff4711a542e4b93843c6dd7febb0   \n",
       "1  18955e83d337fd6b2def6b18a428ac77  290c77bc529b7ac935b93aa66c333dc3   \n",
       "2  4e7b3e00288586ebd08712fdd0374a03  060e732b5b29e8181a18229c7b0b2b5e   \n",
       "3  b2b6027bc5c5109e529d4dc6358b12c3  259dac757896d24d7702b9acbbff3f3c   \n",
       "4  4f2d8ab171c80ec8364f7c12e35b23ad  345ecd01c38d18a9036ed96c73b8d066   \n",
       "\n",
       "   customer_zip_code_prefix          customer_city customer_state  \\\n",
       "0                     14409                 franca             SP   \n",
       "1                      9790  sao bernardo do campo             SP   \n",
       "2                      1151              sao paulo             SP   \n",
       "3                      8775        mogi das cruzes             SP   \n",
       "4                     13056               campinas             SP   \n",
       "\n",
       "                           order_id order_status order_purchase_timestamp  \\\n",
       "0  00e7ee1b050b8499577073aeb2a297a1    delivered      2017-05-16 15:05:35   \n",
       "1  29150127e6685892b6eab3eec79f59c7    delivered      2018-01-12 20:48:24   \n",
       "2  b2059ed67ce144a36e2aa97d2c9e9ad2    delivered      2018-05-19 16:07:45   \n",
       "3  951670f92359f4fe4a63112aa7306eba    delivered      2018-03-13 16:06:38   \n",
       "4  6b7d50bd145f6fc7f33cebabd7e49d0f    delivered      2018-07-29 09:51:30   \n",
       "\n",
       "    order_approved_at order_delivered_carrier_date  \\\n",
       "0 2017-05-16 15:22:12          2017-05-23 10:47:57   \n",
       "1 2018-01-12 20:58:32          2018-01-15 17:14:59   \n",
       "2 2018-05-20 16:19:10          2018-06-11 14:31:00   \n",
       "3 2018-03-13 17:29:19          2018-03-27 23:22:42   \n",
       "4 2018-07-29 10:10:09          2018-07-30 15:16:00   \n",
       "\n",
       "  order_delivered_customer_date order_estimated_delivery_date  order_item_id  \\\n",
       "0           2017-05-25 10:35:35                    2017-06-05              1   \n",
       "1           2018-01-29 12:41:19                    2018-02-06              1   \n",
       "2           2018-06-14 17:58:51                    2018-06-13              1   \n",
       "3           2018-03-28 16:04:25                    2018-04-10              1   \n",
       "4           2018-08-09 20:55:48                    2018-08-15              1   \n",
       "\n",
       "                         product_id                         seller_id  \\\n",
       "0  a9516a079e37a9c9c36b9b78b10169e8  7c67e1448b00f6e969d365cea6b010ab   \n",
       "1  4aa6014eceb682077f9dc4bffebc05b0  b8bc237ba3788b23da09c0f1f3a3288c   \n",
       "2  bd07b66896d6f1494f5b86251848ced7  7c67e1448b00f6e969d365cea6b010ab   \n",
       "3  a5647c44af977b148e0a3a4751a09e2e  7c67e1448b00f6e969d365cea6b010ab   \n",
       "4  9391a573abe00141c56e38d84d7d5b3b  4a3ca9315b744ce9f8e9374361493884   \n",
       "\n",
       "  shipping_limit_date   price  freight_value order_weekday year_month_order  \n",
       "0 2017-05-22 15:22:12  124.99          21.88       Tuesday          2017-05  \n",
       "1 2018-01-18 20:58:32  289.00          46.48        Friday          2018-01  \n",
       "2 2018-06-05 16:19:10  139.94          17.79      Saturday          2018-05  \n",
       "3 2018-03-27 16:31:16  149.94          23.36       Tuesday          2018-03  \n",
       "4 2018-07-31 10:10:09  230.00          22.25        Sunday          2018-07  "
      ]
     },
     "execution_count": 70,
     "metadata": {},
     "output_type": "execute_result"
    }
   ],
   "source": [
    "purchase_total_df.head()"
   ]
  },
  {
   "cell_type": "markdown",
   "metadata": {},
   "source": [
    "Расчитаем и добавим колонку `mean_orders_per_week` со значениями средним значением покупок в неделю  по месяцам для каждого пользователя."
   ]
  },
  {
   "cell_type": "code",
   "execution_count": 71,
   "metadata": {},
   "outputs": [],
   "source": [
    "mean_per_week_df = (\n",
    "    purchase_total_df\n",
    "        .groupby(['year_month_order', 'customer_unique_id'], as_index=False)             # группируем по году-месяцу и пользователю\n",
    "        .agg({'order_purchase_timestamp': 'count'})                                      # считаем количество (в месяц на пользователя)\n",
    "        .assign(weeks_in_month = lambda x: x.year_month_order.dt.daysinmonth / 7)        # добавляем колонку количество недель в текущем месяце\n",
    "        .rename(columns={'order_purchase_timestamp': 'orders_per_month'})                # переименовываем колонку с подсчётом\n",
    "        .assign(mean_orders_per_week = lambda x: x.orders_per_month / x.weeks_in_month)  # добавляем колонку в которой делим количество заказов в месяц на количество недель в месяце\n",
    "        [['year_month_order', 'customer_unique_id', 'mean_orders_per_week']]             # отберём нужные колонки\n",
    ")"
   ]
  },
  {
   "cell_type": "markdown",
   "metadata": {},
   "source": [
    "### Итак, количество покупок каждого пользоватлея в неделю по месяцам"
   ]
  },
  {
   "cell_type": "code",
   "execution_count": 72,
   "metadata": {
    "scrolled": true
   },
   "outputs": [
    {
     "data": {
      "text/html": [
       "<div>\n",
       "<style scoped>\n",
       "    .dataframe tbody tr th:only-of-type {\n",
       "        vertical-align: middle;\n",
       "    }\n",
       "\n",
       "    .dataframe tbody tr th {\n",
       "        vertical-align: top;\n",
       "    }\n",
       "\n",
       "    .dataframe thead th {\n",
       "        text-align: right;\n",
       "    }\n",
       "</style>\n",
       "<table border=\"1\" class=\"dataframe\">\n",
       "  <thead>\n",
       "    <tr style=\"text-align: right;\">\n",
       "      <th></th>\n",
       "      <th>year_month_order</th>\n",
       "      <th>customer_unique_id</th>\n",
       "      <th>mean_orders_per_week</th>\n",
       "    </tr>\n",
       "  </thead>\n",
       "  <tbody>\n",
       "    <tr>\n",
       "      <th>0</th>\n",
       "      <td>2016-09</td>\n",
       "      <td>830d5b7aaa3b6f1e9ad63703bec97d23</td>\n",
       "      <td>0.700000</td>\n",
       "    </tr>\n",
       "    <tr>\n",
       "      <th>1</th>\n",
       "      <td>2016-09</td>\n",
       "      <td>b7d76e111c89f7ebf14761390f0f7d17</td>\n",
       "      <td>0.466667</td>\n",
       "    </tr>\n",
       "    <tr>\n",
       "      <th>2</th>\n",
       "      <td>2016-10</td>\n",
       "      <td>0032c76b20340da25249092a268ce66c</td>\n",
       "      <td>0.225806</td>\n",
       "    </tr>\n",
       "    <tr>\n",
       "      <th>3</th>\n",
       "      <td>2016-10</td>\n",
       "      <td>01f156677184504063bd19739f924af1</td>\n",
       "      <td>0.225806</td>\n",
       "    </tr>\n",
       "    <tr>\n",
       "      <th>4</th>\n",
       "      <td>2016-10</td>\n",
       "      <td>0313291a6f4f16df04dcf819d88c38ef</td>\n",
       "      <td>0.225806</td>\n",
       "    </tr>\n",
       "  </tbody>\n",
       "</table>\n",
       "</div>"
      ],
      "text/plain": [
       "  year_month_order                customer_unique_id  mean_orders_per_week\n",
       "0          2016-09  830d5b7aaa3b6f1e9ad63703bec97d23              0.700000\n",
       "1          2016-09  b7d76e111c89f7ebf14761390f0f7d17              0.466667\n",
       "2          2016-10  0032c76b20340da25249092a268ce66c              0.225806\n",
       "3          2016-10  01f156677184504063bd19739f924af1              0.225806\n",
       "4          2016-10  0313291a6f4f16df04dcf819d88c38ef              0.225806"
      ]
     },
     "execution_count": 72,
     "metadata": {},
     "output_type": "execute_result"
    }
   ],
   "source": [
    "mean_per_week_df.head()"
   ]
  },
  {
   "cell_type": "markdown",
   "metadata": {},
   "source": [
    "### 5. Написать функцию на python, позволяющую строить когортный анализ. В период с января по декабрь выявить когорту с самым высоким retention на 3-й месяц. <a class=\"anchor\" id=\"fifth-bullet\"></a>"
   ]
  },
  {
   "cell_type": "code",
   "execution_count": 73,
   "metadata": {},
   "outputs": [
    {
     "name": "stdout",
     "output_type": "stream",
     "text": [
      "2.94% пользователей сделали более одного заказа.\n"
     ]
    }
   ],
   "source": [
    "# количество уникальных пользователей\n",
    "num_customers = (\n",
    "    purchase_total_df\n",
    "        .groupby(['customer_unique_id'])\n",
    "        .order_id\n",
    "        .nunique()\n",
    ")\n",
    "# доля пользователей сделавших более 1 заказа\n",
    "mult_orders_perc = (\n",
    "    np.sum(num_customers > 1) / purchase_total_df\n",
    "        .order_id.nunique()\n",
    ")\n",
    "print(f'{100 * mult_orders_perc:.2f}% пользователей сделали более одного заказа.')"
   ]
  },
  {
   "cell_type": "code",
   "execution_count": 74,
   "metadata": {},
   "outputs": [],
   "source": [
    "# функция для когортного анализа\n",
    "def user_retention(data, customer_id, date, period='M'):\n",
    "    '''\n",
    "    Функция строит retention-матрицу когортного анализа (возвращает датафрэйм)\n",
    "    Требуются библиотеки: \n",
    "        from operator import attrgetter\n",
    "        import pandas as pd\n",
    "    Описание полей:\n",
    "    data        - датафрэйм\n",
    "    customer_id - колонка с id клиентов (str)\n",
    "    order_date  - колонка с датами (datetime)\n",
    "    period      - период разбивки (str, по умолчанию \"M\" - месяц). Все псевдонимы: https://pandas.pydata.org/pandas-docs/stable/user_guide/timeseries.html#timeseries-offset-aliases\n",
    "    '''\n",
    "    data = data.copy()\n",
    "    data[date] = data[date].dt.to_period('M')      # переводим колонку дат в тип \"период\"\n",
    "    \n",
    "    # создаём когорты\n",
    "    users_cohorts = (\n",
    "        data\n",
    "            .groupby(customer_id, as_index=False)  # группируем по пользователям\n",
    "            [date]                                 # выбираем колонку с датами\n",
    "            .min()                                 # отбираем минимальные колонки для каждого пользователя\n",
    "            .rename(columns={date: 'cohort'})      # переименовываем колонку с дамами в когорты\n",
    "    )\n",
    "    \n",
    "    # объединим датасеты\n",
    "    cohorts_df = (\n",
    "        users_cohorts                                           # датасет с когортами\n",
    "            .merge(data[[customer_id, date]], on=customer_id)   # объединяем с основным датасетом по пользователям\n",
    "            .sort_values('cohort')                              # сортируем по когортам\n",
    "            .rename(columns={date: 'target_action_dates'})      # переименовываем колонку с датами целевых действий\n",
    "    )\n",
    "    \n",
    "    # сгруппируем по когортам и месяцам покупок и посчитаем количество покупателей на каждый месяц\n",
    "    cohorts_df = (\n",
    "        cohorts_df\n",
    "            .groupby(['cohort', 'target_action_dates'], as_index=False)\n",
    "            .agg(customer_quantity = (customer_id, 'nunique'))\n",
    "    )\n",
    "    \n",
    "    # считаем разницу между первой и последующими покупками, добавляем в столбец\n",
    "    cohorts_df['period_number'] = (\n",
    "        cohorts_df\n",
    "            .target_action_dates                  \n",
    "            .sub(cohorts_df.cohort)               # вычитаем когорты из времени целевых действий\n",
    "            .apply(attrgetter('n'))               # передаём атрибут номинальной единицы (т.е. будут те же что и в  period=)\n",
    "    )\n",
    "    \n",
    "    # строим сводную таблицу\n",
    "    cohort_pivot = cohorts_df.pivot_table(index='cohort', columns='period_number', values='customer_quantity')\n",
    "    \n",
    "    # размер когорты = количество пользователей в нулевой период\n",
    "    cohort_size = cohort_pivot.iloc[:,0]\n",
    "    \n",
    "    # строим retention матрицу\n",
    "    retention_matrix = cohort_pivot.div(cohort_size, axis = 0)\n",
    "\n",
    "    return retention_matrix\n"
   ]
  },
  {
   "cell_type": "code",
   "execution_count": 75,
   "metadata": {
    "scrolled": true
   },
   "outputs": [],
   "source": [
    "# создаём retention матрицу используя функцию\n",
    "retention_matrix = user_retention(purchase_total_df, 'customer_unique_id', 'order_purchase_timestamp')"
   ]
  },
  {
   "cell_type": "code",
   "execution_count": 76,
   "metadata": {},
   "outputs": [
    {
     "data": {
      "text/html": [
       "<style  type=\"text/css\" >\n",
       "#T_56571708_b6f2_11ec_bdbb_96000040dfb6row0_col0,#T_56571708_b6f2_11ec_bdbb_96000040dfb6row1_col0,#T_56571708_b6f2_11ec_bdbb_96000040dfb6row1_col19,#T_56571708_b6f2_11ec_bdbb_96000040dfb6row2_col0,#T_56571708_b6f2_11ec_bdbb_96000040dfb6row3_col0,#T_56571708_b6f2_11ec_bdbb_96000040dfb6row3_col1,#T_56571708_b6f2_11ec_bdbb_96000040dfb6row3_col18,#T_56571708_b6f2_11ec_bdbb_96000040dfb6row4_col0,#T_56571708_b6f2_11ec_bdbb_96000040dfb6row4_col1,#T_56571708_b6f2_11ec_bdbb_96000040dfb6row4_col8,#T_56571708_b6f2_11ec_bdbb_96000040dfb6row4_col10,#T_56571708_b6f2_11ec_bdbb_96000040dfb6row4_col15,#T_56571708_b6f2_11ec_bdbb_96000040dfb6row4_col16,#T_56571708_b6f2_11ec_bdbb_96000040dfb6row5_col0,#T_56571708_b6f2_11ec_bdbb_96000040dfb6row5_col17,#T_56571708_b6f2_11ec_bdbb_96000040dfb6row6_col0,#T_56571708_b6f2_11ec_bdbb_96000040dfb6row6_col2,#T_56571708_b6f2_11ec_bdbb_96000040dfb6row6_col12,#T_56571708_b6f2_11ec_bdbb_96000040dfb6row6_col14,#T_56571708_b6f2_11ec_bdbb_96000040dfb6row7_col0,#T_56571708_b6f2_11ec_bdbb_96000040dfb6row7_col13,#T_56571708_b6f2_11ec_bdbb_96000040dfb6row8_col0,#T_56571708_b6f2_11ec_bdbb_96000040dfb6row9_col0,#T_56571708_b6f2_11ec_bdbb_96000040dfb6row10_col0,#T_56571708_b6f2_11ec_bdbb_96000040dfb6row11_col0,#T_56571708_b6f2_11ec_bdbb_96000040dfb6row11_col11,#T_56571708_b6f2_11ec_bdbb_96000040dfb6row12_col0,#T_56571708_b6f2_11ec_bdbb_96000040dfb6row12_col3,#T_56571708_b6f2_11ec_bdbb_96000040dfb6row13_col0,#T_56571708_b6f2_11ec_bdbb_96000040dfb6row13_col6,#T_56571708_b6f2_11ec_bdbb_96000040dfb6row13_col9,#T_56571708_b6f2_11ec_bdbb_96000040dfb6row14_col0,#T_56571708_b6f2_11ec_bdbb_96000040dfb6row14_col1,#T_56571708_b6f2_11ec_bdbb_96000040dfb6row14_col7,#T_56571708_b6f2_11ec_bdbb_96000040dfb6row15_col0,#T_56571708_b6f2_11ec_bdbb_96000040dfb6row15_col1,#T_56571708_b6f2_11ec_bdbb_96000040dfb6row16_col0,#T_56571708_b6f2_11ec_bdbb_96000040dfb6row16_col1,#T_56571708_b6f2_11ec_bdbb_96000040dfb6row17_col0,#T_56571708_b6f2_11ec_bdbb_96000040dfb6row17_col1,#T_56571708_b6f2_11ec_bdbb_96000040dfb6row17_col4,#T_56571708_b6f2_11ec_bdbb_96000040dfb6row17_col5,#T_56571708_b6f2_11ec_bdbb_96000040dfb6row18_col0,#T_56571708_b6f2_11ec_bdbb_96000040dfb6row19_col0,#T_56571708_b6f2_11ec_bdbb_96000040dfb6row20_col0,#T_56571708_b6f2_11ec_bdbb_96000040dfb6row21_col0,#T_56571708_b6f2_11ec_bdbb_96000040dfb6row22_col0,#T_56571708_b6f2_11ec_bdbb_96000040dfb6row22_col1{\n",
       "            background-color:  #440154;\n",
       "            color:  #f1f1f1;\n",
       "        }#T_56571708_b6f2_11ec_bdbb_96000040dfb6row0_col1,#T_56571708_b6f2_11ec_bdbb_96000040dfb6row0_col2,#T_56571708_b6f2_11ec_bdbb_96000040dfb6row0_col3,#T_56571708_b6f2_11ec_bdbb_96000040dfb6row0_col4,#T_56571708_b6f2_11ec_bdbb_96000040dfb6row0_col5,#T_56571708_b6f2_11ec_bdbb_96000040dfb6row0_col6,#T_56571708_b6f2_11ec_bdbb_96000040dfb6row0_col7,#T_56571708_b6f2_11ec_bdbb_96000040dfb6row0_col8,#T_56571708_b6f2_11ec_bdbb_96000040dfb6row0_col9,#T_56571708_b6f2_11ec_bdbb_96000040dfb6row0_col10,#T_56571708_b6f2_11ec_bdbb_96000040dfb6row0_col11,#T_56571708_b6f2_11ec_bdbb_96000040dfb6row0_col12,#T_56571708_b6f2_11ec_bdbb_96000040dfb6row0_col13,#T_56571708_b6f2_11ec_bdbb_96000040dfb6row0_col14,#T_56571708_b6f2_11ec_bdbb_96000040dfb6row0_col15,#T_56571708_b6f2_11ec_bdbb_96000040dfb6row0_col16,#T_56571708_b6f2_11ec_bdbb_96000040dfb6row0_col17,#T_56571708_b6f2_11ec_bdbb_96000040dfb6row0_col18,#T_56571708_b6f2_11ec_bdbb_96000040dfb6row1_col1,#T_56571708_b6f2_11ec_bdbb_96000040dfb6row1_col2,#T_56571708_b6f2_11ec_bdbb_96000040dfb6row1_col3,#T_56571708_b6f2_11ec_bdbb_96000040dfb6row1_col4,#T_56571708_b6f2_11ec_bdbb_96000040dfb6row1_col5,#T_56571708_b6f2_11ec_bdbb_96000040dfb6row1_col7,#T_56571708_b6f2_11ec_bdbb_96000040dfb6row1_col8,#T_56571708_b6f2_11ec_bdbb_96000040dfb6row1_col10,#T_56571708_b6f2_11ec_bdbb_96000040dfb6row1_col12,#T_56571708_b6f2_11ec_bdbb_96000040dfb6row1_col14,#T_56571708_b6f2_11ec_bdbb_96000040dfb6row1_col16,#T_56571708_b6f2_11ec_bdbb_96000040dfb6row2_col2,#T_56571708_b6f2_11ec_bdbb_96000040dfb6row2_col3,#T_56571708_b6f2_11ec_bdbb_96000040dfb6row2_col4,#T_56571708_b6f2_11ec_bdbb_96000040dfb6row2_col5,#T_56571708_b6f2_11ec_bdbb_96000040dfb6row2_col6,#T_56571708_b6f2_11ec_bdbb_96000040dfb6row2_col7,#T_56571708_b6f2_11ec_bdbb_96000040dfb6row2_col8,#T_56571708_b6f2_11ec_bdbb_96000040dfb6row2_col9,#T_56571708_b6f2_11ec_bdbb_96000040dfb6row2_col10,#T_56571708_b6f2_11ec_bdbb_96000040dfb6row2_col11,#T_56571708_b6f2_11ec_bdbb_96000040dfb6row2_col12,#T_56571708_b6f2_11ec_bdbb_96000040dfb6row2_col13,#T_56571708_b6f2_11ec_bdbb_96000040dfb6row2_col14,#T_56571708_b6f2_11ec_bdbb_96000040dfb6row2_col15,#T_56571708_b6f2_11ec_bdbb_96000040dfb6row2_col16,#T_56571708_b6f2_11ec_bdbb_96000040dfb6row2_col17,#T_56571708_b6f2_11ec_bdbb_96000040dfb6row2_col18,#T_56571708_b6f2_11ec_bdbb_96000040dfb6row3_col9,#T_56571708_b6f2_11ec_bdbb_96000040dfb6row4_col18,#T_56571708_b6f2_11ec_bdbb_96000040dfb6row5_col18,#T_56571708_b6f2_11ec_bdbb_96000040dfb6row6_col17,#T_56571708_b6f2_11ec_bdbb_96000040dfb6row6_col18,#T_56571708_b6f2_11ec_bdbb_96000040dfb6row7_col16,#T_56571708_b6f2_11ec_bdbb_96000040dfb6row7_col17,#T_56571708_b6f2_11ec_bdbb_96000040dfb6row7_col18,#T_56571708_b6f2_11ec_bdbb_96000040dfb6row8_col15,#T_56571708_b6f2_11ec_bdbb_96000040dfb6row8_col16,#T_56571708_b6f2_11ec_bdbb_96000040dfb6row8_col17,#T_56571708_b6f2_11ec_bdbb_96000040dfb6row8_col18,#T_56571708_b6f2_11ec_bdbb_96000040dfb6row9_col14,#T_56571708_b6f2_11ec_bdbb_96000040dfb6row9_col15,#T_56571708_b6f2_11ec_bdbb_96000040dfb6row9_col16,#T_56571708_b6f2_11ec_bdbb_96000040dfb6row9_col17,#T_56571708_b6f2_11ec_bdbb_96000040dfb6row9_col18,#T_56571708_b6f2_11ec_bdbb_96000040dfb6row10_col13,#T_56571708_b6f2_11ec_bdbb_96000040dfb6row10_col14,#T_56571708_b6f2_11ec_bdbb_96000040dfb6row10_col15,#T_56571708_b6f2_11ec_bdbb_96000040dfb6row10_col16,#T_56571708_b6f2_11ec_bdbb_96000040dfb6row10_col17,#T_56571708_b6f2_11ec_bdbb_96000040dfb6row10_col18,#T_56571708_b6f2_11ec_bdbb_96000040dfb6row11_col12,#T_56571708_b6f2_11ec_bdbb_96000040dfb6row11_col13,#T_56571708_b6f2_11ec_bdbb_96000040dfb6row11_col14,#T_56571708_b6f2_11ec_bdbb_96000040dfb6row11_col15,#T_56571708_b6f2_11ec_bdbb_96000040dfb6row11_col16,#T_56571708_b6f2_11ec_bdbb_96000040dfb6row11_col17,#T_56571708_b6f2_11ec_bdbb_96000040dfb6row11_col18,#T_56571708_b6f2_11ec_bdbb_96000040dfb6row12_col11,#T_56571708_b6f2_11ec_bdbb_96000040dfb6row12_col12,#T_56571708_b6f2_11ec_bdbb_96000040dfb6row12_col13,#T_56571708_b6f2_11ec_bdbb_96000040dfb6row12_col14,#T_56571708_b6f2_11ec_bdbb_96000040dfb6row12_col15,#T_56571708_b6f2_11ec_bdbb_96000040dfb6row12_col16,#T_56571708_b6f2_11ec_bdbb_96000040dfb6row12_col17,#T_56571708_b6f2_11ec_bdbb_96000040dfb6row12_col18,#T_56571708_b6f2_11ec_bdbb_96000040dfb6row13_col10,#T_56571708_b6f2_11ec_bdbb_96000040dfb6row13_col11,#T_56571708_b6f2_11ec_bdbb_96000040dfb6row13_col12,#T_56571708_b6f2_11ec_bdbb_96000040dfb6row13_col13,#T_56571708_b6f2_11ec_bdbb_96000040dfb6row13_col14,#T_56571708_b6f2_11ec_bdbb_96000040dfb6row13_col15,#T_56571708_b6f2_11ec_bdbb_96000040dfb6row13_col16,#T_56571708_b6f2_11ec_bdbb_96000040dfb6row13_col17,#T_56571708_b6f2_11ec_bdbb_96000040dfb6row13_col18,#T_56571708_b6f2_11ec_bdbb_96000040dfb6row14_col9,#T_56571708_b6f2_11ec_bdbb_96000040dfb6row14_col10,#T_56571708_b6f2_11ec_bdbb_96000040dfb6row14_col11,#T_56571708_b6f2_11ec_bdbb_96000040dfb6row14_col12,#T_56571708_b6f2_11ec_bdbb_96000040dfb6row14_col13,#T_56571708_b6f2_11ec_bdbb_96000040dfb6row14_col14,#T_56571708_b6f2_11ec_bdbb_96000040dfb6row14_col15,#T_56571708_b6f2_11ec_bdbb_96000040dfb6row14_col16,#T_56571708_b6f2_11ec_bdbb_96000040dfb6row14_col17,#T_56571708_b6f2_11ec_bdbb_96000040dfb6row14_col18,#T_56571708_b6f2_11ec_bdbb_96000040dfb6row15_col8,#T_56571708_b6f2_11ec_bdbb_96000040dfb6row15_col9,#T_56571708_b6f2_11ec_bdbb_96000040dfb6row15_col10,#T_56571708_b6f2_11ec_bdbb_96000040dfb6row15_col11,#T_56571708_b6f2_11ec_bdbb_96000040dfb6row15_col12,#T_56571708_b6f2_11ec_bdbb_96000040dfb6row15_col13,#T_56571708_b6f2_11ec_bdbb_96000040dfb6row15_col14,#T_56571708_b6f2_11ec_bdbb_96000040dfb6row15_col15,#T_56571708_b6f2_11ec_bdbb_96000040dfb6row15_col16,#T_56571708_b6f2_11ec_bdbb_96000040dfb6row15_col17,#T_56571708_b6f2_11ec_bdbb_96000040dfb6row15_col18,#T_56571708_b6f2_11ec_bdbb_96000040dfb6row16_col7,#T_56571708_b6f2_11ec_bdbb_96000040dfb6row16_col8,#T_56571708_b6f2_11ec_bdbb_96000040dfb6row16_col9,#T_56571708_b6f2_11ec_bdbb_96000040dfb6row16_col10,#T_56571708_b6f2_11ec_bdbb_96000040dfb6row16_col11,#T_56571708_b6f2_11ec_bdbb_96000040dfb6row16_col12,#T_56571708_b6f2_11ec_bdbb_96000040dfb6row16_col13,#T_56571708_b6f2_11ec_bdbb_96000040dfb6row16_col14,#T_56571708_b6f2_11ec_bdbb_96000040dfb6row16_col15,#T_56571708_b6f2_11ec_bdbb_96000040dfb6row16_col16,#T_56571708_b6f2_11ec_bdbb_96000040dfb6row16_col17,#T_56571708_b6f2_11ec_bdbb_96000040dfb6row16_col18,#T_56571708_b6f2_11ec_bdbb_96000040dfb6row17_col6,#T_56571708_b6f2_11ec_bdbb_96000040dfb6row17_col7,#T_56571708_b6f2_11ec_bdbb_96000040dfb6row17_col8,#T_56571708_b6f2_11ec_bdbb_96000040dfb6row17_col9,#T_56571708_b6f2_11ec_bdbb_96000040dfb6row17_col10,#T_56571708_b6f2_11ec_bdbb_96000040dfb6row17_col11,#T_56571708_b6f2_11ec_bdbb_96000040dfb6row17_col12,#T_56571708_b6f2_11ec_bdbb_96000040dfb6row17_col13,#T_56571708_b6f2_11ec_bdbb_96000040dfb6row17_col14,#T_56571708_b6f2_11ec_bdbb_96000040dfb6row17_col15,#T_56571708_b6f2_11ec_bdbb_96000040dfb6row17_col16,#T_56571708_b6f2_11ec_bdbb_96000040dfb6row17_col17,#T_56571708_b6f2_11ec_bdbb_96000040dfb6row17_col18,#T_56571708_b6f2_11ec_bdbb_96000040dfb6row18_col5,#T_56571708_b6f2_11ec_bdbb_96000040dfb6row18_col6,#T_56571708_b6f2_11ec_bdbb_96000040dfb6row18_col7,#T_56571708_b6f2_11ec_bdbb_96000040dfb6row18_col8,#T_56571708_b6f2_11ec_bdbb_96000040dfb6row18_col9,#T_56571708_b6f2_11ec_bdbb_96000040dfb6row18_col10,#T_56571708_b6f2_11ec_bdbb_96000040dfb6row18_col11,#T_56571708_b6f2_11ec_bdbb_96000040dfb6row18_col12,#T_56571708_b6f2_11ec_bdbb_96000040dfb6row18_col13,#T_56571708_b6f2_11ec_bdbb_96000040dfb6row18_col14,#T_56571708_b6f2_11ec_bdbb_96000040dfb6row18_col15,#T_56571708_b6f2_11ec_bdbb_96000040dfb6row18_col16,#T_56571708_b6f2_11ec_bdbb_96000040dfb6row18_col17,#T_56571708_b6f2_11ec_bdbb_96000040dfb6row18_col18,#T_56571708_b6f2_11ec_bdbb_96000040dfb6row19_col4,#T_56571708_b6f2_11ec_bdbb_96000040dfb6row19_col5,#T_56571708_b6f2_11ec_bdbb_96000040dfb6row19_col6,#T_56571708_b6f2_11ec_bdbb_96000040dfb6row19_col7,#T_56571708_b6f2_11ec_bdbb_96000040dfb6row19_col8,#T_56571708_b6f2_11ec_bdbb_96000040dfb6row19_col9,#T_56571708_b6f2_11ec_bdbb_96000040dfb6row19_col10,#T_56571708_b6f2_11ec_bdbb_96000040dfb6row19_col11,#T_56571708_b6f2_11ec_bdbb_96000040dfb6row19_col12,#T_56571708_b6f2_11ec_bdbb_96000040dfb6row19_col13,#T_56571708_b6f2_11ec_bdbb_96000040dfb6row19_col14,#T_56571708_b6f2_11ec_bdbb_96000040dfb6row19_col15,#T_56571708_b6f2_11ec_bdbb_96000040dfb6row19_col16,#T_56571708_b6f2_11ec_bdbb_96000040dfb6row19_col17,#T_56571708_b6f2_11ec_bdbb_96000040dfb6row19_col18,#T_56571708_b6f2_11ec_bdbb_96000040dfb6row20_col3,#T_56571708_b6f2_11ec_bdbb_96000040dfb6row20_col4,#T_56571708_b6f2_11ec_bdbb_96000040dfb6row20_col5,#T_56571708_b6f2_11ec_bdbb_96000040dfb6row20_col6,#T_56571708_b6f2_11ec_bdbb_96000040dfb6row20_col7,#T_56571708_b6f2_11ec_bdbb_96000040dfb6row20_col8,#T_56571708_b6f2_11ec_bdbb_96000040dfb6row20_col9,#T_56571708_b6f2_11ec_bdbb_96000040dfb6row20_col10,#T_56571708_b6f2_11ec_bdbb_96000040dfb6row20_col11,#T_56571708_b6f2_11ec_bdbb_96000040dfb6row20_col12,#T_56571708_b6f2_11ec_bdbb_96000040dfb6row20_col13,#T_56571708_b6f2_11ec_bdbb_96000040dfb6row20_col14,#T_56571708_b6f2_11ec_bdbb_96000040dfb6row20_col15,#T_56571708_b6f2_11ec_bdbb_96000040dfb6row20_col16,#T_56571708_b6f2_11ec_bdbb_96000040dfb6row20_col17,#T_56571708_b6f2_11ec_bdbb_96000040dfb6row20_col18,#T_56571708_b6f2_11ec_bdbb_96000040dfb6row21_col2,#T_56571708_b6f2_11ec_bdbb_96000040dfb6row21_col3,#T_56571708_b6f2_11ec_bdbb_96000040dfb6row21_col4,#T_56571708_b6f2_11ec_bdbb_96000040dfb6row21_col5,#T_56571708_b6f2_11ec_bdbb_96000040dfb6row21_col6,#T_56571708_b6f2_11ec_bdbb_96000040dfb6row21_col7,#T_56571708_b6f2_11ec_bdbb_96000040dfb6row21_col8,#T_56571708_b6f2_11ec_bdbb_96000040dfb6row21_col9,#T_56571708_b6f2_11ec_bdbb_96000040dfb6row21_col10,#T_56571708_b6f2_11ec_bdbb_96000040dfb6row21_col11,#T_56571708_b6f2_11ec_bdbb_96000040dfb6row21_col12,#T_56571708_b6f2_11ec_bdbb_96000040dfb6row21_col13,#T_56571708_b6f2_11ec_bdbb_96000040dfb6row21_col14,#T_56571708_b6f2_11ec_bdbb_96000040dfb6row21_col15,#T_56571708_b6f2_11ec_bdbb_96000040dfb6row21_col16,#T_56571708_b6f2_11ec_bdbb_96000040dfb6row21_col17,#T_56571708_b6f2_11ec_bdbb_96000040dfb6row21_col18,#T_56571708_b6f2_11ec_bdbb_96000040dfb6row22_col2,#T_56571708_b6f2_11ec_bdbb_96000040dfb6row22_col3,#T_56571708_b6f2_11ec_bdbb_96000040dfb6row22_col4,#T_56571708_b6f2_11ec_bdbb_96000040dfb6row22_col5,#T_56571708_b6f2_11ec_bdbb_96000040dfb6row22_col6,#T_56571708_b6f2_11ec_bdbb_96000040dfb6row22_col7,#T_56571708_b6f2_11ec_bdbb_96000040dfb6row22_col8,#T_56571708_b6f2_11ec_bdbb_96000040dfb6row22_col9,#T_56571708_b6f2_11ec_bdbb_96000040dfb6row22_col10,#T_56571708_b6f2_11ec_bdbb_96000040dfb6row22_col11,#T_56571708_b6f2_11ec_bdbb_96000040dfb6row22_col12,#T_56571708_b6f2_11ec_bdbb_96000040dfb6row22_col13,#T_56571708_b6f2_11ec_bdbb_96000040dfb6row22_col14,#T_56571708_b6f2_11ec_bdbb_96000040dfb6row22_col15,#T_56571708_b6f2_11ec_bdbb_96000040dfb6row22_col16,#T_56571708_b6f2_11ec_bdbb_96000040dfb6row22_col17,#T_56571708_b6f2_11ec_bdbb_96000040dfb6row22_col18{\n",
       "            background-color:  #000000;\n",
       "            color:  #f1f1f1;\n",
       "            background-color:  white;\n",
       "        }#T_56571708_b6f2_11ec_bdbb_96000040dfb6row0_col19,#T_56571708_b6f2_11ec_bdbb_96000040dfb6row2_col19,#T_56571708_b6f2_11ec_bdbb_96000040dfb6row3_col19,#T_56571708_b6f2_11ec_bdbb_96000040dfb6row4_col19,#T_56571708_b6f2_11ec_bdbb_96000040dfb6row5_col19,#T_56571708_b6f2_11ec_bdbb_96000040dfb6row6_col19,#T_56571708_b6f2_11ec_bdbb_96000040dfb6row7_col19,#T_56571708_b6f2_11ec_bdbb_96000040dfb6row8_col19,#T_56571708_b6f2_11ec_bdbb_96000040dfb6row9_col19,#T_56571708_b6f2_11ec_bdbb_96000040dfb6row10_col19,#T_56571708_b6f2_11ec_bdbb_96000040dfb6row11_col19,#T_56571708_b6f2_11ec_bdbb_96000040dfb6row12_col19,#T_56571708_b6f2_11ec_bdbb_96000040dfb6row13_col19,#T_56571708_b6f2_11ec_bdbb_96000040dfb6row14_col19,#T_56571708_b6f2_11ec_bdbb_96000040dfb6row15_col19,#T_56571708_b6f2_11ec_bdbb_96000040dfb6row16_col19,#T_56571708_b6f2_11ec_bdbb_96000040dfb6row17_col19,#T_56571708_b6f2_11ec_bdbb_96000040dfb6row18_col19,#T_56571708_b6f2_11ec_bdbb_96000040dfb6row19_col19,#T_56571708_b6f2_11ec_bdbb_96000040dfb6row20_col19,#T_56571708_b6f2_11ec_bdbb_96000040dfb6row21_col19,#T_56571708_b6f2_11ec_bdbb_96000040dfb6row22_col19{\n",
       "            background-color:  #440154;\n",
       "            color:  #f1f1f1;\n",
       "            background-color:  white;\n",
       "        }#T_56571708_b6f2_11ec_bdbb_96000040dfb6row1_col6,#T_56571708_b6f2_11ec_bdbb_96000040dfb6row11_col8{\n",
       "            background-color:  #63cb5f;\n",
       "            color:  #000000;\n",
       "        }#T_56571708_b6f2_11ec_bdbb_96000040dfb6row1_col9,#T_56571708_b6f2_11ec_bdbb_96000040dfb6row1_col11,#T_56571708_b6f2_11ec_bdbb_96000040dfb6row1_col15,#T_56571708_b6f2_11ec_bdbb_96000040dfb6row1_col18,#T_56571708_b6f2_11ec_bdbb_96000040dfb6row2_col1,#T_56571708_b6f2_11ec_bdbb_96000040dfb6row3_col10,#T_56571708_b6f2_11ec_bdbb_96000040dfb6row3_col12,#T_56571708_b6f2_11ec_bdbb_96000040dfb6row3_col13,#T_56571708_b6f2_11ec_bdbb_96000040dfb6row3_col16,#T_56571708_b6f2_11ec_bdbb_96000040dfb6row3_col17,#T_56571708_b6f2_11ec_bdbb_96000040dfb6row5_col8,#T_56571708_b6f2_11ec_bdbb_96000040dfb6row7_col3,#T_56571708_b6f2_11ec_bdbb_96000040dfb6row7_col6,#T_56571708_b6f2_11ec_bdbb_96000040dfb6row7_col14,#T_56571708_b6f2_11ec_bdbb_96000040dfb6row10_col5,#T_56571708_b6f2_11ec_bdbb_96000040dfb6row11_col2,#T_56571708_b6f2_11ec_bdbb_96000040dfb6row11_col4,#T_56571708_b6f2_11ec_bdbb_96000040dfb6row12_col7{\n",
       "            background-color:  #fde725;\n",
       "            color:  #000000;\n",
       "        }#T_56571708_b6f2_11ec_bdbb_96000040dfb6row1_col13{\n",
       "            background-color:  #a5db36;\n",
       "            color:  #000000;\n",
       "        }#T_56571708_b6f2_11ec_bdbb_96000040dfb6row1_col17{\n",
       "            background-color:  #75d054;\n",
       "            color:  #000000;\n",
       "        }#T_56571708_b6f2_11ec_bdbb_96000040dfb6row3_col2,#T_56571708_b6f2_11ec_bdbb_96000040dfb6row5_col11,#T_56571708_b6f2_11ec_bdbb_96000040dfb6row13_col5{\n",
       "            background-color:  #453781;\n",
       "            color:  #f1f1f1;\n",
       "        }#T_56571708_b6f2_11ec_bdbb_96000040dfb6row3_col3{\n",
       "            background-color:  #46307e;\n",
       "            color:  #f1f1f1;\n",
       "        }#T_56571708_b6f2_11ec_bdbb_96000040dfb6row3_col4{\n",
       "            background-color:  #a2da37;\n",
       "            color:  #000000;\n",
       "        }#T_56571708_b6f2_11ec_bdbb_96000040dfb6row3_col5,#T_56571708_b6f2_11ec_bdbb_96000040dfb6row6_col13{\n",
       "            background-color:  #471063;\n",
       "            color:  #f1f1f1;\n",
       "        }#T_56571708_b6f2_11ec_bdbb_96000040dfb6row3_col6{\n",
       "            background-color:  #cae11f;\n",
       "            color:  #000000;\n",
       "        }#T_56571708_b6f2_11ec_bdbb_96000040dfb6row3_col7{\n",
       "            background-color:  #31678e;\n",
       "            color:  #f1f1f1;\n",
       "        }#T_56571708_b6f2_11ec_bdbb_96000040dfb6row3_col8{\n",
       "            background-color:  #48186a;\n",
       "            color:  #f1f1f1;\n",
       "        }#T_56571708_b6f2_11ec_bdbb_96000040dfb6row3_col11{\n",
       "            background-color:  #3f4889;\n",
       "            color:  #f1f1f1;\n",
       "        }#T_56571708_b6f2_11ec_bdbb_96000040dfb6row3_col14{\n",
       "            background-color:  #287d8e;\n",
       "            color:  #000000;\n",
       "        }#T_56571708_b6f2_11ec_bdbb_96000040dfb6row3_col15,#T_56571708_b6f2_11ec_bdbb_96000040dfb6row5_col12{\n",
       "            background-color:  #3a538b;\n",
       "            color:  #f1f1f1;\n",
       "        }#T_56571708_b6f2_11ec_bdbb_96000040dfb6row4_col2,#T_56571708_b6f2_11ec_bdbb_96000040dfb6row9_col7,#T_56571708_b6f2_11ec_bdbb_96000040dfb6row13_col3{\n",
       "            background-color:  #3b518b;\n",
       "            color:  #f1f1f1;\n",
       "        }#T_56571708_b6f2_11ec_bdbb_96000040dfb6row4_col3{\n",
       "            background-color:  #482071;\n",
       "            color:  #f1f1f1;\n",
       "        }#T_56571708_b6f2_11ec_bdbb_96000040dfb6row4_col4{\n",
       "            background-color:  #c5e021;\n",
       "            color:  #000000;\n",
       "        }#T_56571708_b6f2_11ec_bdbb_96000040dfb6row4_col5,#T_56571708_b6f2_11ec_bdbb_96000040dfb6row5_col1,#T_56571708_b6f2_11ec_bdbb_96000040dfb6row6_col1,#T_56571708_b6f2_11ec_bdbb_96000040dfb6row7_col1,#T_56571708_b6f2_11ec_bdbb_96000040dfb6row8_col1,#T_56571708_b6f2_11ec_bdbb_96000040dfb6row9_col1,#T_56571708_b6f2_11ec_bdbb_96000040dfb6row10_col1,#T_56571708_b6f2_11ec_bdbb_96000040dfb6row11_col1,#T_56571708_b6f2_11ec_bdbb_96000040dfb6row12_col1,#T_56571708_b6f2_11ec_bdbb_96000040dfb6row13_col1,#T_56571708_b6f2_11ec_bdbb_96000040dfb6row18_col1,#T_56571708_b6f2_11ec_bdbb_96000040dfb6row19_col1,#T_56571708_b6f2_11ec_bdbb_96000040dfb6row20_col1,#T_56571708_b6f2_11ec_bdbb_96000040dfb6row21_col1{\n",
       "            background-color:  #440256;\n",
       "            color:  #f1f1f1;\n",
       "        }#T_56571708_b6f2_11ec_bdbb_96000040dfb6row4_col6{\n",
       "            background-color:  #2a788e;\n",
       "            color:  #000000;\n",
       "        }#T_56571708_b6f2_11ec_bdbb_96000040dfb6row4_col7{\n",
       "            background-color:  #24868e;\n",
       "            color:  #000000;\n",
       "        }#T_56571708_b6f2_11ec_bdbb_96000040dfb6row4_col9,#T_56571708_b6f2_11ec_bdbb_96000040dfb6row5_col2{\n",
       "            background-color:  #287c8e;\n",
       "            color:  #000000;\n",
       "        }#T_56571708_b6f2_11ec_bdbb_96000040dfb6row4_col11{\n",
       "            background-color:  #81d34d;\n",
       "            color:  #000000;\n",
       "        }#T_56571708_b6f2_11ec_bdbb_96000040dfb6row4_col12{\n",
       "            background-color:  #481668;\n",
       "            color:  #f1f1f1;\n",
       "        }#T_56571708_b6f2_11ec_bdbb_96000040dfb6row4_col13{\n",
       "            background-color:  #29798e;\n",
       "            color:  #000000;\n",
       "        }#T_56571708_b6f2_11ec_bdbb_96000040dfb6row4_col14,#T_56571708_b6f2_11ec_bdbb_96000040dfb6row7_col12{\n",
       "            background-color:  #365d8d;\n",
       "            color:  #f1f1f1;\n",
       "        }#T_56571708_b6f2_11ec_bdbb_96000040dfb6row4_col17{\n",
       "            background-color:  #31688e;\n",
       "            color:  #f1f1f1;\n",
       "        }#T_56571708_b6f2_11ec_bdbb_96000040dfb6row5_col3{\n",
       "            background-color:  #f1e51d;\n",
       "            color:  #000000;\n",
       "        }#T_56571708_b6f2_11ec_bdbb_96000040dfb6row5_col4,#T_56571708_b6f2_11ec_bdbb_96000040dfb6row9_col9{\n",
       "            background-color:  #46c06f;\n",
       "            color:  #000000;\n",
       "        }#T_56571708_b6f2_11ec_bdbb_96000040dfb6row5_col5{\n",
       "            background-color:  #482374;\n",
       "            color:  #f1f1f1;\n",
       "        }#T_56571708_b6f2_11ec_bdbb_96000040dfb6row5_col6{\n",
       "            background-color:  #46327e;\n",
       "            color:  #f1f1f1;\n",
       "        }#T_56571708_b6f2_11ec_bdbb_96000040dfb6row5_col7{\n",
       "            background-color:  #98d83e;\n",
       "            color:  #000000;\n",
       "        }#T_56571708_b6f2_11ec_bdbb_96000040dfb6row5_col9,#T_56571708_b6f2_11ec_bdbb_96000040dfb6row9_col12{\n",
       "            background-color:  #481c6e;\n",
       "            color:  #f1f1f1;\n",
       "        }#T_56571708_b6f2_11ec_bdbb_96000040dfb6row5_col10,#T_56571708_b6f2_11ec_bdbb_96000040dfb6row8_col14{\n",
       "            background-color:  #e7e419;\n",
       "            color:  #000000;\n",
       "        }#T_56571708_b6f2_11ec_bdbb_96000040dfb6row5_col13{\n",
       "            background-color:  #3c4f8a;\n",
       "            color:  #f1f1f1;\n",
       "        }#T_56571708_b6f2_11ec_bdbb_96000040dfb6row5_col14{\n",
       "            background-color:  #27ad81;\n",
       "            color:  #000000;\n",
       "        }#T_56571708_b6f2_11ec_bdbb_96000040dfb6row5_col15{\n",
       "            background-color:  #23a983;\n",
       "            color:  #000000;\n",
       "        }#T_56571708_b6f2_11ec_bdbb_96000040dfb6row5_col16,#T_56571708_b6f2_11ec_bdbb_96000040dfb6row6_col15{\n",
       "            background-color:  #482173;\n",
       "            color:  #f1f1f1;\n",
       "        }#T_56571708_b6f2_11ec_bdbb_96000040dfb6row6_col3{\n",
       "            background-color:  #39568c;\n",
       "            color:  #f1f1f1;\n",
       "        }#T_56571708_b6f2_11ec_bdbb_96000040dfb6row6_col4,#T_56571708_b6f2_11ec_bdbb_96000040dfb6row16_col2{\n",
       "            background-color:  #1e9c89;\n",
       "            color:  #000000;\n",
       "        }#T_56571708_b6f2_11ec_bdbb_96000040dfb6row6_col5{\n",
       "            background-color:  #306a8e;\n",
       "            color:  #f1f1f1;\n",
       "        }#T_56571708_b6f2_11ec_bdbb_96000040dfb6row6_col6{\n",
       "            background-color:  #5ac864;\n",
       "            color:  #000000;\n",
       "        }#T_56571708_b6f2_11ec_bdbb_96000040dfb6row6_col7{\n",
       "            background-color:  #86d549;\n",
       "            color:  #000000;\n",
       "        }#T_56571708_b6f2_11ec_bdbb_96000040dfb6row6_col8{\n",
       "            background-color:  #73d056;\n",
       "            color:  #000000;\n",
       "        }#T_56571708_b6f2_11ec_bdbb_96000040dfb6row6_col9,#T_56571708_b6f2_11ec_bdbb_96000040dfb6row11_col9{\n",
       "            background-color:  #2a778e;\n",
       "            color:  #000000;\n",
       "        }#T_56571708_b6f2_11ec_bdbb_96000040dfb6row6_col10{\n",
       "            background-color:  #21908d;\n",
       "            color:  #000000;\n",
       "        }#T_56571708_b6f2_11ec_bdbb_96000040dfb6row6_col11,#T_56571708_b6f2_11ec_bdbb_96000040dfb6row8_col8{\n",
       "            background-color:  #471164;\n",
       "            color:  #f1f1f1;\n",
       "        }#T_56571708_b6f2_11ec_bdbb_96000040dfb6row6_col16{\n",
       "            background-color:  #30698e;\n",
       "            color:  #f1f1f1;\n",
       "        }#T_56571708_b6f2_11ec_bdbb_96000040dfb6row7_col2{\n",
       "            background-color:  #84d44b;\n",
       "            color:  #000000;\n",
       "        }#T_56571708_b6f2_11ec_bdbb_96000040dfb6row7_col4,#T_56571708_b6f2_11ec_bdbb_96000040dfb6row8_col9{\n",
       "            background-color:  #20a386;\n",
       "            color:  #000000;\n",
       "        }#T_56571708_b6f2_11ec_bdbb_96000040dfb6row7_col5,#T_56571708_b6f2_11ec_bdbb_96000040dfb6row13_col2{\n",
       "            background-color:  #1f998a;\n",
       "            color:  #000000;\n",
       "        }#T_56571708_b6f2_11ec_bdbb_96000040dfb6row7_col7{\n",
       "            background-color:  #2e6d8e;\n",
       "            color:  #f1f1f1;\n",
       "        }#T_56571708_b6f2_11ec_bdbb_96000040dfb6row7_col8{\n",
       "            background-color:  #21a585;\n",
       "            color:  #000000;\n",
       "        }#T_56571708_b6f2_11ec_bdbb_96000040dfb6row7_col9{\n",
       "            background-color:  #3aba76;\n",
       "            color:  #000000;\n",
       "        }#T_56571708_b6f2_11ec_bdbb_96000040dfb6row7_col10{\n",
       "            background-color:  #228c8d;\n",
       "            color:  #000000;\n",
       "        }#T_56571708_b6f2_11ec_bdbb_96000040dfb6row7_col11{\n",
       "            background-color:  #eae51a;\n",
       "            color:  #000000;\n",
       "        }#T_56571708_b6f2_11ec_bdbb_96000040dfb6row7_col15,#T_56571708_b6f2_11ec_bdbb_96000040dfb6row10_col3{\n",
       "            background-color:  #1fa287;\n",
       "            color:  #000000;\n",
       "        }#T_56571708_b6f2_11ec_bdbb_96000040dfb6row8_col2{\n",
       "            background-color:  #277f8e;\n",
       "            color:  #000000;\n",
       "        }#T_56571708_b6f2_11ec_bdbb_96000040dfb6row8_col3{\n",
       "            background-color:  #ece51b;\n",
       "            color:  #000000;\n",
       "        }#T_56571708_b6f2_11ec_bdbb_96000040dfb6row8_col4{\n",
       "            background-color:  #297b8e;\n",
       "            color:  #000000;\n",
       "        }#T_56571708_b6f2_11ec_bdbb_96000040dfb6row8_col5,#T_56571708_b6f2_11ec_bdbb_96000040dfb6row9_col6,#T_56571708_b6f2_11ec_bdbb_96000040dfb6row17_col3{\n",
       "            background-color:  #2fb47c;\n",
       "            color:  #000000;\n",
       "        }#T_56571708_b6f2_11ec_bdbb_96000040dfb6row8_col6,#T_56571708_b6f2_11ec_bdbb_96000040dfb6row9_col11{\n",
       "            background-color:  #6ece58;\n",
       "            color:  #000000;\n",
       "        }#T_56571708_b6f2_11ec_bdbb_96000040dfb6row8_col7{\n",
       "            background-color:  #22a884;\n",
       "            color:  #000000;\n",
       "        }#T_56571708_b6f2_11ec_bdbb_96000040dfb6row8_col10{\n",
       "            background-color:  #52c569;\n",
       "            color:  #000000;\n",
       "        }#T_56571708_b6f2_11ec_bdbb_96000040dfb6row8_col11{\n",
       "            background-color:  #c0df25;\n",
       "            color:  #000000;\n",
       "        }#T_56571708_b6f2_11ec_bdbb_96000040dfb6row8_col12,#T_56571708_b6f2_11ec_bdbb_96000040dfb6row19_col2{\n",
       "            background-color:  #472e7c;\n",
       "            color:  #f1f1f1;\n",
       "        }#T_56571708_b6f2_11ec_bdbb_96000040dfb6row8_col13,#T_56571708_b6f2_11ec_bdbb_96000040dfb6row17_col2{\n",
       "            background-color:  #38588c;\n",
       "            color:  #f1f1f1;\n",
       "        }#T_56571708_b6f2_11ec_bdbb_96000040dfb6row9_col2{\n",
       "            background-color:  #2b748e;\n",
       "            color:  #f1f1f1;\n",
       "        }#T_56571708_b6f2_11ec_bdbb_96000040dfb6row9_col3{\n",
       "            background-color:  #238a8d;\n",
       "            color:  #000000;\n",
       "        }#T_56571708_b6f2_11ec_bdbb_96000040dfb6row9_col4,#T_56571708_b6f2_11ec_bdbb_96000040dfb6row12_col9,#T_56571708_b6f2_11ec_bdbb_96000040dfb6row13_col7,#T_56571708_b6f2_11ec_bdbb_96000040dfb6row15_col4{\n",
       "            background-color:  #20928c;\n",
       "            color:  #000000;\n",
       "        }#T_56571708_b6f2_11ec_bdbb_96000040dfb6row9_col5{\n",
       "            background-color:  #3e4a89;\n",
       "            color:  #f1f1f1;\n",
       "        }#T_56571708_b6f2_11ec_bdbb_96000040dfb6row9_col8{\n",
       "            background-color:  #375a8c;\n",
       "            color:  #f1f1f1;\n",
       "        }#T_56571708_b6f2_11ec_bdbb_96000040dfb6row9_col10{\n",
       "            background-color:  #32658e;\n",
       "            color:  #f1f1f1;\n",
       "        }#T_56571708_b6f2_11ec_bdbb_96000040dfb6row9_col13{\n",
       "            background-color:  #29af7f;\n",
       "            color:  #000000;\n",
       "        }#T_56571708_b6f2_11ec_bdbb_96000040dfb6row10_col2{\n",
       "            background-color:  #2c738e;\n",
       "            color:  #f1f1f1;\n",
       "        }#T_56571708_b6f2_11ec_bdbb_96000040dfb6row10_col4{\n",
       "            background-color:  #5cc863;\n",
       "            color:  #000000;\n",
       "        }#T_56571708_b6f2_11ec_bdbb_96000040dfb6row10_col6{\n",
       "            background-color:  #1fa187;\n",
       "            color:  #000000;\n",
       "        }#T_56571708_b6f2_11ec_bdbb_96000040dfb6row10_col7{\n",
       "            background-color:  #4cc26c;\n",
       "            color:  #000000;\n",
       "        }#T_56571708_b6f2_11ec_bdbb_96000040dfb6row10_col8{\n",
       "            background-color:  #482979;\n",
       "            color:  #f1f1f1;\n",
       "        }#T_56571708_b6f2_11ec_bdbb_96000040dfb6row10_col9,#T_56571708_b6f2_11ec_bdbb_96000040dfb6row12_col10{\n",
       "            background-color:  #34618d;\n",
       "            color:  #f1f1f1;\n",
       "        }#T_56571708_b6f2_11ec_bdbb_96000040dfb6row10_col10,#T_56571708_b6f2_11ec_bdbb_96000040dfb6row14_col8,#T_56571708_b6f2_11ec_bdbb_96000040dfb6row15_col2,#T_56571708_b6f2_11ec_bdbb_96000040dfb6row16_col4{\n",
       "            background-color:  #26828e;\n",
       "            color:  #000000;\n",
       "        }#T_56571708_b6f2_11ec_bdbb_96000040dfb6row10_col11{\n",
       "            background-color:  #26818e;\n",
       "            color:  #000000;\n",
       "        }#T_56571708_b6f2_11ec_bdbb_96000040dfb6row10_col12{\n",
       "            background-color:  #481769;\n",
       "            color:  #f1f1f1;\n",
       "        }#T_56571708_b6f2_11ec_bdbb_96000040dfb6row11_col3,#T_56571708_b6f2_11ec_bdbb_96000040dfb6row12_col8{\n",
       "            background-color:  #37b878;\n",
       "            color:  #000000;\n",
       "        }#T_56571708_b6f2_11ec_bdbb_96000040dfb6row11_col5,#T_56571708_b6f2_11ec_bdbb_96000040dfb6row16_col5{\n",
       "            background-color:  #3b528b;\n",
       "            color:  #f1f1f1;\n",
       "        }#T_56571708_b6f2_11ec_bdbb_96000040dfb6row11_col6,#T_56571708_b6f2_11ec_bdbb_96000040dfb6row19_col3{\n",
       "            background-color:  #2f6c8e;\n",
       "            color:  #f1f1f1;\n",
       "        }#T_56571708_b6f2_11ec_bdbb_96000040dfb6row11_col7{\n",
       "            background-color:  #32b67a;\n",
       "            color:  #000000;\n",
       "        }#T_56571708_b6f2_11ec_bdbb_96000040dfb6row11_col10{\n",
       "            background-color:  #1f9a8a;\n",
       "            color:  #000000;\n",
       "        }#T_56571708_b6f2_11ec_bdbb_96000040dfb6row12_col2{\n",
       "            background-color:  #482677;\n",
       "            color:  #f1f1f1;\n",
       "        }#T_56571708_b6f2_11ec_bdbb_96000040dfb6row12_col4{\n",
       "            background-color:  #33638d;\n",
       "            color:  #f1f1f1;\n",
       "        }#T_56571708_b6f2_11ec_bdbb_96000040dfb6row12_col5{\n",
       "            background-color:  #3f4788;\n",
       "            color:  #f1f1f1;\n",
       "        }#T_56571708_b6f2_11ec_bdbb_96000040dfb6row12_col6,#T_56571708_b6f2_11ec_bdbb_96000040dfb6row16_col6{\n",
       "            background-color:  #355f8d;\n",
       "            color:  #f1f1f1;\n",
       "        }#T_56571708_b6f2_11ec_bdbb_96000040dfb6row13_col4,#T_56571708_b6f2_11ec_bdbb_96000040dfb6row14_col5{\n",
       "            background-color:  #404688;\n",
       "            color:  #f1f1f1;\n",
       "        }#T_56571708_b6f2_11ec_bdbb_96000040dfb6row13_col8{\n",
       "            background-color:  #460b5e;\n",
       "            color:  #f1f1f1;\n",
       "        }#T_56571708_b6f2_11ec_bdbb_96000040dfb6row14_col2{\n",
       "            background-color:  #423f85;\n",
       "            color:  #f1f1f1;\n",
       "        }#T_56571708_b6f2_11ec_bdbb_96000040dfb6row14_col3{\n",
       "            background-color:  #9bd93c;\n",
       "            color:  #000000;\n",
       "        }#T_56571708_b6f2_11ec_bdbb_96000040dfb6row14_col4{\n",
       "            background-color:  #297a8e;\n",
       "            color:  #000000;\n",
       "        }#T_56571708_b6f2_11ec_bdbb_96000040dfb6row14_col6{\n",
       "            background-color:  #443b84;\n",
       "            color:  #f1f1f1;\n",
       "        }#T_56571708_b6f2_11ec_bdbb_96000040dfb6row15_col3{\n",
       "            background-color:  #2eb37c;\n",
       "            color:  #000000;\n",
       "        }#T_56571708_b6f2_11ec_bdbb_96000040dfb6row15_col5{\n",
       "            background-color:  #482576;\n",
       "            color:  #f1f1f1;\n",
       "        }#T_56571708_b6f2_11ec_bdbb_96000040dfb6row15_col6{\n",
       "            background-color:  #414287;\n",
       "            color:  #f1f1f1;\n",
       "        }#T_56571708_b6f2_11ec_bdbb_96000040dfb6row15_col7{\n",
       "            background-color:  #25ab82;\n",
       "            color:  #000000;\n",
       "        }#T_56571708_b6f2_11ec_bdbb_96000040dfb6row16_col3{\n",
       "            background-color:  #3bbb75;\n",
       "            color:  #000000;\n",
       "        }#T_56571708_b6f2_11ec_bdbb_96000040dfb6row18_col2{\n",
       "            background-color:  #34608d;\n",
       "            color:  #f1f1f1;\n",
       "        }#T_56571708_b6f2_11ec_bdbb_96000040dfb6row18_col3{\n",
       "            background-color:  #228d8d;\n",
       "            color:  #000000;\n",
       "        }#T_56571708_b6f2_11ec_bdbb_96000040dfb6row18_col4{\n",
       "            background-color:  #450559;\n",
       "            color:  #f1f1f1;\n",
       "        }#T_56571708_b6f2_11ec_bdbb_96000040dfb6row20_col2{\n",
       "            background-color:  #443a83;\n",
       "            color:  #f1f1f1;\n",
       "        }</style><table id=\"T_56571708_b6f2_11ec_bdbb_96000040dfb6\" ><caption>Customer retention by cohort</caption><thead>    <tr>        <th class=\"index_name level0\" >period_number</th>        <th class=\"col_heading level0 col0\" >0</th>        <th class=\"col_heading level0 col1\" >1</th>        <th class=\"col_heading level0 col2\" >2</th>        <th class=\"col_heading level0 col3\" >3</th>        <th class=\"col_heading level0 col4\" >4</th>        <th class=\"col_heading level0 col5\" >5</th>        <th class=\"col_heading level0 col6\" >6</th>        <th class=\"col_heading level0 col7\" >7</th>        <th class=\"col_heading level0 col8\" >8</th>        <th class=\"col_heading level0 col9\" >9</th>        <th class=\"col_heading level0 col10\" >10</th>        <th class=\"col_heading level0 col11\" >11</th>        <th class=\"col_heading level0 col12\" >12</th>        <th class=\"col_heading level0 col13\" >13</th>        <th class=\"col_heading level0 col14\" >14</th>        <th class=\"col_heading level0 col15\" >15</th>        <th class=\"col_heading level0 col16\" >16</th>        <th class=\"col_heading level0 col17\" >17</th>        <th class=\"col_heading level0 col18\" >19</th>        <th class=\"col_heading level0 col19\" >20</th>    </tr>    <tr>        <th class=\"index_name level0\" >cohort</th>        <th class=\"blank\" ></th>        <th class=\"blank\" ></th>        <th class=\"blank\" ></th>        <th class=\"blank\" ></th>        <th class=\"blank\" ></th>        <th class=\"blank\" ></th>        <th class=\"blank\" ></th>        <th class=\"blank\" ></th>        <th class=\"blank\" ></th>        <th class=\"blank\" ></th>        <th class=\"blank\" ></th>        <th class=\"blank\" ></th>        <th class=\"blank\" ></th>        <th class=\"blank\" ></th>        <th class=\"blank\" ></th>        <th class=\"blank\" ></th>        <th class=\"blank\" ></th>        <th class=\"blank\" ></th>        <th class=\"blank\" ></th>        <th class=\"blank\" ></th>    </tr></thead><tbody>\n",
       "                <tr>\n",
       "                        <th id=\"T_56571708_b6f2_11ec_bdbb_96000040dfb6level0_row0\" class=\"row_heading level0 row0\" >2016-09</th>\n",
       "                        <td id=\"T_56571708_b6f2_11ec_bdbb_96000040dfb6row0_col0\" class=\"data row0 col0\" >100.00%</td>\n",
       "                        <td id=\"T_56571708_b6f2_11ec_bdbb_96000040dfb6row0_col1\" class=\"data row0 col1\" ></td>\n",
       "                        <td id=\"T_56571708_b6f2_11ec_bdbb_96000040dfb6row0_col2\" class=\"data row0 col2\" ></td>\n",
       "                        <td id=\"T_56571708_b6f2_11ec_bdbb_96000040dfb6row0_col3\" class=\"data row0 col3\" ></td>\n",
       "                        <td id=\"T_56571708_b6f2_11ec_bdbb_96000040dfb6row0_col4\" class=\"data row0 col4\" ></td>\n",
       "                        <td id=\"T_56571708_b6f2_11ec_bdbb_96000040dfb6row0_col5\" class=\"data row0 col5\" ></td>\n",
       "                        <td id=\"T_56571708_b6f2_11ec_bdbb_96000040dfb6row0_col6\" class=\"data row0 col6\" ></td>\n",
       "                        <td id=\"T_56571708_b6f2_11ec_bdbb_96000040dfb6row0_col7\" class=\"data row0 col7\" ></td>\n",
       "                        <td id=\"T_56571708_b6f2_11ec_bdbb_96000040dfb6row0_col8\" class=\"data row0 col8\" ></td>\n",
       "                        <td id=\"T_56571708_b6f2_11ec_bdbb_96000040dfb6row0_col9\" class=\"data row0 col9\" ></td>\n",
       "                        <td id=\"T_56571708_b6f2_11ec_bdbb_96000040dfb6row0_col10\" class=\"data row0 col10\" ></td>\n",
       "                        <td id=\"T_56571708_b6f2_11ec_bdbb_96000040dfb6row0_col11\" class=\"data row0 col11\" ></td>\n",
       "                        <td id=\"T_56571708_b6f2_11ec_bdbb_96000040dfb6row0_col12\" class=\"data row0 col12\" ></td>\n",
       "                        <td id=\"T_56571708_b6f2_11ec_bdbb_96000040dfb6row0_col13\" class=\"data row0 col13\" ></td>\n",
       "                        <td id=\"T_56571708_b6f2_11ec_bdbb_96000040dfb6row0_col14\" class=\"data row0 col14\" ></td>\n",
       "                        <td id=\"T_56571708_b6f2_11ec_bdbb_96000040dfb6row0_col15\" class=\"data row0 col15\" ></td>\n",
       "                        <td id=\"T_56571708_b6f2_11ec_bdbb_96000040dfb6row0_col16\" class=\"data row0 col16\" ></td>\n",
       "                        <td id=\"T_56571708_b6f2_11ec_bdbb_96000040dfb6row0_col17\" class=\"data row0 col17\" ></td>\n",
       "                        <td id=\"T_56571708_b6f2_11ec_bdbb_96000040dfb6row0_col18\" class=\"data row0 col18\" ></td>\n",
       "                        <td id=\"T_56571708_b6f2_11ec_bdbb_96000040dfb6row0_col19\" class=\"data row0 col19\" ></td>\n",
       "            </tr>\n",
       "            <tr>\n",
       "                        <th id=\"T_56571708_b6f2_11ec_bdbb_96000040dfb6level0_row1\" class=\"row_heading level0 row1\" >2016-10</th>\n",
       "                        <td id=\"T_56571708_b6f2_11ec_bdbb_96000040dfb6row1_col0\" class=\"data row1 col0\" >100.00%</td>\n",
       "                        <td id=\"T_56571708_b6f2_11ec_bdbb_96000040dfb6row1_col1\" class=\"data row1 col1\" ></td>\n",
       "                        <td id=\"T_56571708_b6f2_11ec_bdbb_96000040dfb6row1_col2\" class=\"data row1 col2\" ></td>\n",
       "                        <td id=\"T_56571708_b6f2_11ec_bdbb_96000040dfb6row1_col3\" class=\"data row1 col3\" ></td>\n",
       "                        <td id=\"T_56571708_b6f2_11ec_bdbb_96000040dfb6row1_col4\" class=\"data row1 col4\" ></td>\n",
       "                        <td id=\"T_56571708_b6f2_11ec_bdbb_96000040dfb6row1_col5\" class=\"data row1 col5\" ></td>\n",
       "                        <td id=\"T_56571708_b6f2_11ec_bdbb_96000040dfb6row1_col6\" class=\"data row1 col6\" >0.35%</td>\n",
       "                        <td id=\"T_56571708_b6f2_11ec_bdbb_96000040dfb6row1_col7\" class=\"data row1 col7\" ></td>\n",
       "                        <td id=\"T_56571708_b6f2_11ec_bdbb_96000040dfb6row1_col8\" class=\"data row1 col8\" ></td>\n",
       "                        <td id=\"T_56571708_b6f2_11ec_bdbb_96000040dfb6row1_col9\" class=\"data row1 col9\" >0.35%</td>\n",
       "                        <td id=\"T_56571708_b6f2_11ec_bdbb_96000040dfb6row1_col10\" class=\"data row1 col10\" ></td>\n",
       "                        <td id=\"T_56571708_b6f2_11ec_bdbb_96000040dfb6row1_col11\" class=\"data row1 col11\" >0.35%</td>\n",
       "                        <td id=\"T_56571708_b6f2_11ec_bdbb_96000040dfb6row1_col12\" class=\"data row1 col12\" ></td>\n",
       "                        <td id=\"T_56571708_b6f2_11ec_bdbb_96000040dfb6row1_col13\" class=\"data row1 col13\" >0.35%</td>\n",
       "                        <td id=\"T_56571708_b6f2_11ec_bdbb_96000040dfb6row1_col14\" class=\"data row1 col14\" ></td>\n",
       "                        <td id=\"T_56571708_b6f2_11ec_bdbb_96000040dfb6row1_col15\" class=\"data row1 col15\" >0.35%</td>\n",
       "                        <td id=\"T_56571708_b6f2_11ec_bdbb_96000040dfb6row1_col16\" class=\"data row1 col16\" ></td>\n",
       "                        <td id=\"T_56571708_b6f2_11ec_bdbb_96000040dfb6row1_col17\" class=\"data row1 col17\" >0.35%</td>\n",
       "                        <td id=\"T_56571708_b6f2_11ec_bdbb_96000040dfb6row1_col18\" class=\"data row1 col18\" >0.70%</td>\n",
       "                        <td id=\"T_56571708_b6f2_11ec_bdbb_96000040dfb6row1_col19\" class=\"data row1 col19\" >0.70%</td>\n",
       "            </tr>\n",
       "            <tr>\n",
       "                        <th id=\"T_56571708_b6f2_11ec_bdbb_96000040dfb6level0_row2\" class=\"row_heading level0 row2\" >2016-12</th>\n",
       "                        <td id=\"T_56571708_b6f2_11ec_bdbb_96000040dfb6row2_col0\" class=\"data row2 col0\" >100.00%</td>\n",
       "                        <td id=\"T_56571708_b6f2_11ec_bdbb_96000040dfb6row2_col1\" class=\"data row2 col1\" >100.00%</td>\n",
       "                        <td id=\"T_56571708_b6f2_11ec_bdbb_96000040dfb6row2_col2\" class=\"data row2 col2\" ></td>\n",
       "                        <td id=\"T_56571708_b6f2_11ec_bdbb_96000040dfb6row2_col3\" class=\"data row2 col3\" ></td>\n",
       "                        <td id=\"T_56571708_b6f2_11ec_bdbb_96000040dfb6row2_col4\" class=\"data row2 col4\" ></td>\n",
       "                        <td id=\"T_56571708_b6f2_11ec_bdbb_96000040dfb6row2_col5\" class=\"data row2 col5\" ></td>\n",
       "                        <td id=\"T_56571708_b6f2_11ec_bdbb_96000040dfb6row2_col6\" class=\"data row2 col6\" ></td>\n",
       "                        <td id=\"T_56571708_b6f2_11ec_bdbb_96000040dfb6row2_col7\" class=\"data row2 col7\" ></td>\n",
       "                        <td id=\"T_56571708_b6f2_11ec_bdbb_96000040dfb6row2_col8\" class=\"data row2 col8\" ></td>\n",
       "                        <td id=\"T_56571708_b6f2_11ec_bdbb_96000040dfb6row2_col9\" class=\"data row2 col9\" ></td>\n",
       "                        <td id=\"T_56571708_b6f2_11ec_bdbb_96000040dfb6row2_col10\" class=\"data row2 col10\" ></td>\n",
       "                        <td id=\"T_56571708_b6f2_11ec_bdbb_96000040dfb6row2_col11\" class=\"data row2 col11\" ></td>\n",
       "                        <td id=\"T_56571708_b6f2_11ec_bdbb_96000040dfb6row2_col12\" class=\"data row2 col12\" ></td>\n",
       "                        <td id=\"T_56571708_b6f2_11ec_bdbb_96000040dfb6row2_col13\" class=\"data row2 col13\" ></td>\n",
       "                        <td id=\"T_56571708_b6f2_11ec_bdbb_96000040dfb6row2_col14\" class=\"data row2 col14\" ></td>\n",
       "                        <td id=\"T_56571708_b6f2_11ec_bdbb_96000040dfb6row2_col15\" class=\"data row2 col15\" ></td>\n",
       "                        <td id=\"T_56571708_b6f2_11ec_bdbb_96000040dfb6row2_col16\" class=\"data row2 col16\" ></td>\n",
       "                        <td id=\"T_56571708_b6f2_11ec_bdbb_96000040dfb6row2_col17\" class=\"data row2 col17\" ></td>\n",
       "                        <td id=\"T_56571708_b6f2_11ec_bdbb_96000040dfb6row2_col18\" class=\"data row2 col18\" ></td>\n",
       "                        <td id=\"T_56571708_b6f2_11ec_bdbb_96000040dfb6row2_col19\" class=\"data row2 col19\" ></td>\n",
       "            </tr>\n",
       "            <tr>\n",
       "                        <th id=\"T_56571708_b6f2_11ec_bdbb_96000040dfb6level0_row3\" class=\"row_heading level0 row3\" >2017-01</th>\n",
       "                        <td id=\"T_56571708_b6f2_11ec_bdbb_96000040dfb6row3_col0\" class=\"data row3 col0\" >100.00%</td>\n",
       "                        <td id=\"T_56571708_b6f2_11ec_bdbb_96000040dfb6row3_col1\" class=\"data row3 col1\" >0.40%</td>\n",
       "                        <td id=\"T_56571708_b6f2_11ec_bdbb_96000040dfb6row3_col2\" class=\"data row3 col2\" >0.27%</td>\n",
       "                        <td id=\"T_56571708_b6f2_11ec_bdbb_96000040dfb6row3_col3\" class=\"data row3 col3\" >0.13%</td>\n",
       "                        <td id=\"T_56571708_b6f2_11ec_bdbb_96000040dfb6row3_col4\" class=\"data row3 col4\" >0.40%</td>\n",
       "                        <td id=\"T_56571708_b6f2_11ec_bdbb_96000040dfb6row3_col5\" class=\"data row3 col5\" >0.13%</td>\n",
       "                        <td id=\"T_56571708_b6f2_11ec_bdbb_96000040dfb6row3_col6\" class=\"data row3 col6\" >0.40%</td>\n",
       "                        <td id=\"T_56571708_b6f2_11ec_bdbb_96000040dfb6row3_col7\" class=\"data row3 col7\" >0.13%</td>\n",
       "                        <td id=\"T_56571708_b6f2_11ec_bdbb_96000040dfb6row3_col8\" class=\"data row3 col8\" >0.13%</td>\n",
       "                        <td id=\"T_56571708_b6f2_11ec_bdbb_96000040dfb6row3_col9\" class=\"data row3 col9\" ></td>\n",
       "                        <td id=\"T_56571708_b6f2_11ec_bdbb_96000040dfb6row3_col10\" class=\"data row3 col10\" >0.40%</td>\n",
       "                        <td id=\"T_56571708_b6f2_11ec_bdbb_96000040dfb6row3_col11\" class=\"data row3 col11\" >0.13%</td>\n",
       "                        <td id=\"T_56571708_b6f2_11ec_bdbb_96000040dfb6row3_col12\" class=\"data row3 col12\" >0.66%</td>\n",
       "                        <td id=\"T_56571708_b6f2_11ec_bdbb_96000040dfb6row3_col13\" class=\"data row3 col13\" >0.40%</td>\n",
       "                        <td id=\"T_56571708_b6f2_11ec_bdbb_96000040dfb6row3_col14\" class=\"data row3 col14\" >0.13%</td>\n",
       "                        <td id=\"T_56571708_b6f2_11ec_bdbb_96000040dfb6row3_col15\" class=\"data row3 col15\" >0.13%</td>\n",
       "                        <td id=\"T_56571708_b6f2_11ec_bdbb_96000040dfb6row3_col16\" class=\"data row3 col16\" >0.27%</td>\n",
       "                        <td id=\"T_56571708_b6f2_11ec_bdbb_96000040dfb6row3_col17\" class=\"data row3 col17\" >0.40%</td>\n",
       "                        <td id=\"T_56571708_b6f2_11ec_bdbb_96000040dfb6row3_col18\" class=\"data row3 col18\" >0.13%</td>\n",
       "                        <td id=\"T_56571708_b6f2_11ec_bdbb_96000040dfb6row3_col19\" class=\"data row3 col19\" ></td>\n",
       "            </tr>\n",
       "            <tr>\n",
       "                        <th id=\"T_56571708_b6f2_11ec_bdbb_96000040dfb6level0_row4\" class=\"row_heading level0 row4\" >2017-02</th>\n",
       "                        <td id=\"T_56571708_b6f2_11ec_bdbb_96000040dfb6row4_col0\" class=\"data row4 col0\" >100.00%</td>\n",
       "                        <td id=\"T_56571708_b6f2_11ec_bdbb_96000040dfb6row4_col1\" class=\"data row4 col1\" >0.24%</td>\n",
       "                        <td id=\"T_56571708_b6f2_11ec_bdbb_96000040dfb6row4_col2\" class=\"data row4 col2\" >0.30%</td>\n",
       "                        <td id=\"T_56571708_b6f2_11ec_bdbb_96000040dfb6row4_col3\" class=\"data row4 col3\" >0.12%</td>\n",
       "                        <td id=\"T_56571708_b6f2_11ec_bdbb_96000040dfb6row4_col4\" class=\"data row4 col4\" >0.41%</td>\n",
       "                        <td id=\"T_56571708_b6f2_11ec_bdbb_96000040dfb6row4_col5\" class=\"data row4 col5\" >0.12%</td>\n",
       "                        <td id=\"T_56571708_b6f2_11ec_bdbb_96000040dfb6row4_col6\" class=\"data row4 col6\" >0.24%</td>\n",
       "                        <td id=\"T_56571708_b6f2_11ec_bdbb_96000040dfb6row4_col7\" class=\"data row4 col7\" >0.18%</td>\n",
       "                        <td id=\"T_56571708_b6f2_11ec_bdbb_96000040dfb6row4_col8\" class=\"data row4 col8\" >0.12%</td>\n",
       "                        <td id=\"T_56571708_b6f2_11ec_bdbb_96000040dfb6row4_col9\" class=\"data row4 col9\" >0.18%</td>\n",
       "                        <td id=\"T_56571708_b6f2_11ec_bdbb_96000040dfb6row4_col10\" class=\"data row4 col10\" >0.12%</td>\n",
       "                        <td id=\"T_56571708_b6f2_11ec_bdbb_96000040dfb6row4_col11\" class=\"data row4 col11\" >0.30%</td>\n",
       "                        <td id=\"T_56571708_b6f2_11ec_bdbb_96000040dfb6row4_col12\" class=\"data row4 col12\" >0.12%</td>\n",
       "                        <td id=\"T_56571708_b6f2_11ec_bdbb_96000040dfb6row4_col13\" class=\"data row4 col13\" >0.18%</td>\n",
       "                        <td id=\"T_56571708_b6f2_11ec_bdbb_96000040dfb6row4_col14\" class=\"data row4 col14\" >0.12%</td>\n",
       "                        <td id=\"T_56571708_b6f2_11ec_bdbb_96000040dfb6row4_col15\" class=\"data row4 col15\" >0.06%</td>\n",
       "                        <td id=\"T_56571708_b6f2_11ec_bdbb_96000040dfb6row4_col16\" class=\"data row4 col16\" >0.06%</td>\n",
       "                        <td id=\"T_56571708_b6f2_11ec_bdbb_96000040dfb6row4_col17\" class=\"data row4 col17\" >0.24%</td>\n",
       "                        <td id=\"T_56571708_b6f2_11ec_bdbb_96000040dfb6row4_col18\" class=\"data row4 col18\" ></td>\n",
       "                        <td id=\"T_56571708_b6f2_11ec_bdbb_96000040dfb6row4_col19\" class=\"data row4 col19\" ></td>\n",
       "            </tr>\n",
       "            <tr>\n",
       "                        <th id=\"T_56571708_b6f2_11ec_bdbb_96000040dfb6level0_row5\" class=\"row_heading level0 row5\" >2017-03</th>\n",
       "                        <td id=\"T_56571708_b6f2_11ec_bdbb_96000040dfb6row5_col0\" class=\"data row5 col0\" >100.00%</td>\n",
       "                        <td id=\"T_56571708_b6f2_11ec_bdbb_96000040dfb6row5_col1\" class=\"data row5 col1\" >0.51%</td>\n",
       "                        <td id=\"T_56571708_b6f2_11ec_bdbb_96000040dfb6row5_col2\" class=\"data row5 col2\" >0.35%</td>\n",
       "                        <td id=\"T_56571708_b6f2_11ec_bdbb_96000040dfb6row5_col3\" class=\"data row5 col3\" >0.39%</td>\n",
       "                        <td id=\"T_56571708_b6f2_11ec_bdbb_96000040dfb6row5_col4\" class=\"data row5 col4\" >0.35%</td>\n",
       "                        <td id=\"T_56571708_b6f2_11ec_bdbb_96000040dfb6row5_col5\" class=\"data row5 col5\" >0.16%</td>\n",
       "                        <td id=\"T_56571708_b6f2_11ec_bdbb_96000040dfb6row5_col6\" class=\"data row5 col6\" >0.16%</td>\n",
       "                        <td id=\"T_56571708_b6f2_11ec_bdbb_96000040dfb6row5_col7\" class=\"data row5 col7\" >0.31%</td>\n",
       "                        <td id=\"T_56571708_b6f2_11ec_bdbb_96000040dfb6row5_col8\" class=\"data row5 col8\" >0.35%</td>\n",
       "                        <td id=\"T_56571708_b6f2_11ec_bdbb_96000040dfb6row5_col9\" class=\"data row5 col9\" >0.08%</td>\n",
       "                        <td id=\"T_56571708_b6f2_11ec_bdbb_96000040dfb6row5_col10\" class=\"data row5 col10\" >0.39%</td>\n",
       "                        <td id=\"T_56571708_b6f2_11ec_bdbb_96000040dfb6row5_col11\" class=\"data row5 col11\" >0.12%</td>\n",
       "                        <td id=\"T_56571708_b6f2_11ec_bdbb_96000040dfb6row5_col12\" class=\"data row5 col12\" >0.23%</td>\n",
       "                        <td id=\"T_56571708_b6f2_11ec_bdbb_96000040dfb6row5_col13\" class=\"data row5 col13\" >0.12%</td>\n",
       "                        <td id=\"T_56571708_b6f2_11ec_bdbb_96000040dfb6row5_col14\" class=\"data row5 col14\" >0.16%</td>\n",
       "                        <td id=\"T_56571708_b6f2_11ec_bdbb_96000040dfb6row5_col15\" class=\"data row5 col15\" >0.23%</td>\n",
       "                        <td id=\"T_56571708_b6f2_11ec_bdbb_96000040dfb6row5_col16\" class=\"data row5 col16\" >0.08%</td>\n",
       "                        <td id=\"T_56571708_b6f2_11ec_bdbb_96000040dfb6row5_col17\" class=\"data row5 col17\" >0.16%</td>\n",
       "                        <td id=\"T_56571708_b6f2_11ec_bdbb_96000040dfb6row5_col18\" class=\"data row5 col18\" ></td>\n",
       "                        <td id=\"T_56571708_b6f2_11ec_bdbb_96000040dfb6row5_col19\" class=\"data row5 col19\" ></td>\n",
       "            </tr>\n",
       "            <tr>\n",
       "                        <th id=\"T_56571708_b6f2_11ec_bdbb_96000040dfb6level0_row6\" class=\"row_heading level0 row6\" >2017-04</th>\n",
       "                        <td id=\"T_56571708_b6f2_11ec_bdbb_96000040dfb6row6_col0\" class=\"data row6 col0\" >100.00%</td>\n",
       "                        <td id=\"T_56571708_b6f2_11ec_bdbb_96000040dfb6row6_col1\" class=\"data row6 col1\" >0.60%</td>\n",
       "                        <td id=\"T_56571708_b6f2_11ec_bdbb_96000040dfb6row6_col2\" class=\"data row6 col2\" >0.22%</td>\n",
       "                        <td id=\"T_56571708_b6f2_11ec_bdbb_96000040dfb6row6_col3\" class=\"data row6 col3\" >0.17%</td>\n",
       "                        <td id=\"T_56571708_b6f2_11ec_bdbb_96000040dfb6row6_col4\" class=\"data row6 col4\" >0.30%</td>\n",
       "                        <td id=\"T_56571708_b6f2_11ec_bdbb_96000040dfb6row6_col5\" class=\"data row6 col5\" >0.26%</td>\n",
       "                        <td id=\"T_56571708_b6f2_11ec_bdbb_96000040dfb6row6_col6\" class=\"data row6 col6\" >0.34%</td>\n",
       "                        <td id=\"T_56571708_b6f2_11ec_bdbb_96000040dfb6row6_col7\" class=\"data row6 col7\" >0.30%</td>\n",
       "                        <td id=\"T_56571708_b6f2_11ec_bdbb_96000040dfb6row6_col8\" class=\"data row6 col8\" >0.30%</td>\n",
       "                        <td id=\"T_56571708_b6f2_11ec_bdbb_96000040dfb6row6_col9\" class=\"data row6 col9\" >0.17%</td>\n",
       "                        <td id=\"T_56571708_b6f2_11ec_bdbb_96000040dfb6row6_col10\" class=\"data row6 col10\" >0.26%</td>\n",
       "                        <td id=\"T_56571708_b6f2_11ec_bdbb_96000040dfb6row6_col11\" class=\"data row6 col11\" >0.09%</td>\n",
       "                        <td id=\"T_56571708_b6f2_11ec_bdbb_96000040dfb6row6_col12\" class=\"data row6 col12\" >0.09%</td>\n",
       "                        <td id=\"T_56571708_b6f2_11ec_bdbb_96000040dfb6row6_col13\" class=\"data row6 col13\" >0.04%</td>\n",
       "                        <td id=\"T_56571708_b6f2_11ec_bdbb_96000040dfb6row6_col14\" class=\"data row6 col14\" >0.09%</td>\n",
       "                        <td id=\"T_56571708_b6f2_11ec_bdbb_96000040dfb6row6_col15\" class=\"data row6 col15\" >0.09%</td>\n",
       "                        <td id=\"T_56571708_b6f2_11ec_bdbb_96000040dfb6row6_col16\" class=\"data row6 col16\" >0.13%</td>\n",
       "                        <td id=\"T_56571708_b6f2_11ec_bdbb_96000040dfb6row6_col17\" class=\"data row6 col17\" ></td>\n",
       "                        <td id=\"T_56571708_b6f2_11ec_bdbb_96000040dfb6row6_col18\" class=\"data row6 col18\" ></td>\n",
       "                        <td id=\"T_56571708_b6f2_11ec_bdbb_96000040dfb6row6_col19\" class=\"data row6 col19\" ></td>\n",
       "            </tr>\n",
       "            <tr>\n",
       "                        <th id=\"T_56571708_b6f2_11ec_bdbb_96000040dfb6level0_row7\" class=\"row_heading level0 row7\" >2017-05</th>\n",
       "                        <td id=\"T_56571708_b6f2_11ec_bdbb_96000040dfb6row7_col0\" class=\"data row7 col0\" >100.00%</td>\n",
       "                        <td id=\"T_56571708_b6f2_11ec_bdbb_96000040dfb6row7_col1\" class=\"data row7 col1\" >0.48%</td>\n",
       "                        <td id=\"T_56571708_b6f2_11ec_bdbb_96000040dfb6row7_col2\" class=\"data row7 col2\" >0.48%</td>\n",
       "                        <td id=\"T_56571708_b6f2_11ec_bdbb_96000040dfb6row7_col3\" class=\"data row7 col3\" >0.40%</td>\n",
       "                        <td id=\"T_56571708_b6f2_11ec_bdbb_96000040dfb6row7_col4\" class=\"data row7 col4\" >0.31%</td>\n",
       "                        <td id=\"T_56571708_b6f2_11ec_bdbb_96000040dfb6row7_col5\" class=\"data row7 col5\" >0.34%</td>\n",
       "                        <td id=\"T_56571708_b6f2_11ec_bdbb_96000040dfb6row7_col6\" class=\"data row7 col6\" >0.42%</td>\n",
       "                        <td id=\"T_56571708_b6f2_11ec_bdbb_96000040dfb6row7_col7\" class=\"data row7 col7\" >0.14%</td>\n",
       "                        <td id=\"T_56571708_b6f2_11ec_bdbb_96000040dfb6row7_col8\" class=\"data row7 col8\" >0.25%</td>\n",
       "                        <td id=\"T_56571708_b6f2_11ec_bdbb_96000040dfb6row7_col9\" class=\"data row7 col9\" >0.25%</td>\n",
       "                        <td id=\"T_56571708_b6f2_11ec_bdbb_96000040dfb6row7_col10\" class=\"data row7 col10\" >0.25%</td>\n",
       "                        <td id=\"T_56571708_b6f2_11ec_bdbb_96000040dfb6row7_col11\" class=\"data row7 col11\" >0.34%</td>\n",
       "                        <td id=\"T_56571708_b6f2_11ec_bdbb_96000040dfb6row7_col12\" class=\"data row7 col12\" >0.25%</td>\n",
       "                        <td id=\"T_56571708_b6f2_11ec_bdbb_96000040dfb6row7_col13\" class=\"data row7 col13\" >0.03%</td>\n",
       "                        <td id=\"T_56571708_b6f2_11ec_bdbb_96000040dfb6row7_col14\" class=\"data row7 col14\" >0.20%</td>\n",
       "                        <td id=\"T_56571708_b6f2_11ec_bdbb_96000040dfb6row7_col15\" class=\"data row7 col15\" >0.23%</td>\n",
       "                        <td id=\"T_56571708_b6f2_11ec_bdbb_96000040dfb6row7_col16\" class=\"data row7 col16\" ></td>\n",
       "                        <td id=\"T_56571708_b6f2_11ec_bdbb_96000040dfb6row7_col17\" class=\"data row7 col17\" ></td>\n",
       "                        <td id=\"T_56571708_b6f2_11ec_bdbb_96000040dfb6row7_col18\" class=\"data row7 col18\" ></td>\n",
       "                        <td id=\"T_56571708_b6f2_11ec_bdbb_96000040dfb6row7_col19\" class=\"data row7 col19\" ></td>\n",
       "            </tr>\n",
       "            <tr>\n",
       "                        <th id=\"T_56571708_b6f2_11ec_bdbb_96000040dfb6level0_row8\" class=\"row_heading level0 row8\" >2017-06</th>\n",
       "                        <td id=\"T_56571708_b6f2_11ec_bdbb_96000040dfb6row8_col0\" class=\"data row8 col0\" >100.00%</td>\n",
       "                        <td id=\"T_56571708_b6f2_11ec_bdbb_96000040dfb6row8_col1\" class=\"data row8 col1\" >0.45%</td>\n",
       "                        <td id=\"T_56571708_b6f2_11ec_bdbb_96000040dfb6row8_col2\" class=\"data row8 col2\" >0.35%</td>\n",
       "                        <td id=\"T_56571708_b6f2_11ec_bdbb_96000040dfb6row8_col3\" class=\"data row8 col3\" >0.39%</td>\n",
       "                        <td id=\"T_56571708_b6f2_11ec_bdbb_96000040dfb6row8_col4\" class=\"data row8 col4\" >0.26%</td>\n",
       "                        <td id=\"T_56571708_b6f2_11ec_bdbb_96000040dfb6row8_col5\" class=\"data row8 col5\" >0.39%</td>\n",
       "                        <td id=\"T_56571708_b6f2_11ec_bdbb_96000040dfb6row8_col6\" class=\"data row8 col6\" >0.35%</td>\n",
       "                        <td id=\"T_56571708_b6f2_11ec_bdbb_96000040dfb6row8_col7\" class=\"data row8 col7\" >0.23%</td>\n",
       "                        <td id=\"T_56571708_b6f2_11ec_bdbb_96000040dfb6row8_col8\" class=\"data row8 col8\" >0.13%</td>\n",
       "                        <td id=\"T_56571708_b6f2_11ec_bdbb_96000040dfb6row8_col9\" class=\"data row8 col9\" >0.23%</td>\n",
       "                        <td id=\"T_56571708_b6f2_11ec_bdbb_96000040dfb6row8_col10\" class=\"data row8 col10\" >0.32%</td>\n",
       "                        <td id=\"T_56571708_b6f2_11ec_bdbb_96000040dfb6row8_col11\" class=\"data row8 col11\" >0.32%</td>\n",
       "                        <td id=\"T_56571708_b6f2_11ec_bdbb_96000040dfb6row8_col12\" class=\"data row8 col12\" >0.16%</td>\n",
       "                        <td id=\"T_56571708_b6f2_11ec_bdbb_96000040dfb6row8_col13\" class=\"data row8 col13\" >0.13%</td>\n",
       "                        <td id=\"T_56571708_b6f2_11ec_bdbb_96000040dfb6row8_col14\" class=\"data row8 col14\" >0.19%</td>\n",
       "                        <td id=\"T_56571708_b6f2_11ec_bdbb_96000040dfb6row8_col15\" class=\"data row8 col15\" ></td>\n",
       "                        <td id=\"T_56571708_b6f2_11ec_bdbb_96000040dfb6row8_col16\" class=\"data row8 col16\" ></td>\n",
       "                        <td id=\"T_56571708_b6f2_11ec_bdbb_96000040dfb6row8_col17\" class=\"data row8 col17\" ></td>\n",
       "                        <td id=\"T_56571708_b6f2_11ec_bdbb_96000040dfb6row8_col18\" class=\"data row8 col18\" ></td>\n",
       "                        <td id=\"T_56571708_b6f2_11ec_bdbb_96000040dfb6row8_col19\" class=\"data row8 col19\" ></td>\n",
       "            </tr>\n",
       "            <tr>\n",
       "                        <th id=\"T_56571708_b6f2_11ec_bdbb_96000040dfb6level0_row9\" class=\"row_heading level0 row9\" >2017-07</th>\n",
       "                        <td id=\"T_56571708_b6f2_11ec_bdbb_96000040dfb6row9_col0\" class=\"data row9 col0\" >100.00%</td>\n",
       "                        <td id=\"T_56571708_b6f2_11ec_bdbb_96000040dfb6row9_col1\" class=\"data row9 col1\" >0.52%</td>\n",
       "                        <td id=\"T_56571708_b6f2_11ec_bdbb_96000040dfb6row9_col2\" class=\"data row9 col2\" >0.34%</td>\n",
       "                        <td id=\"T_56571708_b6f2_11ec_bdbb_96000040dfb6row9_col3\" class=\"data row9 col3\" >0.24%</td>\n",
       "                        <td id=\"T_56571708_b6f2_11ec_bdbb_96000040dfb6row9_col4\" class=\"data row9 col4\" >0.29%</td>\n",
       "                        <td id=\"T_56571708_b6f2_11ec_bdbb_96000040dfb6row9_col5\" class=\"data row9 col5\" >0.21%</td>\n",
       "                        <td id=\"T_56571708_b6f2_11ec_bdbb_96000040dfb6row9_col6\" class=\"data row9 col6\" >0.31%</td>\n",
       "                        <td id=\"T_56571708_b6f2_11ec_bdbb_96000040dfb6row9_col7\" class=\"data row9 col7\" >0.10%</td>\n",
       "                        <td id=\"T_56571708_b6f2_11ec_bdbb_96000040dfb6row9_col8\" class=\"data row9 col8\" >0.18%</td>\n",
       "                        <td id=\"T_56571708_b6f2_11ec_bdbb_96000040dfb6row9_col9\" class=\"data row9 col9\" >0.26%</td>\n",
       "                        <td id=\"T_56571708_b6f2_11ec_bdbb_96000040dfb6row9_col10\" class=\"data row9 col10\" >0.21%</td>\n",
       "                        <td id=\"T_56571708_b6f2_11ec_bdbb_96000040dfb6row9_col11\" class=\"data row9 col11\" >0.29%</td>\n",
       "                        <td id=\"T_56571708_b6f2_11ec_bdbb_96000040dfb6row9_col12\" class=\"data row9 col12\" >0.13%</td>\n",
       "                        <td id=\"T_56571708_b6f2_11ec_bdbb_96000040dfb6row9_col13\" class=\"data row9 col13\" >0.26%</td>\n",
       "                        <td id=\"T_56571708_b6f2_11ec_bdbb_96000040dfb6row9_col14\" class=\"data row9 col14\" ></td>\n",
       "                        <td id=\"T_56571708_b6f2_11ec_bdbb_96000040dfb6row9_col15\" class=\"data row9 col15\" ></td>\n",
       "                        <td id=\"T_56571708_b6f2_11ec_bdbb_96000040dfb6row9_col16\" class=\"data row9 col16\" ></td>\n",
       "                        <td id=\"T_56571708_b6f2_11ec_bdbb_96000040dfb6row9_col17\" class=\"data row9 col17\" ></td>\n",
       "                        <td id=\"T_56571708_b6f2_11ec_bdbb_96000040dfb6row9_col18\" class=\"data row9 col18\" ></td>\n",
       "                        <td id=\"T_56571708_b6f2_11ec_bdbb_96000040dfb6row9_col19\" class=\"data row9 col19\" ></td>\n",
       "            </tr>\n",
       "            <tr>\n",
       "                        <th id=\"T_56571708_b6f2_11ec_bdbb_96000040dfb6level0_row10\" class=\"row_heading level0 row10\" >2017-08</th>\n",
       "                        <td id=\"T_56571708_b6f2_11ec_bdbb_96000040dfb6row10_col0\" class=\"data row10 col0\" >100.00%</td>\n",
       "                        <td id=\"T_56571708_b6f2_11ec_bdbb_96000040dfb6row10_col1\" class=\"data row10 col1\" >0.68%</td>\n",
       "                        <td id=\"T_56571708_b6f2_11ec_bdbb_96000040dfb6row10_col2\" class=\"data row10 col2\" >0.34%</td>\n",
       "                        <td id=\"T_56571708_b6f2_11ec_bdbb_96000040dfb6row10_col3\" class=\"data row10 col3\" >0.27%</td>\n",
       "                        <td id=\"T_56571708_b6f2_11ec_bdbb_96000040dfb6row10_col4\" class=\"data row10 col4\" >0.36%</td>\n",
       "                        <td id=\"T_56571708_b6f2_11ec_bdbb_96000040dfb6row10_col5\" class=\"data row10 col5\" >0.53%</td>\n",
       "                        <td id=\"T_56571708_b6f2_11ec_bdbb_96000040dfb6row10_col6\" class=\"data row10 col6\" >0.29%</td>\n",
       "                        <td id=\"T_56571708_b6f2_11ec_bdbb_96000040dfb6row10_col7\" class=\"data row10 col7\" >0.27%</td>\n",
       "                        <td id=\"T_56571708_b6f2_11ec_bdbb_96000040dfb6row10_col8\" class=\"data row10 col8\" >0.15%</td>\n",
       "                        <td id=\"T_56571708_b6f2_11ec_bdbb_96000040dfb6row10_col9\" class=\"data row10 col9\" >0.15%</td>\n",
       "                        <td id=\"T_56571708_b6f2_11ec_bdbb_96000040dfb6row10_col10\" class=\"data row10 col10\" >0.24%</td>\n",
       "                        <td id=\"T_56571708_b6f2_11ec_bdbb_96000040dfb6row10_col11\" class=\"data row10 col11\" >0.19%</td>\n",
       "                        <td id=\"T_56571708_b6f2_11ec_bdbb_96000040dfb6row10_col12\" class=\"data row10 col12\" >0.12%</td>\n",
       "                        <td id=\"T_56571708_b6f2_11ec_bdbb_96000040dfb6row10_col13\" class=\"data row10 col13\" ></td>\n",
       "                        <td id=\"T_56571708_b6f2_11ec_bdbb_96000040dfb6row10_col14\" class=\"data row10 col14\" ></td>\n",
       "                        <td id=\"T_56571708_b6f2_11ec_bdbb_96000040dfb6row10_col15\" class=\"data row10 col15\" ></td>\n",
       "                        <td id=\"T_56571708_b6f2_11ec_bdbb_96000040dfb6row10_col16\" class=\"data row10 col16\" ></td>\n",
       "                        <td id=\"T_56571708_b6f2_11ec_bdbb_96000040dfb6row10_col17\" class=\"data row10 col17\" ></td>\n",
       "                        <td id=\"T_56571708_b6f2_11ec_bdbb_96000040dfb6row10_col18\" class=\"data row10 col18\" ></td>\n",
       "                        <td id=\"T_56571708_b6f2_11ec_bdbb_96000040dfb6row10_col19\" class=\"data row10 col19\" ></td>\n",
       "            </tr>\n",
       "            <tr>\n",
       "                        <th id=\"T_56571708_b6f2_11ec_bdbb_96000040dfb6level0_row11\" class=\"row_heading level0 row11\" >2017-09</th>\n",
       "                        <td id=\"T_56571708_b6f2_11ec_bdbb_96000040dfb6row11_col0\" class=\"data row11 col0\" >100.00%</td>\n",
       "                        <td id=\"T_56571708_b6f2_11ec_bdbb_96000040dfb6row11_col1\" class=\"data row11 col1\" >0.69%</td>\n",
       "                        <td id=\"T_56571708_b6f2_11ec_bdbb_96000040dfb6row11_col2\" class=\"data row11 col2\" >0.54%</td>\n",
       "                        <td id=\"T_56571708_b6f2_11ec_bdbb_96000040dfb6row11_col3\" class=\"data row11 col3\" >0.29%</td>\n",
       "                        <td id=\"T_56571708_b6f2_11ec_bdbb_96000040dfb6row11_col4\" class=\"data row11 col4\" >0.44%</td>\n",
       "                        <td id=\"T_56571708_b6f2_11ec_bdbb_96000040dfb6row11_col5\" class=\"data row11 col5\" >0.22%</td>\n",
       "                        <td id=\"T_56571708_b6f2_11ec_bdbb_96000040dfb6row11_col6\" class=\"data row11 col6\" >0.22%</td>\n",
       "                        <td id=\"T_56571708_b6f2_11ec_bdbb_96000040dfb6row11_col7\" class=\"data row11 col7\" >0.25%</td>\n",
       "                        <td id=\"T_56571708_b6f2_11ec_bdbb_96000040dfb6row11_col8\" class=\"data row11 col8\" >0.29%</td>\n",
       "                        <td id=\"T_56571708_b6f2_11ec_bdbb_96000040dfb6row11_col9\" class=\"data row11 col9\" >0.17%</td>\n",
       "                        <td id=\"T_56571708_b6f2_11ec_bdbb_96000040dfb6row11_col10\" class=\"data row11 col10\" >0.27%</td>\n",
       "                        <td id=\"T_56571708_b6f2_11ec_bdbb_96000040dfb6row11_col11\" class=\"data row11 col11\" >0.07%</td>\n",
       "                        <td id=\"T_56571708_b6f2_11ec_bdbb_96000040dfb6row11_col12\" class=\"data row11 col12\" ></td>\n",
       "                        <td id=\"T_56571708_b6f2_11ec_bdbb_96000040dfb6row11_col13\" class=\"data row11 col13\" ></td>\n",
       "                        <td id=\"T_56571708_b6f2_11ec_bdbb_96000040dfb6row11_col14\" class=\"data row11 col14\" ></td>\n",
       "                        <td id=\"T_56571708_b6f2_11ec_bdbb_96000040dfb6row11_col15\" class=\"data row11 col15\" ></td>\n",
       "                        <td id=\"T_56571708_b6f2_11ec_bdbb_96000040dfb6row11_col16\" class=\"data row11 col16\" ></td>\n",
       "                        <td id=\"T_56571708_b6f2_11ec_bdbb_96000040dfb6row11_col17\" class=\"data row11 col17\" ></td>\n",
       "                        <td id=\"T_56571708_b6f2_11ec_bdbb_96000040dfb6row11_col18\" class=\"data row11 col18\" ></td>\n",
       "                        <td id=\"T_56571708_b6f2_11ec_bdbb_96000040dfb6row11_col19\" class=\"data row11 col19\" ></td>\n",
       "            </tr>\n",
       "            <tr>\n",
       "                        <th id=\"T_56571708_b6f2_11ec_bdbb_96000040dfb6level0_row12\" class=\"row_heading level0 row12\" >2017-10</th>\n",
       "                        <td id=\"T_56571708_b6f2_11ec_bdbb_96000040dfb6row12_col0\" class=\"data row12 col0\" >100.00%</td>\n",
       "                        <td id=\"T_56571708_b6f2_11ec_bdbb_96000040dfb6row12_col1\" class=\"data row12 col1\" >0.71%</td>\n",
       "                        <td id=\"T_56571708_b6f2_11ec_bdbb_96000040dfb6row12_col2\" class=\"data row12 col2\" >0.25%</td>\n",
       "                        <td id=\"T_56571708_b6f2_11ec_bdbb_96000040dfb6row12_col3\" class=\"data row12 col3\" >0.09%</td>\n",
       "                        <td id=\"T_56571708_b6f2_11ec_bdbb_96000040dfb6row12_col4\" class=\"data row12 col4\" >0.23%</td>\n",
       "                        <td id=\"T_56571708_b6f2_11ec_bdbb_96000040dfb6row12_col5\" class=\"data row12 col5\" >0.20%</td>\n",
       "                        <td id=\"T_56571708_b6f2_11ec_bdbb_96000040dfb6row12_col6\" class=\"data row12 col6\" >0.20%</td>\n",
       "                        <td id=\"T_56571708_b6f2_11ec_bdbb_96000040dfb6row12_col7\" class=\"data row12 col7\" >0.36%</td>\n",
       "                        <td id=\"T_56571708_b6f2_11ec_bdbb_96000040dfb6row12_col8\" class=\"data row12 col8\" >0.27%</td>\n",
       "                        <td id=\"T_56571708_b6f2_11ec_bdbb_96000040dfb6row12_col9\" class=\"data row12 col9\" >0.20%</td>\n",
       "                        <td id=\"T_56571708_b6f2_11ec_bdbb_96000040dfb6row12_col10\" class=\"data row12 col10\" >0.20%</td>\n",
       "                        <td id=\"T_56571708_b6f2_11ec_bdbb_96000040dfb6row12_col11\" class=\"data row12 col11\" ></td>\n",
       "                        <td id=\"T_56571708_b6f2_11ec_bdbb_96000040dfb6row12_col12\" class=\"data row12 col12\" ></td>\n",
       "                        <td id=\"T_56571708_b6f2_11ec_bdbb_96000040dfb6row12_col13\" class=\"data row12 col13\" ></td>\n",
       "                        <td id=\"T_56571708_b6f2_11ec_bdbb_96000040dfb6row12_col14\" class=\"data row12 col14\" ></td>\n",
       "                        <td id=\"T_56571708_b6f2_11ec_bdbb_96000040dfb6row12_col15\" class=\"data row12 col15\" ></td>\n",
       "                        <td id=\"T_56571708_b6f2_11ec_bdbb_96000040dfb6row12_col16\" class=\"data row12 col16\" ></td>\n",
       "                        <td id=\"T_56571708_b6f2_11ec_bdbb_96000040dfb6row12_col17\" class=\"data row12 col17\" ></td>\n",
       "                        <td id=\"T_56571708_b6f2_11ec_bdbb_96000040dfb6row12_col18\" class=\"data row12 col18\" ></td>\n",
       "                        <td id=\"T_56571708_b6f2_11ec_bdbb_96000040dfb6row12_col19\" class=\"data row12 col19\" ></td>\n",
       "            </tr>\n",
       "            <tr>\n",
       "                        <th id=\"T_56571708_b6f2_11ec_bdbb_96000040dfb6level0_row13\" class=\"row_heading level0 row13\" >2017-11</th>\n",
       "                        <td id=\"T_56571708_b6f2_11ec_bdbb_96000040dfb6row13_col0\" class=\"data row13 col0\" >100.00%</td>\n",
       "                        <td id=\"T_56571708_b6f2_11ec_bdbb_96000040dfb6row13_col1\" class=\"data row13 col1\" >0.56%</td>\n",
       "                        <td id=\"T_56571708_b6f2_11ec_bdbb_96000040dfb6row13_col2\" class=\"data row13 col2\" >0.39%</td>\n",
       "                        <td id=\"T_56571708_b6f2_11ec_bdbb_96000040dfb6row13_col3\" class=\"data row13 col3\" >0.17%</td>\n",
       "                        <td id=\"T_56571708_b6f2_11ec_bdbb_96000040dfb6row13_col4\" class=\"data row13 col4\" >0.19%</td>\n",
       "                        <td id=\"T_56571708_b6f2_11ec_bdbb_96000040dfb6row13_col5\" class=\"data row13 col5\" >0.18%</td>\n",
       "                        <td id=\"T_56571708_b6f2_11ec_bdbb_96000040dfb6row13_col6\" class=\"data row13 col6\" >0.11%</td>\n",
       "                        <td id=\"T_56571708_b6f2_11ec_bdbb_96000040dfb6row13_col7\" class=\"data row13 col7\" >0.19%</td>\n",
       "                        <td id=\"T_56571708_b6f2_11ec_bdbb_96000040dfb6row13_col8\" class=\"data row13 col8\" >0.13%</td>\n",
       "                        <td id=\"T_56571708_b6f2_11ec_bdbb_96000040dfb6row13_col9\" class=\"data row13 col9\" >0.06%</td>\n",
       "                        <td id=\"T_56571708_b6f2_11ec_bdbb_96000040dfb6row13_col10\" class=\"data row13 col10\" ></td>\n",
       "                        <td id=\"T_56571708_b6f2_11ec_bdbb_96000040dfb6row13_col11\" class=\"data row13 col11\" ></td>\n",
       "                        <td id=\"T_56571708_b6f2_11ec_bdbb_96000040dfb6row13_col12\" class=\"data row13 col12\" ></td>\n",
       "                        <td id=\"T_56571708_b6f2_11ec_bdbb_96000040dfb6row13_col13\" class=\"data row13 col13\" ></td>\n",
       "                        <td id=\"T_56571708_b6f2_11ec_bdbb_96000040dfb6row13_col14\" class=\"data row13 col14\" ></td>\n",
       "                        <td id=\"T_56571708_b6f2_11ec_bdbb_96000040dfb6row13_col15\" class=\"data row13 col15\" ></td>\n",
       "                        <td id=\"T_56571708_b6f2_11ec_bdbb_96000040dfb6row13_col16\" class=\"data row13 col16\" ></td>\n",
       "                        <td id=\"T_56571708_b6f2_11ec_bdbb_96000040dfb6row13_col17\" class=\"data row13 col17\" ></td>\n",
       "                        <td id=\"T_56571708_b6f2_11ec_bdbb_96000040dfb6row13_col18\" class=\"data row13 col18\" ></td>\n",
       "                        <td id=\"T_56571708_b6f2_11ec_bdbb_96000040dfb6row13_col19\" class=\"data row13 col19\" ></td>\n",
       "            </tr>\n",
       "            <tr>\n",
       "                        <th id=\"T_56571708_b6f2_11ec_bdbb_96000040dfb6level0_row14\" class=\"row_heading level0 row14\" >2017-12</th>\n",
       "                        <td id=\"T_56571708_b6f2_11ec_bdbb_96000040dfb6row14_col0\" class=\"data row14 col0\" >100.00%</td>\n",
       "                        <td id=\"T_56571708_b6f2_11ec_bdbb_96000040dfb6row14_col1\" class=\"data row14 col1\" >0.22%</td>\n",
       "                        <td id=\"T_56571708_b6f2_11ec_bdbb_96000040dfb6row14_col2\" class=\"data row14 col2\" >0.28%</td>\n",
       "                        <td id=\"T_56571708_b6f2_11ec_bdbb_96000040dfb6row14_col3\" class=\"data row14 col3\" >0.35%</td>\n",
       "                        <td id=\"T_56571708_b6f2_11ec_bdbb_96000040dfb6row14_col4\" class=\"data row14 col4\" >0.26%</td>\n",
       "                        <td id=\"T_56571708_b6f2_11ec_bdbb_96000040dfb6row14_col5\" class=\"data row14 col5\" >0.20%</td>\n",
       "                        <td id=\"T_56571708_b6f2_11ec_bdbb_96000040dfb6row14_col6\" class=\"data row14 col6\" >0.17%</td>\n",
       "                        <td id=\"T_56571708_b6f2_11ec_bdbb_96000040dfb6row14_col7\" class=\"data row14 col7\" >0.02%</td>\n",
       "                        <td id=\"T_56571708_b6f2_11ec_bdbb_96000040dfb6row14_col8\" class=\"data row14 col8\" >0.22%</td>\n",
       "                        <td id=\"T_56571708_b6f2_11ec_bdbb_96000040dfb6row14_col9\" class=\"data row14 col9\" ></td>\n",
       "                        <td id=\"T_56571708_b6f2_11ec_bdbb_96000040dfb6row14_col10\" class=\"data row14 col10\" ></td>\n",
       "                        <td id=\"T_56571708_b6f2_11ec_bdbb_96000040dfb6row14_col11\" class=\"data row14 col11\" ></td>\n",
       "                        <td id=\"T_56571708_b6f2_11ec_bdbb_96000040dfb6row14_col12\" class=\"data row14 col12\" ></td>\n",
       "                        <td id=\"T_56571708_b6f2_11ec_bdbb_96000040dfb6row14_col13\" class=\"data row14 col13\" ></td>\n",
       "                        <td id=\"T_56571708_b6f2_11ec_bdbb_96000040dfb6row14_col14\" class=\"data row14 col14\" ></td>\n",
       "                        <td id=\"T_56571708_b6f2_11ec_bdbb_96000040dfb6row14_col15\" class=\"data row14 col15\" ></td>\n",
       "                        <td id=\"T_56571708_b6f2_11ec_bdbb_96000040dfb6row14_col16\" class=\"data row14 col16\" ></td>\n",
       "                        <td id=\"T_56571708_b6f2_11ec_bdbb_96000040dfb6row14_col17\" class=\"data row14 col17\" ></td>\n",
       "                        <td id=\"T_56571708_b6f2_11ec_bdbb_96000040dfb6row14_col18\" class=\"data row14 col18\" ></td>\n",
       "                        <td id=\"T_56571708_b6f2_11ec_bdbb_96000040dfb6row14_col19\" class=\"data row14 col19\" ></td>\n",
       "            </tr>\n",
       "            <tr>\n",
       "                        <th id=\"T_56571708_b6f2_11ec_bdbb_96000040dfb6level0_row15\" class=\"row_heading level0 row15\" >2018-01</th>\n",
       "                        <td id=\"T_56571708_b6f2_11ec_bdbb_96000040dfb6row15_col0\" class=\"data row15 col0\" >100.00%</td>\n",
       "                        <td id=\"T_56571708_b6f2_11ec_bdbb_96000040dfb6row15_col1\" class=\"data row15 col1\" >0.33%</td>\n",
       "                        <td id=\"T_56571708_b6f2_11ec_bdbb_96000040dfb6row15_col2\" class=\"data row15 col2\" >0.36%</td>\n",
       "                        <td id=\"T_56571708_b6f2_11ec_bdbb_96000040dfb6row15_col3\" class=\"data row15 col3\" >0.29%</td>\n",
       "                        <td id=\"T_56571708_b6f2_11ec_bdbb_96000040dfb6row15_col4\" class=\"data row15 col4\" >0.29%</td>\n",
       "                        <td id=\"T_56571708_b6f2_11ec_bdbb_96000040dfb6row15_col5\" class=\"data row15 col5\" >0.16%</td>\n",
       "                        <td id=\"T_56571708_b6f2_11ec_bdbb_96000040dfb6row15_col6\" class=\"data row15 col6\" >0.17%</td>\n",
       "                        <td id=\"T_56571708_b6f2_11ec_bdbb_96000040dfb6row15_col7\" class=\"data row15 col7\" >0.23%</td>\n",
       "                        <td id=\"T_56571708_b6f2_11ec_bdbb_96000040dfb6row15_col8\" class=\"data row15 col8\" ></td>\n",
       "                        <td id=\"T_56571708_b6f2_11ec_bdbb_96000040dfb6row15_col9\" class=\"data row15 col9\" ></td>\n",
       "                        <td id=\"T_56571708_b6f2_11ec_bdbb_96000040dfb6row15_col10\" class=\"data row15 col10\" ></td>\n",
       "                        <td id=\"T_56571708_b6f2_11ec_bdbb_96000040dfb6row15_col11\" class=\"data row15 col11\" ></td>\n",
       "                        <td id=\"T_56571708_b6f2_11ec_bdbb_96000040dfb6row15_col12\" class=\"data row15 col12\" ></td>\n",
       "                        <td id=\"T_56571708_b6f2_11ec_bdbb_96000040dfb6row15_col13\" class=\"data row15 col13\" ></td>\n",
       "                        <td id=\"T_56571708_b6f2_11ec_bdbb_96000040dfb6row15_col14\" class=\"data row15 col14\" ></td>\n",
       "                        <td id=\"T_56571708_b6f2_11ec_bdbb_96000040dfb6row15_col15\" class=\"data row15 col15\" ></td>\n",
       "                        <td id=\"T_56571708_b6f2_11ec_bdbb_96000040dfb6row15_col16\" class=\"data row15 col16\" ></td>\n",
       "                        <td id=\"T_56571708_b6f2_11ec_bdbb_96000040dfb6row15_col17\" class=\"data row15 col17\" ></td>\n",
       "                        <td id=\"T_56571708_b6f2_11ec_bdbb_96000040dfb6row15_col18\" class=\"data row15 col18\" ></td>\n",
       "                        <td id=\"T_56571708_b6f2_11ec_bdbb_96000040dfb6row15_col19\" class=\"data row15 col19\" ></td>\n",
       "            </tr>\n",
       "            <tr>\n",
       "                        <th id=\"T_56571708_b6f2_11ec_bdbb_96000040dfb6level0_row16\" class=\"row_heading level0 row16\" >2018-02</th>\n",
       "                        <td id=\"T_56571708_b6f2_11ec_bdbb_96000040dfb6row16_col0\" class=\"data row16 col0\" >100.00%</td>\n",
       "                        <td id=\"T_56571708_b6f2_11ec_bdbb_96000040dfb6row16_col1\" class=\"data row16 col1\" >0.36%</td>\n",
       "                        <td id=\"T_56571708_b6f2_11ec_bdbb_96000040dfb6row16_col2\" class=\"data row16 col2\" >0.39%</td>\n",
       "                        <td id=\"T_56571708_b6f2_11ec_bdbb_96000040dfb6row16_col3\" class=\"data row16 col3\" >0.30%</td>\n",
       "                        <td id=\"T_56571708_b6f2_11ec_bdbb_96000040dfb6row16_col4\" class=\"data row16 col4\" >0.27%</td>\n",
       "                        <td id=\"T_56571708_b6f2_11ec_bdbb_96000040dfb6row16_col5\" class=\"data row16 col5\" >0.22%</td>\n",
       "                        <td id=\"T_56571708_b6f2_11ec_bdbb_96000040dfb6row16_col6\" class=\"data row16 col6\" >0.20%</td>\n",
       "                        <td id=\"T_56571708_b6f2_11ec_bdbb_96000040dfb6row16_col7\" class=\"data row16 col7\" ></td>\n",
       "                        <td id=\"T_56571708_b6f2_11ec_bdbb_96000040dfb6row16_col8\" class=\"data row16 col8\" ></td>\n",
       "                        <td id=\"T_56571708_b6f2_11ec_bdbb_96000040dfb6row16_col9\" class=\"data row16 col9\" ></td>\n",
       "                        <td id=\"T_56571708_b6f2_11ec_bdbb_96000040dfb6row16_col10\" class=\"data row16 col10\" ></td>\n",
       "                        <td id=\"T_56571708_b6f2_11ec_bdbb_96000040dfb6row16_col11\" class=\"data row16 col11\" ></td>\n",
       "                        <td id=\"T_56571708_b6f2_11ec_bdbb_96000040dfb6row16_col12\" class=\"data row16 col12\" ></td>\n",
       "                        <td id=\"T_56571708_b6f2_11ec_bdbb_96000040dfb6row16_col13\" class=\"data row16 col13\" ></td>\n",
       "                        <td id=\"T_56571708_b6f2_11ec_bdbb_96000040dfb6row16_col14\" class=\"data row16 col14\" ></td>\n",
       "                        <td id=\"T_56571708_b6f2_11ec_bdbb_96000040dfb6row16_col15\" class=\"data row16 col15\" ></td>\n",
       "                        <td id=\"T_56571708_b6f2_11ec_bdbb_96000040dfb6row16_col16\" class=\"data row16 col16\" ></td>\n",
       "                        <td id=\"T_56571708_b6f2_11ec_bdbb_96000040dfb6row16_col17\" class=\"data row16 col17\" ></td>\n",
       "                        <td id=\"T_56571708_b6f2_11ec_bdbb_96000040dfb6row16_col18\" class=\"data row16 col18\" ></td>\n",
       "                        <td id=\"T_56571708_b6f2_11ec_bdbb_96000040dfb6row16_col19\" class=\"data row16 col19\" ></td>\n",
       "            </tr>\n",
       "            <tr>\n",
       "                        <th id=\"T_56571708_b6f2_11ec_bdbb_96000040dfb6level0_row17\" class=\"row_heading level0 row17\" >2018-03</th>\n",
       "                        <td id=\"T_56571708_b6f2_11ec_bdbb_96000040dfb6row17_col0\" class=\"data row17 col0\" >100.00%</td>\n",
       "                        <td id=\"T_56571708_b6f2_11ec_bdbb_96000040dfb6row17_col1\" class=\"data row17 col1\" >0.40%</td>\n",
       "                        <td id=\"T_56571708_b6f2_11ec_bdbb_96000040dfb6row17_col2\" class=\"data row17 col2\" >0.30%</td>\n",
       "                        <td id=\"T_56571708_b6f2_11ec_bdbb_96000040dfb6row17_col3\" class=\"data row17 col3\" >0.29%</td>\n",
       "                        <td id=\"T_56571708_b6f2_11ec_bdbb_96000040dfb6row17_col4\" class=\"data row17 col4\" >0.13%</td>\n",
       "                        <td id=\"T_56571708_b6f2_11ec_bdbb_96000040dfb6row17_col5\" class=\"data row17 col5\" >0.12%</td>\n",
       "                        <td id=\"T_56571708_b6f2_11ec_bdbb_96000040dfb6row17_col6\" class=\"data row17 col6\" ></td>\n",
       "                        <td id=\"T_56571708_b6f2_11ec_bdbb_96000040dfb6row17_col7\" class=\"data row17 col7\" ></td>\n",
       "                        <td id=\"T_56571708_b6f2_11ec_bdbb_96000040dfb6row17_col8\" class=\"data row17 col8\" ></td>\n",
       "                        <td id=\"T_56571708_b6f2_11ec_bdbb_96000040dfb6row17_col9\" class=\"data row17 col9\" ></td>\n",
       "                        <td id=\"T_56571708_b6f2_11ec_bdbb_96000040dfb6row17_col10\" class=\"data row17 col10\" ></td>\n",
       "                        <td id=\"T_56571708_b6f2_11ec_bdbb_96000040dfb6row17_col11\" class=\"data row17 col11\" ></td>\n",
       "                        <td id=\"T_56571708_b6f2_11ec_bdbb_96000040dfb6row17_col12\" class=\"data row17 col12\" ></td>\n",
       "                        <td id=\"T_56571708_b6f2_11ec_bdbb_96000040dfb6row17_col13\" class=\"data row17 col13\" ></td>\n",
       "                        <td id=\"T_56571708_b6f2_11ec_bdbb_96000040dfb6row17_col14\" class=\"data row17 col14\" ></td>\n",
       "                        <td id=\"T_56571708_b6f2_11ec_bdbb_96000040dfb6row17_col15\" class=\"data row17 col15\" ></td>\n",
       "                        <td id=\"T_56571708_b6f2_11ec_bdbb_96000040dfb6row17_col16\" class=\"data row17 col16\" ></td>\n",
       "                        <td id=\"T_56571708_b6f2_11ec_bdbb_96000040dfb6row17_col17\" class=\"data row17 col17\" ></td>\n",
       "                        <td id=\"T_56571708_b6f2_11ec_bdbb_96000040dfb6row17_col18\" class=\"data row17 col18\" ></td>\n",
       "                        <td id=\"T_56571708_b6f2_11ec_bdbb_96000040dfb6row17_col19\" class=\"data row17 col19\" ></td>\n",
       "            </tr>\n",
       "            <tr>\n",
       "                        <th id=\"T_56571708_b6f2_11ec_bdbb_96000040dfb6level0_row18\" class=\"row_heading level0 row18\" >2018-04</th>\n",
       "                        <td id=\"T_56571708_b6f2_11ec_bdbb_96000040dfb6row18_col0\" class=\"data row18 col0\" >100.00%</td>\n",
       "                        <td id=\"T_56571708_b6f2_11ec_bdbb_96000040dfb6row18_col1\" class=\"data row18 col1\" >0.58%</td>\n",
       "                        <td id=\"T_56571708_b6f2_11ec_bdbb_96000040dfb6row18_col2\" class=\"data row18 col2\" >0.31%</td>\n",
       "                        <td id=\"T_56571708_b6f2_11ec_bdbb_96000040dfb6row18_col3\" class=\"data row18 col3\" >0.24%</td>\n",
       "                        <td id=\"T_56571708_b6f2_11ec_bdbb_96000040dfb6row18_col4\" class=\"data row18 col4\" >0.13%</td>\n",
       "                        <td id=\"T_56571708_b6f2_11ec_bdbb_96000040dfb6row18_col5\" class=\"data row18 col5\" ></td>\n",
       "                        <td id=\"T_56571708_b6f2_11ec_bdbb_96000040dfb6row18_col6\" class=\"data row18 col6\" ></td>\n",
       "                        <td id=\"T_56571708_b6f2_11ec_bdbb_96000040dfb6row18_col7\" class=\"data row18 col7\" ></td>\n",
       "                        <td id=\"T_56571708_b6f2_11ec_bdbb_96000040dfb6row18_col8\" class=\"data row18 col8\" ></td>\n",
       "                        <td id=\"T_56571708_b6f2_11ec_bdbb_96000040dfb6row18_col9\" class=\"data row18 col9\" ></td>\n",
       "                        <td id=\"T_56571708_b6f2_11ec_bdbb_96000040dfb6row18_col10\" class=\"data row18 col10\" ></td>\n",
       "                        <td id=\"T_56571708_b6f2_11ec_bdbb_96000040dfb6row18_col11\" class=\"data row18 col11\" ></td>\n",
       "                        <td id=\"T_56571708_b6f2_11ec_bdbb_96000040dfb6row18_col12\" class=\"data row18 col12\" ></td>\n",
       "                        <td id=\"T_56571708_b6f2_11ec_bdbb_96000040dfb6row18_col13\" class=\"data row18 col13\" ></td>\n",
       "                        <td id=\"T_56571708_b6f2_11ec_bdbb_96000040dfb6row18_col14\" class=\"data row18 col14\" ></td>\n",
       "                        <td id=\"T_56571708_b6f2_11ec_bdbb_96000040dfb6row18_col15\" class=\"data row18 col15\" ></td>\n",
       "                        <td id=\"T_56571708_b6f2_11ec_bdbb_96000040dfb6row18_col16\" class=\"data row18 col16\" ></td>\n",
       "                        <td id=\"T_56571708_b6f2_11ec_bdbb_96000040dfb6row18_col17\" class=\"data row18 col17\" ></td>\n",
       "                        <td id=\"T_56571708_b6f2_11ec_bdbb_96000040dfb6row18_col18\" class=\"data row18 col18\" ></td>\n",
       "                        <td id=\"T_56571708_b6f2_11ec_bdbb_96000040dfb6row18_col19\" class=\"data row18 col19\" ></td>\n",
       "            </tr>\n",
       "            <tr>\n",
       "                        <th id=\"T_56571708_b6f2_11ec_bdbb_96000040dfb6level0_row19\" class=\"row_heading level0 row19\" >2018-05</th>\n",
       "                        <td id=\"T_56571708_b6f2_11ec_bdbb_96000040dfb6row19_col0\" class=\"data row19 col0\" >100.00%</td>\n",
       "                        <td id=\"T_56571708_b6f2_11ec_bdbb_96000040dfb6row19_col1\" class=\"data row19 col1\" >0.52%</td>\n",
       "                        <td id=\"T_56571708_b6f2_11ec_bdbb_96000040dfb6row19_col2\" class=\"data row19 col2\" >0.26%</td>\n",
       "                        <td id=\"T_56571708_b6f2_11ec_bdbb_96000040dfb6row19_col3\" class=\"data row19 col3\" >0.20%</td>\n",
       "                        <td id=\"T_56571708_b6f2_11ec_bdbb_96000040dfb6row19_col4\" class=\"data row19 col4\" ></td>\n",
       "                        <td id=\"T_56571708_b6f2_11ec_bdbb_96000040dfb6row19_col5\" class=\"data row19 col5\" ></td>\n",
       "                        <td id=\"T_56571708_b6f2_11ec_bdbb_96000040dfb6row19_col6\" class=\"data row19 col6\" ></td>\n",
       "                        <td id=\"T_56571708_b6f2_11ec_bdbb_96000040dfb6row19_col7\" class=\"data row19 col7\" ></td>\n",
       "                        <td id=\"T_56571708_b6f2_11ec_bdbb_96000040dfb6row19_col8\" class=\"data row19 col8\" ></td>\n",
       "                        <td id=\"T_56571708_b6f2_11ec_bdbb_96000040dfb6row19_col9\" class=\"data row19 col9\" ></td>\n",
       "                        <td id=\"T_56571708_b6f2_11ec_bdbb_96000040dfb6row19_col10\" class=\"data row19 col10\" ></td>\n",
       "                        <td id=\"T_56571708_b6f2_11ec_bdbb_96000040dfb6row19_col11\" class=\"data row19 col11\" ></td>\n",
       "                        <td id=\"T_56571708_b6f2_11ec_bdbb_96000040dfb6row19_col12\" class=\"data row19 col12\" ></td>\n",
       "                        <td id=\"T_56571708_b6f2_11ec_bdbb_96000040dfb6row19_col13\" class=\"data row19 col13\" ></td>\n",
       "                        <td id=\"T_56571708_b6f2_11ec_bdbb_96000040dfb6row19_col14\" class=\"data row19 col14\" ></td>\n",
       "                        <td id=\"T_56571708_b6f2_11ec_bdbb_96000040dfb6row19_col15\" class=\"data row19 col15\" ></td>\n",
       "                        <td id=\"T_56571708_b6f2_11ec_bdbb_96000040dfb6row19_col16\" class=\"data row19 col16\" ></td>\n",
       "                        <td id=\"T_56571708_b6f2_11ec_bdbb_96000040dfb6row19_col17\" class=\"data row19 col17\" ></td>\n",
       "                        <td id=\"T_56571708_b6f2_11ec_bdbb_96000040dfb6row19_col18\" class=\"data row19 col18\" ></td>\n",
       "                        <td id=\"T_56571708_b6f2_11ec_bdbb_96000040dfb6row19_col19\" class=\"data row19 col19\" ></td>\n",
       "            </tr>\n",
       "            <tr>\n",
       "                        <th id=\"T_56571708_b6f2_11ec_bdbb_96000040dfb6level0_row20\" class=\"row_heading level0 row20\" >2018-06</th>\n",
       "                        <td id=\"T_56571708_b6f2_11ec_bdbb_96000040dfb6row20_col0\" class=\"data row20 col0\" >100.00%</td>\n",
       "                        <td id=\"T_56571708_b6f2_11ec_bdbb_96000040dfb6row20_col1\" class=\"data row20 col1\" >0.42%</td>\n",
       "                        <td id=\"T_56571708_b6f2_11ec_bdbb_96000040dfb6row20_col2\" class=\"data row20 col2\" >0.27%</td>\n",
       "                        <td id=\"T_56571708_b6f2_11ec_bdbb_96000040dfb6row20_col3\" class=\"data row20 col3\" ></td>\n",
       "                        <td id=\"T_56571708_b6f2_11ec_bdbb_96000040dfb6row20_col4\" class=\"data row20 col4\" ></td>\n",
       "                        <td id=\"T_56571708_b6f2_11ec_bdbb_96000040dfb6row20_col5\" class=\"data row20 col5\" ></td>\n",
       "                        <td id=\"T_56571708_b6f2_11ec_bdbb_96000040dfb6row20_col6\" class=\"data row20 col6\" ></td>\n",
       "                        <td id=\"T_56571708_b6f2_11ec_bdbb_96000040dfb6row20_col7\" class=\"data row20 col7\" ></td>\n",
       "                        <td id=\"T_56571708_b6f2_11ec_bdbb_96000040dfb6row20_col8\" class=\"data row20 col8\" ></td>\n",
       "                        <td id=\"T_56571708_b6f2_11ec_bdbb_96000040dfb6row20_col9\" class=\"data row20 col9\" ></td>\n",
       "                        <td id=\"T_56571708_b6f2_11ec_bdbb_96000040dfb6row20_col10\" class=\"data row20 col10\" ></td>\n",
       "                        <td id=\"T_56571708_b6f2_11ec_bdbb_96000040dfb6row20_col11\" class=\"data row20 col11\" ></td>\n",
       "                        <td id=\"T_56571708_b6f2_11ec_bdbb_96000040dfb6row20_col12\" class=\"data row20 col12\" ></td>\n",
       "                        <td id=\"T_56571708_b6f2_11ec_bdbb_96000040dfb6row20_col13\" class=\"data row20 col13\" ></td>\n",
       "                        <td id=\"T_56571708_b6f2_11ec_bdbb_96000040dfb6row20_col14\" class=\"data row20 col14\" ></td>\n",
       "                        <td id=\"T_56571708_b6f2_11ec_bdbb_96000040dfb6row20_col15\" class=\"data row20 col15\" ></td>\n",
       "                        <td id=\"T_56571708_b6f2_11ec_bdbb_96000040dfb6row20_col16\" class=\"data row20 col16\" ></td>\n",
       "                        <td id=\"T_56571708_b6f2_11ec_bdbb_96000040dfb6row20_col17\" class=\"data row20 col17\" ></td>\n",
       "                        <td id=\"T_56571708_b6f2_11ec_bdbb_96000040dfb6row20_col18\" class=\"data row20 col18\" ></td>\n",
       "                        <td id=\"T_56571708_b6f2_11ec_bdbb_96000040dfb6row20_col19\" class=\"data row20 col19\" ></td>\n",
       "            </tr>\n",
       "            <tr>\n",
       "                        <th id=\"T_56571708_b6f2_11ec_bdbb_96000040dfb6level0_row21\" class=\"row_heading level0 row21\" >2018-07</th>\n",
       "                        <td id=\"T_56571708_b6f2_11ec_bdbb_96000040dfb6row21_col0\" class=\"data row21 col0\" >100.00%</td>\n",
       "                        <td id=\"T_56571708_b6f2_11ec_bdbb_96000040dfb6row21_col1\" class=\"data row21 col1\" >0.52%</td>\n",
       "                        <td id=\"T_56571708_b6f2_11ec_bdbb_96000040dfb6row21_col2\" class=\"data row21 col2\" ></td>\n",
       "                        <td id=\"T_56571708_b6f2_11ec_bdbb_96000040dfb6row21_col3\" class=\"data row21 col3\" ></td>\n",
       "                        <td id=\"T_56571708_b6f2_11ec_bdbb_96000040dfb6row21_col4\" class=\"data row21 col4\" ></td>\n",
       "                        <td id=\"T_56571708_b6f2_11ec_bdbb_96000040dfb6row21_col5\" class=\"data row21 col5\" ></td>\n",
       "                        <td id=\"T_56571708_b6f2_11ec_bdbb_96000040dfb6row21_col6\" class=\"data row21 col6\" ></td>\n",
       "                        <td id=\"T_56571708_b6f2_11ec_bdbb_96000040dfb6row21_col7\" class=\"data row21 col7\" ></td>\n",
       "                        <td id=\"T_56571708_b6f2_11ec_bdbb_96000040dfb6row21_col8\" class=\"data row21 col8\" ></td>\n",
       "                        <td id=\"T_56571708_b6f2_11ec_bdbb_96000040dfb6row21_col9\" class=\"data row21 col9\" ></td>\n",
       "                        <td id=\"T_56571708_b6f2_11ec_bdbb_96000040dfb6row21_col10\" class=\"data row21 col10\" ></td>\n",
       "                        <td id=\"T_56571708_b6f2_11ec_bdbb_96000040dfb6row21_col11\" class=\"data row21 col11\" ></td>\n",
       "                        <td id=\"T_56571708_b6f2_11ec_bdbb_96000040dfb6row21_col12\" class=\"data row21 col12\" ></td>\n",
       "                        <td id=\"T_56571708_b6f2_11ec_bdbb_96000040dfb6row21_col13\" class=\"data row21 col13\" ></td>\n",
       "                        <td id=\"T_56571708_b6f2_11ec_bdbb_96000040dfb6row21_col14\" class=\"data row21 col14\" ></td>\n",
       "                        <td id=\"T_56571708_b6f2_11ec_bdbb_96000040dfb6row21_col15\" class=\"data row21 col15\" ></td>\n",
       "                        <td id=\"T_56571708_b6f2_11ec_bdbb_96000040dfb6row21_col16\" class=\"data row21 col16\" ></td>\n",
       "                        <td id=\"T_56571708_b6f2_11ec_bdbb_96000040dfb6row21_col17\" class=\"data row21 col17\" ></td>\n",
       "                        <td id=\"T_56571708_b6f2_11ec_bdbb_96000040dfb6row21_col18\" class=\"data row21 col18\" ></td>\n",
       "                        <td id=\"T_56571708_b6f2_11ec_bdbb_96000040dfb6row21_col19\" class=\"data row21 col19\" ></td>\n",
       "            </tr>\n",
       "            <tr>\n",
       "                        <th id=\"T_56571708_b6f2_11ec_bdbb_96000040dfb6level0_row22\" class=\"row_heading level0 row22\" >2018-08</th>\n",
       "                        <td id=\"T_56571708_b6f2_11ec_bdbb_96000040dfb6row22_col0\" class=\"data row22 col0\" >100.00%</td>\n",
       "                        <td id=\"T_56571708_b6f2_11ec_bdbb_96000040dfb6row22_col1\" class=\"data row22 col1\" >0.02%</td>\n",
       "                        <td id=\"T_56571708_b6f2_11ec_bdbb_96000040dfb6row22_col2\" class=\"data row22 col2\" ></td>\n",
       "                        <td id=\"T_56571708_b6f2_11ec_bdbb_96000040dfb6row22_col3\" class=\"data row22 col3\" ></td>\n",
       "                        <td id=\"T_56571708_b6f2_11ec_bdbb_96000040dfb6row22_col4\" class=\"data row22 col4\" ></td>\n",
       "                        <td id=\"T_56571708_b6f2_11ec_bdbb_96000040dfb6row22_col5\" class=\"data row22 col5\" ></td>\n",
       "                        <td id=\"T_56571708_b6f2_11ec_bdbb_96000040dfb6row22_col6\" class=\"data row22 col6\" ></td>\n",
       "                        <td id=\"T_56571708_b6f2_11ec_bdbb_96000040dfb6row22_col7\" class=\"data row22 col7\" ></td>\n",
       "                        <td id=\"T_56571708_b6f2_11ec_bdbb_96000040dfb6row22_col8\" class=\"data row22 col8\" ></td>\n",
       "                        <td id=\"T_56571708_b6f2_11ec_bdbb_96000040dfb6row22_col9\" class=\"data row22 col9\" ></td>\n",
       "                        <td id=\"T_56571708_b6f2_11ec_bdbb_96000040dfb6row22_col10\" class=\"data row22 col10\" ></td>\n",
       "                        <td id=\"T_56571708_b6f2_11ec_bdbb_96000040dfb6row22_col11\" class=\"data row22 col11\" ></td>\n",
       "                        <td id=\"T_56571708_b6f2_11ec_bdbb_96000040dfb6row22_col12\" class=\"data row22 col12\" ></td>\n",
       "                        <td id=\"T_56571708_b6f2_11ec_bdbb_96000040dfb6row22_col13\" class=\"data row22 col13\" ></td>\n",
       "                        <td id=\"T_56571708_b6f2_11ec_bdbb_96000040dfb6row22_col14\" class=\"data row22 col14\" ></td>\n",
       "                        <td id=\"T_56571708_b6f2_11ec_bdbb_96000040dfb6row22_col15\" class=\"data row22 col15\" ></td>\n",
       "                        <td id=\"T_56571708_b6f2_11ec_bdbb_96000040dfb6row22_col16\" class=\"data row22 col16\" ></td>\n",
       "                        <td id=\"T_56571708_b6f2_11ec_bdbb_96000040dfb6row22_col17\" class=\"data row22 col17\" ></td>\n",
       "                        <td id=\"T_56571708_b6f2_11ec_bdbb_96000040dfb6row22_col18\" class=\"data row22 col18\" ></td>\n",
       "                        <td id=\"T_56571708_b6f2_11ec_bdbb_96000040dfb6row22_col19\" class=\"data row22 col19\" ></td>\n",
       "            </tr>\n",
       "    </tbody></table>"
      ],
      "text/plain": [
       "<pandas.io.formats.style.Styler at 0x7f5b5aeac1d0>"
      ]
     },
     "execution_count": 76,
     "metadata": {},
     "output_type": "execute_result"
    }
   ],
   "source": [
    "# применим форматирование отображения датафрэйма\n",
    "ur_style = (retention_matrix\n",
    "            .style \n",
    "            .set_caption('Customer retention by cohort')  # добавляем подпись \n",
    "            .background_gradient(cmap='viridis')          # раскрашиваем ячейки по столбцам \n",
    "            .highlight_null('white')                      # делаем белый фон для значений NaN \n",
    "            .format(\"{:.2%}\", na_rep=\"\"))                 # числа форматируем как проценты, NaN заменяем на пустоту \n",
    "ur_style"
   ]
  },
  {
   "cell_type": "code",
   "execution_count": 77,
   "metadata": {
    "scrolled": true
   },
   "outputs": [
    {
     "name": "stdout",
     "output_type": "stream",
     "text": [
      "2017-05\n"
     ]
    }
   ],
   "source": [
    "# когорта с максимальным retention на третий месяц \n",
    "# в период с января по декабрь 2017 г.\n",
    "print(retention_matrix.loc['2017-01':'2017-12', 3].idxmax())"
   ]
  },
  {
   "cell_type": "markdown",
   "metadata": {},
   "source": [
    "### 6. Построить RFM-кластеры для пользователей. Вывести для каждого кластера средние значения метрик R, F, M . <a class=\"anchor\" id=\"sixth-bullet\"></a>"
   ]
  },
  {
   "cell_type": "markdown",
   "metadata": {},
   "source": [
    "R - recency — давность (как давно ваши клиенты что-то покупали);  \n",
    "F - frequency — частота (как часто клиенты покупают);  \n",
    "M - monetary — деньги (общая сумма покупок).  \n",
    "\n",
    "По каждому из этих признаков мы выделяем по нексолько групп (точное количество определим в процессе). Затем присваиваем каждой группе числовое обозначение от 1 до n, где n - число кластеров\n",
    "\n",
    "За отчётный период берём один год.  \n",
    "\n",
    "Нам потребуются следующие данные:\n",
    "- id клиента\n",
    "- даты покупок\n",
    "- общее число заказов в течение указанного отчетного периода\n",
    "- средний чек"
   ]
  },
  {
   "cell_type": "markdown",
   "metadata": {},
   "source": [
    "Взлянем на даты."
   ]
  },
  {
   "cell_type": "code",
   "execution_count": 78,
   "metadata": {},
   "outputs": [
    {
     "data": {
      "text/plain": [
       "Timestamp('2022-04-08 07:14:08.944717')"
      ]
     },
     "execution_count": 78,
     "metadata": {},
     "output_type": "execute_result"
    }
   ],
   "source": [
    "# сегодняшняя дата (действительная)\n",
    "real_today = (\n",
    "    pd.to_datetime(\n",
    "        datetime.datetime.today()\n",
    "              )\n",
    ")\n",
    "real_today"
   ]
  },
  {
   "cell_type": "code",
   "execution_count": 79,
   "metadata": {},
   "outputs": [],
   "source": [
    "# дата первого заказа\n",
    "first_order_date = (\n",
    "    purchase_total_df\n",
    "                 .order_purchase_timestamp\n",
    "                 .min()\n",
    ")"
   ]
  },
  {
   "cell_type": "code",
   "execution_count": 80,
   "metadata": {},
   "outputs": [],
   "source": [
    "# дата последнего заказа\n",
    "last_order_date = (\n",
    "    purchase_total_df\n",
    "                 .order_purchase_timestamp\n",
    "                 .max()\n",
    ")"
   ]
  },
  {
   "cell_type": "code",
   "execution_count": 81,
   "metadata": {},
   "outputs": [
    {
     "data": {
      "text/plain": [
       "43"
      ]
     },
     "execution_count": 81,
     "metadata": {},
     "output_type": "execute_result"
    }
   ],
   "source": [
    "# разница между сегодняшним днём и датой последнего заказа в месяцах\n",
    "(real_today.to_period('M') - last_order_date.to_period('M')).n"
   ]
  },
  {
   "cell_type": "code",
   "execution_count": 82,
   "metadata": {},
   "outputs": [
    {
     "data": {
      "text/plain": [
       "67"
      ]
     },
     "execution_count": 82,
     "metadata": {},
     "output_type": "execute_result"
    }
   ],
   "source": [
    "# разница между сегодняшним днём и датой первого заказа в месяцах\n",
    "(real_today.to_period('M') - first_order_date.to_period('M')).n"
   ]
  },
  {
   "cell_type": "code",
   "execution_count": 83,
   "metadata": {},
   "outputs": [
    {
     "data": {
      "text/plain": [
       "24"
      ]
     },
     "execution_count": 83,
     "metadata": {},
     "output_type": "execute_result"
    }
   ],
   "source": [
    "# разница между датами последнего и первого заказов в месяцах\n",
    "(last_order_date.to_period('M') - first_order_date.to_period('M')).n"
   ]
  },
  {
   "cell_type": "markdown",
   "metadata": {},
   "source": [
    "Последняя дата заказа - сентябрь 2018 и новее данных нет. Разница между сегодняшней датои и датой последнего заказа почти в два раза больше разницы между первым и последним заказом. Получаестся, что дата первого заказа не сильно отличается от даты последнего заказа по отношению к сегодняшнему дню. С этим связана некоторая сложность в оценке того, что принять за \"давнюю дату\", а что за \"недавнюю\".  \n",
    "Чтобы увидеть более реальную картину относительно давности заказов, будем оценивать даты относительно последнего дня заказа, вместо действительного сегодняшнего дня. Т.е. как бы переместимся в прошлое, чтобы посмотреть как вели себя покупатели тогда.  "
   ]
  },
  {
   "cell_type": "code",
   "execution_count": 84,
   "metadata": {
    "scrolled": true
   },
   "outputs": [
    {
     "data": {
      "text/plain": [
       "Timestamp('2018-09-03 09:06:57')"
      ]
     },
     "execution_count": 84,
     "metadata": {},
     "output_type": "execute_result"
    }
   ],
   "source": [
    "# условня \"сегодняшняя\" дата\n",
    "conditional_today_date = purchase_total_df.order_purchase_timestamp.max()\n",
    "conditional_today_date"
   ]
  },
  {
   "cell_type": "code",
   "execution_count": 85,
   "metadata": {},
   "outputs": [
    {
     "data": {
      "text/plain": [
       "Timestamp('2017-09-03 09:06:57')"
      ]
     },
     "execution_count": 85,
     "metadata": {},
     "output_type": "execute_result"
    }
   ],
   "source": [
    "# дата начала периода\n",
    "start_date = conditional_today_date - pd.Timedelta(365, unit='day')\n",
    "start_date"
   ]
  },
  {
   "cell_type": "markdown",
   "metadata": {},
   "source": [
    "Подготовим датасет для rfm-анализа. Для этого сгруппируем имеющийся датасет с данными о покупках __*purchase_total_df*__ и найдём последнюю дату покупок, средний чек и количество заказов на пользователя.  \n",
    "На общую сумму полученную с покупателя может влиять количество покупок и, как следствие, дублирование метрик. Поэтому в качестве параметра Monetary выбрана средняя сумма чека.  "
   ]
  },
  {
   "cell_type": "code",
   "execution_count": 86,
   "metadata": {},
   "outputs": [],
   "source": [
    "# датафрэём для анализа за весь период времени\n",
    "pre_rfm_all_years = (\n",
    "    purchase_total_df\n",
    "        .copy()\n",
    "\n",
    "    # сначала сгруппируем по заказам\n",
    "        .groupby('order_id', as_index=False)                     \n",
    "        .agg({\n",
    "            'price': 'sum',                               # найдём сумму заказа\n",
    "            'customer_unique_id': 'first',                # сохраним колонку пользователя, взяв первый элемент из группы\n",
    "            'order_purchase_timestamp': 'max'             # оставим последнюю дату\n",
    "        })\n",
    "    \n",
    "    # теперь группируем по пользователям\n",
    "        .groupby('customer_unique_id', as_index=False)           \n",
    "        .agg({\n",
    "            'price': 'mean',                              # средний чек\n",
    "            'order_id': 'count',                          # количество покупок\n",
    "            'order_purchase_timestamp': 'max'})           # последнее время заказа\n",
    "        .rename(columns={\n",
    "            'price': 'avg_bill', \n",
    "            'customer_unique_id': 'customer',\n",
    "            'order_id': 'purchases_quantity',\n",
    "            'order_purchase_timestamp': 'last_order'\n",
    "        })\n",
    "        .assign(day_quantity = lambda x:                  # добавляем колонку с разницей между условным сегодняшним днём и последней покупкой в днях\n",
    "                (\n",
    "                    conditional_today_date.to_period('D') - x.last_order.dt.to_period('D')\n",
    "                )\n",
    "                .apply(attrgetter('n'))                   # передадим созданной колонке атрибут n, чтобы задать номинальные единицы изменения (дни)\n",
    "               )\n",
    ")"
   ]
  },
  {
   "cell_type": "markdown",
   "metadata": {},
   "source": [
    "Так как отчётный период один год, подготовим вариант датафрэйма с такими же группировками, отфильтровав исходный __*purchase_total_df*__ соответствующим образом."
   ]
  },
  {
   "cell_type": "code",
   "execution_count": 87,
   "metadata": {},
   "outputs": [],
   "source": [
    "# датафрэём для анализа за один год\n",
    "pre_rfm = (\n",
    "    purchase_total_df\n",
    "        .copy()\n",
    "        .query('order_purchase_timestamp >= @start_date') \n",
    "    \n",
    "    # сначала сгруппируем по заказам\n",
    "        .groupby('order_id', as_index=False)                     \n",
    "        .agg({\n",
    "            'price': 'sum',                               # найдём сумму заказа\n",
    "            'customer_unique_id': 'first',                # сохраним колонку пользователя, взяв первый элемент из группы\n",
    "            'order_purchase_timestamp': 'max'             # оставим последнюю дату\n",
    "        })\n",
    "    \n",
    "    # теперь группируем по пользователям\n",
    "        .groupby('customer_unique_id', as_index=False)           \n",
    "        .agg({\n",
    "            'price': 'mean',                              # средний чек\n",
    "            'order_id': 'count',                          # количество покупок\n",
    "            'order_purchase_timestamp': 'max'})           # последнее время заказа\n",
    "        .rename(columns={\n",
    "            'price': 'avg_bill', \n",
    "            'customer_unique_id': 'customer',\n",
    "            'order_id': 'purchases_quantity',\n",
    "            'order_purchase_timestamp': 'last_order'\n",
    "        })\n",
    "        .assign(day_quantity = lambda x:                  # добавляем колонку с разницей между условным сегодняшним днём и последней покупкой в днях\n",
    "                (\n",
    "                    conditional_today_date.to_period('D') - x.last_order.dt.to_period('D')\n",
    "                )\n",
    "                .apply(attrgetter('n'))                   # передадим созданной колонке атрибут n, чтобы задать номинальные единицы изменения (дни)\n",
    "               )\n",
    ")"
   ]
  },
  {
   "cell_type": "code",
   "execution_count": 88,
   "metadata": {
    "scrolled": true
   },
   "outputs": [
    {
     "data": {
      "text/html": [
       "<div>\n",
       "<style scoped>\n",
       "    .dataframe tbody tr th:only-of-type {\n",
       "        vertical-align: middle;\n",
       "    }\n",
       "\n",
       "    .dataframe tbody tr th {\n",
       "        vertical-align: top;\n",
       "    }\n",
       "\n",
       "    .dataframe thead th {\n",
       "        text-align: right;\n",
       "    }\n",
       "</style>\n",
       "<table border=\"1\" class=\"dataframe\">\n",
       "  <thead>\n",
       "    <tr style=\"text-align: right;\">\n",
       "      <th></th>\n",
       "      <th>customer</th>\n",
       "      <th>avg_bill</th>\n",
       "      <th>purchases_quantity</th>\n",
       "      <th>last_order</th>\n",
       "      <th>day_quantity</th>\n",
       "    </tr>\n",
       "  </thead>\n",
       "  <tbody>\n",
       "    <tr>\n",
       "      <th>0</th>\n",
       "      <td>0000366f3b9a7992bf8c76cfdf3221e2</td>\n",
       "      <td>129.90</td>\n",
       "      <td>1</td>\n",
       "      <td>2018-05-10 10:56:27</td>\n",
       "      <td>116</td>\n",
       "    </tr>\n",
       "    <tr>\n",
       "      <th>1</th>\n",
       "      <td>0000b849f77a49e4a4ce2b2a4ca5be3f</td>\n",
       "      <td>18.90</td>\n",
       "      <td>1</td>\n",
       "      <td>2018-05-07 11:11:27</td>\n",
       "      <td>119</td>\n",
       "    </tr>\n",
       "    <tr>\n",
       "      <th>2</th>\n",
       "      <td>0000f6ccb0745a6a4b88665a16c9f078</td>\n",
       "      <td>25.99</td>\n",
       "      <td>1</td>\n",
       "      <td>2017-10-12 20:29:41</td>\n",
       "      <td>326</td>\n",
       "    </tr>\n",
       "    <tr>\n",
       "      <th>3</th>\n",
       "      <td>0004aac84e0df4da2b147fca70cf8255</td>\n",
       "      <td>180.00</td>\n",
       "      <td>1</td>\n",
       "      <td>2017-11-14 19:45:42</td>\n",
       "      <td>293</td>\n",
       "    </tr>\n",
       "    <tr>\n",
       "      <th>4</th>\n",
       "      <td>0004bd2a26a76fe21f786e4fbd80607f</td>\n",
       "      <td>154.00</td>\n",
       "      <td>1</td>\n",
       "      <td>2018-04-05 19:33:16</td>\n",
       "      <td>151</td>\n",
       "    </tr>\n",
       "  </tbody>\n",
       "</table>\n",
       "</div>"
      ],
      "text/plain": [
       "                           customer  avg_bill  purchases_quantity  \\\n",
       "0  0000366f3b9a7992bf8c76cfdf3221e2    129.90                   1   \n",
       "1  0000b849f77a49e4a4ce2b2a4ca5be3f     18.90                   1   \n",
       "2  0000f6ccb0745a6a4b88665a16c9f078     25.99                   1   \n",
       "3  0004aac84e0df4da2b147fca70cf8255    180.00                   1   \n",
       "4  0004bd2a26a76fe21f786e4fbd80607f    154.00                   1   \n",
       "\n",
       "           last_order  day_quantity  \n",
       "0 2018-05-10 10:56:27           116  \n",
       "1 2018-05-07 11:11:27           119  \n",
       "2 2017-10-12 20:29:41           326  \n",
       "3 2017-11-14 19:45:42           293  \n",
       "4 2018-04-05 19:33:16           151  "
      ]
     },
     "execution_count": 88,
     "metadata": {},
     "output_type": "execute_result"
    }
   ],
   "source": [
    "pre_rfm.head()"
   ]
  },
  {
   "cell_type": "markdown",
   "metadata": {},
   "source": [
    "Основная сложность проведения анализа — определить границы сегментов. Нам не известно что это за магазин и какими видами товара он торгует. Чтобы понять, что есть норма для этого бизнеса, посмотрим на медианные, средние, минимальные и максимальные значения данных, а также более детально посмотрим на их распределения."
   ]
  },
  {
   "cell_type": "code",
   "execution_count": 89,
   "metadata": {
    "scrolled": false
   },
   "outputs": [
    {
     "data": {
      "text/html": [
       "<div>\n",
       "<style scoped>\n",
       "    .dataframe tbody tr th:only-of-type {\n",
       "        vertical-align: middle;\n",
       "    }\n",
       "\n",
       "    .dataframe tbody tr th {\n",
       "        vertical-align: top;\n",
       "    }\n",
       "\n",
       "    .dataframe thead th {\n",
       "        text-align: right;\n",
       "    }\n",
       "</style>\n",
       "<table border=\"1\" class=\"dataframe\">\n",
       "  <thead>\n",
       "    <tr style=\"text-align: right;\">\n",
       "      <th></th>\n",
       "      <th>avg_bill</th>\n",
       "      <th>purchases_quantity</th>\n",
       "      <th>day_quantity</th>\n",
       "    </tr>\n",
       "  </thead>\n",
       "  <tbody>\n",
       "    <tr>\n",
       "      <th>count</th>\n",
       "      <td>73071.000000</td>\n",
       "      <td>73071.000000</td>\n",
       "      <td>73071.000000</td>\n",
       "    </tr>\n",
       "    <tr>\n",
       "      <th>mean</th>\n",
       "      <td>137.788142</td>\n",
       "      <td>1.027439</td>\n",
       "      <td>176.685635</td>\n",
       "    </tr>\n",
       "    <tr>\n",
       "      <th>std</th>\n",
       "      <td>207.447816</td>\n",
       "      <td>0.186223</td>\n",
       "      <td>98.868528</td>\n",
       "    </tr>\n",
       "    <tr>\n",
       "      <th>min</th>\n",
       "      <td>0.850000</td>\n",
       "      <td>1.000000</td>\n",
       "      <td>0.000000</td>\n",
       "    </tr>\n",
       "    <tr>\n",
       "      <th>25%</th>\n",
       "      <td>47.000000</td>\n",
       "      <td>1.000000</td>\n",
       "      <td>93.000000</td>\n",
       "    </tr>\n",
       "    <tr>\n",
       "      <th>50%</th>\n",
       "      <td>88.000000</td>\n",
       "      <td>1.000000</td>\n",
       "      <td>176.000000</td>\n",
       "    </tr>\n",
       "    <tr>\n",
       "      <th>75%</th>\n",
       "      <td>149.900000</td>\n",
       "      <td>1.000000</td>\n",
       "      <td>264.000000</td>\n",
       "    </tr>\n",
       "    <tr>\n",
       "      <th>max</th>\n",
       "      <td>13440.000000</td>\n",
       "      <td>11.000000</td>\n",
       "      <td>365.000000</td>\n",
       "    </tr>\n",
       "  </tbody>\n",
       "</table>\n",
       "</div>"
      ],
      "text/plain": [
       "           avg_bill  purchases_quantity  day_quantity\n",
       "count  73071.000000        73071.000000  73071.000000\n",
       "mean     137.788142            1.027439    176.685635\n",
       "std      207.447816            0.186223     98.868528\n",
       "min        0.850000            1.000000      0.000000\n",
       "25%       47.000000            1.000000     93.000000\n",
       "50%       88.000000            1.000000    176.000000\n",
       "75%      149.900000            1.000000    264.000000\n",
       "max    13440.000000           11.000000    365.000000"
      ]
     },
     "execution_count": 89,
     "metadata": {},
     "output_type": "execute_result"
    }
   ],
   "source": [
    "pre_rfm.describe()"
   ]
  },
  {
   "cell_type": "markdown",
   "metadata": {},
   "source": [
    "- Средний чек: 75-й процентиль 149,9, а максимум - 13440, к тому же среднее и медианное значения отличаются значительно. Среднюю меру здесь описывает медиана 88.34, а высокий максимум обусловлен выбросами - редкими покупками на очень большие суммы.   \n",
    "- Количество покупок: подавляющее большинство покупателей делают одну покупку, также как и в случае со средним чеком имеют место выбросы.  \n",
    "- Количество дней с последней покупки: здесь картина более-менее равномерная, среднее и медиана почти равны."
   ]
  },
  {
   "cell_type": "markdown",
   "metadata": {},
   "source": [
    "### Monetary"
   ]
  },
  {
   "cell_type": "code",
   "execution_count": 90,
   "metadata": {
    "scrolled": false
   },
   "outputs": [
    {
     "data": {
      "text/plain": [
       "Text(3.845390625000004, 0.5, 'Count (logarithmic scale)')"
      ]
     },
     "execution_count": 90,
     "metadata": {},
     "output_type": "execute_result"
    },
    {
     "data": {
      "image/png": "[encoded data removed]",
      "text/plain": [
       "<Figure size 1008x504 with 1 Axes>"
      ]
     },
     "metadata": {
      "needs_background": "light"
     },
     "output_type": "display_data"
    }
   ],
   "source": [
    "# распределение средних чеков покупателя с логарифмической шкалой Y\n",
    "sns.displot(pre_rfm.avg_bill, height=7, aspect=2, log_scale=(False, True))\n",
    "plt.xlabel(\"Average Bill\", size=14)\n",
    "plt.ylabel(\"Count (logarithmic scale)\", size=14)"
   ]
  },
  {
   "cell_type": "code",
   "execution_count": 91,
   "metadata": {
    "scrolled": false
   },
   "outputs": [
    {
     "data": {
      "text/plain": [
       "<matplotlib.lines.Line2D at 0x7f5b4ed6e198>"
      ]
     },
     "execution_count": 91,
     "metadata": {},
     "output_type": "execute_result"
    },
    {
     "data": {
      "image/png": "[encoded data removed]",
      "text/plain": [
       "<Figure size 504x504 with 1 Axes>"
      ]
     },
     "metadata": {
      "needs_background": "light"
     },
     "output_type": "display_data"
    }
   ],
   "source": [
    "# распределение средних чеков покупателя, левая часть более детально \n",
    "sns.displot(pre_rfm.avg_bill[pre_rfm.avg_bill < 500], height=7, aspect=1, kde=True)\n",
    "plt.xlabel(\"Average Bill\", size=14)\n",
    "plt.ylabel(\"Count\", size=14)\n",
    "\n",
    "plt.axvline(x=75,              # синяя пунктирная линия - граница между 1 и 2 группами\n",
    "            color='blue',\n",
    "            ls='--', \n",
    "            lw=2.5)\n",
    "plt.axvline(x=280,             # фиолетовая пунктирная линия - граница между 2 и 3 группами\n",
    "            color='purple',\n",
    "            ls='--', \n",
    "            lw=2.5)"
   ]
  },
  {
   "cell_type": "markdown",
   "metadata": {},
   "source": [
    "Для начала попытаемся определит интервалы, интерпретирую графики.\n",
    "Глядя на рапсределение можно выделить следующие группы:\n",
    "От 0 до значения чуть меньшего медианы - 75.  \n",
    "Вторая - свыше 75 до 280.  \n",
    "Третья - свыше 280.  \n",
    "На границах этих групп заметны значительные перепады, или изменение характера апроксимирующей кривой графика."
   ]
  },
  {
   "cell_type": "markdown",
   "metadata": {},
   "source": [
    "### Далее с попощью метода К-средних определим порги и назначим номера кластеров для каждой из метрик.\n",
    "Следующим шагом определим оптимальное количство кластеров для колонки со средними чеками с помощью метода локтя. Для этого напишем функцию."
   ]
  },
  {
   "cell_type": "code",
   "execution_count": 92,
   "metadata": {},
   "outputs": [],
   "source": [
    "def optimal_cluster_number(X, n_clucter_max=7):\n",
    "    '''\n",
    "    Функция рисует график для определения оптимального количества кластеров, который строится с момощью метода локтя \n",
    "    X - пандосовская серия\n",
    "    n_clucter_max - максимальное количество кластеров\n",
    "    '''\n",
    "    error_rates = []\n",
    "    for i in range(1, n_clucter_max + 1):\n",
    "        model = KMeans(n_clusters = i, random_state = 42)  # создадим экземпляр класса KMeans\n",
    "        model.fit(X.values.reshape(-1,1))                                      # преобразуем 1D массив в 2D и обучим модель \n",
    "        error_rates.append(model.inertia_)                                     # наполняем список для построения графика\n",
    "\n",
    "    plt.plot(range(1, n_clucter_max + 1), error_rates)\n",
    "    plt.xlabel(\"Number of Cluster\", size=14)\n",
    "    plt.ylabel(\"Errors\", size=14)"
   ]
  },
  {
   "cell_type": "markdown",
   "metadata": {},
   "source": [
    "Находим оптимальное количество кластеров для среднего чека.\n",
    "Сначала попробуем привести колонку со средними чеками к нормальному виду, на сколько это возможно, с помощью Box-Cox трансформации, иначе имеющиеся выбросы исказят результат."
   ]
  },
  {
   "cell_type": "code",
   "execution_count": 93,
   "metadata": {},
   "outputs": [],
   "source": [
    "# трнасформируем средний чек и соединим его с нетрансформированным\n",
    "transformed_data, best_lambda = boxcox(pre_rfm.avg_bill)\n",
    "trans_avg_bill = pd.DataFrame(transformed_data, columns=['trans_bill'])\n",
    "trans_avg_bill['avg_bill'] = pre_rfm.avg_bill"
   ]
  },
  {
   "cell_type": "code",
   "execution_count": 94,
   "metadata": {
    "scrolled": false
   },
   "outputs": [
    {
     "data": {
      "text/plain": [
       "Text(-2.5749999999999957, 0.5, 'Count')"
      ]
     },
     "execution_count": 94,
     "metadata": {},
     "output_type": "execute_result"
    },
    {
     "data": {
      "image/png": "[encoded data removed]",
      "text/plain": [
       "<Figure size 504x504 with 1 Axes>"
      ]
     },
     "metadata": {
      "needs_background": "light"
     },
     "output_type": "display_data"
    }
   ],
   "source": [
    "# распределение средних чеков покупателя после Box-Cox трансформации\n",
    "sns.displot(trans_avg_bill.trans_bill, height=7, aspect=1)\n",
    "plt.xlabel(\"Average Bill\", size=14)\n",
    "plt.ylabel(\"Count\", size=14)"
   ]
  },
  {
   "cell_type": "code",
   "execution_count": 95,
   "metadata": {
    "scrolled": true
   },
   "outputs": [
    {
     "data": {
      "image/png": "[encoded data removed]",
      "text/plain": [
       "<Figure size 432x288 with 1 Axes>"
      ]
     },
     "metadata": {
      "needs_background": "light"
     },
     "output_type": "display_data"
    }
   ],
   "source": [
    "# ищем оптимальное количество кластеров\n",
    "optimal_cluster_number(trans_avg_bill.trans_bill)"
   ]
  },
  {
   "cell_type": "markdown",
   "metadata": {},
   "source": [
    "Оптимальное количество кластеров - 3."
   ]
  },
  {
   "cell_type": "markdown",
   "metadata": {},
   "source": [
    "Далее напишем функцию, определения границ."
   ]
  },
  {
   "cell_type": "code",
   "execution_count": 96,
   "metadata": {},
   "outputs": [],
   "source": [
    "def get_borders(X, n_clusters):\n",
    "    '''\n",
    "    Функция возвращает список границ кластеров\n",
    "    Принимает на вход:\n",
    "        X - пандосовская серия\n",
    "        n_clusters - количество кластеров\n",
    "    '''\n",
    "    model = KMeans(n_clusters=n_clusters, random_state = 0)     # создадим экземпляр класса KMeans\n",
    "    model.fit(X.values.reshape(-1,1))                           # преобразуем 1D массив в 2D и обучим модель \n",
    "    clusters = model.labels_                                    # кластеры   \n",
    "\n",
    "    df = X.to_frame()                                           # переведём серию в датафрэйм\n",
    "    df['clusters'] = clusters                                   # добавим колонку с кластерами\n",
    "\n",
    "    borders = [df.iloc[:, 0].min()]                             # добавим минимальное значение в список\n",
    "    \n",
    "    for i in range(n_clusters):\n",
    "        border = df.query('clusters == @i').iloc[:, 0].max()    # отбираем максимальные значения при определённых значениях clusters\n",
    "        borders.append(border)                                  # добавляем в список\n",
    "    \n",
    "    return sorted(borders)                                      # возвращаем сортированный список границ"
   ]
  },
  {
   "cell_type": "code",
   "execution_count": 97,
   "metadata": {},
   "outputs": [
    {
     "data": {
      "text/plain": [
       "[-0.16357153776368474,\n",
       " 3.3874745946115015,\n",
       " 4.192064008392137,\n",
       " 6.674620484481876]"
      ]
     },
     "execution_count": 97,
     "metadata": {},
     "output_type": "execute_result"
    }
   ],
   "source": [
    "# границы трансформированного прайса\n",
    "m_borders_trans = get_borders(trans_avg_bill.trans_bill, 3)\n",
    "m_borders_trans"
   ]
  },
  {
   "cell_type": "code",
   "execution_count": 98,
   "metadata": {},
   "outputs": [],
   "source": [
    "# переведём границы трансформированного прайса в нетрансформированные\n",
    "m_borders = []\n",
    "for i in m_borders_trans:\n",
    "    m_borders.append(trans_avg_bill[trans_avg_bill.trans_bill == i].avg_bill.values[0])"
   ]
  },
  {
   "cell_type": "code",
   "execution_count": 99,
   "metadata": {},
   "outputs": [
    {
     "data": {
      "text/plain": [
       "[0.85, 51.7, 163.52, 13440.0]"
      ]
     },
     "execution_count": 99,
     "metadata": {},
     "output_type": "execute_result"
    }
   ],
   "source": [
    "# границы интервалов Monetary\n",
    "m_borders"
   ]
  },
  {
   "cell_type": "code",
   "execution_count": 100,
   "metadata": {},
   "outputs": [
    {
     "data": {
      "text/plain": [
       "<matplotlib.lines.Line2D at 0x7f5b459990f0>"
      ]
     },
     "execution_count": 100,
     "metadata": {},
     "output_type": "execute_result"
    },
    {
     "data": {
      "image/png": "[encoded data removed]",
      "text/plain": [
       "<Figure size 504x504 with 1 Axes>"
      ]
     },
     "metadata": {
      "needs_background": "light"
     },
     "output_type": "display_data"
    }
   ],
   "source": [
    "# распределение средних чеков покупателя, с нанесёнными границами (левая часть более детально)\n",
    "sns.displot(pre_rfm.avg_bill[pre_rfm.avg_bill < 500], height=7, aspect=1, kde=True)\n",
    "plt.xlabel(\"Average Bill\", size=14)\n",
    "plt.ylabel(\"Count\", size=14)\n",
    "\n",
    "plt.axvline(x=m_borders[1],              # синяя пунктирная линия - граница между 1 и 2 группами\n",
    "            color='blue',\n",
    "            ls='--', \n",
    "            lw=2.5)\n",
    "plt.axvline(x=m_borders[2],             # фиолетовая пунктирная линия - граница между 2 и 3 группами\n",
    "            color='purple',\n",
    "            ls='--', \n",
    "            lw=2.5)"
   ]
  },
  {
   "cell_type": "markdown",
   "metadata": {},
   "source": [
    "Назначим рейтинги (номера кластеров) для колонки monetary"
   ]
  },
  {
   "cell_type": "code",
   "execution_count": 101,
   "metadata": {},
   "outputs": [],
   "source": [
    "# назначаем рейтинг для Monetary\n",
    "m_labels = (1, 2, 3)\n",
    "m_score_bins = m_borders\n",
    "\n",
    "m_score = (\n",
    "    pd.cut(pre_rfm.avg_bill, \n",
    "                   bins=m_score_bins, \n",
    "                   labels = m_labels, \n",
    "                   right=True,\n",
    "                   include_lowest = True)\n",
    ")"
   ]
  },
  {
   "cell_type": "markdown",
   "metadata": {},
   "source": [
    "### Frequency"
   ]
  },
  {
   "cell_type": "code",
   "execution_count": 102,
   "metadata": {},
   "outputs": [
    {
     "name": "stdout",
     "output_type": "stream",
     "text": [
      "97.49% пользователей сделали только один заказ.\n"
     ]
    }
   ],
   "source": [
    "# доля пользователей, сделавших только один заказ\n",
    "single_order_perc = (\n",
    "    pre_rfm.purchases_quantity.value_counts()[1]\n",
    "    /\n",
    "    pre_rfm.purchases_quantity.count()\n",
    ")\n",
    "print(f'{100 * single_order_perc:.2f}% пользователей сделали только один заказ.')"
   ]
  },
  {
   "cell_type": "code",
   "execution_count": 103,
   "metadata": {
    "scrolled": true
   },
   "outputs": [
    {
     "data": {
      "text/plain": [
       "1     71240\n",
       "2      1709\n",
       "3        96\n",
       "4        16\n",
       "5         5\n",
       "7         3\n",
       "11        1\n",
       "9         1\n",
       "Name: purchases_quantity, dtype: int64"
      ]
     },
     "execution_count": 103,
     "metadata": {},
     "output_type": "execute_result"
    }
   ],
   "source": [
    "pre_rfm.purchases_quantity.value_counts()"
   ]
  },
  {
   "cell_type": "code",
   "execution_count": 104,
   "metadata": {
    "scrolled": false
   },
   "outputs": [
    {
     "data": {
      "text/plain": [
       "Text(3.829765625000004, 0.5, 'Count (logarithmic scale)')"
      ]
     },
     "execution_count": 104,
     "metadata": {},
     "output_type": "execute_result"
    },
    {
     "data": {
      "image/png": "[encoded data removed]",
      "text/plain": [
       "<Figure size 504x504 with 1 Axes>"
      ]
     },
     "metadata": {
      "needs_background": "light"
     },
     "output_type": "display_data"
    }
   ],
   "source": [
    "# распределение количества заказов покупателя с логарифмической шкалой Y\n",
    "sns.displot(pre_rfm.purchases_quantity, height=7, aspect=1, log_scale=(False, True))\n",
    "plt.xlabel(\"Number Of Orders per Customer\", size=14)\n",
    "plt.ylabel(\"Count (logarithmic scale)\", size=14)"
   ]
  },
  {
   "cell_type": "code",
   "execution_count": 105,
   "metadata": {
    "scrolled": false
   },
   "outputs": [
    {
     "data": {
      "text/plain": [
       "Text(-8.699999999999996, 0.5, 'Count')"
      ]
     },
     "execution_count": 105,
     "metadata": {},
     "output_type": "execute_result"
    },
    {
     "data": {
      "image/png": "[encoded data removed]",
      "text/plain": [
       "<Figure size 504x504 with 1 Axes>"
      ]
     },
     "metadata": {
      "needs_background": "light"
     },
     "output_type": "display_data"
    }
   ],
   "source": [
    "# распределение количества заказов на покупателя с количеством покупок <= 3\n",
    "sns.displot(pre_rfm.purchases_quantity[pre_rfm.purchases_quantity <= 3], height=7)\n",
    "plt.xlabel(\"Number Of Orders per Customer\", size=14)\n",
    "plt.ylabel(\"Count\", size=14)"
   ]
  },
  {
   "cell_type": "code",
   "execution_count": 106,
   "metadata": {},
   "outputs": [
    {
     "data": {
      "text/plain": [
       "Text(3.8000000000000043, 0.5, 'Count')"
      ]
     },
     "execution_count": 106,
     "metadata": {},
     "output_type": "execute_result"
    },
    {
     "data": {
      "image/png": "[encoded data removed]",
      "text/plain": [
       "<Figure size 504x504 with 1 Axes>"
      ]
     },
     "metadata": {
      "needs_background": "light"
     },
     "output_type": "display_data"
    }
   ],
   "source": [
    "# распределение количества заказов на покупателя с количеством покупок >= 3\n",
    "sns.displot(pre_rfm.purchases_quantity[pre_rfm.purchases_quantity >= 3], height=7)\n",
    "plt.xlabel(\"Number Of Orders per Customer\", size=14)\n",
    "plt.ylabel(\"Count\", size=14)"
   ]
  },
  {
   "cell_type": "markdown",
   "metadata": {},
   "source": [
    "Аналогичным образом, попытаемся определит интервалы интерпретируюя графики.  \n",
    "Глядя на цифры и распределения видим, что общую массу покупателей можно разделить на 3 группы по характерным \"ступеням\" - резким перепадам, показывающим своеобразный переход на новый уровень лояльности к магазину.  \n",
    "Преобладают покупатели с одним количеством заказов - 71240 (97.49%). Эту часть покупателей определим в группу №1. Число покупателей, сделавших только 2 покупки - 1709 - группа №2. В третью группу возьмём оставшихся с числом покупок 3 и более.  \n",
    "Итак:  \n",
    "Группа 1 - только один заказ.  \n",
    "Группа 2 - только два заказа.  \n",
    "Группа 3 - 3 и более заказов.  "
   ]
  },
  {
   "cell_type": "markdown",
   "metadata": {},
   "source": [
    "Далее воспользуемся кластеризацией методом k-средних и уточним выбранные границы.  \n",
    "Находим оптимальное количество кластеров для количества покупок с помощью k-means и метода локтя. В данносм случае не требуетются какие-либо преобразования распределения.  "
   ]
  },
  {
   "cell_type": "code",
   "execution_count": 107,
   "metadata": {
    "scrolled": true
   },
   "outputs": [
    {
     "data": {
      "image/png": "[encoded data removed]",
      "text/plain": [
       "<Figure size 432x288 with 1 Axes>"
      ]
     },
     "metadata": {
      "needs_background": "light"
     },
     "output_type": "display_data"
    }
   ],
   "source": [
    "# оптимальное количество кластеров для purchases_quantity\n",
    "optimal_cluster_number(pre_rfm.purchases_quantity)"
   ]
  },
  {
   "cell_type": "markdown",
   "metadata": {},
   "source": [
    "Оптимальное количество кластеров - 3."
   ]
  },
  {
   "cell_type": "markdown",
   "metadata": {},
   "source": [
    "На основе ранее созданной функции найдём интервалы разбивки на кластеры для колонки purchases_quantity"
   ]
  },
  {
   "cell_type": "code",
   "execution_count": 108,
   "metadata": {},
   "outputs": [
    {
     "data": {
      "text/plain": [
       "[0, 1, 2, 11]"
      ]
     },
     "execution_count": 108,
     "metadata": {},
     "output_type": "execute_result"
    }
   ],
   "source": [
    "# интервалы для Frequency\n",
    "f_borders = get_borders(pre_rfm\n",
    "                            .purchases_quantity\n",
    "                        , 3)\n",
    "f_borders[0] = 0                                # присвоим первому (нулевому) элементу значение 0, вместо 1, чтобы cut() мог обработать этот список\n",
    "f_borders"
   ]
  },
  {
   "cell_type": "markdown",
   "metadata": {},
   "source": [
    "Здесь машинное обучение и ручной метод дали одинаковые результаты."
   ]
  },
  {
   "cell_type": "code",
   "execution_count": 109,
   "metadata": {},
   "outputs": [],
   "source": [
    "# назначаем рейтинг для Frequency\n",
    "f_labels = (1, 2, 3)\n",
    "f_score_bins = f_borders\n",
    "\n",
    "f_score = (\n",
    "    pd.cut(pre_rfm.purchases_quantity, \n",
    "                   bins=f_score_bins, \n",
    "                   labels = f_labels, \n",
    "                   right=True, \n",
    "                   include_lowest=True)\n",
    "          )"
   ]
  },
  {
   "cell_type": "markdown",
   "metadata": {},
   "source": [
    "### Recency"
   ]
  },
  {
   "cell_type": "code",
   "execution_count": 110,
   "metadata": {
    "scrolled": false
   },
   "outputs": [
    {
     "data": {
      "text/plain": [
       "<matplotlib.lines.Line2D at 0x7f5b4546c828>"
      ]
     },
     "execution_count": 110,
     "metadata": {},
     "output_type": "execute_result"
    },
    {
     "data": {
      "image/png": "[encoded data removed]",
      "text/plain": [
       "<Figure size 504x504 with 1 Axes>"
      ]
     },
     "metadata": {
      "needs_background": "light"
     },
     "output_type": "display_data"
    }
   ],
   "source": [
    "# распределение колонки давности последней покупки\n",
    "sns.displot(pre_rfm.day_quantity, height=7, aspect=1, kde=True)\n",
    "plt.xlabel(\"Days Since Last Purchase per Customer\", size=14)\n",
    "plt.ylabel(\"Count\", size=14)\n",
    "\n",
    "plt.axvline(x=pre_rfm.day_quantity.median(),               # зелёная пунктирная линия - медиана\n",
    "            color='green',\n",
    "            ls='--', \n",
    "            lw=2.5)\n",
    "plt.axvline(x=pre_rfm.day_quantity.quantile(q=0.33),       # синяя пунктирная линия - 33-й процентиль\n",
    "            color='blue',\n",
    "            ls='--', \n",
    "            lw=2.5)\n",
    "plt.axvline(x=pre_rfm.day_quantity.quantile(q=0.66),       # фиолетовая пунктирная линия - 66-й процентиль\n",
    "            color='purple',\n",
    "            ls='--', \n",
    "            lw=2.5)"
   ]
  },
  {
   "cell_type": "code",
   "execution_count": 111,
   "metadata": {
    "scrolled": true
   },
   "outputs": [
    {
     "data": {
      "text/plain": [
       "0.33    121.0\n",
       "0.66    228.0\n",
       "Name: day_quantity, dtype: float64"
      ]
     },
     "execution_count": 111,
     "metadata": {},
     "output_type": "execute_result"
    }
   ],
   "source": [
    "# 33-й и 66-й процентили количества дней от последней покупки\n",
    "pre_rfm.day_quantity.quantile(q=[0.33, 0.66])"
   ]
  },
  {
   "cell_type": "markdown",
   "metadata": {},
   "source": [
    "Анализ графиков показывает, что при таком распределении имеет смысл взять рвные части по количеству пользователей соответствующих 33-му и 66-му процентилю.  \n",
    "Группа 3 - от 0 до 120 дней     (недавние)  \n",
    "Группа 2 - от 121 до 227 дней   (относительно недавние)  \n",
    "Группа 1 - от 228 дней и более  (давние)  "
   ]
  },
  {
   "cell_type": "markdown",
   "metadata": {},
   "source": [
    "Также воспользуемся кластеризацией методом k-средних для уточнения границ кластеров."
   ]
  },
  {
   "cell_type": "markdown",
   "metadata": {},
   "source": [
    "Находим оптимальное количество кластеров для количества дней с помощью k-means и метода локтя."
   ]
  },
  {
   "cell_type": "code",
   "execution_count": 112,
   "metadata": {
    "scrolled": true
   },
   "outputs": [
    {
     "data": {
      "image/png": "[encoded data removed]",
      "text/plain": [
       "<Figure size 432x288 with 1 Axes>"
      ]
     },
     "metadata": {
      "needs_background": "light"
     },
     "output_type": "display_data"
    }
   ],
   "source": [
    "# оптимальное количество кластеров для day_quantity\n",
    "optimal_cluster_number(pre_rfm.day_quantity)"
   ]
  },
  {
   "cell_type": "markdown",
   "metadata": {},
   "source": [
    "Также, берём 3."
   ]
  },
  {
   "cell_type": "markdown",
   "metadata": {},
   "source": [
    "На основе ранее созданной функции найдём интервалы разбивки на кластеры для колонки day_quantity"
   ]
  },
  {
   "cell_type": "code",
   "execution_count": 113,
   "metadata": {},
   "outputs": [
    {
     "data": {
      "text/plain": [
       "[0, 121, 238, 365]"
      ]
     },
     "execution_count": 113,
     "metadata": {},
     "output_type": "execute_result"
    }
   ],
   "source": [
    "# границы разбивки для recency\n",
    "r_borders = get_borders(pre_rfm.day_quantity, 3)\n",
    "r_borders"
   ]
  },
  {
   "cell_type": "markdown",
   "metadata": {},
   "source": [
    "Наблюдаются небольшие расхождения между машинной кластеризацией и кластеризацией на основе анализа графика распределения."
   ]
  },
  {
   "cell_type": "code",
   "execution_count": 114,
   "metadata": {},
   "outputs": [],
   "source": [
    "# назначаем рейтинг для recency\n",
    "r_labels = (3, 2, 1)\n",
    "r_score_bins = r_borders\n",
    "\n",
    "r_score = (pd.cut(pre_rfm.day_quantity, \n",
    "                   bins=r_score_bins, \n",
    "                   labels = r_labels, \n",
    "                   right=True, \n",
    "                   include_lowest=True)\n",
    "          )"
   ]
  },
  {
   "cell_type": "code",
   "execution_count": 115,
   "metadata": {},
   "outputs": [],
   "source": [
    "# создадим общий датафрэйм, добавив в него рейтинги R, F, M\n",
    "rfm_kmeans = (\n",
    "    pre_rfm\n",
    "        .copy()\n",
    "        .drop('last_order', axis=1)\n",
    "        .assign(recency   = r_score,\n",
    "                frequency = f_score,\n",
    "                monetary  = m_score)\n",
    ")"
   ]
  },
  {
   "cell_type": "code",
   "execution_count": 116,
   "metadata": {
    "scrolled": true
   },
   "outputs": [
    {
     "data": {
      "text/html": [
       "<div>\n",
       "<style scoped>\n",
       "    .dataframe tbody tr th:only-of-type {\n",
       "        vertical-align: middle;\n",
       "    }\n",
       "\n",
       "    .dataframe tbody tr th {\n",
       "        vertical-align: top;\n",
       "    }\n",
       "\n",
       "    .dataframe thead th {\n",
       "        text-align: right;\n",
       "    }\n",
       "</style>\n",
       "<table border=\"1\" class=\"dataframe\">\n",
       "  <thead>\n",
       "    <tr style=\"text-align: right;\">\n",
       "      <th></th>\n",
       "      <th>customer</th>\n",
       "      <th>avg_bill</th>\n",
       "      <th>purchases_quantity</th>\n",
       "      <th>day_quantity</th>\n",
       "      <th>recency</th>\n",
       "      <th>frequency</th>\n",
       "      <th>monetary</th>\n",
       "    </tr>\n",
       "  </thead>\n",
       "  <tbody>\n",
       "    <tr>\n",
       "      <th>0</th>\n",
       "      <td>0000366f3b9a7992bf8c76cfdf3221e2</td>\n",
       "      <td>129.90</td>\n",
       "      <td>1</td>\n",
       "      <td>116</td>\n",
       "      <td>3</td>\n",
       "      <td>1</td>\n",
       "      <td>2</td>\n",
       "    </tr>\n",
       "    <tr>\n",
       "      <th>1</th>\n",
       "      <td>0000b849f77a49e4a4ce2b2a4ca5be3f</td>\n",
       "      <td>18.90</td>\n",
       "      <td>1</td>\n",
       "      <td>119</td>\n",
       "      <td>3</td>\n",
       "      <td>1</td>\n",
       "      <td>1</td>\n",
       "    </tr>\n",
       "    <tr>\n",
       "      <th>2</th>\n",
       "      <td>0000f6ccb0745a6a4b88665a16c9f078</td>\n",
       "      <td>25.99</td>\n",
       "      <td>1</td>\n",
       "      <td>326</td>\n",
       "      <td>1</td>\n",
       "      <td>1</td>\n",
       "      <td>1</td>\n",
       "    </tr>\n",
       "    <tr>\n",
       "      <th>3</th>\n",
       "      <td>0004aac84e0df4da2b147fca70cf8255</td>\n",
       "      <td>180.00</td>\n",
       "      <td>1</td>\n",
       "      <td>293</td>\n",
       "      <td>1</td>\n",
       "      <td>1</td>\n",
       "      <td>3</td>\n",
       "    </tr>\n",
       "    <tr>\n",
       "      <th>4</th>\n",
       "      <td>0004bd2a26a76fe21f786e4fbd80607f</td>\n",
       "      <td>154.00</td>\n",
       "      <td>1</td>\n",
       "      <td>151</td>\n",
       "      <td>2</td>\n",
       "      <td>1</td>\n",
       "      <td>2</td>\n",
       "    </tr>\n",
       "  </tbody>\n",
       "</table>\n",
       "</div>"
      ],
      "text/plain": [
       "                           customer  avg_bill  purchases_quantity  \\\n",
       "0  0000366f3b9a7992bf8c76cfdf3221e2    129.90                   1   \n",
       "1  0000b849f77a49e4a4ce2b2a4ca5be3f     18.90                   1   \n",
       "2  0000f6ccb0745a6a4b88665a16c9f078     25.99                   1   \n",
       "3  0004aac84e0df4da2b147fca70cf8255    180.00                   1   \n",
       "4  0004bd2a26a76fe21f786e4fbd80607f    154.00                   1   \n",
       "\n",
       "   day_quantity recency frequency monetary  \n",
       "0           116       3         1        2  \n",
       "1           119       3         1        1  \n",
       "2           326       1         1        1  \n",
       "3           293       1         1        3  \n",
       "4           151       2         1        2  "
      ]
     },
     "execution_count": 116,
     "metadata": {},
     "output_type": "execute_result"
    }
   ],
   "source": [
    "rfm_kmeans.head()"
   ]
  },
  {
   "cell_type": "markdown",
   "metadata": {},
   "source": [
    "Визуализируем количество пользователей по кластерам по каждой метрике."
   ]
  },
  {
   "cell_type": "code",
   "execution_count": 117,
   "metadata": {},
   "outputs": [
    {
     "data": {
      "text/plain": [
       "<matplotlib.axes._subplots.AxesSubplot at 0x7f5b45404550>"
      ]
     },
     "execution_count": 117,
     "metadata": {},
     "output_type": "execute_result"
    },
    {
     "data": {
      "image/png": "[encoded data removed]",
      "text/plain": [
       "<Figure size 432x288 with 1 Axes>"
      ]
     },
     "metadata": {
      "needs_background": "light"
     },
     "output_type": "display_data"
    }
   ],
   "source": [
    "sns.countplot(data=rfm_kmeans, x='recency')"
   ]
  },
  {
   "cell_type": "code",
   "execution_count": 118,
   "metadata": {},
   "outputs": [
    {
     "data": {
      "text/plain": [
       "<matplotlib.axes._subplots.AxesSubplot at 0x7f5b453e0710>"
      ]
     },
     "execution_count": 118,
     "metadata": {},
     "output_type": "execute_result"
    },
    {
     "data": {
      "image/png": "[encoded data removed]",
      "text/plain": [
       "<Figure size 432x288 with 1 Axes>"
      ]
     },
     "metadata": {
      "needs_background": "light"
     },
     "output_type": "display_data"
    }
   ],
   "source": [
    "sns.countplot(data=rfm_kmeans, x='frequency')"
   ]
  },
  {
   "cell_type": "code",
   "execution_count": 119,
   "metadata": {},
   "outputs": [
    {
     "data": {
      "text/plain": [
       "<matplotlib.axes._subplots.AxesSubplot at 0x7f5b45344e10>"
      ]
     },
     "execution_count": 119,
     "metadata": {},
     "output_type": "execute_result"
    },
    {
     "data": {
      "image/png": "[encoded data removed]",
      "text/plain": [
       "<Figure size 432x288 with 1 Axes>"
      ]
     },
     "metadata": {
      "needs_background": "light"
     },
     "output_type": "display_data"
    }
   ],
   "source": [
    "sns.countplot(data=rfm_kmeans, x='monetary')"
   ]
  },
  {
   "cell_type": "code",
   "execution_count": 120,
   "metadata": {},
   "outputs": [],
   "source": [
    "# среднее recency по кластерам для k-means\n",
    "avg_recency_kmeans = (\n",
    "    rfm_kmeans\n",
    "        .pivot_table(index='recency', values='day_quantity')\n",
    "        .reset_index()\n",
    "        .rename(columns={'recency': 'cluster',\n",
    "                        'day_quantity': 'recency'})\n",
    ")"
   ]
  },
  {
   "cell_type": "code",
   "execution_count": 121,
   "metadata": {},
   "outputs": [],
   "source": [
    "# среднее frequency по кластерам для k-means\n",
    "avg_frequency_kmeans = (\n",
    "    rfm_kmeans\n",
    "        .pivot_table(index='frequency', values='purchases_quantity')\n",
    "        .reset_index()\n",
    "        .rename(columns={'frequency': 'cluster',\n",
    "                        'purchases_quantity': 'frequency'})\n",
    ")"
   ]
  },
  {
   "cell_type": "code",
   "execution_count": 122,
   "metadata": {},
   "outputs": [],
   "source": [
    "# среднее monetary по кластерам для k-means\n",
    "avg_monetary_kmeans = (\n",
    "    rfm_kmeans\n",
    "        .pivot_table(index='monetary', values='avg_bill')\n",
    "        .reset_index()\n",
    "        .rename(columns={'monetary': 'cluster',\n",
    "                        'avg_bill': 'monetary'})\n",
    ")"
   ]
  },
  {
   "cell_type": "code",
   "execution_count": 123,
   "metadata": {},
   "outputs": [],
   "source": [
    "# сводная таблица средних значений recency, frequency и monetary по кластерам\n",
    "avg_rfm_kmeans = (\n",
    "    avg_recency_kmeans\n",
    "        .merge(avg_frequency_kmeans, on='cluster')\n",
    "        .merge(avg_monetary_kmeans, on='cluster')\n",
    "        .sort_values('cluster')\n",
    "        .reset_index(drop=True)\n",
    ")"
   ]
  },
  {
   "cell_type": "markdown",
   "metadata": {},
   "source": [
    "Покажем средние значения метрик по кластерам одной таблицей"
   ]
  },
  {
   "cell_type": "code",
   "execution_count": 124,
   "metadata": {
    "scrolled": true
   },
   "outputs": [
    {
     "data": {
      "text/html": [
       "<div>\n",
       "<style scoped>\n",
       "    .dataframe tbody tr th:only-of-type {\n",
       "        vertical-align: middle;\n",
       "    }\n",
       "\n",
       "    .dataframe tbody tr th {\n",
       "        vertical-align: top;\n",
       "    }\n",
       "\n",
       "    .dataframe thead th {\n",
       "        text-align: right;\n",
       "    }\n",
       "</style>\n",
       "<table border=\"1\" class=\"dataframe\">\n",
       "  <thead>\n",
       "    <tr style=\"text-align: right;\">\n",
       "      <th></th>\n",
       "      <th>cluster</th>\n",
       "      <th>recency</th>\n",
       "      <th>frequency</th>\n",
       "      <th>monetary</th>\n",
       "    </tr>\n",
       "  </thead>\n",
       "  <tbody>\n",
       "    <tr>\n",
       "      <th>0</th>\n",
       "      <td>1</td>\n",
       "      <td>296.764674</td>\n",
       "      <td>1.00000</td>\n",
       "      <td>32.319592</td>\n",
       "    </tr>\n",
       "    <tr>\n",
       "      <th>1</th>\n",
       "      <td>2</td>\n",
       "      <td>180.105285</td>\n",
       "      <td>2.00000</td>\n",
       "      <td>98.528464</td>\n",
       "    </tr>\n",
       "    <tr>\n",
       "      <th>2</th>\n",
       "      <td>3</td>\n",
       "      <td>63.397975</td>\n",
       "      <td>3.42623</td>\n",
       "      <td>366.233292</td>\n",
       "    </tr>\n",
       "  </tbody>\n",
       "</table>\n",
       "</div>"
      ],
      "text/plain": [
       "  cluster     recency  frequency    monetary\n",
       "0       1  296.764674    1.00000   32.319592\n",
       "1       2  180.105285    2.00000   98.528464\n",
       "2       3   63.397975    3.42623  366.233292"
      ]
     },
     "execution_count": 124,
     "metadata": {},
     "output_type": "execute_result"
    }
   ],
   "source": [
    "avg_rfm_kmeans"
   ]
  },
  {
   "cell_type": "markdown",
   "metadata": {},
   "source": [
    "###  Чтобы понять объективность и адекватность выбранного пути, воспользуемся готовым решением, разработанным Александром Приходько (скрипт RFMizer) для RFM-анализа в качестве своеобразной проверки и сравним результаты."
   ]
  },
  {
   "cell_type": "markdown",
   "metadata": {},
   "source": [
    "Подготовим CSV-файл для rfm-анализа с помощью скрипта [RFMizer](https://github.com/Slony/rfmizer). Этот файл не лимитируем по времени, т.к. в конфигурационном файле есть возможность указать необходимый период. Плюс, данный скрипт дополнительно использует ещё один период \"за границами\" первого, чтобы выделить тех, кто покупал раньше, но перестал сейчас."
   ]
  },
  {
   "cell_type": "code",
   "execution_count": 125,
   "metadata": {
    "scrolled": true
   },
   "outputs": [
    {
     "data": {
      "text/html": [
       "<div>\n",
       "<style scoped>\n",
       "    .dataframe tbody tr th:only-of-type {\n",
       "        vertical-align: middle;\n",
       "    }\n",
       "\n",
       "    .dataframe tbody tr th {\n",
       "        vertical-align: top;\n",
       "    }\n",
       "\n",
       "    .dataframe thead th {\n",
       "        text-align: right;\n",
       "    }\n",
       "</style>\n",
       "<table border=\"1\" class=\"dataframe\">\n",
       "  <thead>\n",
       "    <tr style=\"text-align: right;\">\n",
       "      <th></th>\n",
       "      <th>order_date</th>\n",
       "      <th>user_id</th>\n",
       "      <th>order_value</th>\n",
       "    </tr>\n",
       "    <tr>\n",
       "      <th>order_id</th>\n",
       "      <th></th>\n",
       "      <th></th>\n",
       "      <th></th>\n",
       "    </tr>\n",
       "  </thead>\n",
       "  <tbody>\n",
       "    <tr>\n",
       "      <th>00010242fe8c5a6d1ba2dd792cb16214</th>\n",
       "      <td>2017-09-13</td>\n",
       "      <td>871766c5855e863f6eccc05f988b23cb</td>\n",
       "      <td>58.90</td>\n",
       "    </tr>\n",
       "    <tr>\n",
       "      <th>00018f77f2f0320c557190d7a144bdd3</th>\n",
       "      <td>2017-04-26</td>\n",
       "      <td>eb28e67c4c0b83846050ddfb8a35d051</td>\n",
       "      <td>239.90</td>\n",
       "    </tr>\n",
       "    <tr>\n",
       "      <th>000229ec398224ef6ca0657da4fc703e</th>\n",
       "      <td>2018-01-14</td>\n",
       "      <td>3818d81c6709e39d06b2738a8d3a2474</td>\n",
       "      <td>199.00</td>\n",
       "    </tr>\n",
       "    <tr>\n",
       "      <th>00024acbcdf0a6daa1e931b038114c75</th>\n",
       "      <td>2018-08-08</td>\n",
       "      <td>af861d436cfc08b2c2ddefd0ba074622</td>\n",
       "      <td>12.99</td>\n",
       "    </tr>\n",
       "    <tr>\n",
       "      <th>00042b26cf59d7ce69dfabb4e55b4fd9</th>\n",
       "      <td>2017-02-04</td>\n",
       "      <td>64b576fb70d441e8f1b2d7d446e483c5</td>\n",
       "      <td>199.90</td>\n",
       "    </tr>\n",
       "  </tbody>\n",
       "</table>\n",
       "</div>"
      ],
      "text/plain": [
       "                                  order_date  \\\n",
       "order_id                                       \n",
       "00010242fe8c5a6d1ba2dd792cb16214  2017-09-13   \n",
       "00018f77f2f0320c557190d7a144bdd3  2017-04-26   \n",
       "000229ec398224ef6ca0657da4fc703e  2018-01-14   \n",
       "00024acbcdf0a6daa1e931b038114c75  2018-08-08   \n",
       "00042b26cf59d7ce69dfabb4e55b4fd9  2017-02-04   \n",
       "\n",
       "                                                           user_id  \\\n",
       "order_id                                                             \n",
       "00010242fe8c5a6d1ba2dd792cb16214  871766c5855e863f6eccc05f988b23cb   \n",
       "00018f77f2f0320c557190d7a144bdd3  eb28e67c4c0b83846050ddfb8a35d051   \n",
       "000229ec398224ef6ca0657da4fc703e  3818d81c6709e39d06b2738a8d3a2474   \n",
       "00024acbcdf0a6daa1e931b038114c75  af861d436cfc08b2c2ddefd0ba074622   \n",
       "00042b26cf59d7ce69dfabb4e55b4fd9  64b576fb70d441e8f1b2d7d446e483c5   \n",
       "\n",
       "                                  order_value  \n",
       "order_id                                       \n",
       "00010242fe8c5a6d1ba2dd792cb16214        58.90  \n",
       "00018f77f2f0320c557190d7a144bdd3       239.90  \n",
       "000229ec398224ef6ca0657da4fc703e       199.00  \n",
       "00024acbcdf0a6daa1e931b038114c75        12.99  \n",
       "00042b26cf59d7ce69dfabb4e55b4fd9       199.90  "
      ]
     },
     "execution_count": 125,
     "metadata": {},
     "output_type": "execute_result"
    }
   ],
   "source": [
    "# датафрэйм для RFM-анализа с помощью скрипта RFMizer\n",
    "rfmizer_df = (\n",
    "    purchase_total_df\n",
    "        .groupby('order_id')\n",
    "        .agg({'order_purchase_timestamp': 'max', 'customer_unique_id': 'first', 'price': 'sum'})  \n",
    "        .rename(columns={'order_purchase_timestamp': 'order_date',                                # переименуем колонки как просит скрипт\n",
    "                        'customer_unique_id': 'user_id',\n",
    "                        'price': 'order_value'})\n",
    ")\n",
    "rfmizer_df['order_date'] = rfmizer_df['order_date'].dt.date                                       # переведём в формат дат, чтобы корректро записалось в CSV и считалось скриптом\n",
    "\n",
    "rfmizer_df.head()"
   ]
  },
  {
   "cell_type": "code",
   "execution_count": 126,
   "metadata": {},
   "outputs": [],
   "source": [
    "# сохраним в CSV-файл для передачи скрипту\n",
    "rfmizer_df.to_csv('rfmizer_df.csv', encoding='utf8', sep=',', index = False)"
   ]
  },
  {
   "cell_type": "markdown",
   "metadata": {},
   "source": [
    "__*config.yaml*__ файл скрипта имеет следующую конфигурацию:\n",
    "```\n",
    "input_columns:  \n",
    "  - order_date\n",
    "  - user_id\n",
    "  - order_value\n",
    "segments_count:  \n",
    "  recency: 3  \n",
    "  frequency: 3  \n",
    "  monetary: 3  \n",
    "rfmizer:  \n",
    "  look_back_period: 365 # earliest date for RFMizer (number of days)  \n",
    "  output_columns:  \n",
    "    user_id: user_id  \n",
    "    recency: recency  \n",
    "    frequency: frequency  \n",
    "    monetary: monetary  \n",
    "predictor:  \n",
    "  prediction_period: 182 # lookback window for RFMestimator (number of days)\n",
    "output_path: .\n",
    "output_file_prefix: rfm-3-3-3-365-182\n",
    "```"
   ]
  },
  {
   "cell_type": "markdown",
   "metadata": {},
   "source": [
    "После обработки __*rfmizer_df.to_csv*__ скриптом откроем результирующие файлы.  "
   ]
  },
  {
   "cell_type": "code",
   "execution_count": 127,
   "metadata": {},
   "outputs": [],
   "source": [
    "# скачиваем файлы данных в папку скрипта\n",
    "\n",
    "base_url = 'https://cloud-api.yandex.net/v1/disk/public/resources/download?'\n",
    "public_key = ['https://disk.yandex.ru/d/bzmXyGmXAKYuZw', \n",
    "              'https://disk.yandex.ru/d/CRy5LIA9eu7drQ']                # ссылки на данные\n",
    "\n",
    "file_names = ['rfm-3-3-3-365-182_borders.csv', \n",
    "              'rfm-3-3-3-365-182_mapping.csv']                                            # имена файлов\n",
    "\n",
    "for i in range(2):\n",
    "    # получаем загрузочную ссылку\n",
    "    final_url = base_url + urlencode(dict(public_key=public_key[i]))\n",
    "    response = requests.get(final_url)\n",
    "    download_url = response.json()['href']\n",
    "\n",
    "    # загружаем файл и сохраняем его\n",
    "    download_response = requests.get(download_url)\n",
    "    with open(file_names[i], 'wb') as f:\n",
    "        f.write(download_response.content)"
   ]
  },
  {
   "cell_type": "code",
   "execution_count": 128,
   "metadata": {
    "scrolled": true
   },
   "outputs": [
    {
     "data": {
      "text/html": [
       "<div>\n",
       "<style scoped>\n",
       "    .dataframe tbody tr th:only-of-type {\n",
       "        vertical-align: middle;\n",
       "    }\n",
       "\n",
       "    .dataframe tbody tr th {\n",
       "        vertical-align: top;\n",
       "    }\n",
       "\n",
       "    .dataframe thead th {\n",
       "        text-align: right;\n",
       "    }\n",
       "</style>\n",
       "<table border=\"1\" class=\"dataframe\">\n",
       "  <thead>\n",
       "    <tr style=\"text-align: right;\">\n",
       "      <th></th>\n",
       "      <th>dimension</th>\n",
       "      <th>segment</th>\n",
       "      <th>border</th>\n",
       "    </tr>\n",
       "  </thead>\n",
       "  <tbody>\n",
       "    <tr>\n",
       "      <th>0</th>\n",
       "      <td>frequency</td>\n",
       "      <td>1</td>\n",
       "      <td>2.00</td>\n",
       "    </tr>\n",
       "    <tr>\n",
       "      <th>1</th>\n",
       "      <td>frequency</td>\n",
       "      <td>2</td>\n",
       "      <td>3.00</td>\n",
       "    </tr>\n",
       "    <tr>\n",
       "      <th>2</th>\n",
       "      <td>monetary</td>\n",
       "      <td>1</td>\n",
       "      <td>57.95</td>\n",
       "    </tr>\n",
       "    <tr>\n",
       "      <th>3</th>\n",
       "      <td>monetary</td>\n",
       "      <td>2</td>\n",
       "      <td>125.02</td>\n",
       "    </tr>\n",
       "    <tr>\n",
       "      <th>4</th>\n",
       "      <td>recency</td>\n",
       "      <td>1</td>\n",
       "      <td>-229.00</td>\n",
       "    </tr>\n",
       "    <tr>\n",
       "      <th>5</th>\n",
       "      <td>recency</td>\n",
       "      <td>2</td>\n",
       "      <td>-121.00</td>\n",
       "    </tr>\n",
       "  </tbody>\n",
       "</table>\n",
       "</div>"
      ],
      "text/plain": [
       "   dimension  segment  border\n",
       "0  frequency        1    2.00\n",
       "1  frequency        2    3.00\n",
       "2   monetary        1   57.95\n",
       "3   monetary        2  125.02\n",
       "4    recency        1 -229.00\n",
       "5    recency        2 -121.00"
      ]
     },
     "execution_count": 128,
     "metadata": {},
     "output_type": "execute_result"
    }
   ],
   "source": [
    "# файл с границами групп\n",
    "borders = pd.read_csv('rfm-3-3-3-365-182_borders.csv')\n",
    "borders"
   ]
  },
  {
   "cell_type": "markdown",
   "metadata": {},
   "source": [
    "Частота покупок: границы полностью совпадают с расчитанными ранее.  \n",
    "Средний чек: в варианте, расчитанном с помощью k-means, границы были 51.7 и 163.52, в решении скрипта - 57.95 и 125.02, соответственно    \n",
    "Давность последнего заказа: в первом варианте - 121 и 238, в проверочном - 121 и 229.  \n",
    "Значения границ получились достаточно близкими.  "
   ]
  },
  {
   "cell_type": "markdown",
   "metadata": {},
   "source": [
    "Прочитаем файл результата RFM-анализа."
   ]
  },
  {
   "cell_type": "code",
   "execution_count": 129,
   "metadata": {
    "scrolled": true
   },
   "outputs": [
    {
     "data": {
      "text/html": [
       "<div>\n",
       "<style scoped>\n",
       "    .dataframe tbody tr th:only-of-type {\n",
       "        vertical-align: middle;\n",
       "    }\n",
       "\n",
       "    .dataframe tbody tr th {\n",
       "        vertical-align: top;\n",
       "    }\n",
       "\n",
       "    .dataframe thead th {\n",
       "        text-align: right;\n",
       "    }\n",
       "</style>\n",
       "<table border=\"1\" class=\"dataframe\">\n",
       "  <thead>\n",
       "    <tr style=\"text-align: right;\">\n",
       "      <th></th>\n",
       "      <th>user_id</th>\n",
       "      <th>frequency</th>\n",
       "      <th>monetary</th>\n",
       "      <th>recency</th>\n",
       "    </tr>\n",
       "  </thead>\n",
       "  <tbody>\n",
       "    <tr>\n",
       "      <th>0</th>\n",
       "      <td>871766c5855e863f6eccc05f988b23cb</td>\n",
       "      <td>1</td>\n",
       "      <td>2</td>\n",
       "      <td>1</td>\n",
       "    </tr>\n",
       "    <tr>\n",
       "      <th>1</th>\n",
       "      <td>eb28e67c4c0b83846050ddfb8a35d051</td>\n",
       "      <td>1</td>\n",
       "      <td>1</td>\n",
       "      <td>1</td>\n",
       "    </tr>\n",
       "    <tr>\n",
       "      <th>2</th>\n",
       "      <td>3818d81c6709e39d06b2738a8d3a2474</td>\n",
       "      <td>1</td>\n",
       "      <td>3</td>\n",
       "      <td>1</td>\n",
       "    </tr>\n",
       "    <tr>\n",
       "      <th>3</th>\n",
       "      <td>af861d436cfc08b2c2ddefd0ba074622</td>\n",
       "      <td>1</td>\n",
       "      <td>1</td>\n",
       "      <td>3</td>\n",
       "    </tr>\n",
       "    <tr>\n",
       "      <th>4</th>\n",
       "      <td>64b576fb70d441e8f1b2d7d446e483c5</td>\n",
       "      <td>0</td>\n",
       "      <td>0</td>\n",
       "      <td>0</td>\n",
       "    </tr>\n",
       "  </tbody>\n",
       "</table>\n",
       "</div>"
      ],
      "text/plain": [
       "                            user_id  frequency  monetary  recency\n",
       "0  871766c5855e863f6eccc05f988b23cb          1         2        1\n",
       "1  eb28e67c4c0b83846050ddfb8a35d051          1         1        1\n",
       "2  3818d81c6709e39d06b2738a8d3a2474          1         3        1\n",
       "3  af861d436cfc08b2c2ddefd0ba074622          1         1        3\n",
       "4  64b576fb70d441e8f1b2d7d446e483c5          0         0        0"
      ]
     },
     "execution_count": 129,
     "metadata": {},
     "output_type": "execute_result"
    }
   ],
   "source": [
    "mapping = pd.read_csv('rfm-3-3-3-365-182_mapping.csv')\n",
    "mapping.head()"
   ]
  },
  {
   "cell_type": "markdown",
   "metadata": {},
   "source": [
    "Нулевой кластер - это пользователи, у которых нет заказов за отчётный период, но есть более старые заказы."
   ]
  },
  {
   "cell_type": "markdown",
   "metadata": {},
   "source": [
    "Визуализируем количество пользователей по кластерам по каждой метрике."
   ]
  },
  {
   "cell_type": "code",
   "execution_count": 130,
   "metadata": {
    "scrolled": false
   },
   "outputs": [
    {
     "data": {
      "text/plain": [
       "<matplotlib.axes._subplots.AxesSubplot at 0x7f5b452b2208>"
      ]
     },
     "execution_count": 130,
     "metadata": {},
     "output_type": "execute_result"
    },
    {
     "data": {
      "image/png": "[encoded data removed]",
      "text/plain": [
       "<Figure size 432x288 with 1 Axes>"
      ]
     },
     "metadata": {
      "needs_background": "light"
     },
     "output_type": "display_data"
    }
   ],
   "source": [
    "# визуализация frequency по кластерам\n",
    "sns.countplot(data=mapping, x='frequency')"
   ]
  },
  {
   "cell_type": "code",
   "execution_count": 131,
   "metadata": {},
   "outputs": [
    {
     "data": {
      "text/plain": [
       "1    71791\n",
       "0    21905\n",
       "2     1203\n",
       "3       84\n",
       "Name: frequency, dtype: int64"
      ]
     },
     "execution_count": 131,
     "metadata": {},
     "output_type": "execute_result"
    }
   ],
   "source": [
    "mapping.frequency.value_counts()"
   ]
  },
  {
   "cell_type": "code",
   "execution_count": 132,
   "metadata": {
    "scrolled": true
   },
   "outputs": [
    {
     "data": {
      "text/plain": [
       "<matplotlib.axes._subplots.AxesSubplot at 0x7f5b4474e7b8>"
      ]
     },
     "execution_count": 132,
     "metadata": {},
     "output_type": "execute_result"
    },
    {
     "data": {
      "image/png": "[encoded data removed]",
      "text/plain": [
       "<Figure size 432x288 with 1 Axes>"
      ]
     },
     "metadata": {
      "needs_background": "light"
     },
     "output_type": "display_data"
    }
   ],
   "source": [
    "# визуализация monetary по кластерам\n",
    "sns.countplot(data=mapping, x='monetary')"
   ]
  },
  {
   "cell_type": "code",
   "execution_count": 133,
   "metadata": {
    "scrolled": true
   },
   "outputs": [
    {
     "data": {
      "text/plain": [
       "<matplotlib.axes._subplots.AxesSubplot at 0x7f5b44718860>"
      ]
     },
     "execution_count": 133,
     "metadata": {},
     "output_type": "execute_result"
    },
    {
     "data": {
      "image/png": "[encoded data removed]",
      "text/plain": [
       "<Figure size 432x288 with 1 Axes>"
      ]
     },
     "metadata": {
      "needs_background": "light"
     },
     "output_type": "display_data"
    }
   ],
   "source": [
    "# визуализация recency по кластерам\n",
    "sns.countplot(data=mapping, x='recency')"
   ]
  },
  {
   "cell_type": "markdown",
   "metadata": {},
   "source": [
    "Объединим датафрэймы с кластерами (**mapping**) и с агрегированными данными по пользователям (**pre_rfm_all_years**)."
   ]
  },
  {
   "cell_type": "code",
   "execution_count": 134,
   "metadata": {},
   "outputs": [],
   "source": [
    "# переименуем колонку с пользователями\n",
    "mapping.rename(columns={'user_id': 'customer'}, inplace=True)"
   ]
  },
  {
   "cell_type": "code",
   "execution_count": 135,
   "metadata": {
    "scrolled": true
   },
   "outputs": [],
   "source": [
    "# объединяем датафрэймы\n",
    "rfm_rfmizer = pre_rfm_all_years.merge(mapping, on='customer')"
   ]
  },
  {
   "cell_type": "code",
   "execution_count": 136,
   "metadata": {},
   "outputs": [],
   "source": [
    "# уберём колонку со временем последней покупки\n",
    "rfm_rfmizer.drop('last_order', axis=1, inplace=True)"
   ]
  },
  {
   "cell_type": "code",
   "execution_count": 137,
   "metadata": {},
   "outputs": [
    {
     "data": {
      "text/html": [
       "<div>\n",
       "<style scoped>\n",
       "    .dataframe tbody tr th:only-of-type {\n",
       "        vertical-align: middle;\n",
       "    }\n",
       "\n",
       "    .dataframe tbody tr th {\n",
       "        vertical-align: top;\n",
       "    }\n",
       "\n",
       "    .dataframe thead th {\n",
       "        text-align: right;\n",
       "    }\n",
       "</style>\n",
       "<table border=\"1\" class=\"dataframe\">\n",
       "  <thead>\n",
       "    <tr style=\"text-align: right;\">\n",
       "      <th></th>\n",
       "      <th>customer</th>\n",
       "      <th>avg_bill</th>\n",
       "      <th>purchases_quantity</th>\n",
       "      <th>day_quantity</th>\n",
       "      <th>frequency</th>\n",
       "      <th>monetary</th>\n",
       "      <th>recency</th>\n",
       "    </tr>\n",
       "  </thead>\n",
       "  <tbody>\n",
       "    <tr>\n",
       "      <th>0</th>\n",
       "      <td>0000366f3b9a7992bf8c76cfdf3221e2</td>\n",
       "      <td>129.90</td>\n",
       "      <td>1</td>\n",
       "      <td>116</td>\n",
       "      <td>1</td>\n",
       "      <td>3</td>\n",
       "      <td>3</td>\n",
       "    </tr>\n",
       "    <tr>\n",
       "      <th>1</th>\n",
       "      <td>0000b849f77a49e4a4ce2b2a4ca5be3f</td>\n",
       "      <td>18.90</td>\n",
       "      <td>1</td>\n",
       "      <td>119</td>\n",
       "      <td>1</td>\n",
       "      <td>1</td>\n",
       "      <td>3</td>\n",
       "    </tr>\n",
       "    <tr>\n",
       "      <th>2</th>\n",
       "      <td>0000f46a3911fa3c0805444483337064</td>\n",
       "      <td>69.00</td>\n",
       "      <td>1</td>\n",
       "      <td>542</td>\n",
       "      <td>0</td>\n",
       "      <td>0</td>\n",
       "      <td>0</td>\n",
       "    </tr>\n",
       "    <tr>\n",
       "      <th>3</th>\n",
       "      <td>0000f6ccb0745a6a4b88665a16c9f078</td>\n",
       "      <td>25.99</td>\n",
       "      <td>1</td>\n",
       "      <td>326</td>\n",
       "      <td>1</td>\n",
       "      <td>1</td>\n",
       "      <td>1</td>\n",
       "    </tr>\n",
       "    <tr>\n",
       "      <th>4</th>\n",
       "      <td>0004aac84e0df4da2b147fca70cf8255</td>\n",
       "      <td>180.00</td>\n",
       "      <td>1</td>\n",
       "      <td>293</td>\n",
       "      <td>1</td>\n",
       "      <td>3</td>\n",
       "      <td>1</td>\n",
       "    </tr>\n",
       "  </tbody>\n",
       "</table>\n",
       "</div>"
      ],
      "text/plain": [
       "                           customer  avg_bill  purchases_quantity  \\\n",
       "0  0000366f3b9a7992bf8c76cfdf3221e2    129.90                   1   \n",
       "1  0000b849f77a49e4a4ce2b2a4ca5be3f     18.90                   1   \n",
       "2  0000f46a3911fa3c0805444483337064     69.00                   1   \n",
       "3  0000f6ccb0745a6a4b88665a16c9f078     25.99                   1   \n",
       "4  0004aac84e0df4da2b147fca70cf8255    180.00                   1   \n",
       "\n",
       "   day_quantity  frequency  monetary  recency  \n",
       "0           116          1         3        3  \n",
       "1           119          1         1        3  \n",
       "2           542          0         0        0  \n",
       "3           326          1         1        1  \n",
       "4           293          1         3        1  "
      ]
     },
     "execution_count": 137,
     "metadata": {},
     "output_type": "execute_result"
    }
   ],
   "source": [
    "# финальный датафрэйм\n",
    "rfm_rfmizer.head()"
   ]
  },
  {
   "cell_type": "code",
   "execution_count": 138,
   "metadata": {},
   "outputs": [],
   "source": [
    "# среднее значение recency по кластерам\n",
    "avg_recency = (\n",
    "    rfm_rfmizer\n",
    "        .groupby('recency', as_index=False)\n",
    "        .agg({'day_quantity': 'mean'})\n",
    "        .rename(columns={'recency': 'cluster', 'day_quantity': 'recency'})\n",
    ")"
   ]
  },
  {
   "cell_type": "code",
   "execution_count": 139,
   "metadata": {
    "scrolled": false
   },
   "outputs": [
    {
     "data": {
      "text/html": [
       "<div>\n",
       "<style scoped>\n",
       "    .dataframe tbody tr th:only-of-type {\n",
       "        vertical-align: middle;\n",
       "    }\n",
       "\n",
       "    .dataframe tbody tr th {\n",
       "        vertical-align: top;\n",
       "    }\n",
       "\n",
       "    .dataframe thead th {\n",
       "        text-align: right;\n",
       "    }\n",
       "</style>\n",
       "<table border=\"1\" class=\"dataframe\">\n",
       "  <thead>\n",
       "    <tr style=\"text-align: right;\">\n",
       "      <th></th>\n",
       "      <th>cluster</th>\n",
       "      <th>recency</th>\n",
       "    </tr>\n",
       "  </thead>\n",
       "  <tbody>\n",
       "    <tr>\n",
       "      <th>0</th>\n",
       "      <td>0</td>\n",
       "      <td>465.622506</td>\n",
       "    </tr>\n",
       "    <tr>\n",
       "      <th>1</th>\n",
       "      <td>1</td>\n",
       "      <td>290.850373</td>\n",
       "    </tr>\n",
       "    <tr>\n",
       "      <th>2</th>\n",
       "      <td>2</td>\n",
       "      <td>175.039781</td>\n",
       "    </tr>\n",
       "    <tr>\n",
       "      <th>3</th>\n",
       "      <td>3</td>\n",
       "      <td>63.397975</td>\n",
       "    </tr>\n",
       "  </tbody>\n",
       "</table>\n",
       "</div>"
      ],
      "text/plain": [
       "   cluster     recency\n",
       "0        0  465.622506\n",
       "1        1  290.850373\n",
       "2        2  175.039781\n",
       "3        3   63.397975"
      ]
     },
     "execution_count": 139,
     "metadata": {},
     "output_type": "execute_result"
    }
   ],
   "source": [
    "avg_recency"
   ]
  },
  {
   "cell_type": "code",
   "execution_count": 140,
   "metadata": {},
   "outputs": [],
   "source": [
    "# среднее значение frequency по кластерам\n",
    "avg_frequency = (\n",
    "    rfm_rfmizer\n",
    "        .groupby('frequency', as_index=False)\n",
    "        .agg({'purchases_quantity': 'mean'})\n",
    "        .rename(columns={'frequency': 'cluster', 'purchases_quantity': 'frequency'})\n",
    ")"
   ]
  },
  {
   "cell_type": "code",
   "execution_count": 141,
   "metadata": {},
   "outputs": [],
   "source": [
    "# среднее значение monetary по кластерам\n",
    "avg_monetary= (\n",
    "    rfm_rfmizer\n",
    "        .groupby('monetary', as_index=False)\n",
    "        .agg({'avg_bill': 'mean'})\n",
    "        .rename(columns={'monetary': 'cluster', 'avg_bill': 'monetary'})\n",
    ")"
   ]
  },
  {
   "cell_type": "markdown",
   "metadata": {},
   "source": [
    "Покажем средние значения метрик по кластерам одной таблицей"
   ]
  },
  {
   "cell_type": "code",
   "execution_count": 142,
   "metadata": {
    "scrolled": true
   },
   "outputs": [
    {
     "data": {
      "text/html": [
       "<div>\n",
       "<style scoped>\n",
       "    .dataframe tbody tr th:only-of-type {\n",
       "        vertical-align: middle;\n",
       "    }\n",
       "\n",
       "    .dataframe tbody tr th {\n",
       "        vertical-align: top;\n",
       "    }\n",
       "\n",
       "    .dataframe thead th {\n",
       "        text-align: right;\n",
       "    }\n",
       "</style>\n",
       "<table border=\"1\" class=\"dataframe\">\n",
       "  <thead>\n",
       "    <tr style=\"text-align: right;\">\n",
       "      <th></th>\n",
       "      <th>cluster</th>\n",
       "      <th>recency</th>\n",
       "      <th>frequency</th>\n",
       "      <th>monetary</th>\n",
       "    </tr>\n",
       "  </thead>\n",
       "  <tbody>\n",
       "    <tr>\n",
       "      <th>0</th>\n",
       "      <td>0</td>\n",
       "      <td>465.622506</td>\n",
       "      <td>1.026980</td>\n",
       "      <td>138.271765</td>\n",
       "    </tr>\n",
       "    <tr>\n",
       "      <th>1</th>\n",
       "      <td>1</td>\n",
       "      <td>290.850373</td>\n",
       "      <td>1.015378</td>\n",
       "      <td>35.075557</td>\n",
       "    </tr>\n",
       "    <tr>\n",
       "      <th>2</th>\n",
       "      <td>2</td>\n",
       "      <td>175.039781</td>\n",
       "      <td>2.064007</td>\n",
       "      <td>88.604060</td>\n",
       "    </tr>\n",
       "    <tr>\n",
       "      <th>3</th>\n",
       "      <td>3</td>\n",
       "      <td>63.397975</td>\n",
       "      <td>3.869048</td>\n",
       "      <td>290.307382</td>\n",
       "    </tr>\n",
       "  </tbody>\n",
       "</table>\n",
       "</div>"
      ],
      "text/plain": [
       "   cluster     recency  frequency    monetary\n",
       "0        0  465.622506   1.026980  138.271765\n",
       "1        1  290.850373   1.015378   35.075557\n",
       "2        2  175.039781   2.064007   88.604060\n",
       "3        3   63.397975   3.869048  290.307382"
      ]
     },
     "execution_count": 142,
     "metadata": {},
     "output_type": "execute_result"
    }
   ],
   "source": [
    "# объединяем три датафрэйма в один\n",
    "avg_rfm_rfmizer = avg_recency.merge(avg_frequency, on='cluster').merge(avg_monetary, on='cluster')\n",
    "avg_rfm_rfmizer"
   ]
  },
  {
   "cell_type": "markdown",
   "metadata": {},
   "source": [
    "Сравним средние значения метрик для вдух вариантов расчёта."
   ]
  },
  {
   "cell_type": "code",
   "execution_count": 143,
   "metadata": {},
   "outputs": [
    {
     "data": {
      "text/html": [
       "<div>\n",
       "<style scoped>\n",
       "    .dataframe tbody tr th:only-of-type {\n",
       "        vertical-align: middle;\n",
       "    }\n",
       "\n",
       "    .dataframe tbody tr th {\n",
       "        vertical-align: top;\n",
       "    }\n",
       "\n",
       "    .dataframe thead th {\n",
       "        text-align: right;\n",
       "    }\n",
       "</style>\n",
       "<table border=\"1\" class=\"dataframe\">\n",
       "  <thead>\n",
       "    <tr style=\"text-align: right;\">\n",
       "      <th></th>\n",
       "      <th>cluster</th>\n",
       "      <th>R_rfmizer</th>\n",
       "      <th>R_kmeans</th>\n",
       "      <th>delta_R_perc</th>\n",
       "      <th>F_rfmizer</th>\n",
       "      <th>F_kmeans</th>\n",
       "      <th>delta_F_perc</th>\n",
       "      <th>M_rfmizer</th>\n",
       "      <th>M_kmeans</th>\n",
       "      <th>delta_M_perc</th>\n",
       "    </tr>\n",
       "  </thead>\n",
       "  <tbody>\n",
       "    <tr>\n",
       "      <th>0</th>\n",
       "      <td>1</td>\n",
       "      <td>290.850373</td>\n",
       "      <td>296.764674</td>\n",
       "      <td>-1.99</td>\n",
       "      <td>1.015378</td>\n",
       "      <td>1.00000</td>\n",
       "      <td>1.54</td>\n",
       "      <td>35.075557</td>\n",
       "      <td>32.319592</td>\n",
       "      <td>8.53</td>\n",
       "    </tr>\n",
       "    <tr>\n",
       "      <th>1</th>\n",
       "      <td>2</td>\n",
       "      <td>175.039781</td>\n",
       "      <td>180.105285</td>\n",
       "      <td>-2.81</td>\n",
       "      <td>2.064007</td>\n",
       "      <td>2.00000</td>\n",
       "      <td>3.20</td>\n",
       "      <td>88.604060</td>\n",
       "      <td>98.528464</td>\n",
       "      <td>-10.07</td>\n",
       "    </tr>\n",
       "    <tr>\n",
       "      <th>2</th>\n",
       "      <td>3</td>\n",
       "      <td>63.397975</td>\n",
       "      <td>63.397975</td>\n",
       "      <td>0.00</td>\n",
       "      <td>3.869048</td>\n",
       "      <td>3.42623</td>\n",
       "      <td>12.92</td>\n",
       "      <td>290.307382</td>\n",
       "      <td>366.233292</td>\n",
       "      <td>-20.73</td>\n",
       "    </tr>\n",
       "  </tbody>\n",
       "</table>\n",
       "</div>"
      ],
      "text/plain": [
       "  cluster   R_rfmizer    R_kmeans  delta_R_perc  F_rfmizer  F_kmeans  \\\n",
       "0       1  290.850373  296.764674         -1.99   1.015378   1.00000   \n",
       "1       2  175.039781  180.105285         -2.81   2.064007   2.00000   \n",
       "2       3   63.397975   63.397975          0.00   3.869048   3.42623   \n",
       "\n",
       "   delta_F_perc   M_rfmizer    M_kmeans  delta_M_perc  \n",
       "0          1.54   35.075557   32.319592          8.53  \n",
       "1          3.20   88.604060   98.528464        -10.07  \n",
       "2         12.92  290.307382  366.233292        -20.73  "
      ]
     },
     "execution_count": 143,
     "metadata": {},
     "output_type": "execute_result"
    }
   ],
   "source": [
    "# объединим результаты расчётов с помощью скрипта и ручного для удобного сравнения\n",
    "rfm_comparison_table = (\n",
    "    avg_rfm_rfmizer\n",
    "        .rename(columns={'recency' : 'R_rfmizer',\n",
    "                        'frequency': 'F_rfmizer',\n",
    "                        'monetary' : 'M_rfmizer'})\n",
    "        .merge(avg_rfm_kmeans\n",
    "                   .rename(columns={'recency'  : 'R_kmeans',\n",
    "                                    'frequency': 'F_kmeans',\n",
    "                                    'monetary' : 'M_kmeans'}),\n",
    "                   on='cluster')\n",
    "\n",
    "# найдём разницу между аналогичными метриками в процентах\n",
    "        .assign(delta_R_perc = lambda x: x.R_rfmizer.sub(x.R_kmeans).mul(100).div(x.R_kmeans).round(2),\n",
    "                delta_F_perc = lambda y: y.F_rfmizer.sub(y.F_kmeans).mul(100).div(y.F_kmeans).round(2),\n",
    "                delta_M_perc = lambda z: z.M_rfmizer.sub(z.M_kmeans).mul(100).div(z.M_kmeans).round(2))\n",
    ")\n",
    "\n",
    "# установим порядок колонок\n",
    "rfm_comparison_table =(\n",
    "    rfm_comparison_table[['cluster', 'R_rfmizer', 'R_kmeans', 'delta_R_perc',\n",
    "                       'F_rfmizer', 'F_kmeans', 'delta_F_perc',\n",
    "                       'M_rfmizer', 'M_kmeans', 'delta_M_perc']]\n",
    ")\n",
    "rfm_comparison_table"
   ]
  },
  {
   "cell_type": "markdown",
   "metadata": {},
   "source": [
    "Значительные отличия получились только при расчёте Monetary, что связано с большими отличиями в границах кластеров данной метрики при k-means кластеризации и расчёте с помощью скрипта. В целом можно сказать, что разработанный метод кластеризации методом k-средних даём приемлемые результаты."
   ]
  },
  {
   "cell_type": "markdown",
   "metadata": {},
   "source": [
    "### Средние значения метрик R, F, M для каждого кластера"
   ]
  },
  {
   "cell_type": "code",
   "execution_count": 144,
   "metadata": {
    "scrolled": true
   },
   "outputs": [
    {
     "data": {
      "text/html": [
       "<div>\n",
       "<style scoped>\n",
       "    .dataframe tbody tr th:only-of-type {\n",
       "        vertical-align: middle;\n",
       "    }\n",
       "\n",
       "    .dataframe tbody tr th {\n",
       "        vertical-align: top;\n",
       "    }\n",
       "\n",
       "    .dataframe thead th {\n",
       "        text-align: right;\n",
       "    }\n",
       "</style>\n",
       "<table border=\"1\" class=\"dataframe\">\n",
       "  <thead>\n",
       "    <tr style=\"text-align: right;\">\n",
       "      <th></th>\n",
       "      <th>cluster</th>\n",
       "      <th>recency</th>\n",
       "      <th>frequency</th>\n",
       "      <th>monetary</th>\n",
       "    </tr>\n",
       "  </thead>\n",
       "  <tbody>\n",
       "    <tr>\n",
       "      <th>0</th>\n",
       "      <td>1</td>\n",
       "      <td>296.764674</td>\n",
       "      <td>1.00000</td>\n",
       "      <td>32.319592</td>\n",
       "    </tr>\n",
       "    <tr>\n",
       "      <th>1</th>\n",
       "      <td>2</td>\n",
       "      <td>180.105285</td>\n",
       "      <td>2.00000</td>\n",
       "      <td>98.528464</td>\n",
       "    </tr>\n",
       "    <tr>\n",
       "      <th>2</th>\n",
       "      <td>3</td>\n",
       "      <td>63.397975</td>\n",
       "      <td>3.42623</td>\n",
       "      <td>366.233292</td>\n",
       "    </tr>\n",
       "  </tbody>\n",
       "</table>\n",
       "</div>"
      ],
      "text/plain": [
       "  cluster     recency  frequency    monetary\n",
       "0       1  296.764674    1.00000   32.319592\n",
       "1       2  180.105285    2.00000   98.528464\n",
       "2       3   63.397975    3.42623  366.233292"
      ]
     },
     "execution_count": 144,
     "metadata": {},
     "output_type": "execute_result"
    }
   ],
   "source": [
    "avg_rfm_kmeans"
   ]
  },
  {
   "cell_type": "code",
   "execution_count": 145,
   "metadata": {},
   "outputs": [],
   "source": [
    "# добавляем колонку RFM\n",
    "rfm_kmeans['RFM'] = rfm_kmeans.apply(lambda x: str(x.recency) + str(x.frequency) + str(x.monetary), axis=1)"
   ]
  },
  {
   "cell_type": "code",
   "execution_count": 146,
   "metadata": {},
   "outputs": [
    {
     "data": {
      "text/html": [
       "<div>\n",
       "<style scoped>\n",
       "    .dataframe tbody tr th:only-of-type {\n",
       "        vertical-align: middle;\n",
       "    }\n",
       "\n",
       "    .dataframe tbody tr th {\n",
       "        vertical-align: top;\n",
       "    }\n",
       "\n",
       "    .dataframe thead th {\n",
       "        text-align: right;\n",
       "    }\n",
       "</style>\n",
       "<table border=\"1\" class=\"dataframe\">\n",
       "  <thead>\n",
       "    <tr style=\"text-align: right;\">\n",
       "      <th></th>\n",
       "      <th>customer</th>\n",
       "      <th>avg_bill</th>\n",
       "      <th>purchases_quantity</th>\n",
       "      <th>day_quantity</th>\n",
       "      <th>recency</th>\n",
       "      <th>frequency</th>\n",
       "      <th>monetary</th>\n",
       "      <th>RFM</th>\n",
       "    </tr>\n",
       "  </thead>\n",
       "  <tbody>\n",
       "    <tr>\n",
       "      <th>0</th>\n",
       "      <td>0000366f3b9a7992bf8c76cfdf3221e2</td>\n",
       "      <td>129.90</td>\n",
       "      <td>1</td>\n",
       "      <td>116</td>\n",
       "      <td>3</td>\n",
       "      <td>1</td>\n",
       "      <td>2</td>\n",
       "      <td>312</td>\n",
       "    </tr>\n",
       "    <tr>\n",
       "      <th>1</th>\n",
       "      <td>0000b849f77a49e4a4ce2b2a4ca5be3f</td>\n",
       "      <td>18.90</td>\n",
       "      <td>1</td>\n",
       "      <td>119</td>\n",
       "      <td>3</td>\n",
       "      <td>1</td>\n",
       "      <td>1</td>\n",
       "      <td>311</td>\n",
       "    </tr>\n",
       "    <tr>\n",
       "      <th>2</th>\n",
       "      <td>0000f6ccb0745a6a4b88665a16c9f078</td>\n",
       "      <td>25.99</td>\n",
       "      <td>1</td>\n",
       "      <td>326</td>\n",
       "      <td>1</td>\n",
       "      <td>1</td>\n",
       "      <td>1</td>\n",
       "      <td>111</td>\n",
       "    </tr>\n",
       "    <tr>\n",
       "      <th>3</th>\n",
       "      <td>0004aac84e0df4da2b147fca70cf8255</td>\n",
       "      <td>180.00</td>\n",
       "      <td>1</td>\n",
       "      <td>293</td>\n",
       "      <td>1</td>\n",
       "      <td>1</td>\n",
       "      <td>3</td>\n",
       "      <td>113</td>\n",
       "    </tr>\n",
       "    <tr>\n",
       "      <th>4</th>\n",
       "      <td>0004bd2a26a76fe21f786e4fbd80607f</td>\n",
       "      <td>154.00</td>\n",
       "      <td>1</td>\n",
       "      <td>151</td>\n",
       "      <td>2</td>\n",
       "      <td>1</td>\n",
       "      <td>2</td>\n",
       "      <td>212</td>\n",
       "    </tr>\n",
       "  </tbody>\n",
       "</table>\n",
       "</div>"
      ],
      "text/plain": [
       "                           customer  avg_bill  purchases_quantity  \\\n",
       "0  0000366f3b9a7992bf8c76cfdf3221e2    129.90                   1   \n",
       "1  0000b849f77a49e4a4ce2b2a4ca5be3f     18.90                   1   \n",
       "2  0000f6ccb0745a6a4b88665a16c9f078     25.99                   1   \n",
       "3  0004aac84e0df4da2b147fca70cf8255    180.00                   1   \n",
       "4  0004bd2a26a76fe21f786e4fbd80607f    154.00                   1   \n",
       "\n",
       "   day_quantity recency frequency monetary  RFM  \n",
       "0           116       3         1        2  312  \n",
       "1           119       3         1        1  311  \n",
       "2           326       1         1        1  111  \n",
       "3           293       1         1        3  113  \n",
       "4           151       2         1        2  212  "
      ]
     },
     "execution_count": 146,
     "metadata": {},
     "output_type": "execute_result"
    }
   ],
   "source": [
    "rfm_kmeans.head()"
   ]
  },
  {
   "cell_type": "markdown",
   "metadata": {},
   "source": [
    "Посмотрим на количество покупателей по результирующим сегментам"
   ]
  },
  {
   "cell_type": "code",
   "execution_count": 147,
   "metadata": {
    "scrolled": false
   },
   "outputs": [],
   "source": [
    "# количество пользователей по каждому сегменту\n",
    "customer_count = (\n",
    "            rfm_kmeans\n",
    "                .groupby('RFM', as_index=False)\n",
    "                .agg({'customer': 'count'})\n",
    "                .rename(columns={'customer': 'customer_number'})\n",
    ")"
   ]
  },
  {
   "cell_type": "markdown",
   "metadata": {},
   "source": [
    "Следующая таблица отражает сегменты и средние значения recency, frequency и monetary для них, а также количество пользователей по каждому сегменту."
   ]
  },
  {
   "cell_type": "code",
   "execution_count": 148,
   "metadata": {
    "scrolled": false
   },
   "outputs": [],
   "source": [
    "rfm_mean = (\n",
    "    rfm_kmeans\n",
    "        .groupby('RFM', as_index=False)\n",
    "        .agg({'day_quantity':      'mean',\n",
    "             'purchases_quantity': 'mean',\n",
    "             'avg_bill':           'mean'})\n",
    "        \n",
    "        # переименуем колонки\n",
    "        .rename(columns={'day_quantity':      'recency_mean',\n",
    "                        'purchases_quantity': 'frequency_mean',\n",
    "                        'avg_bill':           'monetary_mean'})\n",
    "\n",
    "        # добавим количество пользователей по сегментам\n",
    "        .merge(customer_count, on='RFM')\n",
    ")"
   ]
  },
  {
   "cell_type": "code",
   "execution_count": 149,
   "metadata": {},
   "outputs": [
    {
     "data": {
      "text/html": [
       "<div>\n",
       "<style scoped>\n",
       "    .dataframe tbody tr th:only-of-type {\n",
       "        vertical-align: middle;\n",
       "    }\n",
       "\n",
       "    .dataframe tbody tr th {\n",
       "        vertical-align: top;\n",
       "    }\n",
       "\n",
       "    .dataframe thead th {\n",
       "        text-align: right;\n",
       "    }\n",
       "</style>\n",
       "<table border=\"1\" class=\"dataframe\">\n",
       "  <thead>\n",
       "    <tr style=\"text-align: right;\">\n",
       "      <th></th>\n",
       "      <th>RFM</th>\n",
       "      <th>recency_mean</th>\n",
       "      <th>frequency_mean</th>\n",
       "      <th>monetary_mean</th>\n",
       "      <th>customer_number</th>\n",
       "    </tr>\n",
       "  </thead>\n",
       "  <tbody>\n",
       "    <tr>\n",
       "      <th>0</th>\n",
       "      <td>111</td>\n",
       "      <td>296.109944</td>\n",
       "      <td>1.000000</td>\n",
       "      <td>32.532826</td>\n",
       "      <td>6285</td>\n",
       "    </tr>\n",
       "    <tr>\n",
       "      <th>1</th>\n",
       "      <td>112</td>\n",
       "      <td>296.991337</td>\n",
       "      <td>1.000000</td>\n",
       "      <td>97.125535</td>\n",
       "      <td>10505</td>\n",
       "    </tr>\n",
       "    <tr>\n",
       "      <th>2</th>\n",
       "      <td>113</td>\n",
       "      <td>297.248866</td>\n",
       "      <td>1.000000</td>\n",
       "      <td>366.098577</td>\n",
       "      <td>4850</td>\n",
       "    </tr>\n",
       "    <tr>\n",
       "      <th>3</th>\n",
       "      <td>121</td>\n",
       "      <td>296.442308</td>\n",
       "      <td>2.000000</td>\n",
       "      <td>37.638750</td>\n",
       "      <td>104</td>\n",
       "    </tr>\n",
       "    <tr>\n",
       "      <th>4</th>\n",
       "      <td>122</td>\n",
       "      <td>295.460465</td>\n",
       "      <td>2.000000</td>\n",
       "      <td>92.634163</td>\n",
       "      <td>215</td>\n",
       "    </tr>\n",
       "    <tr>\n",
       "      <th>5</th>\n",
       "      <td>123</td>\n",
       "      <td>294.593407</td>\n",
       "      <td>2.000000</td>\n",
       "      <td>317.907473</td>\n",
       "      <td>91</td>\n",
       "    </tr>\n",
       "    <tr>\n",
       "      <th>6</th>\n",
       "      <td>132</td>\n",
       "      <td>283.583333</td>\n",
       "      <td>3.250000</td>\n",
       "      <td>99.776875</td>\n",
       "      <td>12</td>\n",
       "    </tr>\n",
       "    <tr>\n",
       "      <th>7</th>\n",
       "      <td>133</td>\n",
       "      <td>352.000000</td>\n",
       "      <td>3.000000</td>\n",
       "      <td>396.566667</td>\n",
       "      <td>1</td>\n",
       "    </tr>\n",
       "    <tr>\n",
       "      <th>8</th>\n",
       "      <td>211</td>\n",
       "      <td>182.203252</td>\n",
       "      <td>1.000000</td>\n",
       "      <td>32.128819</td>\n",
       "      <td>7995</td>\n",
       "    </tr>\n",
       "    <tr>\n",
       "      <th>9</th>\n",
       "      <td>212</td>\n",
       "      <td>179.221622</td>\n",
       "      <td>1.000000</td>\n",
       "      <td>99.599351</td>\n",
       "      <td>12404</td>\n",
       "    </tr>\n",
       "    <tr>\n",
       "      <th>10</th>\n",
       "      <td>213</td>\n",
       "      <td>179.037154</td>\n",
       "      <td>1.000000</td>\n",
       "      <td>359.457108</td>\n",
       "      <td>5706</td>\n",
       "    </tr>\n",
       "    <tr>\n",
       "      <th>11</th>\n",
       "      <td>221</td>\n",
       "      <td>176.552239</td>\n",
       "      <td>2.000000</td>\n",
       "      <td>34.160373</td>\n",
       "      <td>134</td>\n",
       "    </tr>\n",
       "    <tr>\n",
       "      <th>12</th>\n",
       "      <td>222</td>\n",
       "      <td>184.124675</td>\n",
       "      <td>2.000000</td>\n",
       "      <td>95.879792</td>\n",
       "      <td>385</td>\n",
       "    </tr>\n",
       "    <tr>\n",
       "      <th>13</th>\n",
       "      <td>223</td>\n",
       "      <td>178.992857</td>\n",
       "      <td>2.000000</td>\n",
       "      <td>279.948786</td>\n",
       "      <td>140</td>\n",
       "    </tr>\n",
       "    <tr>\n",
       "      <th>14</th>\n",
       "      <td>231</td>\n",
       "      <td>172.000000</td>\n",
       "      <td>3.230769</td>\n",
       "      <td>38.238474</td>\n",
       "      <td>13</td>\n",
       "    </tr>\n",
       "    <tr>\n",
       "      <th>15</th>\n",
       "      <td>232</td>\n",
       "      <td>165.259259</td>\n",
       "      <td>3.555556</td>\n",
       "      <td>100.819394</td>\n",
       "      <td>27</td>\n",
       "    </tr>\n",
       "    <tr>\n",
       "      <th>16</th>\n",
       "      <td>233</td>\n",
       "      <td>166.000000</td>\n",
       "      <td>3.111111</td>\n",
       "      <td>203.792593</td>\n",
       "      <td>9</td>\n",
       "    </tr>\n",
       "    <tr>\n",
       "      <th>17</th>\n",
       "      <td>311</td>\n",
       "      <td>61.976426</td>\n",
       "      <td>1.000000</td>\n",
       "      <td>32.182671</td>\n",
       "      <td>7084</td>\n",
       "    </tr>\n",
       "    <tr>\n",
       "      <th>18</th>\n",
       "      <td>312</td>\n",
       "      <td>63.675885</td>\n",
       "      <td>1.000000</td>\n",
       "      <td>98.908725</td>\n",
       "      <td>11246</td>\n",
       "    </tr>\n",
       "    <tr>\n",
       "      <th>19</th>\n",
       "      <td>313</td>\n",
       "      <td>64.678412</td>\n",
       "      <td>1.000000</td>\n",
       "      <td>378.723289</td>\n",
       "      <td>5165</td>\n",
       "    </tr>\n",
       "    <tr>\n",
       "      <th>20</th>\n",
       "      <td>321</td>\n",
       "      <td>64.669014</td>\n",
       "      <td>2.000000</td>\n",
       "      <td>34.211197</td>\n",
       "      <td>142</td>\n",
       "    </tr>\n",
       "    <tr>\n",
       "      <th>21</th>\n",
       "      <td>322</td>\n",
       "      <td>63.503979</td>\n",
       "      <td>2.000000</td>\n",
       "      <td>96.972003</td>\n",
       "      <td>377</td>\n",
       "    </tr>\n",
       "    <tr>\n",
       "      <th>22</th>\n",
       "      <td>323</td>\n",
       "      <td>64.578512</td>\n",
       "      <td>2.000000</td>\n",
       "      <td>309.796901</td>\n",
       "      <td>121</td>\n",
       "    </tr>\n",
       "    <tr>\n",
       "      <th>23</th>\n",
       "      <td>331</td>\n",
       "      <td>46.125000</td>\n",
       "      <td>4.000000</td>\n",
       "      <td>33.519432</td>\n",
       "      <td>8</td>\n",
       "    </tr>\n",
       "    <tr>\n",
       "      <th>24</th>\n",
       "      <td>332</td>\n",
       "      <td>61.861111</td>\n",
       "      <td>3.472222</td>\n",
       "      <td>97.834529</td>\n",
       "      <td>36</td>\n",
       "    </tr>\n",
       "    <tr>\n",
       "      <th>25</th>\n",
       "      <td>333</td>\n",
       "      <td>73.500000</td>\n",
       "      <td>3.312500</td>\n",
       "      <td>337.818177</td>\n",
       "      <td>16</td>\n",
       "    </tr>\n",
       "  </tbody>\n",
       "</table>\n",
       "</div>"
      ],
      "text/plain": [
       "    RFM  recency_mean  frequency_mean  monetary_mean  customer_number\n",
       "0   111    296.109944        1.000000      32.532826             6285\n",
       "1   112    296.991337        1.000000      97.125535            10505\n",
       "2   113    297.248866        1.000000     366.098577             4850\n",
       "3   121    296.442308        2.000000      37.638750              104\n",
       "4   122    295.460465        2.000000      92.634163              215\n",
       "5   123    294.593407        2.000000     317.907473               91\n",
       "6   132    283.583333        3.250000      99.776875               12\n",
       "7   133    352.000000        3.000000     396.566667                1\n",
       "8   211    182.203252        1.000000      32.128819             7995\n",
       "9   212    179.221622        1.000000      99.599351            12404\n",
       "10  213    179.037154        1.000000     359.457108             5706\n",
       "11  221    176.552239        2.000000      34.160373              134\n",
       "12  222    184.124675        2.000000      95.879792              385\n",
       "13  223    178.992857        2.000000     279.948786              140\n",
       "14  231    172.000000        3.230769      38.238474               13\n",
       "15  232    165.259259        3.555556     100.819394               27\n",
       "16  233    166.000000        3.111111     203.792593                9\n",
       "17  311     61.976426        1.000000      32.182671             7084\n",
       "18  312     63.675885        1.000000      98.908725            11246\n",
       "19  313     64.678412        1.000000     378.723289             5165\n",
       "20  321     64.669014        2.000000      34.211197              142\n",
       "21  322     63.503979        2.000000      96.972003              377\n",
       "22  323     64.578512        2.000000     309.796901              121\n",
       "23  331     46.125000        4.000000      33.519432                8\n",
       "24  332     61.861111        3.472222      97.834529               36\n",
       "25  333     73.500000        3.312500     337.818177               16"
      ]
     },
     "execution_count": 149,
     "metadata": {},
     "output_type": "execute_result"
    }
   ],
   "source": [
    "rfm_mean"
   ]
  },
  {
   "cell_type": "code",
   "execution_count": null,
   "metadata": {},
   "outputs": [],
   "source": []
  }
 ],
 "metadata": {
  "kernelspec": {
   "display_name": "Python 3",
   "language": "python",
   "name": "python3"
  },
  "language_info": {
   "codemirror_mode": {
    "name": "ipython",
    "version": 3
   },
   "file_extension": ".py",
   "mimetype": "text/x-python",
   "name": "python",
   "nbconvert_exporter": "python",
   "pygments_lexer": "ipython3",
   "version": "3.7.3"
  }
 },
 "nbformat": 4,
 "nbformat_minor": 4
}
